{
 "cells": [
  {
   "cell_type": "markdown",
   "metadata": {},
   "source": [
    "# Capstone Final Project  - The Battle of Neighborhoods"
   ]
  },
  {
   "cell_type": "markdown",
   "metadata": {
    "collapsed": true
   },
   "source": [
    "Sayaka Minegishi"
   ]
  },
  {
   "cell_type": "markdown",
   "metadata": {},
   "source": [
    "## Introduction/ Business Problem"
   ]
  },
  {
   "cell_type": "markdown",
   "metadata": {},
   "source": [
    "#### Problem:"
   ]
  },
  {
   "cell_type": "markdown",
   "metadata": {},
   "source": [
    "A majority of the Americans are getting the recommended amount of exercise in their lives. To encourage more individuals to exercise, we need to have more recreational facilities distributed evenly in neighborhoods so that everyone would have equal access to these facilities. This project aims to find the best neighborhood to open a new gym in New York City. "
   ]
  },
  {
   "cell_type": "markdown",
   "metadata": {},
   "source": [
    "#### Background:"
   ]
  },
  {
   "cell_type": "markdown",
   "metadata": {},
   "source": [
    "With more jobs requiring people to sit in their office and work using computers all day, an increasing number of individuals are experiencing a sedentary lifestyle. \n",
    "\n",
    "According to the 2018 Physical Activity Guidelines for Americans, 2nd edition, released by the U.S. Department of Health and Human Services, adults are recommended to do at least 150 minutes a week of moderate-intensity aerobic physical activity, and muscle-strengthening activities of moderate or greater intensity on at least 2 days per week. \n",
    "\n",
    "However, CDC reports that merely 23.2% of U.S. adults aged 18 and older met the Physical Activity Guidelines for both aerobic and muscle-strengthening activity, based on data from the 2018 National Health Interview Survey. \n",
    "\n"
   ]
  },
  {
   "cell_type": "markdown",
   "metadata": {},
   "source": [
    "  "
   ]
  },
  {
   "cell_type": "markdown",
   "metadata": {},
   "source": [
    "## Data"
   ]
  },
  {
   "cell_type": "markdown",
   "metadata": {},
   "source": [
    "My analysis will employ data about the neighborhoods in New York City, NY, which is available on the server for this course as 'newyork_data.json'. This JSON file contains data on the all the neighborhoods in New York, including their borough, neighborhood name, latitude, and longitude. I will obtain this data using the following command:\n",
    "\n",
    "!wget -q -O 'newyork_data.json' https://cf-courses-data.s3.us.cloud-object-storage.appdomain.cloud/IBMDeveloperSkillsNetwork-DS0701EN-SkillsNetwork/labs/newyork_data.json\n",
    "\n",
    "\n",
    "I will then construct a dataframe using the pandas library to store this data. The dataframe will have four columns: 'Borough', 'Neighborhood', 'Latitude', and 'Longitude' for each of the neighborhoods. For example, one of the rows could have the value 'Manhattan' for 'Borough', 'Marble Hill' for 'Neighborhood', 40.876551 for 'Latitude', and -73.910660 for 'Longitude'.\n",
    "\n",
    "\n",
    "\n",
    "After obtaining a list of New York City's neighborhood names and their location, I will use Foursquare API to obtain data that contains all the gym locations in New York City. I will do this by searching for the 'gym' venue category, which will be done by sending a GET request with a url that has the form:\n",
    "\n",
    "url = 'https://api.foursquare.com/v2/venues/search?client_id={}&client_secret={}&ll={},{}&oauth_token={}&v={}&query={}&radius={}&limit={}'.format(CLIENT_ID, CLIENT_SECRET, latitude, longitude,ACCESS_TOKEN, VERSION, search_query, radius, LIMIT),\n",
    "\n",
    "where the search_query would be 'Gym'.\n",
    "\n",
    "The data obtained for all the gyms will be stored in a new dataframe containing the venue name, categories, address, latitude and longitude values, postal code, city, country code, and id. For example, a row in the dataframe could have the 'name' of 'ABC Gym', the 'category' of 'Gym', and its street address in the 'address' section.\n",
    "\n",
    "\n",
    "I will merge the two dataframes and clean it, so that the new dataframe has separate gyms on each row, with the neighborhood latitude and longitude values, neighborhood name, and borough name for each gym. This data will be then be analyzed to determine which neighborhood has the least number of gyms, and this location will be our solution: that is, the next neighborhood where we will open a gym.  \n",
    "\n"
   ]
  },
  {
   "cell_type": "code",
   "execution_count": null,
   "metadata": {},
   "outputs": [],
   "source": []
  },
  {
   "cell_type": "markdown",
   "metadata": {},
   "source": [
    "#### Bibliography:"
   ]
  },
  {
   "cell_type": "markdown",
   "metadata": {},
   "source": [
    "“American Heart Association Recommendations for Physical Activity in Adults and Kids.” n.d. Accessed April 6, 2021. https://www.heart.org/en/healthy-living/fitness/fitness-basics/aha-recs-for-physical-activity-in-adults.\n",
    "\n",
    "\n",
    "“Exercise or Physical Activity.” 2021. March 1, 2021. https://www.cdc.gov/nchs/fastats/exercise.htm."
   ]
  }
 ],
 "metadata": {
  "kernelspec": {
   "display_name": "Python 3.7",
   "language": "python",
   "name": "python3"
  },
  "language_info": {
   "codemirror_mode": {
    "name": "ipython",
    "version": 3
   },
   "file_extension": ".py",
   "mimetype": "text/x-python",
   "name": "python",
   "nbconvert_exporter": "python",
   "pygments_lexer": "ipython3",
   "version": "3.7.10"
  }
 },
 "nbformat": 4,
 "nbformat_minor": 1
}
