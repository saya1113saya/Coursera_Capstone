{
    "cells": [
        {
            "metadata": {},
            "cell_type": "markdown",
            "source": "# Capstone Final Project  - The Battle of Neighborhoods"
        },
        {
            "metadata": {
                "collapsed": true
            },
            "cell_type": "markdown",
            "source": "Sayaka Minegishi"
        },
        {
            "metadata": {},
            "cell_type": "markdown",
            "source": "## Introduction/ Business Problem"
        },
        {
            "metadata": {},
            "cell_type": "markdown",
            "source": "A majority of the Americans are getting the recommended amount of exercise in their lives. To encourage more individuals to exercise, we need to have more recreational facilities distributed evenly in neighborhoods so that everyone would have equal access to these facilities. This report aims to find the best neighborhood to open a new gym in Boston by taking into consideration the number of gyms/fitness centers and parks available, as well as the number of restaurants. The optimal location for a new gym would be the neighborhood with a relatively large number of restaurants as compared to gyms or fitness centers, and to a lesser extent, parks. This report is specifically targeted to stakeholders who are considering of opening a new gym or a fitness center in Boston, Massachusetts."
        },
        {
            "metadata": {},
            "cell_type": "markdown",
            "source": "#### Background:"
        },
        {
            "metadata": {},
            "cell_type": "markdown",
            "source": "With more jobs requiring people to sit in their office and work using computers all day, an increasing number of individuals are experiencing a sedentary lifestyle. \n\nAccording to the 2018 Physical Activity Guidelines for Americans, 2nd edition, released by the U.S. Department of Health and Human Services, adults are recommended to do at least 150 minutes a week of moderate-intensity aerobic physical activity, and muscle-strengthening activities of moderate or greater intensity on at least 2 days per week. \n\nHowever, CDC reports that merely 23.2% of U.S. adults aged 18 and older met the Physical Activity Guidelines for both aerobic and muscle-strengthening activity, based on data from the 2018 National Health Interview Survey. \nTo help maintain the health of Americans, there is a need to make recreational facilities equally accessible to all.\n"
        },
        {
            "metadata": {},
            "cell_type": "markdown",
            "source": "  "
        },
        {
            "metadata": {},
            "cell_type": "markdown",
            "source": "## Data"
        },
        {
            "metadata": {},
            "cell_type": "markdown",
            "source": "This analysis will employ data about the neighborhood features in Boston, MA, which is available as a CSV file on https://data.boston.gov/dataset/boston-neighborhoods. This file contains data on the all the neighborhoods in Boston, including their neighborhood name and area in square miles. This data will be used to find the names of the neighborhoods, which forms the foundational columns for our dataframes. \n\nI will utilize the Nominatim library from geopy.geocoders to find the geographical coordinates of each of the neighborhoods. \n\nThe geographical coordinates of each neighborhood will be passed to Foursquare API to search for restaurants, gyms and parks in each of the neighborhoods. We would like to place a new gym where there are relatively large number of restaurants where there would be a greater need or tendency to exercise. At the same time, we would like to construct a gym where there is relatively fewer fitness centers or parks.\n\n\n"
        },
        {
            "metadata": {},
            "cell_type": "markdown",
            "source": "## Program"
        },
        {
            "metadata": {},
            "cell_type": "markdown",
            "source": "#### Install required packages and libraries"
        },
        {
            "metadata": {},
            "cell_type": "code",
            "source": "!pip install folium",
            "execution_count": 97,
            "outputs": [
                {
                    "output_type": "stream",
                    "text": "/opt/conda/envs/Python-3.7-main/lib/python3.7/site-packages/secretstorage/dhcrypto.py:16: CryptographyDeprecationWarning: int_from_bytes is deprecated, use int.from_bytes instead\n  from cryptography.utils import int_from_bytes\n/opt/conda/envs/Python-3.7-main/lib/python3.7/site-packages/secretstorage/util.py:25: CryptographyDeprecationWarning: int_from_bytes is deprecated, use int.from_bytes instead\n  from cryptography.utils import int_from_bytes\nRequirement already satisfied: folium in /opt/conda/envs/Python-3.7-main/lib/python3.7/site-packages (0.12.1)\nRequirement already satisfied: numpy in /opt/conda/envs/Python-3.7-main/lib/python3.7/site-packages (from folium) (1.18.5)\nRequirement already satisfied: branca>=0.3.0 in /opt/conda/envs/Python-3.7-main/lib/python3.7/site-packages (from folium) (0.4.2)\nRequirement already satisfied: jinja2>=2.9 in /opt/conda/envs/Python-3.7-main/lib/python3.7/site-packages (from folium) (2.11.2)\nRequirement already satisfied: requests in /opt/conda/envs/Python-3.7-main/lib/python3.7/site-packages (from folium) (2.24.0)\nRequirement already satisfied: MarkupSafe>=0.23 in /opt/conda/envs/Python-3.7-main/lib/python3.7/site-packages (from jinja2>=2.9->folium) (1.1.1)\nRequirement already satisfied: certifi>=2017.4.17 in /opt/conda/envs/Python-3.7-main/lib/python3.7/site-packages (from requests->folium) (2020.12.5)\nRequirement already satisfied: chardet<4,>=3.0.2 in /opt/conda/envs/Python-3.7-main/lib/python3.7/site-packages (from requests->folium) (3.0.4)\nRequirement already satisfied: urllib3!=1.25.0,!=1.25.1,<1.26,>=1.21.1 in /opt/conda/envs/Python-3.7-main/lib/python3.7/site-packages (from requests->folium) (1.25.9)\nRequirement already satisfied: idna<3,>=2.5 in /opt/conda/envs/Python-3.7-main/lib/python3.7/site-packages (from requests->folium) (2.9)\n",
                    "name": "stdout"
                }
            ]
        },
        {
            "metadata": {},
            "cell_type": "code",
            "source": "#Import the libraries required\nimport numpy as np \n\nimport pandas as pd \npd.set_option('display.max_columns', None)\npd.set_option('display.max_rows', None)\n\nimport json \n\nfrom geopy.geocoders import Nominatim # convert an address into latitude and longitude values\nimport requests \n\nfrom pandas.io.json import json_normalize # tranform JSON file into a pandas dataframe\n\n# Matplotlib \nimport matplotlib.cm as cm\nimport matplotlib.colors as colors\nimport matplotlib.pyplot as plt\n\n#plotly\nimport plotly.graph_objects as go\nimport plotly.express as px\n\n# import k-means\nfrom sklearn.cluster import KMeans\n\nimport folium\n\nprint('Libraries imported.')",
            "execution_count": 98,
            "outputs": [
                {
                    "output_type": "stream",
                    "text": "Libraries imported.\n",
                    "name": "stdout"
                }
            ]
        },
        {
            "metadata": {},
            "cell_type": "markdown",
            "source": "#### Find Neighborhoods to Compare "
        },
        {
            "metadata": {},
            "cell_type": "markdown",
            "source": "We will first load the Boston Neighborhoods data and clean it."
        },
        {
            "metadata": {},
            "cell_type": "code",
            "source": "#load Boston Neighborhoods data\nimport os, types\nimport pandas as pd\nfrom botocore.client import Config\nimport ibm_boto3\n\ndef __iter__(self): return 0\n\n# @hidden_cell\n# The following code accesses a file in your IBM Cloud Object Storage. It includes your credentials.\n# You might want to remove those credentials before you share the notebook.\n\nif os.environ.get('RUNTIME_ENV_LOCATION_TYPE') == 'external':\n    endpoint_3058bde3eca8429bb88d442216d35bc2 = 'https://s3-api.us-geo.objectstorage.softlayer.net'\nelse:\n    endpoint_3058bde3eca8429bb88d442216d35bc2 = 'https://s3-api.us-geo.objectstorage.service.networklayer.com'\n\nclient_3058bde3eca8429bb88d442216d35bc2 = ibm_boto3.client(service_name='s3',\n    ibm_api_key_id='xdxD669rwzPwkfMR4hU9WeDqJv8rIQT6KoxLmaXsRCJ7',\n    ibm_auth_endpoint=\"https://iam.cloud.ibm.com/oidc/token\",\n    config=Config(signature_version='oauth'),\n    endpoint_url=endpoint_3058bde3eca8429bb88d442216d35bc2)\n\nbody = client_3058bde3eca8429bb88d442216d35bc2.get_object(Bucket='applieddatasciencecapstonecourser-donotdelete-pr-aabi7egcmpr7ui',Key='Boston_Neighborhoods.csv')['Body']\n# add missing __iter__ method, so pandas accepts body as file-like object\nif not hasattr(body, \"__iter__\"): body.__iter__ = types.MethodType( __iter__, body )\n\nboston_data = pd.read_csv(body) #save the neighborhood data in a dataframe\n",
            "execution_count": 99,
            "outputs": []
        },
        {
            "metadata": {},
            "cell_type": "code",
            "source": "#drop unnecessary columns\nboston_data = boston_data.drop(['OBJECTID', 'Acres', 'Neighborhood_ID', 'ShapeSTArea', 'ShapeSTLength'], axis = 1)",
            "execution_count": 100,
            "outputs": []
        },
        {
            "metadata": {},
            "cell_type": "code",
            "source": "#create a new dataframe with longitude and latitude values for each neighborhood\ncolumn_names = ['Neighborhood', 'Address', 'SqMiles', 'Latitude', 'Longitude'] #define the column names\nboston_neighborhoods = pd.DataFrame(columns = column_names) #instantiate the dataframe\n\n#add neighborhood column to the new dataframe\nboston_neighborhoods['Neighborhood'] = boston_data['Name']\n\n#add sqmiles column to the new dataframe\nboston_neighborhoods['SqMiles'] = boston_data['SqMiles']",
            "execution_count": 101,
            "outputs": []
        },
        {
            "metadata": {},
            "cell_type": "code",
            "source": "#form the address column\naddress = [] #create an empty array\nnumrows = boston_neighborhoods.shape[0]\n\n\ni = 0\nwhile i < numrows:\n    neighborhood = boston_neighborhoods['Neighborhood'][i]\n    boston_neighborhoods['Address'][i] = '{}, Massachusetts'.format(neighborhood) #form the address of the neighborhood\n    i= i + 1\n    \n    ",
            "execution_count": 102,
            "outputs": [
                {
                    "output_type": "stream",
                    "text": "/opt/conda/envs/Python-3.7-main/lib/python3.7/site-packages/ipykernel/__main__.py:9: SettingWithCopyWarning:\n\n\nA value is trying to be set on a copy of a slice from a DataFrame\n\nSee the caveats in the documentation: https://pandas.pydata.org/pandas-docs/stable/user_guide/indexing.html#returning-a-view-versus-a-copy\n\n",
                    "name": "stderr"
                }
            ]
        },
        {
            "metadata": {},
            "cell_type": "code",
            "source": "boston_neighborhoods #display dataframe",
            "execution_count": 103,
            "outputs": [
                {
                    "output_type": "execute_result",
                    "execution_count": 103,
                    "data": {
                        "text/plain": "               Neighborhood                                 Address  SqMiles  \\\n0                Roslindale               Roslindale, Massachusetts     2.51   \n1             Jamaica Plain            Jamaica Plain, Massachusetts     3.94   \n2              Mission Hill             Mission Hill, Massachusetts     0.55   \n3                  Longwood                 Longwood, Massachusetts     0.29   \n4               Bay Village              Bay Village, Massachusetts     0.04   \n5          Leather District         Leather District, Massachusetts     0.02   \n6                 Chinatown                Chinatown, Massachusetts     0.12   \n7                 North End                North End, Massachusetts     0.20   \n8                   Roxbury                  Roxbury, Massachusetts     3.29   \n9                 South End                South End, Massachusetts     0.74   \n10                 Back Bay                 Back Bay, Massachusetts     0.62   \n11              East Boston              East Boston, Massachusetts     4.71   \n12              Charlestown              Charlestown, Massachusetts     1.36   \n13                 West End                 West End, Massachusetts     0.30   \n14              Beacon Hill              Beacon Hill, Massachusetts     0.31   \n15                 Downtown                 Downtown, Massachusetts     0.62   \n16                   Fenway                   Fenway, Massachusetts     0.88   \n17                 Brighton                 Brighton, Massachusetts     2.88   \n18             West Roxbury             West Roxbury, Massachusetts     5.49   \n19                Hyde Park                Hyde Park, Massachusetts     4.57   \n20                 Mattapan                 Mattapan, Massachusetts     2.11   \n21               Dorchester               Dorchester, Massachusetts     7.29   \n22  South Boston Waterfront  South Boston Waterfront, Massachusetts     0.97   \n23             South Boston             South Boston, Massachusetts     2.25   \n24                  Allston                  Allston, Massachusetts     1.56   \n25           Harbor Islands           Harbor Islands, Massachusetts     1.29   \n\n   Latitude Longitude  \n0       NaN       NaN  \n1       NaN       NaN  \n2       NaN       NaN  \n3       NaN       NaN  \n4       NaN       NaN  \n5       NaN       NaN  \n6       NaN       NaN  \n7       NaN       NaN  \n8       NaN       NaN  \n9       NaN       NaN  \n10      NaN       NaN  \n11      NaN       NaN  \n12      NaN       NaN  \n13      NaN       NaN  \n14      NaN       NaN  \n15      NaN       NaN  \n16      NaN       NaN  \n17      NaN       NaN  \n18      NaN       NaN  \n19      NaN       NaN  \n20      NaN       NaN  \n21      NaN       NaN  \n22      NaN       NaN  \n23      NaN       NaN  \n24      NaN       NaN  \n25      NaN       NaN  ",
                        "text/html": "<div>\n<style scoped>\n    .dataframe tbody tr th:only-of-type {\n        vertical-align: middle;\n    }\n\n    .dataframe tbody tr th {\n        vertical-align: top;\n    }\n\n    .dataframe thead th {\n        text-align: right;\n    }\n</style>\n<table border=\"1\" class=\"dataframe\">\n  <thead>\n    <tr style=\"text-align: right;\">\n      <th></th>\n      <th>Neighborhood</th>\n      <th>Address</th>\n      <th>SqMiles</th>\n      <th>Latitude</th>\n      <th>Longitude</th>\n    </tr>\n  </thead>\n  <tbody>\n    <tr>\n      <th>0</th>\n      <td>Roslindale</td>\n      <td>Roslindale, Massachusetts</td>\n      <td>2.51</td>\n      <td>NaN</td>\n      <td>NaN</td>\n    </tr>\n    <tr>\n      <th>1</th>\n      <td>Jamaica Plain</td>\n      <td>Jamaica Plain, Massachusetts</td>\n      <td>3.94</td>\n      <td>NaN</td>\n      <td>NaN</td>\n    </tr>\n    <tr>\n      <th>2</th>\n      <td>Mission Hill</td>\n      <td>Mission Hill, Massachusetts</td>\n      <td>0.55</td>\n      <td>NaN</td>\n      <td>NaN</td>\n    </tr>\n    <tr>\n      <th>3</th>\n      <td>Longwood</td>\n      <td>Longwood, Massachusetts</td>\n      <td>0.29</td>\n      <td>NaN</td>\n      <td>NaN</td>\n    </tr>\n    <tr>\n      <th>4</th>\n      <td>Bay Village</td>\n      <td>Bay Village, Massachusetts</td>\n      <td>0.04</td>\n      <td>NaN</td>\n      <td>NaN</td>\n    </tr>\n    <tr>\n      <th>5</th>\n      <td>Leather District</td>\n      <td>Leather District, Massachusetts</td>\n      <td>0.02</td>\n      <td>NaN</td>\n      <td>NaN</td>\n    </tr>\n    <tr>\n      <th>6</th>\n      <td>Chinatown</td>\n      <td>Chinatown, Massachusetts</td>\n      <td>0.12</td>\n      <td>NaN</td>\n      <td>NaN</td>\n    </tr>\n    <tr>\n      <th>7</th>\n      <td>North End</td>\n      <td>North End, Massachusetts</td>\n      <td>0.20</td>\n      <td>NaN</td>\n      <td>NaN</td>\n    </tr>\n    <tr>\n      <th>8</th>\n      <td>Roxbury</td>\n      <td>Roxbury, Massachusetts</td>\n      <td>3.29</td>\n      <td>NaN</td>\n      <td>NaN</td>\n    </tr>\n    <tr>\n      <th>9</th>\n      <td>South End</td>\n      <td>South End, Massachusetts</td>\n      <td>0.74</td>\n      <td>NaN</td>\n      <td>NaN</td>\n    </tr>\n    <tr>\n      <th>10</th>\n      <td>Back Bay</td>\n      <td>Back Bay, Massachusetts</td>\n      <td>0.62</td>\n      <td>NaN</td>\n      <td>NaN</td>\n    </tr>\n    <tr>\n      <th>11</th>\n      <td>East Boston</td>\n      <td>East Boston, Massachusetts</td>\n      <td>4.71</td>\n      <td>NaN</td>\n      <td>NaN</td>\n    </tr>\n    <tr>\n      <th>12</th>\n      <td>Charlestown</td>\n      <td>Charlestown, Massachusetts</td>\n      <td>1.36</td>\n      <td>NaN</td>\n      <td>NaN</td>\n    </tr>\n    <tr>\n      <th>13</th>\n      <td>West End</td>\n      <td>West End, Massachusetts</td>\n      <td>0.30</td>\n      <td>NaN</td>\n      <td>NaN</td>\n    </tr>\n    <tr>\n      <th>14</th>\n      <td>Beacon Hill</td>\n      <td>Beacon Hill, Massachusetts</td>\n      <td>0.31</td>\n      <td>NaN</td>\n      <td>NaN</td>\n    </tr>\n    <tr>\n      <th>15</th>\n      <td>Downtown</td>\n      <td>Downtown, Massachusetts</td>\n      <td>0.62</td>\n      <td>NaN</td>\n      <td>NaN</td>\n    </tr>\n    <tr>\n      <th>16</th>\n      <td>Fenway</td>\n      <td>Fenway, Massachusetts</td>\n      <td>0.88</td>\n      <td>NaN</td>\n      <td>NaN</td>\n    </tr>\n    <tr>\n      <th>17</th>\n      <td>Brighton</td>\n      <td>Brighton, Massachusetts</td>\n      <td>2.88</td>\n      <td>NaN</td>\n      <td>NaN</td>\n    </tr>\n    <tr>\n      <th>18</th>\n      <td>West Roxbury</td>\n      <td>West Roxbury, Massachusetts</td>\n      <td>5.49</td>\n      <td>NaN</td>\n      <td>NaN</td>\n    </tr>\n    <tr>\n      <th>19</th>\n      <td>Hyde Park</td>\n      <td>Hyde Park, Massachusetts</td>\n      <td>4.57</td>\n      <td>NaN</td>\n      <td>NaN</td>\n    </tr>\n    <tr>\n      <th>20</th>\n      <td>Mattapan</td>\n      <td>Mattapan, Massachusetts</td>\n      <td>2.11</td>\n      <td>NaN</td>\n      <td>NaN</td>\n    </tr>\n    <tr>\n      <th>21</th>\n      <td>Dorchester</td>\n      <td>Dorchester, Massachusetts</td>\n      <td>7.29</td>\n      <td>NaN</td>\n      <td>NaN</td>\n    </tr>\n    <tr>\n      <th>22</th>\n      <td>South Boston Waterfront</td>\n      <td>South Boston Waterfront, Massachusetts</td>\n      <td>0.97</td>\n      <td>NaN</td>\n      <td>NaN</td>\n    </tr>\n    <tr>\n      <th>23</th>\n      <td>South Boston</td>\n      <td>South Boston, Massachusetts</td>\n      <td>2.25</td>\n      <td>NaN</td>\n      <td>NaN</td>\n    </tr>\n    <tr>\n      <th>24</th>\n      <td>Allston</td>\n      <td>Allston, Massachusetts</td>\n      <td>1.56</td>\n      <td>NaN</td>\n      <td>NaN</td>\n    </tr>\n    <tr>\n      <th>25</th>\n      <td>Harbor Islands</td>\n      <td>Harbor Islands, Massachusetts</td>\n      <td>1.29</td>\n      <td>NaN</td>\n      <td>NaN</td>\n    </tr>\n  </tbody>\n</table>\n</div>"
                    },
                    "metadata": {}
                }
            ]
        },
        {
            "metadata": {},
            "cell_type": "markdown",
            "source": "We will now fill our boston_neighborhoods dataframe with the latitude and longitude values for each neighborhood."
        },
        {
            "metadata": {
                "scrolled": true
            },
            "cell_type": "code",
            "source": "\nj = 0 #counter\n\nwhile j < numrows:\n    #find the geographical coordinates of the particular neighborhood\n    address = boston_neighborhoods['Address'][j]\n    geolocator = Nominatim(user_agent = \"boston_explorer\")\n    location = geolocator.geocode(address)\n    lat = location.latitude\n    lng = location.longitude\n    \n    boston_neighborhoods['Latitude'][j] = lat\n    boston_neighborhoods['Longitude'][j] = lng\n    j = j +1\n    \n    \nboston_neighborhoods.head()",
            "execution_count": 104,
            "outputs": [
                {
                    "output_type": "stream",
                    "text": "/opt/conda/envs/Python-3.7-main/lib/python3.7/site-packages/ipykernel/__main__.py:11: SettingWithCopyWarning:\n\n\nA value is trying to be set on a copy of a slice from a DataFrame\n\nSee the caveats in the documentation: https://pandas.pydata.org/pandas-docs/stable/user_guide/indexing.html#returning-a-view-versus-a-copy\n\n/opt/conda/envs/Python-3.7-main/lib/python3.7/site-packages/ipykernel/__main__.py:12: SettingWithCopyWarning:\n\n\nA value is trying to be set on a copy of a slice from a DataFrame\n\nSee the caveats in the documentation: https://pandas.pydata.org/pandas-docs/stable/user_guide/indexing.html#returning-a-view-versus-a-copy\n\n",
                    "name": "stderr"
                },
                {
                    "output_type": "execute_result",
                    "execution_count": 104,
                    "data": {
                        "text/plain": "    Neighborhood                       Address  SqMiles Latitude Longitude\n0     Roslindale     Roslindale, Massachusetts     2.51  42.2912  -71.1245\n1  Jamaica Plain  Jamaica Plain, Massachusetts     3.94  42.3098  -71.1203\n2   Mission Hill   Mission Hill, Massachusetts     0.55  42.3326  -71.1036\n3       Longwood       Longwood, Massachusetts     0.29  42.3415  -71.1102\n4    Bay Village    Bay Village, Massachusetts     0.04    42.35  -71.0669",
                        "text/html": "<div>\n<style scoped>\n    .dataframe tbody tr th:only-of-type {\n        vertical-align: middle;\n    }\n\n    .dataframe tbody tr th {\n        vertical-align: top;\n    }\n\n    .dataframe thead th {\n        text-align: right;\n    }\n</style>\n<table border=\"1\" class=\"dataframe\">\n  <thead>\n    <tr style=\"text-align: right;\">\n      <th></th>\n      <th>Neighborhood</th>\n      <th>Address</th>\n      <th>SqMiles</th>\n      <th>Latitude</th>\n      <th>Longitude</th>\n    </tr>\n  </thead>\n  <tbody>\n    <tr>\n      <th>0</th>\n      <td>Roslindale</td>\n      <td>Roslindale, Massachusetts</td>\n      <td>2.51</td>\n      <td>42.2912</td>\n      <td>-71.1245</td>\n    </tr>\n    <tr>\n      <th>1</th>\n      <td>Jamaica Plain</td>\n      <td>Jamaica Plain, Massachusetts</td>\n      <td>3.94</td>\n      <td>42.3098</td>\n      <td>-71.1203</td>\n    </tr>\n    <tr>\n      <th>2</th>\n      <td>Mission Hill</td>\n      <td>Mission Hill, Massachusetts</td>\n      <td>0.55</td>\n      <td>42.3326</td>\n      <td>-71.1036</td>\n    </tr>\n    <tr>\n      <th>3</th>\n      <td>Longwood</td>\n      <td>Longwood, Massachusetts</td>\n      <td>0.29</td>\n      <td>42.3415</td>\n      <td>-71.1102</td>\n    </tr>\n    <tr>\n      <th>4</th>\n      <td>Bay Village</td>\n      <td>Bay Village, Massachusetts</td>\n      <td>0.04</td>\n      <td>42.35</td>\n      <td>-71.0669</td>\n    </tr>\n  </tbody>\n</table>\n</div>"
                    },
                    "metadata": {}
                }
            ]
        },
        {
            "metadata": {},
            "cell_type": "markdown",
            "source": "We will further clean our dataframe by dropping rows with NaN vaues"
        },
        {
            "metadata": {
                "scrolled": true
            },
            "cell_type": "code",
            "source": "boston_neighborhoods.dropna(axis = 'rows') #drop rows with NaN values",
            "execution_count": 105,
            "outputs": [
                {
                    "output_type": "execute_result",
                    "execution_count": 105,
                    "data": {
                        "text/plain": "               Neighborhood                                 Address  SqMiles  \\\n0                Roslindale               Roslindale, Massachusetts     2.51   \n1             Jamaica Plain            Jamaica Plain, Massachusetts     3.94   \n2              Mission Hill             Mission Hill, Massachusetts     0.55   \n3                  Longwood                 Longwood, Massachusetts     0.29   \n4               Bay Village              Bay Village, Massachusetts     0.04   \n5          Leather District         Leather District, Massachusetts     0.02   \n6                 Chinatown                Chinatown, Massachusetts     0.12   \n7                 North End                North End, Massachusetts     0.20   \n8                   Roxbury                  Roxbury, Massachusetts     3.29   \n9                 South End                South End, Massachusetts     0.74   \n10                 Back Bay                 Back Bay, Massachusetts     0.62   \n11              East Boston              East Boston, Massachusetts     4.71   \n12              Charlestown              Charlestown, Massachusetts     1.36   \n13                 West End                 West End, Massachusetts     0.30   \n14              Beacon Hill              Beacon Hill, Massachusetts     0.31   \n15                 Downtown                 Downtown, Massachusetts     0.62   \n16                   Fenway                   Fenway, Massachusetts     0.88   \n17                 Brighton                 Brighton, Massachusetts     2.88   \n18             West Roxbury             West Roxbury, Massachusetts     5.49   \n19                Hyde Park                Hyde Park, Massachusetts     4.57   \n20                 Mattapan                 Mattapan, Massachusetts     2.11   \n21               Dorchester               Dorchester, Massachusetts     7.29   \n22  South Boston Waterfront  South Boston Waterfront, Massachusetts     0.97   \n23             South Boston             South Boston, Massachusetts     2.25   \n24                  Allston                  Allston, Massachusetts     1.56   \n25           Harbor Islands           Harbor Islands, Massachusetts     1.29   \n\n   Latitude Longitude  \n0   42.2912  -71.1245  \n1   42.3098  -71.1203  \n2   42.3326  -71.1036  \n3   42.3415  -71.1102  \n4     42.35  -71.0669  \n5   42.3523  -71.0573  \n6   42.3522  -71.0626  \n7   42.3651  -71.0545  \n8   42.3248   -71.095  \n9   42.3413  -71.0772  \n10  42.3505  -71.0803  \n11  42.3751  -71.0392  \n12  42.3779   -71.062  \n13  42.3639  -71.0639  \n14  42.3587  -71.0678  \n15  42.2631   -71.802  \n16  42.3452  -71.1046  \n17  42.3501  -71.1564  \n18  42.2793  -71.1495  \n19  42.2557  -71.1245  \n20  42.2676  -71.0924  \n21  42.2973  -71.0745  \n22  42.3334  -71.0495  \n23  42.3334  -71.0495  \n24  42.3554  -71.1321  \n25  42.2697  -70.9209  ",
                        "text/html": "<div>\n<style scoped>\n    .dataframe tbody tr th:only-of-type {\n        vertical-align: middle;\n    }\n\n    .dataframe tbody tr th {\n        vertical-align: top;\n    }\n\n    .dataframe thead th {\n        text-align: right;\n    }\n</style>\n<table border=\"1\" class=\"dataframe\">\n  <thead>\n    <tr style=\"text-align: right;\">\n      <th></th>\n      <th>Neighborhood</th>\n      <th>Address</th>\n      <th>SqMiles</th>\n      <th>Latitude</th>\n      <th>Longitude</th>\n    </tr>\n  </thead>\n  <tbody>\n    <tr>\n      <th>0</th>\n      <td>Roslindale</td>\n      <td>Roslindale, Massachusetts</td>\n      <td>2.51</td>\n      <td>42.2912</td>\n      <td>-71.1245</td>\n    </tr>\n    <tr>\n      <th>1</th>\n      <td>Jamaica Plain</td>\n      <td>Jamaica Plain, Massachusetts</td>\n      <td>3.94</td>\n      <td>42.3098</td>\n      <td>-71.1203</td>\n    </tr>\n    <tr>\n      <th>2</th>\n      <td>Mission Hill</td>\n      <td>Mission Hill, Massachusetts</td>\n      <td>0.55</td>\n      <td>42.3326</td>\n      <td>-71.1036</td>\n    </tr>\n    <tr>\n      <th>3</th>\n      <td>Longwood</td>\n      <td>Longwood, Massachusetts</td>\n      <td>0.29</td>\n      <td>42.3415</td>\n      <td>-71.1102</td>\n    </tr>\n    <tr>\n      <th>4</th>\n      <td>Bay Village</td>\n      <td>Bay Village, Massachusetts</td>\n      <td>0.04</td>\n      <td>42.35</td>\n      <td>-71.0669</td>\n    </tr>\n    <tr>\n      <th>5</th>\n      <td>Leather District</td>\n      <td>Leather District, Massachusetts</td>\n      <td>0.02</td>\n      <td>42.3523</td>\n      <td>-71.0573</td>\n    </tr>\n    <tr>\n      <th>6</th>\n      <td>Chinatown</td>\n      <td>Chinatown, Massachusetts</td>\n      <td>0.12</td>\n      <td>42.3522</td>\n      <td>-71.0626</td>\n    </tr>\n    <tr>\n      <th>7</th>\n      <td>North End</td>\n      <td>North End, Massachusetts</td>\n      <td>0.20</td>\n      <td>42.3651</td>\n      <td>-71.0545</td>\n    </tr>\n    <tr>\n      <th>8</th>\n      <td>Roxbury</td>\n      <td>Roxbury, Massachusetts</td>\n      <td>3.29</td>\n      <td>42.3248</td>\n      <td>-71.095</td>\n    </tr>\n    <tr>\n      <th>9</th>\n      <td>South End</td>\n      <td>South End, Massachusetts</td>\n      <td>0.74</td>\n      <td>42.3413</td>\n      <td>-71.0772</td>\n    </tr>\n    <tr>\n      <th>10</th>\n      <td>Back Bay</td>\n      <td>Back Bay, Massachusetts</td>\n      <td>0.62</td>\n      <td>42.3505</td>\n      <td>-71.0803</td>\n    </tr>\n    <tr>\n      <th>11</th>\n      <td>East Boston</td>\n      <td>East Boston, Massachusetts</td>\n      <td>4.71</td>\n      <td>42.3751</td>\n      <td>-71.0392</td>\n    </tr>\n    <tr>\n      <th>12</th>\n      <td>Charlestown</td>\n      <td>Charlestown, Massachusetts</td>\n      <td>1.36</td>\n      <td>42.3779</td>\n      <td>-71.062</td>\n    </tr>\n    <tr>\n      <th>13</th>\n      <td>West End</td>\n      <td>West End, Massachusetts</td>\n      <td>0.30</td>\n      <td>42.3639</td>\n      <td>-71.0639</td>\n    </tr>\n    <tr>\n      <th>14</th>\n      <td>Beacon Hill</td>\n      <td>Beacon Hill, Massachusetts</td>\n      <td>0.31</td>\n      <td>42.3587</td>\n      <td>-71.0678</td>\n    </tr>\n    <tr>\n      <th>15</th>\n      <td>Downtown</td>\n      <td>Downtown, Massachusetts</td>\n      <td>0.62</td>\n      <td>42.2631</td>\n      <td>-71.802</td>\n    </tr>\n    <tr>\n      <th>16</th>\n      <td>Fenway</td>\n      <td>Fenway, Massachusetts</td>\n      <td>0.88</td>\n      <td>42.3452</td>\n      <td>-71.1046</td>\n    </tr>\n    <tr>\n      <th>17</th>\n      <td>Brighton</td>\n      <td>Brighton, Massachusetts</td>\n      <td>2.88</td>\n      <td>42.3501</td>\n      <td>-71.1564</td>\n    </tr>\n    <tr>\n      <th>18</th>\n      <td>West Roxbury</td>\n      <td>West Roxbury, Massachusetts</td>\n      <td>5.49</td>\n      <td>42.2793</td>\n      <td>-71.1495</td>\n    </tr>\n    <tr>\n      <th>19</th>\n      <td>Hyde Park</td>\n      <td>Hyde Park, Massachusetts</td>\n      <td>4.57</td>\n      <td>42.2557</td>\n      <td>-71.1245</td>\n    </tr>\n    <tr>\n      <th>20</th>\n      <td>Mattapan</td>\n      <td>Mattapan, Massachusetts</td>\n      <td>2.11</td>\n      <td>42.2676</td>\n      <td>-71.0924</td>\n    </tr>\n    <tr>\n      <th>21</th>\n      <td>Dorchester</td>\n      <td>Dorchester, Massachusetts</td>\n      <td>7.29</td>\n      <td>42.2973</td>\n      <td>-71.0745</td>\n    </tr>\n    <tr>\n      <th>22</th>\n      <td>South Boston Waterfront</td>\n      <td>South Boston Waterfront, Massachusetts</td>\n      <td>0.97</td>\n      <td>42.3334</td>\n      <td>-71.0495</td>\n    </tr>\n    <tr>\n      <th>23</th>\n      <td>South Boston</td>\n      <td>South Boston, Massachusetts</td>\n      <td>2.25</td>\n      <td>42.3334</td>\n      <td>-71.0495</td>\n    </tr>\n    <tr>\n      <th>24</th>\n      <td>Allston</td>\n      <td>Allston, Massachusetts</td>\n      <td>1.56</td>\n      <td>42.3554</td>\n      <td>-71.1321</td>\n    </tr>\n    <tr>\n      <th>25</th>\n      <td>Harbor Islands</td>\n      <td>Harbor Islands, Massachusetts</td>\n      <td>1.29</td>\n      <td>42.2697</td>\n      <td>-70.9209</td>\n    </tr>\n  </tbody>\n</table>\n</div>"
                    },
                    "metadata": {}
                }
            ]
        },
        {
            "metadata": {
                "scrolled": true
            },
            "cell_type": "code",
            "source": "boston_neighborhoods.head()",
            "execution_count": 106,
            "outputs": [
                {
                    "output_type": "execute_result",
                    "execution_count": 106,
                    "data": {
                        "text/plain": "    Neighborhood                       Address  SqMiles Latitude Longitude\n0     Roslindale     Roslindale, Massachusetts     2.51  42.2912  -71.1245\n1  Jamaica Plain  Jamaica Plain, Massachusetts     3.94  42.3098  -71.1203\n2   Mission Hill   Mission Hill, Massachusetts     0.55  42.3326  -71.1036\n3       Longwood       Longwood, Massachusetts     0.29  42.3415  -71.1102\n4    Bay Village    Bay Village, Massachusetts     0.04    42.35  -71.0669",
                        "text/html": "<div>\n<style scoped>\n    .dataframe tbody tr th:only-of-type {\n        vertical-align: middle;\n    }\n\n    .dataframe tbody tr th {\n        vertical-align: top;\n    }\n\n    .dataframe thead th {\n        text-align: right;\n    }\n</style>\n<table border=\"1\" class=\"dataframe\">\n  <thead>\n    <tr style=\"text-align: right;\">\n      <th></th>\n      <th>Neighborhood</th>\n      <th>Address</th>\n      <th>SqMiles</th>\n      <th>Latitude</th>\n      <th>Longitude</th>\n    </tr>\n  </thead>\n  <tbody>\n    <tr>\n      <th>0</th>\n      <td>Roslindale</td>\n      <td>Roslindale, Massachusetts</td>\n      <td>2.51</td>\n      <td>42.2912</td>\n      <td>-71.1245</td>\n    </tr>\n    <tr>\n      <th>1</th>\n      <td>Jamaica Plain</td>\n      <td>Jamaica Plain, Massachusetts</td>\n      <td>3.94</td>\n      <td>42.3098</td>\n      <td>-71.1203</td>\n    </tr>\n    <tr>\n      <th>2</th>\n      <td>Mission Hill</td>\n      <td>Mission Hill, Massachusetts</td>\n      <td>0.55</td>\n      <td>42.3326</td>\n      <td>-71.1036</td>\n    </tr>\n    <tr>\n      <th>3</th>\n      <td>Longwood</td>\n      <td>Longwood, Massachusetts</td>\n      <td>0.29</td>\n      <td>42.3415</td>\n      <td>-71.1102</td>\n    </tr>\n    <tr>\n      <th>4</th>\n      <td>Bay Village</td>\n      <td>Bay Village, Massachusetts</td>\n      <td>0.04</td>\n      <td>42.35</td>\n      <td>-71.0669</td>\n    </tr>\n  </tbody>\n</table>\n</div>"
                    },
                    "metadata": {}
                }
            ]
        },
        {
            "metadata": {},
            "cell_type": "markdown",
            "source": "We will now visualize the neighborhoods in Boston"
        },
        {
            "metadata": {
                "scrolled": true
            },
            "cell_type": "code",
            "source": "#find the geographical coordinates of Boston\n\naddress = 'Boston, MA'\ngeolocator = Nominatim(user_agent = \"boston_explorer\")\nlocation = geolocator.geocode(address)\nlatboston = location.latitude\nlngboston = location.longitude\n\n\nmap_boston = folium.Map(location = [latboston, lngboston], zoom_start = 11) #create a map\n\n#add markers \nfor lat, lng, label in zip(boston_neighborhoods['Latitude'], boston_neighborhoods['Longitude'], boston_neighborhoods['Address']):\n    label = folium.Popup(label, parse_html = True)\n    folium.CircleMarker(\n    [lat,lng],\n    radius = 5,\n    popup = label,\n    color = 'blue',\n    fill = True,\n    fill_color = '#3186cc',\n    fill_opacity = 0.7,\n    parse_html = False).add_to(map_boston)\n    \nmap_boston\n        ",
            "execution_count": 107,
            "outputs": [
                {
                    "output_type": "execute_result",
                    "execution_count": 107,
                    "data": {
                        "text/plain": "<folium.folium.Map at 0x7fef066d2210>",
                        "text/html": "<div style=\"width:100%;\"><div style=\"position:relative;width:100%;height:0;padding-bottom:60%;\"><span style=\"color:#565656\">Make this Notebook Trusted to load map: File -> Trust Notebook</span><iframe src=\"about:blank\" style=\"position:absolute;width:100%;height:100%;left:0;top:0;border:none !important;\" data-html=%3C%21DOCTYPE%20html%3E%0A%3Chead%3E%20%20%20%20%0A%20%20%20%20%3Cmeta%20http-equiv%3D%22content-type%22%20content%3D%22text/html%3B%20charset%3DUTF-8%22%20/%3E%0A%20%20%20%20%0A%20%20%20%20%20%20%20%20%3Cscript%3E%0A%20%20%20%20%20%20%20%20%20%20%20%20L_NO_TOUCH%20%3D%20false%3B%0A%20%20%20%20%20%20%20%20%20%20%20%20L_DISABLE_3D%20%3D%20false%3B%0A%20%20%20%20%20%20%20%20%3C/script%3E%0A%20%20%20%20%0A%20%20%20%20%3Cstyle%3Ehtml%2C%20body%20%7Bwidth%3A%20100%25%3Bheight%3A%20100%25%3Bmargin%3A%200%3Bpadding%3A%200%3B%7D%3C/style%3E%0A%20%20%20%20%3Cstyle%3E%23map%20%7Bposition%3Aabsolute%3Btop%3A0%3Bbottom%3A0%3Bright%3A0%3Bleft%3A0%3B%7D%3C/style%3E%0A%20%20%20%20%3Cscript%20src%3D%22https%3A//cdn.jsdelivr.net/npm/leaflet%401.6.0/dist/leaflet.js%22%3E%3C/script%3E%0A%20%20%20%20%3Cscript%20src%3D%22https%3A//code.jquery.com/jquery-1.12.4.min.js%22%3E%3C/script%3E%0A%20%20%20%20%3Cscript%20src%3D%22https%3A//maxcdn.bootstrapcdn.com/bootstrap/3.2.0/js/bootstrap.min.js%22%3E%3C/script%3E%0A%20%20%20%20%3Cscript%20src%3D%22https%3A//cdnjs.cloudflare.com/ajax/libs/Leaflet.awesome-markers/2.0.2/leaflet.awesome-markers.js%22%3E%3C/script%3E%0A%20%20%20%20%3Clink%20rel%3D%22stylesheet%22%20href%3D%22https%3A//cdn.jsdelivr.net/npm/leaflet%401.6.0/dist/leaflet.css%22/%3E%0A%20%20%20%20%3Clink%20rel%3D%22stylesheet%22%20href%3D%22https%3A//maxcdn.bootstrapcdn.com/bootstrap/3.2.0/css/bootstrap.min.css%22/%3E%0A%20%20%20%20%3Clink%20rel%3D%22stylesheet%22%20href%3D%22https%3A//maxcdn.bootstrapcdn.com/bootstrap/3.2.0/css/bootstrap-theme.min.css%22/%3E%0A%20%20%20%20%3Clink%20rel%3D%22stylesheet%22%20href%3D%22https%3A//maxcdn.bootstrapcdn.com/font-awesome/4.6.3/css/font-awesome.min.css%22/%3E%0A%20%20%20%20%3Clink%20rel%3D%22stylesheet%22%20href%3D%22https%3A//cdnjs.cloudflare.com/ajax/libs/Leaflet.awesome-markers/2.0.2/leaflet.awesome-markers.css%22/%3E%0A%20%20%20%20%3Clink%20rel%3D%22stylesheet%22%20href%3D%22https%3A//cdn.jsdelivr.net/gh/python-visualization/folium/folium/templates/leaflet.awesome.rotate.min.css%22/%3E%0A%20%20%20%20%0A%20%20%20%20%20%20%20%20%20%20%20%20%3Cmeta%20name%3D%22viewport%22%20content%3D%22width%3Ddevice-width%2C%0A%20%20%20%20%20%20%20%20%20%20%20%20%20%20%20%20initial-scale%3D1.0%2C%20maximum-scale%3D1.0%2C%20user-scalable%3Dno%22%20/%3E%0A%20%20%20%20%20%20%20%20%20%20%20%20%3Cstyle%3E%0A%20%20%20%20%20%20%20%20%20%20%20%20%20%20%20%20%23map_3927f1a270a84f36b84f855c79c9dcf3%20%7B%0A%20%20%20%20%20%20%20%20%20%20%20%20%20%20%20%20%20%20%20%20position%3A%20relative%3B%0A%20%20%20%20%20%20%20%20%20%20%20%20%20%20%20%20%20%20%20%20width%3A%20100.0%25%3B%0A%20%20%20%20%20%20%20%20%20%20%20%20%20%20%20%20%20%20%20%20height%3A%20100.0%25%3B%0A%20%20%20%20%20%20%20%20%20%20%20%20%20%20%20%20%20%20%20%20left%3A%200.0%25%3B%0A%20%20%20%20%20%20%20%20%20%20%20%20%20%20%20%20%20%20%20%20top%3A%200.0%25%3B%0A%20%20%20%20%20%20%20%20%20%20%20%20%20%20%20%20%7D%0A%20%20%20%20%20%20%20%20%20%20%20%20%3C/style%3E%0A%20%20%20%20%20%20%20%20%0A%3C/head%3E%0A%3Cbody%3E%20%20%20%20%0A%20%20%20%20%0A%20%20%20%20%20%20%20%20%20%20%20%20%3Cdiv%20class%3D%22folium-map%22%20id%3D%22map_3927f1a270a84f36b84f855c79c9dcf3%22%20%3E%3C/div%3E%0A%20%20%20%20%20%20%20%20%0A%3C/body%3E%0A%3Cscript%3E%20%20%20%20%0A%20%20%20%20%0A%20%20%20%20%20%20%20%20%20%20%20%20var%20map_3927f1a270a84f36b84f855c79c9dcf3%20%3D%20L.map%28%0A%20%20%20%20%20%20%20%20%20%20%20%20%20%20%20%20%22map_3927f1a270a84f36b84f855c79c9dcf3%22%2C%0A%20%20%20%20%20%20%20%20%20%20%20%20%20%20%20%20%7B%0A%20%20%20%20%20%20%20%20%20%20%20%20%20%20%20%20%20%20%20%20center%3A%20%5B42.3602534%2C%20-71.0582912%5D%2C%0A%20%20%20%20%20%20%20%20%20%20%20%20%20%20%20%20%20%20%20%20crs%3A%20L.CRS.EPSG3857%2C%0A%20%20%20%20%20%20%20%20%20%20%20%20%20%20%20%20%20%20%20%20zoom%3A%2011%2C%0A%20%20%20%20%20%20%20%20%20%20%20%20%20%20%20%20%20%20%20%20zoomControl%3A%20true%2C%0A%20%20%20%20%20%20%20%20%20%20%20%20%20%20%20%20%20%20%20%20preferCanvas%3A%20false%2C%0A%20%20%20%20%20%20%20%20%20%20%20%20%20%20%20%20%7D%0A%20%20%20%20%20%20%20%20%20%20%20%20%29%3B%0A%0A%20%20%20%20%20%20%20%20%20%20%20%20%0A%0A%20%20%20%20%20%20%20%20%0A%20%20%20%20%0A%20%20%20%20%20%20%20%20%20%20%20%20var%20tile_layer_b7ff8f3ee77142d596b8fda3d0b4748c%20%3D%20L.tileLayer%28%0A%20%20%20%20%20%20%20%20%20%20%20%20%20%20%20%20%22https%3A//%7Bs%7D.tile.openstreetmap.org/%7Bz%7D/%7Bx%7D/%7By%7D.png%22%2C%0A%20%20%20%20%20%20%20%20%20%20%20%20%20%20%20%20%7B%22attribution%22%3A%20%22Data%20by%20%5Cu0026copy%3B%20%5Cu003ca%20href%3D%5C%22http%3A//openstreetmap.org%5C%22%5Cu003eOpenStreetMap%5Cu003c/a%5Cu003e%2C%20under%20%5Cu003ca%20href%3D%5C%22http%3A//www.openstreetmap.org/copyright%5C%22%5Cu003eODbL%5Cu003c/a%5Cu003e.%22%2C%20%22detectRetina%22%3A%20false%2C%20%22maxNativeZoom%22%3A%2018%2C%20%22maxZoom%22%3A%2018%2C%20%22minZoom%22%3A%200%2C%20%22noWrap%22%3A%20false%2C%20%22opacity%22%3A%201%2C%20%22subdomains%22%3A%20%22abc%22%2C%20%22tms%22%3A%20false%7D%0A%20%20%20%20%20%20%20%20%20%20%20%20%29.addTo%28map_3927f1a270a84f36b84f855c79c9dcf3%29%3B%0A%20%20%20%20%20%20%20%20%0A%20%20%20%20%0A%20%20%20%20%20%20%20%20%20%20%20%20var%20circle_marker_119e289394964e9ea94910aa85891082%20%3D%20L.circleMarker%28%0A%20%20%20%20%20%20%20%20%20%20%20%20%20%20%20%20%5B42.2912093%2C%20-71.1244966%5D%2C%0A%20%20%20%20%20%20%20%20%20%20%20%20%20%20%20%20%7B%22bubblingMouseEvents%22%3A%20true%2C%20%22color%22%3A%20%22blue%22%2C%20%22dashArray%22%3A%20null%2C%20%22dashOffset%22%3A%20null%2C%20%22fill%22%3A%20true%2C%20%22fillColor%22%3A%20%22%233186cc%22%2C%20%22fillOpacity%22%3A%200.7%2C%20%22fillRule%22%3A%20%22evenodd%22%2C%20%22lineCap%22%3A%20%22round%22%2C%20%22lineJoin%22%3A%20%22round%22%2C%20%22opacity%22%3A%201.0%2C%20%22radius%22%3A%205%2C%20%22stroke%22%3A%20true%2C%20%22weight%22%3A%203%7D%0A%20%20%20%20%20%20%20%20%20%20%20%20%29.addTo%28map_3927f1a270a84f36b84f855c79c9dcf3%29%3B%0A%20%20%20%20%20%20%20%20%0A%20%20%20%20%0A%20%20%20%20%20%20%20%20var%20popup_9393b11cbb9347489852681ce65c4dae%20%3D%20L.popup%28%7B%22maxWidth%22%3A%20%22100%25%22%7D%29%3B%0A%0A%20%20%20%20%20%20%20%20%0A%20%20%20%20%20%20%20%20%20%20%20%20var%20html_2203eb780efd46e1ae5f87856ac9e6a2%20%3D%20%24%28%60%3Cdiv%20id%3D%22html_2203eb780efd46e1ae5f87856ac9e6a2%22%20style%3D%22width%3A%20100.0%25%3B%20height%3A%20100.0%25%3B%22%3ERoslindale%2C%20Massachusetts%3C/div%3E%60%29%5B0%5D%3B%0A%20%20%20%20%20%20%20%20%20%20%20%20popup_9393b11cbb9347489852681ce65c4dae.setContent%28html_2203eb780efd46e1ae5f87856ac9e6a2%29%3B%0A%20%20%20%20%20%20%20%20%0A%0A%20%20%20%20%20%20%20%20circle_marker_119e289394964e9ea94910aa85891082.bindPopup%28popup_9393b11cbb9347489852681ce65c4dae%29%0A%20%20%20%20%20%20%20%20%3B%0A%0A%20%20%20%20%20%20%20%20%0A%20%20%20%20%0A%20%20%20%20%0A%20%20%20%20%20%20%20%20%20%20%20%20var%20circle_marker_89ddcb9704934bb480d67bc644819d26%20%3D%20L.circleMarker%28%0A%20%20%20%20%20%20%20%20%20%20%20%20%20%20%20%20%5B42.3098201%2C%20-71.1203299%5D%2C%0A%20%20%20%20%20%20%20%20%20%20%20%20%20%20%20%20%7B%22bubblingMouseEvents%22%3A%20true%2C%20%22color%22%3A%20%22blue%22%2C%20%22dashArray%22%3A%20null%2C%20%22dashOffset%22%3A%20null%2C%20%22fill%22%3A%20true%2C%20%22fillColor%22%3A%20%22%233186cc%22%2C%20%22fillOpacity%22%3A%200.7%2C%20%22fillRule%22%3A%20%22evenodd%22%2C%20%22lineCap%22%3A%20%22round%22%2C%20%22lineJoin%22%3A%20%22round%22%2C%20%22opacity%22%3A%201.0%2C%20%22radius%22%3A%205%2C%20%22stroke%22%3A%20true%2C%20%22weight%22%3A%203%7D%0A%20%20%20%20%20%20%20%20%20%20%20%20%29.addTo%28map_3927f1a270a84f36b84f855c79c9dcf3%29%3B%0A%20%20%20%20%20%20%20%20%0A%20%20%20%20%0A%20%20%20%20%20%20%20%20var%20popup_7092a0d105a14a65a9efb35396bc7d51%20%3D%20L.popup%28%7B%22maxWidth%22%3A%20%22100%25%22%7D%29%3B%0A%0A%20%20%20%20%20%20%20%20%0A%20%20%20%20%20%20%20%20%20%20%20%20var%20html_adc6e675693142dd9786ff8d8805b8d6%20%3D%20%24%28%60%3Cdiv%20id%3D%22html_adc6e675693142dd9786ff8d8805b8d6%22%20style%3D%22width%3A%20100.0%25%3B%20height%3A%20100.0%25%3B%22%3EJamaica%20Plain%2C%20Massachusetts%3C/div%3E%60%29%5B0%5D%3B%0A%20%20%20%20%20%20%20%20%20%20%20%20popup_7092a0d105a14a65a9efb35396bc7d51.setContent%28html_adc6e675693142dd9786ff8d8805b8d6%29%3B%0A%20%20%20%20%20%20%20%20%0A%0A%20%20%20%20%20%20%20%20circle_marker_89ddcb9704934bb480d67bc644819d26.bindPopup%28popup_7092a0d105a14a65a9efb35396bc7d51%29%0A%20%20%20%20%20%20%20%20%3B%0A%0A%20%20%20%20%20%20%20%20%0A%20%20%20%20%0A%20%20%20%20%0A%20%20%20%20%20%20%20%20%20%20%20%20var%20circle_marker_ca59bac0c4724539a05ba67b582c6aed%20%3D%20L.circleMarker%28%0A%20%20%20%20%20%20%20%20%20%20%20%20%20%20%20%20%5B42.33255965%2C%20-71.10360773640765%5D%2C%0A%20%20%20%20%20%20%20%20%20%20%20%20%20%20%20%20%7B%22bubblingMouseEvents%22%3A%20true%2C%20%22color%22%3A%20%22blue%22%2C%20%22dashArray%22%3A%20null%2C%20%22dashOffset%22%3A%20null%2C%20%22fill%22%3A%20true%2C%20%22fillColor%22%3A%20%22%233186cc%22%2C%20%22fillOpacity%22%3A%200.7%2C%20%22fillRule%22%3A%20%22evenodd%22%2C%20%22lineCap%22%3A%20%22round%22%2C%20%22lineJoin%22%3A%20%22round%22%2C%20%22opacity%22%3A%201.0%2C%20%22radius%22%3A%205%2C%20%22stroke%22%3A%20true%2C%20%22weight%22%3A%203%7D%0A%20%20%20%20%20%20%20%20%20%20%20%20%29.addTo%28map_3927f1a270a84f36b84f855c79c9dcf3%29%3B%0A%20%20%20%20%20%20%20%20%0A%20%20%20%20%0A%20%20%20%20%20%20%20%20var%20popup_790a01d549bf4b9a88df87959d002b13%20%3D%20L.popup%28%7B%22maxWidth%22%3A%20%22100%25%22%7D%29%3B%0A%0A%20%20%20%20%20%20%20%20%0A%20%20%20%20%20%20%20%20%20%20%20%20var%20html_7eea5b62a32b4f33a06c0e3e3aa917e9%20%3D%20%24%28%60%3Cdiv%20id%3D%22html_7eea5b62a32b4f33a06c0e3e3aa917e9%22%20style%3D%22width%3A%20100.0%25%3B%20height%3A%20100.0%25%3B%22%3EMission%20Hill%2C%20Massachusetts%3C/div%3E%60%29%5B0%5D%3B%0A%20%20%20%20%20%20%20%20%20%20%20%20popup_790a01d549bf4b9a88df87959d002b13.setContent%28html_7eea5b62a32b4f33a06c0e3e3aa917e9%29%3B%0A%20%20%20%20%20%20%20%20%0A%0A%20%20%20%20%20%20%20%20circle_marker_ca59bac0c4724539a05ba67b582c6aed.bindPopup%28popup_790a01d549bf4b9a88df87959d002b13%29%0A%20%20%20%20%20%20%20%20%3B%0A%0A%20%20%20%20%20%20%20%20%0A%20%20%20%20%0A%20%20%20%20%0A%20%20%20%20%20%20%20%20%20%20%20%20var%20circle_marker_17092694ac7049a38201b1f1bf165488%20%3D%20L.circleMarker%28%0A%20%20%20%20%20%20%20%20%20%20%20%20%20%20%20%20%5B42.3415333%2C%20-71.1101551%5D%2C%0A%20%20%20%20%20%20%20%20%20%20%20%20%20%20%20%20%7B%22bubblingMouseEvents%22%3A%20true%2C%20%22color%22%3A%20%22blue%22%2C%20%22dashArray%22%3A%20null%2C%20%22dashOffset%22%3A%20null%2C%20%22fill%22%3A%20true%2C%20%22fillColor%22%3A%20%22%233186cc%22%2C%20%22fillOpacity%22%3A%200.7%2C%20%22fillRule%22%3A%20%22evenodd%22%2C%20%22lineCap%22%3A%20%22round%22%2C%20%22lineJoin%22%3A%20%22round%22%2C%20%22opacity%22%3A%201.0%2C%20%22radius%22%3A%205%2C%20%22stroke%22%3A%20true%2C%20%22weight%22%3A%203%7D%0A%20%20%20%20%20%20%20%20%20%20%20%20%29.addTo%28map_3927f1a270a84f36b84f855c79c9dcf3%29%3B%0A%20%20%20%20%20%20%20%20%0A%20%20%20%20%0A%20%20%20%20%20%20%20%20var%20popup_db5a7be0d1964f63b9668c1fb0af76db%20%3D%20L.popup%28%7B%22maxWidth%22%3A%20%22100%25%22%7D%29%3B%0A%0A%20%20%20%20%20%20%20%20%0A%20%20%20%20%20%20%20%20%20%20%20%20var%20html_0e1e35ee25734be0bd578f1487ca7cec%20%3D%20%24%28%60%3Cdiv%20id%3D%22html_0e1e35ee25734be0bd578f1487ca7cec%22%20style%3D%22width%3A%20100.0%25%3B%20height%3A%20100.0%25%3B%22%3ELongwood%2C%20Massachusetts%3C/div%3E%60%29%5B0%5D%3B%0A%20%20%20%20%20%20%20%20%20%20%20%20popup_db5a7be0d1964f63b9668c1fb0af76db.setContent%28html_0e1e35ee25734be0bd578f1487ca7cec%29%3B%0A%20%20%20%20%20%20%20%20%0A%0A%20%20%20%20%20%20%20%20circle_marker_17092694ac7049a38201b1f1bf165488.bindPopup%28popup_db5a7be0d1964f63b9668c1fb0af76db%29%0A%20%20%20%20%20%20%20%20%3B%0A%0A%20%20%20%20%20%20%20%20%0A%20%20%20%20%0A%20%20%20%20%0A%20%20%20%20%20%20%20%20%20%20%20%20var%20circle_marker_0a2d55a2e25c49c38b6f36010c8c2779%20%3D%20L.circleMarker%28%0A%20%20%20%20%20%20%20%20%20%20%20%20%20%20%20%20%5B42.35001105%2C%20-71.0669477958571%5D%2C%0A%20%20%20%20%20%20%20%20%20%20%20%20%20%20%20%20%7B%22bubblingMouseEvents%22%3A%20true%2C%20%22color%22%3A%20%22blue%22%2C%20%22dashArray%22%3A%20null%2C%20%22dashOffset%22%3A%20null%2C%20%22fill%22%3A%20true%2C%20%22fillColor%22%3A%20%22%233186cc%22%2C%20%22fillOpacity%22%3A%200.7%2C%20%22fillRule%22%3A%20%22evenodd%22%2C%20%22lineCap%22%3A%20%22round%22%2C%20%22lineJoin%22%3A%20%22round%22%2C%20%22opacity%22%3A%201.0%2C%20%22radius%22%3A%205%2C%20%22stroke%22%3A%20true%2C%20%22weight%22%3A%203%7D%0A%20%20%20%20%20%20%20%20%20%20%20%20%29.addTo%28map_3927f1a270a84f36b84f855c79c9dcf3%29%3B%0A%20%20%20%20%20%20%20%20%0A%20%20%20%20%0A%20%20%20%20%20%20%20%20var%20popup_febce66f4f4a4c2bb7d77174e79ba7bd%20%3D%20L.popup%28%7B%22maxWidth%22%3A%20%22100%25%22%7D%29%3B%0A%0A%20%20%20%20%20%20%20%20%0A%20%20%20%20%20%20%20%20%20%20%20%20var%20html_10490a9a36564f888e322e01613cd1b7%20%3D%20%24%28%60%3Cdiv%20id%3D%22html_10490a9a36564f888e322e01613cd1b7%22%20style%3D%22width%3A%20100.0%25%3B%20height%3A%20100.0%25%3B%22%3EBay%20Village%2C%20Massachusetts%3C/div%3E%60%29%5B0%5D%3B%0A%20%20%20%20%20%20%20%20%20%20%20%20popup_febce66f4f4a4c2bb7d77174e79ba7bd.setContent%28html_10490a9a36564f888e322e01613cd1b7%29%3B%0A%20%20%20%20%20%20%20%20%0A%0A%20%20%20%20%20%20%20%20circle_marker_0a2d55a2e25c49c38b6f36010c8c2779.bindPopup%28popup_febce66f4f4a4c2bb7d77174e79ba7bd%29%0A%20%20%20%20%20%20%20%20%3B%0A%0A%20%20%20%20%20%20%20%20%0A%20%20%20%20%0A%20%20%20%20%0A%20%20%20%20%20%20%20%20%20%20%20%20var%20circle_marker_f0d86c27f2f747598115934f10493d4e%20%3D%20L.circleMarker%28%0A%20%20%20%20%20%20%20%20%20%20%20%20%20%20%20%20%5B42.3523222%2C%20-71.05734307739965%5D%2C%0A%20%20%20%20%20%20%20%20%20%20%20%20%20%20%20%20%7B%22bubblingMouseEvents%22%3A%20true%2C%20%22color%22%3A%20%22blue%22%2C%20%22dashArray%22%3A%20null%2C%20%22dashOffset%22%3A%20null%2C%20%22fill%22%3A%20true%2C%20%22fillColor%22%3A%20%22%233186cc%22%2C%20%22fillOpacity%22%3A%200.7%2C%20%22fillRule%22%3A%20%22evenodd%22%2C%20%22lineCap%22%3A%20%22round%22%2C%20%22lineJoin%22%3A%20%22round%22%2C%20%22opacity%22%3A%201.0%2C%20%22radius%22%3A%205%2C%20%22stroke%22%3A%20true%2C%20%22weight%22%3A%203%7D%0A%20%20%20%20%20%20%20%20%20%20%20%20%29.addTo%28map_3927f1a270a84f36b84f855c79c9dcf3%29%3B%0A%20%20%20%20%20%20%20%20%0A%20%20%20%20%0A%20%20%20%20%20%20%20%20var%20popup_526bec1dba5c470eb27feb5135bc2552%20%3D%20L.popup%28%7B%22maxWidth%22%3A%20%22100%25%22%7D%29%3B%0A%0A%20%20%20%20%20%20%20%20%0A%20%20%20%20%20%20%20%20%20%20%20%20var%20html_a94533a74ce14a3fbfcfdeac7a6f8bda%20%3D%20%24%28%60%3Cdiv%20id%3D%22html_a94533a74ce14a3fbfcfdeac7a6f8bda%22%20style%3D%22width%3A%20100.0%25%3B%20height%3A%20100.0%25%3B%22%3ELeather%20District%2C%20Massachusetts%3C/div%3E%60%29%5B0%5D%3B%0A%20%20%20%20%20%20%20%20%20%20%20%20popup_526bec1dba5c470eb27feb5135bc2552.setContent%28html_a94533a74ce14a3fbfcfdeac7a6f8bda%29%3B%0A%20%20%20%20%20%20%20%20%0A%0A%20%20%20%20%20%20%20%20circle_marker_f0d86c27f2f747598115934f10493d4e.bindPopup%28popup_526bec1dba5c470eb27feb5135bc2552%29%0A%20%20%20%20%20%20%20%20%3B%0A%0A%20%20%20%20%20%20%20%20%0A%20%20%20%20%0A%20%20%20%20%0A%20%20%20%20%20%20%20%20%20%20%20%20var%20circle_marker_df6e9b7aea1c453bb2c996962db7bfa6%20%3D%20L.circleMarker%28%0A%20%20%20%20%20%20%20%20%20%20%20%20%20%20%20%20%5B42.3522166%2C%20-71.0626074%5D%2C%0A%20%20%20%20%20%20%20%20%20%20%20%20%20%20%20%20%7B%22bubblingMouseEvents%22%3A%20true%2C%20%22color%22%3A%20%22blue%22%2C%20%22dashArray%22%3A%20null%2C%20%22dashOffset%22%3A%20null%2C%20%22fill%22%3A%20true%2C%20%22fillColor%22%3A%20%22%233186cc%22%2C%20%22fillOpacity%22%3A%200.7%2C%20%22fillRule%22%3A%20%22evenodd%22%2C%20%22lineCap%22%3A%20%22round%22%2C%20%22lineJoin%22%3A%20%22round%22%2C%20%22opacity%22%3A%201.0%2C%20%22radius%22%3A%205%2C%20%22stroke%22%3A%20true%2C%20%22weight%22%3A%203%7D%0A%20%20%20%20%20%20%20%20%20%20%20%20%29.addTo%28map_3927f1a270a84f36b84f855c79c9dcf3%29%3B%0A%20%20%20%20%20%20%20%20%0A%20%20%20%20%0A%20%20%20%20%20%20%20%20var%20popup_ba15119de7ff45c0a9bb144b051c9aa4%20%3D%20L.popup%28%7B%22maxWidth%22%3A%20%22100%25%22%7D%29%3B%0A%0A%20%20%20%20%20%20%20%20%0A%20%20%20%20%20%20%20%20%20%20%20%20var%20html_cc031df595e4448aa85ace939bc02688%20%3D%20%24%28%60%3Cdiv%20id%3D%22html_cc031df595e4448aa85ace939bc02688%22%20style%3D%22width%3A%20100.0%25%3B%20height%3A%20100.0%25%3B%22%3EChinatown%2C%20Massachusetts%3C/div%3E%60%29%5B0%5D%3B%0A%20%20%20%20%20%20%20%20%20%20%20%20popup_ba15119de7ff45c0a9bb144b051c9aa4.setContent%28html_cc031df595e4448aa85ace939bc02688%29%3B%0A%20%20%20%20%20%20%20%20%0A%0A%20%20%20%20%20%20%20%20circle_marker_df6e9b7aea1c453bb2c996962db7bfa6.bindPopup%28popup_ba15119de7ff45c0a9bb144b051c9aa4%29%0A%20%20%20%20%20%20%20%20%3B%0A%0A%20%20%20%20%20%20%20%20%0A%20%20%20%20%0A%20%20%20%20%0A%20%20%20%20%20%20%20%20%20%20%20%20var%20circle_marker_6cbe90140c364a58a6142b188221e764%20%3D%20L.circleMarker%28%0A%20%20%20%20%20%20%20%20%20%20%20%20%20%20%20%20%5B42.3650974%2C%20-71.0544954%5D%2C%0A%20%20%20%20%20%20%20%20%20%20%20%20%20%20%20%20%7B%22bubblingMouseEvents%22%3A%20true%2C%20%22color%22%3A%20%22blue%22%2C%20%22dashArray%22%3A%20null%2C%20%22dashOffset%22%3A%20null%2C%20%22fill%22%3A%20true%2C%20%22fillColor%22%3A%20%22%233186cc%22%2C%20%22fillOpacity%22%3A%200.7%2C%20%22fillRule%22%3A%20%22evenodd%22%2C%20%22lineCap%22%3A%20%22round%22%2C%20%22lineJoin%22%3A%20%22round%22%2C%20%22opacity%22%3A%201.0%2C%20%22radius%22%3A%205%2C%20%22stroke%22%3A%20true%2C%20%22weight%22%3A%203%7D%0A%20%20%20%20%20%20%20%20%20%20%20%20%29.addTo%28map_3927f1a270a84f36b84f855c79c9dcf3%29%3B%0A%20%20%20%20%20%20%20%20%0A%20%20%20%20%0A%20%20%20%20%20%20%20%20var%20popup_5f58627c3332447ea15dc320ffbd0ce0%20%3D%20L.popup%28%7B%22maxWidth%22%3A%20%22100%25%22%7D%29%3B%0A%0A%20%20%20%20%20%20%20%20%0A%20%20%20%20%20%20%20%20%20%20%20%20var%20html_387b3f6dc3f5486ca1444b37a5ca6526%20%3D%20%24%28%60%3Cdiv%20id%3D%22html_387b3f6dc3f5486ca1444b37a5ca6526%22%20style%3D%22width%3A%20100.0%25%3B%20height%3A%20100.0%25%3B%22%3ENorth%20End%2C%20Massachusetts%3C/div%3E%60%29%5B0%5D%3B%0A%20%20%20%20%20%20%20%20%20%20%20%20popup_5f58627c3332447ea15dc320ffbd0ce0.setContent%28html_387b3f6dc3f5486ca1444b37a5ca6526%29%3B%0A%20%20%20%20%20%20%20%20%0A%0A%20%20%20%20%20%20%20%20circle_marker_6cbe90140c364a58a6142b188221e764.bindPopup%28popup_5f58627c3332447ea15dc320ffbd0ce0%29%0A%20%20%20%20%20%20%20%20%3B%0A%0A%20%20%20%20%20%20%20%20%0A%20%20%20%20%0A%20%20%20%20%0A%20%20%20%20%20%20%20%20%20%20%20%20var%20circle_marker_b283867dc4414eb895cd7d5d252d0e22%20%3D%20L.circleMarker%28%0A%20%20%20%20%20%20%20%20%20%20%20%20%20%20%20%20%5B42.3248426%2C%20-71.0950158%5D%2C%0A%20%20%20%20%20%20%20%20%20%20%20%20%20%20%20%20%7B%22bubblingMouseEvents%22%3A%20true%2C%20%22color%22%3A%20%22blue%22%2C%20%22dashArray%22%3A%20null%2C%20%22dashOffset%22%3A%20null%2C%20%22fill%22%3A%20true%2C%20%22fillColor%22%3A%20%22%233186cc%22%2C%20%22fillOpacity%22%3A%200.7%2C%20%22fillRule%22%3A%20%22evenodd%22%2C%20%22lineCap%22%3A%20%22round%22%2C%20%22lineJoin%22%3A%20%22round%22%2C%20%22opacity%22%3A%201.0%2C%20%22radius%22%3A%205%2C%20%22stroke%22%3A%20true%2C%20%22weight%22%3A%203%7D%0A%20%20%20%20%20%20%20%20%20%20%20%20%29.addTo%28map_3927f1a270a84f36b84f855c79c9dcf3%29%3B%0A%20%20%20%20%20%20%20%20%0A%20%20%20%20%0A%20%20%20%20%20%20%20%20var%20popup_f9c88e3231894a499091c1c7f6363d1f%20%3D%20L.popup%28%7B%22maxWidth%22%3A%20%22100%25%22%7D%29%3B%0A%0A%20%20%20%20%20%20%20%20%0A%20%20%20%20%20%20%20%20%20%20%20%20var%20html_72357618650041f7a54c17c879d38c86%20%3D%20%24%28%60%3Cdiv%20id%3D%22html_72357618650041f7a54c17c879d38c86%22%20style%3D%22width%3A%20100.0%25%3B%20height%3A%20100.0%25%3B%22%3ERoxbury%2C%20Massachusetts%3C/div%3E%60%29%5B0%5D%3B%0A%20%20%20%20%20%20%20%20%20%20%20%20popup_f9c88e3231894a499091c1c7f6363d1f.setContent%28html_72357618650041f7a54c17c879d38c86%29%3B%0A%20%20%20%20%20%20%20%20%0A%0A%20%20%20%20%20%20%20%20circle_marker_b283867dc4414eb895cd7d5d252d0e22.bindPopup%28popup_f9c88e3231894a499091c1c7f6363d1f%29%0A%20%20%20%20%20%20%20%20%3B%0A%0A%20%20%20%20%20%20%20%20%0A%20%20%20%20%0A%20%20%20%20%0A%20%20%20%20%20%20%20%20%20%20%20%20var%20circle_marker_44ec7e1e6ab2419dbde6c3e53db871c5%20%3D%20L.circleMarker%28%0A%20%20%20%20%20%20%20%20%20%20%20%20%20%20%20%20%5B42.34131%2C%20-71.0772298%5D%2C%0A%20%20%20%20%20%20%20%20%20%20%20%20%20%20%20%20%7B%22bubblingMouseEvents%22%3A%20true%2C%20%22color%22%3A%20%22blue%22%2C%20%22dashArray%22%3A%20null%2C%20%22dashOffset%22%3A%20null%2C%20%22fill%22%3A%20true%2C%20%22fillColor%22%3A%20%22%233186cc%22%2C%20%22fillOpacity%22%3A%200.7%2C%20%22fillRule%22%3A%20%22evenodd%22%2C%20%22lineCap%22%3A%20%22round%22%2C%20%22lineJoin%22%3A%20%22round%22%2C%20%22opacity%22%3A%201.0%2C%20%22radius%22%3A%205%2C%20%22stroke%22%3A%20true%2C%20%22weight%22%3A%203%7D%0A%20%20%20%20%20%20%20%20%20%20%20%20%29.addTo%28map_3927f1a270a84f36b84f855c79c9dcf3%29%3B%0A%20%20%20%20%20%20%20%20%0A%20%20%20%20%0A%20%20%20%20%20%20%20%20var%20popup_c92a1b66e59543e498130b3c25c09750%20%3D%20L.popup%28%7B%22maxWidth%22%3A%20%22100%25%22%7D%29%3B%0A%0A%20%20%20%20%20%20%20%20%0A%20%20%20%20%20%20%20%20%20%20%20%20var%20html_92a88daf2b984b6daa711fc6370be178%20%3D%20%24%28%60%3Cdiv%20id%3D%22html_92a88daf2b984b6daa711fc6370be178%22%20style%3D%22width%3A%20100.0%25%3B%20height%3A%20100.0%25%3B%22%3ESouth%20End%2C%20Massachusetts%3C/div%3E%60%29%5B0%5D%3B%0A%20%20%20%20%20%20%20%20%20%20%20%20popup_c92a1b66e59543e498130b3c25c09750.setContent%28html_92a88daf2b984b6daa711fc6370be178%29%3B%0A%20%20%20%20%20%20%20%20%0A%0A%20%20%20%20%20%20%20%20circle_marker_44ec7e1e6ab2419dbde6c3e53db871c5.bindPopup%28popup_c92a1b66e59543e498130b3c25c09750%29%0A%20%20%20%20%20%20%20%20%3B%0A%0A%20%20%20%20%20%20%20%20%0A%20%20%20%20%0A%20%20%20%20%0A%20%20%20%20%20%20%20%20%20%20%20%20var%20circle_marker_ac775109f3df42138bdd36538629d8e4%20%3D%20L.circleMarker%28%0A%20%20%20%20%20%20%20%20%20%20%20%20%20%20%20%20%5B42.35054885%2C%20-71.08031131584724%5D%2C%0A%20%20%20%20%20%20%20%20%20%20%20%20%20%20%20%20%7B%22bubblingMouseEvents%22%3A%20true%2C%20%22color%22%3A%20%22blue%22%2C%20%22dashArray%22%3A%20null%2C%20%22dashOffset%22%3A%20null%2C%20%22fill%22%3A%20true%2C%20%22fillColor%22%3A%20%22%233186cc%22%2C%20%22fillOpacity%22%3A%200.7%2C%20%22fillRule%22%3A%20%22evenodd%22%2C%20%22lineCap%22%3A%20%22round%22%2C%20%22lineJoin%22%3A%20%22round%22%2C%20%22opacity%22%3A%201.0%2C%20%22radius%22%3A%205%2C%20%22stroke%22%3A%20true%2C%20%22weight%22%3A%203%7D%0A%20%20%20%20%20%20%20%20%20%20%20%20%29.addTo%28map_3927f1a270a84f36b84f855c79c9dcf3%29%3B%0A%20%20%20%20%20%20%20%20%0A%20%20%20%20%0A%20%20%20%20%20%20%20%20var%20popup_21952727b206437085d7f75770035d41%20%3D%20L.popup%28%7B%22maxWidth%22%3A%20%22100%25%22%7D%29%3B%0A%0A%20%20%20%20%20%20%20%20%0A%20%20%20%20%20%20%20%20%20%20%20%20var%20html_e60f7ec509134b2cbeafd760e66ccda7%20%3D%20%24%28%60%3Cdiv%20id%3D%22html_e60f7ec509134b2cbeafd760e66ccda7%22%20style%3D%22width%3A%20100.0%25%3B%20height%3A%20100.0%25%3B%22%3EBack%20Bay%2C%20Massachusetts%3C/div%3E%60%29%5B0%5D%3B%0A%20%20%20%20%20%20%20%20%20%20%20%20popup_21952727b206437085d7f75770035d41.setContent%28html_e60f7ec509134b2cbeafd760e66ccda7%29%3B%0A%20%20%20%20%20%20%20%20%0A%0A%20%20%20%20%20%20%20%20circle_marker_ac775109f3df42138bdd36538629d8e4.bindPopup%28popup_21952727b206437085d7f75770035d41%29%0A%20%20%20%20%20%20%20%20%3B%0A%0A%20%20%20%20%20%20%20%20%0A%20%20%20%20%0A%20%20%20%20%0A%20%20%20%20%20%20%20%20%20%20%20%20var%20circle_marker_427ac8118b7b430d982ba5a0c63081df%20%3D%20L.circleMarker%28%0A%20%20%20%20%20%20%20%20%20%20%20%20%20%20%20%20%5B42.3750973%2C%20-71.0392173%5D%2C%0A%20%20%20%20%20%20%20%20%20%20%20%20%20%20%20%20%7B%22bubblingMouseEvents%22%3A%20true%2C%20%22color%22%3A%20%22blue%22%2C%20%22dashArray%22%3A%20null%2C%20%22dashOffset%22%3A%20null%2C%20%22fill%22%3A%20true%2C%20%22fillColor%22%3A%20%22%233186cc%22%2C%20%22fillOpacity%22%3A%200.7%2C%20%22fillRule%22%3A%20%22evenodd%22%2C%20%22lineCap%22%3A%20%22round%22%2C%20%22lineJoin%22%3A%20%22round%22%2C%20%22opacity%22%3A%201.0%2C%20%22radius%22%3A%205%2C%20%22stroke%22%3A%20true%2C%20%22weight%22%3A%203%7D%0A%20%20%20%20%20%20%20%20%20%20%20%20%29.addTo%28map_3927f1a270a84f36b84f855c79c9dcf3%29%3B%0A%20%20%20%20%20%20%20%20%0A%20%20%20%20%0A%20%20%20%20%20%20%20%20var%20popup_ebb599aebde94729992e33a8478b8eb0%20%3D%20L.popup%28%7B%22maxWidth%22%3A%20%22100%25%22%7D%29%3B%0A%0A%20%20%20%20%20%20%20%20%0A%20%20%20%20%20%20%20%20%20%20%20%20var%20html_e1d12e82e8e74b4882879bbe9e74c982%20%3D%20%24%28%60%3Cdiv%20id%3D%22html_e1d12e82e8e74b4882879bbe9e74c982%22%20style%3D%22width%3A%20100.0%25%3B%20height%3A%20100.0%25%3B%22%3EEast%20Boston%2C%20Massachusetts%3C/div%3E%60%29%5B0%5D%3B%0A%20%20%20%20%20%20%20%20%20%20%20%20popup_ebb599aebde94729992e33a8478b8eb0.setContent%28html_e1d12e82e8e74b4882879bbe9e74c982%29%3B%0A%20%20%20%20%20%20%20%20%0A%0A%20%20%20%20%20%20%20%20circle_marker_427ac8118b7b430d982ba5a0c63081df.bindPopup%28popup_ebb599aebde94729992e33a8478b8eb0%29%0A%20%20%20%20%20%20%20%20%3B%0A%0A%20%20%20%20%20%20%20%20%0A%20%20%20%20%0A%20%20%20%20%0A%20%20%20%20%20%20%20%20%20%20%20%20var%20circle_marker_32d8ccebb90145d69c8191d20b28c5c5%20%3D%20L.circleMarker%28%0A%20%20%20%20%20%20%20%20%20%20%20%20%20%20%20%20%5B42.3778749%2C%20-71.0619957%5D%2C%0A%20%20%20%20%20%20%20%20%20%20%20%20%20%20%20%20%7B%22bubblingMouseEvents%22%3A%20true%2C%20%22color%22%3A%20%22blue%22%2C%20%22dashArray%22%3A%20null%2C%20%22dashOffset%22%3A%20null%2C%20%22fill%22%3A%20true%2C%20%22fillColor%22%3A%20%22%233186cc%22%2C%20%22fillOpacity%22%3A%200.7%2C%20%22fillRule%22%3A%20%22evenodd%22%2C%20%22lineCap%22%3A%20%22round%22%2C%20%22lineJoin%22%3A%20%22round%22%2C%20%22opacity%22%3A%201.0%2C%20%22radius%22%3A%205%2C%20%22stroke%22%3A%20true%2C%20%22weight%22%3A%203%7D%0A%20%20%20%20%20%20%20%20%20%20%20%20%29.addTo%28map_3927f1a270a84f36b84f855c79c9dcf3%29%3B%0A%20%20%20%20%20%20%20%20%0A%20%20%20%20%0A%20%20%20%20%20%20%20%20var%20popup_37fe92259fa44723a8771aa076944485%20%3D%20L.popup%28%7B%22maxWidth%22%3A%20%22100%25%22%7D%29%3B%0A%0A%20%20%20%20%20%20%20%20%0A%20%20%20%20%20%20%20%20%20%20%20%20var%20html_36bec09900ff484398b248bdea33b976%20%3D%20%24%28%60%3Cdiv%20id%3D%22html_36bec09900ff484398b248bdea33b976%22%20style%3D%22width%3A%20100.0%25%3B%20height%3A%20100.0%25%3B%22%3ECharlestown%2C%20Massachusetts%3C/div%3E%60%29%5B0%5D%3B%0A%20%20%20%20%20%20%20%20%20%20%20%20popup_37fe92259fa44723a8771aa076944485.setContent%28html_36bec09900ff484398b248bdea33b976%29%3B%0A%20%20%20%20%20%20%20%20%0A%0A%20%20%20%20%20%20%20%20circle_marker_32d8ccebb90145d69c8191d20b28c5c5.bindPopup%28popup_37fe92259fa44723a8771aa076944485%29%0A%20%20%20%20%20%20%20%20%3B%0A%0A%20%20%20%20%20%20%20%20%0A%20%20%20%20%0A%20%20%20%20%0A%20%20%20%20%20%20%20%20%20%20%20%20var%20circle_marker_714d7f4d016244e996cf59b391642dc7%20%3D%20L.circleMarker%28%0A%20%20%20%20%20%20%20%20%20%20%20%20%20%20%20%20%5B42.3639186%2C%20-71.0638993%5D%2C%0A%20%20%20%20%20%20%20%20%20%20%20%20%20%20%20%20%7B%22bubblingMouseEvents%22%3A%20true%2C%20%22color%22%3A%20%22blue%22%2C%20%22dashArray%22%3A%20null%2C%20%22dashOffset%22%3A%20null%2C%20%22fill%22%3A%20true%2C%20%22fillColor%22%3A%20%22%233186cc%22%2C%20%22fillOpacity%22%3A%200.7%2C%20%22fillRule%22%3A%20%22evenodd%22%2C%20%22lineCap%22%3A%20%22round%22%2C%20%22lineJoin%22%3A%20%22round%22%2C%20%22opacity%22%3A%201.0%2C%20%22radius%22%3A%205%2C%20%22stroke%22%3A%20true%2C%20%22weight%22%3A%203%7D%0A%20%20%20%20%20%20%20%20%20%20%20%20%29.addTo%28map_3927f1a270a84f36b84f855c79c9dcf3%29%3B%0A%20%20%20%20%20%20%20%20%0A%20%20%20%20%0A%20%20%20%20%20%20%20%20var%20popup_b24074bb1a294d4088a8cf687a719afb%20%3D%20L.popup%28%7B%22maxWidth%22%3A%20%22100%25%22%7D%29%3B%0A%0A%20%20%20%20%20%20%20%20%0A%20%20%20%20%20%20%20%20%20%20%20%20var%20html_860e02b4a2494cf0b0f89f9d7e4a32b7%20%3D%20%24%28%60%3Cdiv%20id%3D%22html_860e02b4a2494cf0b0f89f9d7e4a32b7%22%20style%3D%22width%3A%20100.0%25%3B%20height%3A%20100.0%25%3B%22%3EWest%20End%2C%20Massachusetts%3C/div%3E%60%29%5B0%5D%3B%0A%20%20%20%20%20%20%20%20%20%20%20%20popup_b24074bb1a294d4088a8cf687a719afb.setContent%28html_860e02b4a2494cf0b0f89f9d7e4a32b7%29%3B%0A%20%20%20%20%20%20%20%20%0A%0A%20%20%20%20%20%20%20%20circle_marker_714d7f4d016244e996cf59b391642dc7.bindPopup%28popup_b24074bb1a294d4088a8cf687a719afb%29%0A%20%20%20%20%20%20%20%20%3B%0A%0A%20%20%20%20%20%20%20%20%0A%20%20%20%20%0A%20%20%20%20%0A%20%20%20%20%20%20%20%20%20%20%20%20var%20circle_marker_bbe58a00fcd24449915addf89486bdc6%20%3D%20L.circleMarker%28%0A%20%20%20%20%20%20%20%20%20%20%20%20%20%20%20%20%5B42.3587085%2C%20-71.067829%5D%2C%0A%20%20%20%20%20%20%20%20%20%20%20%20%20%20%20%20%7B%22bubblingMouseEvents%22%3A%20true%2C%20%22color%22%3A%20%22blue%22%2C%20%22dashArray%22%3A%20null%2C%20%22dashOffset%22%3A%20null%2C%20%22fill%22%3A%20true%2C%20%22fillColor%22%3A%20%22%233186cc%22%2C%20%22fillOpacity%22%3A%200.7%2C%20%22fillRule%22%3A%20%22evenodd%22%2C%20%22lineCap%22%3A%20%22round%22%2C%20%22lineJoin%22%3A%20%22round%22%2C%20%22opacity%22%3A%201.0%2C%20%22radius%22%3A%205%2C%20%22stroke%22%3A%20true%2C%20%22weight%22%3A%203%7D%0A%20%20%20%20%20%20%20%20%20%20%20%20%29.addTo%28map_3927f1a270a84f36b84f855c79c9dcf3%29%3B%0A%20%20%20%20%20%20%20%20%0A%20%20%20%20%0A%20%20%20%20%20%20%20%20var%20popup_fb0e093488d54f90b234a61e1de7a757%20%3D%20L.popup%28%7B%22maxWidth%22%3A%20%22100%25%22%7D%29%3B%0A%0A%20%20%20%20%20%20%20%20%0A%20%20%20%20%20%20%20%20%20%20%20%20var%20html_9ada22091d86457b8598285f4c92178f%20%3D%20%24%28%60%3Cdiv%20id%3D%22html_9ada22091d86457b8598285f4c92178f%22%20style%3D%22width%3A%20100.0%25%3B%20height%3A%20100.0%25%3B%22%3EBeacon%20Hill%2C%20Massachusetts%3C/div%3E%60%29%5B0%5D%3B%0A%20%20%20%20%20%20%20%20%20%20%20%20popup_fb0e093488d54f90b234a61e1de7a757.setContent%28html_9ada22091d86457b8598285f4c92178f%29%3B%0A%20%20%20%20%20%20%20%20%0A%0A%20%20%20%20%20%20%20%20circle_marker_bbe58a00fcd24449915addf89486bdc6.bindPopup%28popup_fb0e093488d54f90b234a61e1de7a757%29%0A%20%20%20%20%20%20%20%20%3B%0A%0A%20%20%20%20%20%20%20%20%0A%20%20%20%20%0A%20%20%20%20%0A%20%20%20%20%20%20%20%20%20%20%20%20var%20circle_marker_799988cd4a4e46ee83cce80ff2727d7b%20%3D%20L.circleMarker%28%0A%20%20%20%20%20%20%20%20%20%20%20%20%20%20%20%20%5B42.2630688%2C%20-71.8020015%5D%2C%0A%20%20%20%20%20%20%20%20%20%20%20%20%20%20%20%20%7B%22bubblingMouseEvents%22%3A%20true%2C%20%22color%22%3A%20%22blue%22%2C%20%22dashArray%22%3A%20null%2C%20%22dashOffset%22%3A%20null%2C%20%22fill%22%3A%20true%2C%20%22fillColor%22%3A%20%22%233186cc%22%2C%20%22fillOpacity%22%3A%200.7%2C%20%22fillRule%22%3A%20%22evenodd%22%2C%20%22lineCap%22%3A%20%22round%22%2C%20%22lineJoin%22%3A%20%22round%22%2C%20%22opacity%22%3A%201.0%2C%20%22radius%22%3A%205%2C%20%22stroke%22%3A%20true%2C%20%22weight%22%3A%203%7D%0A%20%20%20%20%20%20%20%20%20%20%20%20%29.addTo%28map_3927f1a270a84f36b84f855c79c9dcf3%29%3B%0A%20%20%20%20%20%20%20%20%0A%20%20%20%20%0A%20%20%20%20%20%20%20%20var%20popup_f9e5f373996e46958c3ba4b03c6ae3b3%20%3D%20L.popup%28%7B%22maxWidth%22%3A%20%22100%25%22%7D%29%3B%0A%0A%20%20%20%20%20%20%20%20%0A%20%20%20%20%20%20%20%20%20%20%20%20var%20html_e4901644b725479e869a9430bc4779fc%20%3D%20%24%28%60%3Cdiv%20id%3D%22html_e4901644b725479e869a9430bc4779fc%22%20style%3D%22width%3A%20100.0%25%3B%20height%3A%20100.0%25%3B%22%3EDowntown%2C%20Massachusetts%3C/div%3E%60%29%5B0%5D%3B%0A%20%20%20%20%20%20%20%20%20%20%20%20popup_f9e5f373996e46958c3ba4b03c6ae3b3.setContent%28html_e4901644b725479e869a9430bc4779fc%29%3B%0A%20%20%20%20%20%20%20%20%0A%0A%20%20%20%20%20%20%20%20circle_marker_799988cd4a4e46ee83cce80ff2727d7b.bindPopup%28popup_f9e5f373996e46958c3ba4b03c6ae3b3%29%0A%20%20%20%20%20%20%20%20%3B%0A%0A%20%20%20%20%20%20%20%20%0A%20%20%20%20%0A%20%20%20%20%0A%20%20%20%20%20%20%20%20%20%20%20%20var%20circle_marker_2eb9d0f15ccf4677b0cb0673e77af63f%20%3D%20L.circleMarker%28%0A%20%20%20%20%20%20%20%20%20%20%20%20%20%20%20%20%5B42.3451868%2C%20-71.1045987%5D%2C%0A%20%20%20%20%20%20%20%20%20%20%20%20%20%20%20%20%7B%22bubblingMouseEvents%22%3A%20true%2C%20%22color%22%3A%20%22blue%22%2C%20%22dashArray%22%3A%20null%2C%20%22dashOffset%22%3A%20null%2C%20%22fill%22%3A%20true%2C%20%22fillColor%22%3A%20%22%233186cc%22%2C%20%22fillOpacity%22%3A%200.7%2C%20%22fillRule%22%3A%20%22evenodd%22%2C%20%22lineCap%22%3A%20%22round%22%2C%20%22lineJoin%22%3A%20%22round%22%2C%20%22opacity%22%3A%201.0%2C%20%22radius%22%3A%205%2C%20%22stroke%22%3A%20true%2C%20%22weight%22%3A%203%7D%0A%20%20%20%20%20%20%20%20%20%20%20%20%29.addTo%28map_3927f1a270a84f36b84f855c79c9dcf3%29%3B%0A%20%20%20%20%20%20%20%20%0A%20%20%20%20%0A%20%20%20%20%20%20%20%20var%20popup_2116eb5c716b4b40b33c8e6a17df0f4a%20%3D%20L.popup%28%7B%22maxWidth%22%3A%20%22100%25%22%7D%29%3B%0A%0A%20%20%20%20%20%20%20%20%0A%20%20%20%20%20%20%20%20%20%20%20%20var%20html_247935a8e3d846d7a7028309018fbdba%20%3D%20%24%28%60%3Cdiv%20id%3D%22html_247935a8e3d846d7a7028309018fbdba%22%20style%3D%22width%3A%20100.0%25%3B%20height%3A%20100.0%25%3B%22%3EFenway%2C%20Massachusetts%3C/div%3E%60%29%5B0%5D%3B%0A%20%20%20%20%20%20%20%20%20%20%20%20popup_2116eb5c716b4b40b33c8e6a17df0f4a.setContent%28html_247935a8e3d846d7a7028309018fbdba%29%3B%0A%20%20%20%20%20%20%20%20%0A%0A%20%20%20%20%20%20%20%20circle_marker_2eb9d0f15ccf4677b0cb0673e77af63f.bindPopup%28popup_2116eb5c716b4b40b33c8e6a17df0f4a%29%0A%20%20%20%20%20%20%20%20%3B%0A%0A%20%20%20%20%20%20%20%20%0A%20%20%20%20%0A%20%20%20%20%0A%20%20%20%20%20%20%20%20%20%20%20%20var%20circle_marker_52e358dd680d4f968c61c2d8cb2bf2d6%20%3D%20L.circleMarker%28%0A%20%20%20%20%20%20%20%20%20%20%20%20%20%20%20%20%5B42.3500971%2C%20-71.1564423%5D%2C%0A%20%20%20%20%20%20%20%20%20%20%20%20%20%20%20%20%7B%22bubblingMouseEvents%22%3A%20true%2C%20%22color%22%3A%20%22blue%22%2C%20%22dashArray%22%3A%20null%2C%20%22dashOffset%22%3A%20null%2C%20%22fill%22%3A%20true%2C%20%22fillColor%22%3A%20%22%233186cc%22%2C%20%22fillOpacity%22%3A%200.7%2C%20%22fillRule%22%3A%20%22evenodd%22%2C%20%22lineCap%22%3A%20%22round%22%2C%20%22lineJoin%22%3A%20%22round%22%2C%20%22opacity%22%3A%201.0%2C%20%22radius%22%3A%205%2C%20%22stroke%22%3A%20true%2C%20%22weight%22%3A%203%7D%0A%20%20%20%20%20%20%20%20%20%20%20%20%29.addTo%28map_3927f1a270a84f36b84f855c79c9dcf3%29%3B%0A%20%20%20%20%20%20%20%20%0A%20%20%20%20%0A%20%20%20%20%20%20%20%20var%20popup_061a4ee2917b49c5882d4c18b43b9943%20%3D%20L.popup%28%7B%22maxWidth%22%3A%20%22100%25%22%7D%29%3B%0A%0A%20%20%20%20%20%20%20%20%0A%20%20%20%20%20%20%20%20%20%20%20%20var%20html_390c0fcc76f74bb088c0f8621a8deeda%20%3D%20%24%28%60%3Cdiv%20id%3D%22html_390c0fcc76f74bb088c0f8621a8deeda%22%20style%3D%22width%3A%20100.0%25%3B%20height%3A%20100.0%25%3B%22%3EBrighton%2C%20Massachusetts%3C/div%3E%60%29%5B0%5D%3B%0A%20%20%20%20%20%20%20%20%20%20%20%20popup_061a4ee2917b49c5882d4c18b43b9943.setContent%28html_390c0fcc76f74bb088c0f8621a8deeda%29%3B%0A%20%20%20%20%20%20%20%20%0A%0A%20%20%20%20%20%20%20%20circle_marker_52e358dd680d4f968c61c2d8cb2bf2d6.bindPopup%28popup_061a4ee2917b49c5882d4c18b43b9943%29%0A%20%20%20%20%20%20%20%20%3B%0A%0A%20%20%20%20%20%20%20%20%0A%20%20%20%20%0A%20%20%20%20%0A%20%20%20%20%20%20%20%20%20%20%20%20var%20circle_marker_da58bd44c58f4d0cbdfc05983e05182d%20%3D%20L.circleMarker%28%0A%20%20%20%20%20%20%20%20%20%20%20%20%20%20%20%20%5B42.2792649%2C%20-71.1494972%5D%2C%0A%20%20%20%20%20%20%20%20%20%20%20%20%20%20%20%20%7B%22bubblingMouseEvents%22%3A%20true%2C%20%22color%22%3A%20%22blue%22%2C%20%22dashArray%22%3A%20null%2C%20%22dashOffset%22%3A%20null%2C%20%22fill%22%3A%20true%2C%20%22fillColor%22%3A%20%22%233186cc%22%2C%20%22fillOpacity%22%3A%200.7%2C%20%22fillRule%22%3A%20%22evenodd%22%2C%20%22lineCap%22%3A%20%22round%22%2C%20%22lineJoin%22%3A%20%22round%22%2C%20%22opacity%22%3A%201.0%2C%20%22radius%22%3A%205%2C%20%22stroke%22%3A%20true%2C%20%22weight%22%3A%203%7D%0A%20%20%20%20%20%20%20%20%20%20%20%20%29.addTo%28map_3927f1a270a84f36b84f855c79c9dcf3%29%3B%0A%20%20%20%20%20%20%20%20%0A%20%20%20%20%0A%20%20%20%20%20%20%20%20var%20popup_b77c889317764cdbb753957428999685%20%3D%20L.popup%28%7B%22maxWidth%22%3A%20%22100%25%22%7D%29%3B%0A%0A%20%20%20%20%20%20%20%20%0A%20%20%20%20%20%20%20%20%20%20%20%20var%20html_1b188b65b23d4c02bc7e9cc05476f93f%20%3D%20%24%28%60%3Cdiv%20id%3D%22html_1b188b65b23d4c02bc7e9cc05476f93f%22%20style%3D%22width%3A%20100.0%25%3B%20height%3A%20100.0%25%3B%22%3EWest%20Roxbury%2C%20Massachusetts%3C/div%3E%60%29%5B0%5D%3B%0A%20%20%20%20%20%20%20%20%20%20%20%20popup_b77c889317764cdbb753957428999685.setContent%28html_1b188b65b23d4c02bc7e9cc05476f93f%29%3B%0A%20%20%20%20%20%20%20%20%0A%0A%20%20%20%20%20%20%20%20circle_marker_da58bd44c58f4d0cbdfc05983e05182d.bindPopup%28popup_b77c889317764cdbb753957428999685%29%0A%20%20%20%20%20%20%20%20%3B%0A%0A%20%20%20%20%20%20%20%20%0A%20%20%20%20%0A%20%20%20%20%0A%20%20%20%20%20%20%20%20%20%20%20%20var%20circle_marker_08db98c41c794705b116685e7acb1e57%20%3D%20L.circleMarker%28%0A%20%20%20%20%20%20%20%20%20%20%20%20%20%20%20%20%5B42.2556543%2C%20-71.1244963%5D%2C%0A%20%20%20%20%20%20%20%20%20%20%20%20%20%20%20%20%7B%22bubblingMouseEvents%22%3A%20true%2C%20%22color%22%3A%20%22blue%22%2C%20%22dashArray%22%3A%20null%2C%20%22dashOffset%22%3A%20null%2C%20%22fill%22%3A%20true%2C%20%22fillColor%22%3A%20%22%233186cc%22%2C%20%22fillOpacity%22%3A%200.7%2C%20%22fillRule%22%3A%20%22evenodd%22%2C%20%22lineCap%22%3A%20%22round%22%2C%20%22lineJoin%22%3A%20%22round%22%2C%20%22opacity%22%3A%201.0%2C%20%22radius%22%3A%205%2C%20%22stroke%22%3A%20true%2C%20%22weight%22%3A%203%7D%0A%20%20%20%20%20%20%20%20%20%20%20%20%29.addTo%28map_3927f1a270a84f36b84f855c79c9dcf3%29%3B%0A%20%20%20%20%20%20%20%20%0A%20%20%20%20%0A%20%20%20%20%20%20%20%20var%20popup_6a9938f5e33748188f98634cc0d49733%20%3D%20L.popup%28%7B%22maxWidth%22%3A%20%22100%25%22%7D%29%3B%0A%0A%20%20%20%20%20%20%20%20%0A%20%20%20%20%20%20%20%20%20%20%20%20var%20html_fa9b792aba9047fe81c6cbef3ab42fda%20%3D%20%24%28%60%3Cdiv%20id%3D%22html_fa9b792aba9047fe81c6cbef3ab42fda%22%20style%3D%22width%3A%20100.0%25%3B%20height%3A%20100.0%25%3B%22%3EHyde%20Park%2C%20Massachusetts%3C/div%3E%60%29%5B0%5D%3B%0A%20%20%20%20%20%20%20%20%20%20%20%20popup_6a9938f5e33748188f98634cc0d49733.setContent%28html_fa9b792aba9047fe81c6cbef3ab42fda%29%3B%0A%20%20%20%20%20%20%20%20%0A%0A%20%20%20%20%20%20%20%20circle_marker_08db98c41c794705b116685e7acb1e57.bindPopup%28popup_6a9938f5e33748188f98634cc0d49733%29%0A%20%20%20%20%20%20%20%20%3B%0A%0A%20%20%20%20%20%20%20%20%0A%20%20%20%20%0A%20%20%20%20%0A%20%20%20%20%20%20%20%20%20%20%20%20var%20circle_marker_b80a850039f04de2bd6ecc7fc5540070%20%3D%20L.circleMarker%28%0A%20%20%20%20%20%20%20%20%20%20%20%20%20%20%20%20%5B42.2675657%2C%20-71.0924273%5D%2C%0A%20%20%20%20%20%20%20%20%20%20%20%20%20%20%20%20%7B%22bubblingMouseEvents%22%3A%20true%2C%20%22color%22%3A%20%22blue%22%2C%20%22dashArray%22%3A%20null%2C%20%22dashOffset%22%3A%20null%2C%20%22fill%22%3A%20true%2C%20%22fillColor%22%3A%20%22%233186cc%22%2C%20%22fillOpacity%22%3A%200.7%2C%20%22fillRule%22%3A%20%22evenodd%22%2C%20%22lineCap%22%3A%20%22round%22%2C%20%22lineJoin%22%3A%20%22round%22%2C%20%22opacity%22%3A%201.0%2C%20%22radius%22%3A%205%2C%20%22stroke%22%3A%20true%2C%20%22weight%22%3A%203%7D%0A%20%20%20%20%20%20%20%20%20%20%20%20%29.addTo%28map_3927f1a270a84f36b84f855c79c9dcf3%29%3B%0A%20%20%20%20%20%20%20%20%0A%20%20%20%20%0A%20%20%20%20%20%20%20%20var%20popup_d89f3bfdec3448588a65b0db8ccddd06%20%3D%20L.popup%28%7B%22maxWidth%22%3A%20%22100%25%22%7D%29%3B%0A%0A%20%20%20%20%20%20%20%20%0A%20%20%20%20%20%20%20%20%20%20%20%20var%20html_fde347919fc04ad19250ebcc85ab4e11%20%3D%20%24%28%60%3Cdiv%20id%3D%22html_fde347919fc04ad19250ebcc85ab4e11%22%20style%3D%22width%3A%20100.0%25%3B%20height%3A%20100.0%25%3B%22%3EMattapan%2C%20Massachusetts%3C/div%3E%60%29%5B0%5D%3B%0A%20%20%20%20%20%20%20%20%20%20%20%20popup_d89f3bfdec3448588a65b0db8ccddd06.setContent%28html_fde347919fc04ad19250ebcc85ab4e11%29%3B%0A%20%20%20%20%20%20%20%20%0A%0A%20%20%20%20%20%20%20%20circle_marker_b80a850039f04de2bd6ecc7fc5540070.bindPopup%28popup_d89f3bfdec3448588a65b0db8ccddd06%29%0A%20%20%20%20%20%20%20%20%3B%0A%0A%20%20%20%20%20%20%20%20%0A%20%20%20%20%0A%20%20%20%20%0A%20%20%20%20%20%20%20%20%20%20%20%20var%20circle_marker_44892b4677c8468d97290466e077eed7%20%3D%20L.circleMarker%28%0A%20%20%20%20%20%20%20%20%20%20%20%20%20%20%20%20%5B42.2973205%2C%20-71.0744952%5D%2C%0A%20%20%20%20%20%20%20%20%20%20%20%20%20%20%20%20%7B%22bubblingMouseEvents%22%3A%20true%2C%20%22color%22%3A%20%22blue%22%2C%20%22dashArray%22%3A%20null%2C%20%22dashOffset%22%3A%20null%2C%20%22fill%22%3A%20true%2C%20%22fillColor%22%3A%20%22%233186cc%22%2C%20%22fillOpacity%22%3A%200.7%2C%20%22fillRule%22%3A%20%22evenodd%22%2C%20%22lineCap%22%3A%20%22round%22%2C%20%22lineJoin%22%3A%20%22round%22%2C%20%22opacity%22%3A%201.0%2C%20%22radius%22%3A%205%2C%20%22stroke%22%3A%20true%2C%20%22weight%22%3A%203%7D%0A%20%20%20%20%20%20%20%20%20%20%20%20%29.addTo%28map_3927f1a270a84f36b84f855c79c9dcf3%29%3B%0A%20%20%20%20%20%20%20%20%0A%20%20%20%20%0A%20%20%20%20%20%20%20%20var%20popup_a6bdef21c36442bfb935610182278e7b%20%3D%20L.popup%28%7B%22maxWidth%22%3A%20%22100%25%22%7D%29%3B%0A%0A%20%20%20%20%20%20%20%20%0A%20%20%20%20%20%20%20%20%20%20%20%20var%20html_fb09997a14a64f9f8cb3090dd5d01530%20%3D%20%24%28%60%3Cdiv%20id%3D%22html_fb09997a14a64f9f8cb3090dd5d01530%22%20style%3D%22width%3A%20100.0%25%3B%20height%3A%20100.0%25%3B%22%3EDorchester%2C%20Massachusetts%3C/div%3E%60%29%5B0%5D%3B%0A%20%20%20%20%20%20%20%20%20%20%20%20popup_a6bdef21c36442bfb935610182278e7b.setContent%28html_fb09997a14a64f9f8cb3090dd5d01530%29%3B%0A%20%20%20%20%20%20%20%20%0A%0A%20%20%20%20%20%20%20%20circle_marker_44892b4677c8468d97290466e077eed7.bindPopup%28popup_a6bdef21c36442bfb935610182278e7b%29%0A%20%20%20%20%20%20%20%20%3B%0A%0A%20%20%20%20%20%20%20%20%0A%20%20%20%20%0A%20%20%20%20%0A%20%20%20%20%20%20%20%20%20%20%20%20var%20circle_marker_2c75b92ed6fb4178a19f8f874b796e8b%20%3D%20L.circleMarker%28%0A%20%20%20%20%20%20%20%20%20%20%20%20%20%20%20%20%5B42.3334312%2C%20-71.0494949%5D%2C%0A%20%20%20%20%20%20%20%20%20%20%20%20%20%20%20%20%7B%22bubblingMouseEvents%22%3A%20true%2C%20%22color%22%3A%20%22blue%22%2C%20%22dashArray%22%3A%20null%2C%20%22dashOffset%22%3A%20null%2C%20%22fill%22%3A%20true%2C%20%22fillColor%22%3A%20%22%233186cc%22%2C%20%22fillOpacity%22%3A%200.7%2C%20%22fillRule%22%3A%20%22evenodd%22%2C%20%22lineCap%22%3A%20%22round%22%2C%20%22lineJoin%22%3A%20%22round%22%2C%20%22opacity%22%3A%201.0%2C%20%22radius%22%3A%205%2C%20%22stroke%22%3A%20true%2C%20%22weight%22%3A%203%7D%0A%20%20%20%20%20%20%20%20%20%20%20%20%29.addTo%28map_3927f1a270a84f36b84f855c79c9dcf3%29%3B%0A%20%20%20%20%20%20%20%20%0A%20%20%20%20%0A%20%20%20%20%20%20%20%20var%20popup_e669a63d54724bed93f4e09d4fcb538d%20%3D%20L.popup%28%7B%22maxWidth%22%3A%20%22100%25%22%7D%29%3B%0A%0A%20%20%20%20%20%20%20%20%0A%20%20%20%20%20%20%20%20%20%20%20%20var%20html_25985dfd529544b1ae673a012ae4f46f%20%3D%20%24%28%60%3Cdiv%20id%3D%22html_25985dfd529544b1ae673a012ae4f46f%22%20style%3D%22width%3A%20100.0%25%3B%20height%3A%20100.0%25%3B%22%3ESouth%20Boston%20Waterfront%2C%20Massachusetts%3C/div%3E%60%29%5B0%5D%3B%0A%20%20%20%20%20%20%20%20%20%20%20%20popup_e669a63d54724bed93f4e09d4fcb538d.setContent%28html_25985dfd529544b1ae673a012ae4f46f%29%3B%0A%20%20%20%20%20%20%20%20%0A%0A%20%20%20%20%20%20%20%20circle_marker_2c75b92ed6fb4178a19f8f874b796e8b.bindPopup%28popup_e669a63d54724bed93f4e09d4fcb538d%29%0A%20%20%20%20%20%20%20%20%3B%0A%0A%20%20%20%20%20%20%20%20%0A%20%20%20%20%0A%20%20%20%20%0A%20%20%20%20%20%20%20%20%20%20%20%20var%20circle_marker_fdbabcb78d984486ba53394b91b93578%20%3D%20L.circleMarker%28%0A%20%20%20%20%20%20%20%20%20%20%20%20%20%20%20%20%5B42.3334312%2C%20-71.0494949%5D%2C%0A%20%20%20%20%20%20%20%20%20%20%20%20%20%20%20%20%7B%22bubblingMouseEvents%22%3A%20true%2C%20%22color%22%3A%20%22blue%22%2C%20%22dashArray%22%3A%20null%2C%20%22dashOffset%22%3A%20null%2C%20%22fill%22%3A%20true%2C%20%22fillColor%22%3A%20%22%233186cc%22%2C%20%22fillOpacity%22%3A%200.7%2C%20%22fillRule%22%3A%20%22evenodd%22%2C%20%22lineCap%22%3A%20%22round%22%2C%20%22lineJoin%22%3A%20%22round%22%2C%20%22opacity%22%3A%201.0%2C%20%22radius%22%3A%205%2C%20%22stroke%22%3A%20true%2C%20%22weight%22%3A%203%7D%0A%20%20%20%20%20%20%20%20%20%20%20%20%29.addTo%28map_3927f1a270a84f36b84f855c79c9dcf3%29%3B%0A%20%20%20%20%20%20%20%20%0A%20%20%20%20%0A%20%20%20%20%20%20%20%20var%20popup_2fc0aedd45c7474f9e0f41a2d2186280%20%3D%20L.popup%28%7B%22maxWidth%22%3A%20%22100%25%22%7D%29%3B%0A%0A%20%20%20%20%20%20%20%20%0A%20%20%20%20%20%20%20%20%20%20%20%20var%20html_497267da4284445691cc472a68ba3b74%20%3D%20%24%28%60%3Cdiv%20id%3D%22html_497267da4284445691cc472a68ba3b74%22%20style%3D%22width%3A%20100.0%25%3B%20height%3A%20100.0%25%3B%22%3ESouth%20Boston%2C%20Massachusetts%3C/div%3E%60%29%5B0%5D%3B%0A%20%20%20%20%20%20%20%20%20%20%20%20popup_2fc0aedd45c7474f9e0f41a2d2186280.setContent%28html_497267da4284445691cc472a68ba3b74%29%3B%0A%20%20%20%20%20%20%20%20%0A%0A%20%20%20%20%20%20%20%20circle_marker_fdbabcb78d984486ba53394b91b93578.bindPopup%28popup_2fc0aedd45c7474f9e0f41a2d2186280%29%0A%20%20%20%20%20%20%20%20%3B%0A%0A%20%20%20%20%20%20%20%20%0A%20%20%20%20%0A%20%20%20%20%0A%20%20%20%20%20%20%20%20%20%20%20%20var%20circle_marker_2b0b96fc72ef4f4a893898d8fdab4aa1%20%3D%20L.circleMarker%28%0A%20%20%20%20%20%20%20%20%20%20%20%20%20%20%20%20%5B42.3554344%2C%20-71.1321271%5D%2C%0A%20%20%20%20%20%20%20%20%20%20%20%20%20%20%20%20%7B%22bubblingMouseEvents%22%3A%20true%2C%20%22color%22%3A%20%22blue%22%2C%20%22dashArray%22%3A%20null%2C%20%22dashOffset%22%3A%20null%2C%20%22fill%22%3A%20true%2C%20%22fillColor%22%3A%20%22%233186cc%22%2C%20%22fillOpacity%22%3A%200.7%2C%20%22fillRule%22%3A%20%22evenodd%22%2C%20%22lineCap%22%3A%20%22round%22%2C%20%22lineJoin%22%3A%20%22round%22%2C%20%22opacity%22%3A%201.0%2C%20%22radius%22%3A%205%2C%20%22stroke%22%3A%20true%2C%20%22weight%22%3A%203%7D%0A%20%20%20%20%20%20%20%20%20%20%20%20%29.addTo%28map_3927f1a270a84f36b84f855c79c9dcf3%29%3B%0A%20%20%20%20%20%20%20%20%0A%20%20%20%20%0A%20%20%20%20%20%20%20%20var%20popup_9f4289edc68f4ecfaf21f93061581051%20%3D%20L.popup%28%7B%22maxWidth%22%3A%20%22100%25%22%7D%29%3B%0A%0A%20%20%20%20%20%20%20%20%0A%20%20%20%20%20%20%20%20%20%20%20%20var%20html_9168bfddc40c4959883fe2f616ae35e7%20%3D%20%24%28%60%3Cdiv%20id%3D%22html_9168bfddc40c4959883fe2f616ae35e7%22%20style%3D%22width%3A%20100.0%25%3B%20height%3A%20100.0%25%3B%22%3EAllston%2C%20Massachusetts%3C/div%3E%60%29%5B0%5D%3B%0A%20%20%20%20%20%20%20%20%20%20%20%20popup_9f4289edc68f4ecfaf21f93061581051.setContent%28html_9168bfddc40c4959883fe2f616ae35e7%29%3B%0A%20%20%20%20%20%20%20%20%0A%0A%20%20%20%20%20%20%20%20circle_marker_2b0b96fc72ef4f4a893898d8fdab4aa1.bindPopup%28popup_9f4289edc68f4ecfaf21f93061581051%29%0A%20%20%20%20%20%20%20%20%3B%0A%0A%20%20%20%20%20%20%20%20%0A%20%20%20%20%0A%20%20%20%20%0A%20%20%20%20%20%20%20%20%20%20%20%20var%20circle_marker_4281b7ef549146249e2289455b064ff7%20%3D%20L.circleMarker%28%0A%20%20%20%20%20%20%20%20%20%20%20%20%20%20%20%20%5B42.26972205%2C%20-70.92086034179461%5D%2C%0A%20%20%20%20%20%20%20%20%20%20%20%20%20%20%20%20%7B%22bubblingMouseEvents%22%3A%20true%2C%20%22color%22%3A%20%22blue%22%2C%20%22dashArray%22%3A%20null%2C%20%22dashOffset%22%3A%20null%2C%20%22fill%22%3A%20true%2C%20%22fillColor%22%3A%20%22%233186cc%22%2C%20%22fillOpacity%22%3A%200.7%2C%20%22fillRule%22%3A%20%22evenodd%22%2C%20%22lineCap%22%3A%20%22round%22%2C%20%22lineJoin%22%3A%20%22round%22%2C%20%22opacity%22%3A%201.0%2C%20%22radius%22%3A%205%2C%20%22stroke%22%3A%20true%2C%20%22weight%22%3A%203%7D%0A%20%20%20%20%20%20%20%20%20%20%20%20%29.addTo%28map_3927f1a270a84f36b84f855c79c9dcf3%29%3B%0A%20%20%20%20%20%20%20%20%0A%20%20%20%20%0A%20%20%20%20%20%20%20%20var%20popup_4326a9c1d2cc4b5fbfbb523e87d6c634%20%3D%20L.popup%28%7B%22maxWidth%22%3A%20%22100%25%22%7D%29%3B%0A%0A%20%20%20%20%20%20%20%20%0A%20%20%20%20%20%20%20%20%20%20%20%20var%20html_b8343bef2ef54e6a9098c828c0058fb8%20%3D%20%24%28%60%3Cdiv%20id%3D%22html_b8343bef2ef54e6a9098c828c0058fb8%22%20style%3D%22width%3A%20100.0%25%3B%20height%3A%20100.0%25%3B%22%3EHarbor%20Islands%2C%20Massachusetts%3C/div%3E%60%29%5B0%5D%3B%0A%20%20%20%20%20%20%20%20%20%20%20%20popup_4326a9c1d2cc4b5fbfbb523e87d6c634.setContent%28html_b8343bef2ef54e6a9098c828c0058fb8%29%3B%0A%20%20%20%20%20%20%20%20%0A%0A%20%20%20%20%20%20%20%20circle_marker_4281b7ef549146249e2289455b064ff7.bindPopup%28popup_4326a9c1d2cc4b5fbfbb523e87d6c634%29%0A%20%20%20%20%20%20%20%20%3B%0A%0A%20%20%20%20%20%20%20%20%0A%20%20%20%20%0A%3C/script%3E onload=\"this.contentDocument.open();this.contentDocument.write(    decodeURIComponent(this.getAttribute('data-html')));this.contentDocument.close();\" allowfullscreen webkitallowfullscreen mozallowfullscreen></iframe></div></div>"
                    },
                    "metadata": {}
                }
            ]
        },
        {
            "metadata": {},
            "cell_type": "markdown",
            "source": "#### Obtain Data from Foursquare API"
        },
        {
            "metadata": {},
            "cell_type": "markdown",
            "source": "We will now use Foursquare API to obtain the number of gyms in each neighborhood, as well as the number of food stores nearby."
        },
        {
            "metadata": {},
            "cell_type": "code",
            "source": "#my Foursquare credentials\nCLIENT_ID = 'HU4NW3X5GFHOKALM3VMUHXFC5GBEE04KCAEYUEYZOTHQYU0U' \nCLIENT_SECRET = 'EVWCF1AOGUWLPFPKWYUOQJZ34BPCTMNNRRVOB3I4CXOZJ00N' \nVERSION = '20180605' # Foursquare API version\nLIMIT = 100 # A default Foursquare API limit value\nACCESS_TOKEN = \"ENKE2RY4UVQJMNPHGD43HBNHO0JC3HPQ03C50ZKX3EE54AYL\"\nprint('My credentails:')\nprint('CLIENT_ID: ' + CLIENT_ID)\nprint('CLIENT_SECRET:' + CLIENT_SECRET)",
            "execution_count": 108,
            "outputs": [
                {
                    "output_type": "stream",
                    "text": "My credentails:\nCLIENT_ID: HU4NW3X5GFHOKALM3VMUHXFC5GBEE04KCAEYUEYZOTHQYU0U\nCLIENT_SECRET:EVWCF1AOGUWLPFPKWYUOQJZ34BPCTMNNRRVOB3I4CXOZJ00N\n",
                    "name": "stdout"
                }
            ]
        },
        {
            "metadata": {},
            "cell_type": "markdown",
            "source": "We will make a function to explore the venues around each Boston neighborhood using Foursquare."
        },
        {
            "metadata": {},
            "cell_type": "code",
            "source": "#make a function to explore venues in each Boston neighborhood using Foursquare\n\ndef getNearbyVenues(names, latitudes, longitudes, radius = 500):\n    venues_list = []\n    \n    for name, lat, lng in zip(names, latitudes, longitudes):\n        \n            \n        # create the API request URL\n        url = 'https://api.foursquare.com/v2/venues/explore?&client_id={}&client_secret={}&v={}&ll={},{}&radius={}&limit={}'.format(\n            CLIENT_ID, \n            CLIENT_SECRET, \n            VERSION, \n            lat, \n            lng, \n            radius, \n            LIMIT)\n            \n        # make the GET request\n        results = requests.get(url).json()[\"response\"]['groups'][0]['items']\n        \n        # return only relevant information for each nearby venue\n        venues_list.append([(\n            name, \n            lat, \n            lng, \n            v['venue']['name'], \n            v['venue']['location']['lat'], \n            v['venue']['location']['lng'],  \n            v['venue']['categories'][0]['name']) for v in results])\n\n    nearby_venues = pd.DataFrame([item for venue_list in venues_list for item in venue_list])\n    nearby_venues.columns = ['Neighborhood', \n                  'Neighborhood Latitude', \n                  'Neighborhood Longitude', \n                  'Venue', \n                  'Venue Latitude', \n                  'Venue Longitude', \n                  'Venue Category']\n    \n    return(nearby_venues)\n",
            "execution_count": 109,
            "outputs": []
        },
        {
            "metadata": {
                "scrolled": true
            },
            "cell_type": "code",
            "source": "#call the function and display venues\nvenuesaroundboston = getNearbyVenues(names = boston_neighborhoods['Neighborhood'], latitudes = boston_neighborhoods['Latitude'], longitudes = boston_neighborhoods['Longitude'])\n                                 \n\nvenuesaroundboston.shape #check the number of rows , which , in this case, is the number of venues ",
            "execution_count": 112,
            "outputs": [
                {
                    "output_type": "execute_result",
                    "execution_count": 112,
                    "data": {
                        "text/plain": "(1100, 7)"
                    },
                    "metadata": {}
                }
            ]
        },
        {
            "metadata": {},
            "cell_type": "markdown",
            "source": "Filter results to find all the gyms in Boston neighborhoods, and store in a dataframe"
        },
        {
            "metadata": {},
            "cell_type": "code",
            "source": "gymsinboston = venuesaroundboston[venuesaroundboston['Venue Category'].str.contains('Gym')] #dataframe containing all gyms in Boston\ngymsinboston['Venue Category'] = 'Gym' #change venue category label to 'Gym'\ngymsinboston.fillna(0)\n\ngymsinboston.shape #number of rows and columns",
            "execution_count": 116,
            "outputs": [
                {
                    "output_type": "stream",
                    "text": "/opt/conda/envs/Python-3.7-main/lib/python3.7/site-packages/ipykernel/__main__.py:2: SettingWithCopyWarning:\n\n\nA value is trying to be set on a copy of a slice from a DataFrame.\nTry using .loc[row_indexer,col_indexer] = value instead\n\nSee the caveats in the documentation: https://pandas.pydata.org/pandas-docs/stable/user_guide/indexing.html#returning-a-view-versus-a-copy\n\n",
                    "name": "stderr"
                },
                {
                    "output_type": "execute_result",
                    "execution_count": 116,
                    "data": {
                        "text/plain": "(31, 7)"
                    },
                    "metadata": {}
                }
            ]
        },
        {
            "metadata": {},
            "cell_type": "markdown",
            "source": "We also find all the parks in Boston's neighborhoods, though we prioritize the presence of gyms in making our decisions about where to construct a new gym:"
        },
        {
            "metadata": {},
            "cell_type": "code",
            "source": "parksinboston= venuesaroundboston[venuesaroundboston['Venue Category'].str.contains('Park')] \nparksinboston['Venue Category'] = 'Park'\nparksinboston.fillna(0)\n\nparksinboston.shape #check number of rows",
            "execution_count": 117,
            "outputs": [
                {
                    "output_type": "stream",
                    "text": "/opt/conda/envs/Python-3.7-main/lib/python3.7/site-packages/ipykernel/__main__.py:2: SettingWithCopyWarning:\n\n\nA value is trying to be set on a copy of a slice from a DataFrame.\nTry using .loc[row_indexer,col_indexer] = value instead\n\nSee the caveats in the documentation: https://pandas.pydata.org/pandas-docs/stable/user_guide/indexing.html#returning-a-view-versus-a-copy\n\n",
                    "name": "stderr"
                },
                {
                    "output_type": "execute_result",
                    "execution_count": 117,
                    "data": {
                        "text/plain": "(29, 7)"
                    },
                    "metadata": {}
                }
            ]
        },
        {
            "metadata": {},
            "cell_type": "markdown",
            "source": "Filter results to find all the restaurants and pizza places in Boston neighborhoods, and store in a dataframe."
        },
        {
            "metadata": {},
            "cell_type": "code",
            "source": "restaurants_boston = venuesaroundboston[venuesaroundboston['Venue Category'].str.contains('Restaurant')] #dataframe to store all restaurants\n\npizzaplaces_boston = venuesaroundboston[venuesaroundboston['Venue Category']== 'Pizza Place'] #dataframe to store all pizza places\n\nboston_gourmet = pd.concat([restaurants_boston, pizzaplaces_boston]) #dataframe containg all the restaurants and pizza places\n                                    \nboston_gourmet['Venue Category'] = 'Restaurant' #change the venue category to a broader 'Restaurant' label\nboston_gourmet.fillna(0)\n\nboston_gourmet.shape #check the number of rows and columns",
            "execution_count": 118,
            "outputs": [
                {
                    "output_type": "execute_result",
                    "execution_count": 118,
                    "data": {
                        "text/plain": "(345, 7)"
                    },
                    "metadata": {}
                }
            ]
        },
        {
            "metadata": {},
            "cell_type": "code",
            "source": "#make one big dataframe containing gourmet stores and gyms:\nboston_gymandfood = pd.concat([boston_gourmet, gymsinboston, parksinboston])\nboston_gymandfood",
            "execution_count": 119,
            "outputs": [
                {
                    "output_type": "execute_result",
                    "execution_count": 119,
                    "data": {
                        "text/plain": "                 Neighborhood  Neighborhood Latitude  Neighborhood Longitude  \\\n0                  Roslindale              42.291209              -71.124497   \n9               Jamaica Plain              42.309820              -71.120330   \n23              Jamaica Plain              42.309820              -71.120330   \n32               Mission Hill              42.332560              -71.103608   \n34               Mission Hill              42.332560              -71.103608   \n36               Mission Hill              42.332560              -71.103608   \n37               Mission Hill              42.332560              -71.103608   \n41               Mission Hill              42.332560              -71.103608   \n43               Mission Hill              42.332560              -71.103608   \n44               Mission Hill              42.332560              -71.103608   \n48                   Longwood              42.341533              -71.110155   \n49                   Longwood              42.341533              -71.110155   \n52                   Longwood              42.341533              -71.110155   \n55                   Longwood              42.341533              -71.110155   \n61                   Longwood              42.341533              -71.110155   \n63                   Longwood              42.341533              -71.110155   \n75                   Longwood              42.341533              -71.110155   \n76                   Longwood              42.341533              -71.110155   \n83                Bay Village              42.350011              -71.066948   \n84                Bay Village              42.350011              -71.066948   \n94                Bay Village              42.350011              -71.066948   \n96                Bay Village              42.350011              -71.066948   \n97                Bay Village              42.350011              -71.066948   \n113               Bay Village              42.350011              -71.066948   \n122               Bay Village              42.350011              -71.066948   \n125               Bay Village              42.350011              -71.066948   \n127               Bay Village              42.350011              -71.066948   \n129               Bay Village              42.350011              -71.066948   \n130               Bay Village              42.350011              -71.066948   \n134               Bay Village              42.350011              -71.066948   \n137          Leather District              42.352322              -71.057343   \n141          Leather District              42.352322              -71.057343   \n143          Leather District              42.352322              -71.057343   \n144          Leather District              42.352322              -71.057343   \n145          Leather District              42.352322              -71.057343   \n147          Leather District              42.352322              -71.057343   \n151          Leather District              42.352322              -71.057343   \n152          Leather District              42.352322              -71.057343   \n155          Leather District              42.352322              -71.057343   \n156          Leather District              42.352322              -71.057343   \n157          Leather District              42.352322              -71.057343   \n160          Leather District              42.352322              -71.057343   \n163          Leather District              42.352322              -71.057343   \n173          Leather District              42.352322              -71.057343   \n175          Leather District              42.352322              -71.057343   \n176          Leather District              42.352322              -71.057343   \n182          Leather District              42.352322              -71.057343   \n186          Leather District              42.352322              -71.057343   \n189          Leather District              42.352322              -71.057343   \n190          Leather District              42.352322              -71.057343   \n194          Leather District              42.352322              -71.057343   \n198          Leather District              42.352322              -71.057343   \n203          Leather District              42.352322              -71.057343   \n208          Leather District              42.352322              -71.057343   \n209          Leather District              42.352322              -71.057343   \n215          Leather District              42.352322              -71.057343   \n216          Leather District              42.352322              -71.057343   \n217          Leather District              42.352322              -71.057343   \n220          Leather District              42.352322              -71.057343   \n221          Leather District              42.352322              -71.057343   \n222          Leather District              42.352322              -71.057343   \n224          Leather District              42.352322              -71.057343   \n225          Leather District              42.352322              -71.057343   \n228          Leather District              42.352322              -71.057343   \n229          Leather District              42.352322              -71.057343   \n235                 Chinatown              42.352217              -71.062607   \n243                 Chinatown              42.352217              -71.062607   \n246                 Chinatown              42.352217              -71.062607   \n249                 Chinatown              42.352217              -71.062607   \n250                 Chinatown              42.352217              -71.062607   \n252                 Chinatown              42.352217              -71.062607   \n254                 Chinatown              42.352217              -71.062607   \n255                 Chinatown              42.352217              -71.062607   \n256                 Chinatown              42.352217              -71.062607   \n257                 Chinatown              42.352217              -71.062607   \n258                 Chinatown              42.352217              -71.062607   \n261                 Chinatown              42.352217              -71.062607   \n264                 Chinatown              42.352217              -71.062607   \n267                 Chinatown              42.352217              -71.062607   \n270                 Chinatown              42.352217              -71.062607   \n272                 Chinatown              42.352217              -71.062607   \n275                 Chinatown              42.352217              -71.062607   \n276                 Chinatown              42.352217              -71.062607   \n278                 Chinatown              42.352217              -71.062607   \n279                 Chinatown              42.352217              -71.062607   \n281                 Chinatown              42.352217              -71.062607   \n283                 Chinatown              42.352217              -71.062607   \n284                 Chinatown              42.352217              -71.062607   \n285                 Chinatown              42.352217              -71.062607   \n286                 Chinatown              42.352217              -71.062607   \n289                 Chinatown              42.352217              -71.062607   \n291                 Chinatown              42.352217              -71.062607   \n297                 Chinatown              42.352217              -71.062607   \n299                 Chinatown              42.352217              -71.062607   \n303                 Chinatown              42.352217              -71.062607   \n317                 Chinatown              42.352217              -71.062607   \n319                 Chinatown              42.352217              -71.062607   \n327                 Chinatown              42.352217              -71.062607   \n331                 Chinatown              42.352217              -71.062607   \n333                 Chinatown              42.352217              -71.062607   \n343                 North End              42.365097              -71.054495   \n346                 North End              42.365097              -71.054495   \n350                 North End              42.365097              -71.054495   \n352                 North End              42.365097              -71.054495   \n353                 North End              42.365097              -71.054495   \n354                 North End              42.365097              -71.054495   \n355                 North End              42.365097              -71.054495   \n356                 North End              42.365097              -71.054495   \n357                 North End              42.365097              -71.054495   \n358                 North End              42.365097              -71.054495   \n359                 North End              42.365097              -71.054495   \n362                 North End              42.365097              -71.054495   \n363                 North End              42.365097              -71.054495   \n366                 North End              42.365097              -71.054495   \n370                 North End              42.365097              -71.054495   \n372                 North End              42.365097              -71.054495   \n375                 North End              42.365097              -71.054495   \n376                 North End              42.365097              -71.054495   \n377                 North End              42.365097              -71.054495   \n379                 North End              42.365097              -71.054495   \n383                 North End              42.365097              -71.054495   \n385                 North End              42.365097              -71.054495   \n386                 North End              42.365097              -71.054495   \n387                 North End              42.365097              -71.054495   \n389                 North End              42.365097              -71.054495   \n394                 North End              42.365097              -71.054495   \n395                 North End              42.365097              -71.054495   \n400                 North End              42.365097              -71.054495   \n402                 North End              42.365097              -71.054495   \n403                 North End              42.365097              -71.054495   \n405                 North End              42.365097              -71.054495   \n414                 North End              42.365097              -71.054495   \n415                 North End              42.365097              -71.054495   \n434                 South End              42.341310              -71.077230   \n441                 South End              42.341310              -71.077230   \n442                 South End              42.341310              -71.077230   \n444                 South End              42.341310              -71.077230   \n447                 South End              42.341310              -71.077230   \n448                 South End              42.341310              -71.077230   \n452                 South End              42.341310              -71.077230   \n455                 South End              42.341310              -71.077230   \n456                 South End              42.341310              -71.077230   \n461                 South End              42.341310              -71.077230   \n466                 South End              42.341310              -71.077230   \n467                 South End              42.341310              -71.077230   \n472                 South End              42.341310              -71.077230   \n475                 South End              42.341310              -71.077230   \n476                 South End              42.341310              -71.077230   \n478                  Back Bay              42.350549              -71.080311   \n487                  Back Bay              42.350549              -71.080311   \n488                  Back Bay              42.350549              -71.080311   \n493                  Back Bay              42.350549              -71.080311   \n495                  Back Bay              42.350549              -71.080311   \n500                  Back Bay              42.350549              -71.080311   \n502                  Back Bay              42.350549              -71.080311   \n503                  Back Bay              42.350549              -71.080311   \n508                  Back Bay              42.350549              -71.080311   \n511                  Back Bay              42.350549              -71.080311   \n512                  Back Bay              42.350549              -71.080311   \n513                  Back Bay              42.350549              -71.080311   \n520                  Back Bay              42.350549              -71.080311   \n521                  Back Bay              42.350549              -71.080311   \n522                  Back Bay              42.350549              -71.080311   \n523                  Back Bay              42.350549              -71.080311   \n525                  Back Bay              42.350549              -71.080311   \n526                  Back Bay              42.350549              -71.080311   \n527                  Back Bay              42.350549              -71.080311   \n528                  Back Bay              42.350549              -71.080311   \n529                  Back Bay              42.350549              -71.080311   \n531                  Back Bay              42.350549              -71.080311   \n535                  Back Bay              42.350549              -71.080311   \n538                  Back Bay              42.350549              -71.080311   \n552                  Back Bay              42.350549              -71.080311   \n557                  Back Bay              42.350549              -71.080311   \n562                  Back Bay              42.350549              -71.080311   \n566                  Back Bay              42.350549              -71.080311   \n568                  Back Bay              42.350549              -71.080311   \n572                  Back Bay              42.350549              -71.080311   \n578               East Boston              42.375097              -71.039217   \n580               East Boston              42.375097              -71.039217   \n585               East Boston              42.375097              -71.039217   \n586               East Boston              42.375097              -71.039217   \n588               East Boston              42.375097              -71.039217   \n597               East Boston              42.375097              -71.039217   \n601               East Boston              42.375097              -71.039217   \n603               East Boston              42.375097              -71.039217   \n605               East Boston              42.375097              -71.039217   \n606               East Boston              42.375097              -71.039217   \n609               East Boston              42.375097              -71.039217   \n618               Charlestown              42.377875              -71.061996   \n626               Charlestown              42.377875              -71.061996   \n637               Charlestown              42.377875              -71.061996   \n651                  West End              42.363919              -71.063899   \n652                  West End              42.363919              -71.063899   \n654                  West End              42.363919              -71.063899   \n660                  West End              42.363919              -71.063899   \n667                  West End              42.363919              -71.063899   \n669                  West End              42.363919              -71.063899   \n672                  West End              42.363919              -71.063899   \n673                  West End              42.363919              -71.063899   \n676                  West End              42.363919              -71.063899   \n686                  West End              42.363919              -71.063899   \n688                  West End              42.363919              -71.063899   \n695                  West End              42.363919              -71.063899   \n706                  West End              42.363919              -71.063899   \n724                  West End              42.363919              -71.063899   \n745               Beacon Hill              42.358708              -71.067829   \n748               Beacon Hill              42.358708              -71.067829   \n752               Beacon Hill              42.358708              -71.067829   \n758               Beacon Hill              42.358708              -71.067829   \n761               Beacon Hill              42.358708              -71.067829   \n762               Beacon Hill              42.358708              -71.067829   \n763               Beacon Hill              42.358708              -71.067829   \n764               Beacon Hill              42.358708              -71.067829   \n766               Beacon Hill              42.358708              -71.067829   \n768               Beacon Hill              42.358708              -71.067829   \n773               Beacon Hill              42.358708              -71.067829   \n775               Beacon Hill              42.358708              -71.067829   \n806                  Downtown              42.263069              -71.802002   \n807                  Downtown              42.263069              -71.802002   \n808                  Downtown              42.263069              -71.802002   \n815                    Fenway              42.345187              -71.104599   \n817                    Fenway              42.345187              -71.104599   \n820                    Fenway              42.345187              -71.104599   \n821                    Fenway              42.345187              -71.104599   \n824                    Fenway              42.345187              -71.104599   \n826                    Fenway              42.345187              -71.104599   \n827                    Fenway              42.345187              -71.104599   \n831                    Fenway              42.345187              -71.104599   \n832                    Fenway              42.345187              -71.104599   \n837                    Fenway              42.345187              -71.104599   \n839                    Fenway              42.345187              -71.104599   \n845                    Fenway              42.345187              -71.104599   \n849                    Fenway              42.345187              -71.104599   \n850                    Fenway              42.345187              -71.104599   \n858                  Brighton              42.350097              -71.156442   \n860                  Brighton              42.350097              -71.156442   \n879                  Brighton              42.350097              -71.156442   \n881                  Brighton              42.350097              -71.156442   \n882                  Brighton              42.350097              -71.156442   \n883                  Brighton              42.350097              -71.156442   \n891                  Brighton              42.350097              -71.156442   \n903                 Hyde Park              42.255654              -71.124496   \n904                 Hyde Park              42.255654              -71.124496   \n914                 Hyde Park              42.255654              -71.124496   \n918                  Mattapan              42.267566              -71.092427   \n921                  Mattapan              42.267566              -71.092427   \n923                  Mattapan              42.267566              -71.092427   \n929                Dorchester              42.297320              -71.074495   \n936                Dorchester              42.297320              -71.074495   \n940   South Boston Waterfront              42.333431              -71.049495   \n941   South Boston Waterfront              42.333431              -71.049495   \n942   South Boston Waterfront              42.333431              -71.049495   \n944   South Boston Waterfront              42.333431              -71.049495   \n949   South Boston Waterfront              42.333431              -71.049495   \n964   South Boston Waterfront              42.333431              -71.049495   \n979              South Boston              42.333431              -71.049495   \n980              South Boston              42.333431              -71.049495   \n981              South Boston              42.333431              -71.049495   \n983              South Boston              42.333431              -71.049495   \n988              South Boston              42.333431              -71.049495   \n1003             South Boston              42.333431              -71.049495   \n1018                  Allston              42.355434              -71.132127   \n1019                  Allston              42.355434              -71.132127   \n1020                  Allston              42.355434              -71.132127   \n1021                  Allston              42.355434              -71.132127   \n1024                  Allston              42.355434              -71.132127   \n1025                  Allston              42.355434              -71.132127   \n1026                  Allston              42.355434              -71.132127   \n1028                  Allston              42.355434              -71.132127   \n1030                  Allston              42.355434              -71.132127   \n1031                  Allston              42.355434              -71.132127   \n1032                  Allston              42.355434              -71.132127   \n1033                  Allston              42.355434              -71.132127   \n1037                  Allston              42.355434              -71.132127   \n1038                  Allston              42.355434              -71.132127   \n1039                  Allston              42.355434              -71.132127   \n1041                  Allston              42.355434              -71.132127   \n1049                  Allston              42.355434              -71.132127   \n1050                  Allston              42.355434              -71.132127   \n1054                  Allston              42.355434              -71.132127   \n1055                  Allston              42.355434              -71.132127   \n1056                  Allston              42.355434              -71.132127   \n1059                  Allston              42.355434              -71.132127   \n1060                  Allston              42.355434              -71.132127   \n1061                  Allston              42.355434              -71.132127   \n1066                  Allston              42.355434              -71.132127   \n1067                  Allston              42.355434              -71.132127   \n1073                  Allston              42.355434              -71.132127   \n1074                  Allston              42.355434              -71.132127   \n1077                  Allston              42.355434              -71.132127   \n1079                  Allston              42.355434              -71.132127   \n1081                  Allston              42.355434              -71.132127   \n1084                  Allston              42.355434              -71.132127   \n1096                  Allston              42.355434              -71.132127   \n2                  Roslindale              42.291209              -71.124497   \n20              Jamaica Plain              42.309820              -71.120330   \n29               Mission Hill              42.332560              -71.103608   \n40               Mission Hill              42.332560              -71.103608   \n200          Leather District              42.352322              -71.057343   \n288                 Chinatown              42.352217              -71.062607   \n301                 Chinatown              42.352217              -71.062607   \n330                 Chinatown              42.352217              -71.062607   \n335                 North End              42.365097              -71.054495   \n339                 North End              42.365097              -71.054495   \n341                 North End              42.365097              -71.054495   \n368                 North End              42.365097              -71.054495   \n374                 North End              42.365097              -71.054495   \n393                 North End              42.365097              -71.054495   \n433                   Roxbury              42.324843              -71.095016   \n519                  Back Bay              42.350549              -71.080311   \n584               East Boston              42.375097              -71.039217   \n591               East Boston              42.375097              -71.039217   \n624               Charlestown              42.377875              -71.061996   \n625               Charlestown              42.377875              -71.061996   \n632               Charlestown              42.377875              -71.061996   \n642               Charlestown              42.377875              -71.061996   \n696                  West End              42.363919              -71.063899   \n697                  West End              42.363919              -71.063899   \n702                  West End              42.363919              -71.063899   \n715                  West End              42.363919              -71.063899   \n727                  West End              42.363919              -71.063899   \n741               Beacon Hill              42.358708              -71.067829   \n750               Beacon Hill              42.358708              -71.067829   \n757               Beacon Hill              42.358708              -71.067829   \n789                  Downtown              42.263069              -71.802002   \n859                  Brighton              42.350097              -71.156442   \n871                  Brighton              42.350097              -71.156442   \n875                  Brighton              42.350097              -71.156442   \n905                 Hyde Park              42.255654              -71.124496   \n915                 Hyde Park              42.255654              -71.124496   \n935                Dorchester              42.297320              -71.074495   \n961   South Boston Waterfront              42.333431              -71.049495   \n963   South Boston Waterfront              42.333431              -71.049495   \n965   South Boston Waterfront              42.333431              -71.049495   \n968   South Boston Waterfront              42.333431              -71.049495   \n971   South Boston Waterfront              42.333431              -71.049495   \n1000             South Boston              42.333431              -71.049495   \n1002             South Boston              42.333431              -71.049495   \n1004             South Boston              42.333431              -71.049495   \n1007             South Boston              42.333431              -71.049495   \n1010             South Boston              42.333431              -71.049495   \n1040                  Allston              42.355434              -71.132127   \n1064                  Allston              42.355434              -71.132127   \n1080                  Allston              42.355434              -71.132127   \n114               Bay Village              42.350011              -71.066948   \n142          Leather District              42.352322              -71.057343   \n174          Leather District              42.352322              -71.057343   \n178          Leather District              42.352322              -71.057343   \n187          Leather District              42.352322              -71.057343   \n205          Leather District              42.352322              -71.057343   \n230          Leather District              42.352322              -71.057343   \n238                 Chinatown              42.352217              -71.062607   \n253                 Chinatown              42.352217              -71.062607   \n292                 Chinatown              42.352217              -71.062607   \n324                 Chinatown              42.352217              -71.062607   \n398                 North End              42.365097              -71.054495   \n425                   Roxbury              42.324843              -71.095016   \n432                   Roxbury              42.324843              -71.095016   \n443                 South End              42.341310              -71.077230   \n477                 South End              42.341310              -71.077230   \n524                  Back Bay              42.350549              -71.080311   \n541                  Back Bay              42.350549              -71.080311   \n543                  Back Bay              42.350549              -71.080311   \n563                  Back Bay              42.350549              -71.080311   \n663                  West End              42.363919              -71.063899   \n677                  West End              42.363919              -71.063899   \n679                  West End              42.363919              -71.063899   \n689                  West End              42.363919              -71.063899   \n737                  West End              42.363919              -71.063899   \n798                  Downtown              42.263069              -71.802002   \n842                    Fenway              42.345187              -71.104599   \n864                  Brighton              42.350097              -71.156442   \n902                 Hyde Park              42.255654              -71.124496   \n934                Dorchester              42.297320              -71.074495   \n1048                  Allston              42.355434              -71.132127   \n27              Jamaica Plain              42.309820              -71.120330   \n28               Mission Hill              42.332560              -71.103608   \n47                   Longwood              42.341533              -71.110155   \n74                   Longwood              42.341533              -71.110155   \n87                Bay Village              42.350011              -71.066948   \n112               Bay Village              42.350011              -71.066948   \n184          Leather District              42.352322              -71.057343   \n277                 Chinatown              42.352217              -71.062607   \n326                 Chinatown              42.352217              -71.062607   \n364                 North End              42.365097              -71.054495   \n378                 North End              42.365097              -71.054495   \n381                 North End              42.365097              -71.054495   \n384                 North End              42.365097              -71.054495   \n423                 North End              42.365097              -71.054495   \n429                   Roxbury              42.324843              -71.095016   \n459                 South End              42.341310              -71.077230   \n474                 South End              42.341310              -71.077230   \n480                  Back Bay              42.350549              -71.080311   \n607               East Boston              42.375097              -71.039217   \n613               Charlestown              42.377875              -71.061996   \n643               Charlestown              42.377875              -71.061996   \n658                  West End              42.363919              -71.063899   \n759               Beacon Hill              42.358708              -71.067829   \n785                  Downtown              42.263069              -71.802002   \n894                  Brighton              42.350097              -71.156442   \n945   South Boston Waterfront              42.333431              -71.049495   \n972   South Boston Waterfront              42.333431              -71.049495   \n984              South Boston              42.333431              -71.049495   \n1011             South Boston              42.333431              -71.049495   \n\n                                         Venue  Venue Latitude  \\\n0                              Guira Y Tambora       42.291845   \n9                                      Vee Vee       42.310210   \n23                             JP Seafood Cafe       42.310894   \n32               Lilly's Gourmet Pasta Express       42.332445   \n34                          Laughing Monk Cafe       42.334077   \n36                                    Milkweed       42.332168   \n37                         Mission Bar & Grill       42.333925   \n41                                Mama's Place       42.333391   \n43                         Mission Sushi & Wok       42.333834   \n44                        Flames Restaurant II       42.333661   \n48                                  Clover LMA       42.339123   \n49                                      B.GOOD       42.338967   \n52                         Sami's Wrap n' Roll       42.338428   \n55                                       Sepal       42.338194   \n61                     Longwood Grille and Bar       42.338135   \n63                               Sushi Express       42.345846   \n75                                  McDonald's       42.338286   \n76                              Farr Cafeteria       42.338694   \n83                                       Ostra       42.351060   \n84                     Maggiano's Little Italy       42.350966   \n94                              Bistro du Midi       42.352249   \n96                            Maria's Taqueria       42.351254   \n97                                Shaking Crab       42.352291   \n113                               Q Restaurant       42.351707   \n122                                Double Chin       42.350739   \n125                          FiRE + iCE Boston       42.350578   \n127                                  by CHLOE.       42.351651   \n129     163 Vietnamese Sandwiches & Bubble Tea       42.351328   \n130                           Hong Kong Eatery       42.350981   \n134                                        Blu       42.353267   \n137                        Clover Food Lab FIN       42.353715   \n141                                       O Ya       42.351502   \n143                           Troquet On South       42.351162   \n144                                 Stillwater       42.352281   \n145                                  Shabu Zen       42.350922   \n147                                Taiwan Cafe       42.351391   \n151                                 Peach Farm       42.351237   \n152                                      Shojo       42.351028   \n155                        Gourmet China House       42.351345   \n156                     Gourmet Dumpling House       42.351380   \n157                    Crave - Mad for Chicken       42.350378   \n160                                Hei La Moon       42.351067   \n163                                       Tora       42.350782   \n173                        Winsor Dim Sum Cafe       42.351030   \n175                                Double Chin       42.350739   \n176     163 Vietnamese Sandwiches & Bubble Tea       42.351328   \n182               New Jumbo Seafood Restaurant       42.350902   \n186                               Q Restaurant       42.351707   \n189                                       ruka       42.354503   \n190                                Avana Sushi       42.351509   \n194                                Hot Eastern       42.351516   \n198                           Hong Kong Eatery       42.350981   \n203                     Irashai Sushi Teriyaki       42.350929   \n208                         Wai Wai Restaurant       42.351588   \n209                             Legal Crossing       42.353593   \n215                         My Thai Vegan Cafe       42.351571   \n216                     China Pearl Restaurant       42.351112   \n217                             Hot Pot Buffet       42.351289   \n220                                 China King       42.351336   \n221                              Dumpling Cafe       42.351260   \n222                             5 Spices House       42.351331   \n224                             Wing's Kitchen       42.350574   \n225                  Democracy Brewing Company       42.355073   \n228                        New Saigon Sandwich       42.351048   \n229                              Dumpling King       42.351540   \n235                                  Shabu Zen       42.350922   \n243                                      Shojo       42.351028   \n246                               Q Restaurant       42.351707   \n249                                 Peach Farm       42.351237   \n250                                     Teatro       42.353026   \n252                                Taiwan Cafe       42.351391   \n254                        Gourmet China House       42.351345   \n255                    Crave - Mad for Chicken       42.350378   \n256                     Gourmet Dumpling House       42.351380   \n257                                Double Chin       42.350739   \n258                                       Tora       42.350782   \n261                           Maria's Taqueria       42.351254   \n264                     Irashai Sushi Teriyaki       42.350929   \n267     163 Vietnamese Sandwiches & Bubble Tea       42.351328   \n270                                 Stillwater       42.352281   \n272                                       ruka       42.354503   \n275                                      Ostra       42.351060   \n276              Gene's Chinese Flatbread Cafe       42.353332   \n278                                   Yvonne's       42.355664   \n279                             Legal Crossing       42.353593   \n281                        Winsor Dim Sum Cafe       42.351030   \n283                               Shaking Crab       42.352291   \n284                         My Thai Vegan Cafe       42.351571   \n285              The Chicken & Rice Guys Store       42.353360   \n286                              Dumpling Cafe       42.351260   \n289                           Hong Kong Eatery       42.350981   \n291                                Avana Sushi       42.351509   \n297                                   Genki Ya       42.351106   \n299                        New Saigon Sandwich       42.351048   \n303                                Hot Eastern       42.351516   \n317                           Troquet On South       42.351162   \n319                   Abby Lane Food & Spirits       42.350503   \n327               New Jumbo Seafood Restaurant       42.350902   \n331                  Democracy Brewing Company       42.355073   \n333                                       O Ya       42.351502   \n343                        Trattoria Il Panino       42.363836   \n346                                Carmelina's       42.364027   \n350                                Mamma Maria       42.364062   \n352                                 Limoncello       42.363353   \n353                          Strega Ristorante       42.364984   \n354                            The Daily Catch       42.364158   \n355                             Neptune Oyster       42.363237   \n356                                     Prezza       42.364605   \n357                                  Giacomo's       42.364683   \n358                        North Square Oyster       42.363978   \n359                                       Aria       42.363286   \n362                                   Al Dente       42.364169   \n363                                    Quattro       42.363656   \n366                                     Bricco       42.363225   \n370                           Cantina Italiana       42.364944   \n372                      La Famiglia Giorgio's       42.364561   \n375                        North Street Grille       42.363564   \n376                                       Mare       42.362857   \n377                                     Tenoch       42.363364   \n379                                      Parla       42.363135   \n383                                      Lucca       42.363059   \n385                                     Tresca       42.363028   \n386                         Vinoteca di Monica       42.363370   \n387                            Florentine Cafe       42.364399   \n389                            Villa Francesca       42.363480   \n394                Massimino's Cucina Italiana       42.366495   \n395                                 Red's Best       42.361960   \n400                              Mother Anna's       42.362523   \n402                           Boston Sail Loft       42.362543   \n403                            Osteria Rustico       42.364397   \n405                            Saus Restaurant       42.361076   \n414                         Union Oyster House       42.361371   \n415                          Kala Thai Cookery       42.361928   \n434                        Petit Robert Bistro       42.343020   \n441                                  El Centro       42.338754   \n442                            Orinoco Kitchen       42.338803   \n444                                  Giacomo's       42.343952   \n447                                        SRV       42.340871   \n448                         Five Horses Tavern       42.341727   \n452                                 Vejigantes       42.342105   \n455                                anoush\u2019ella       42.338869   \n456                                       Mida       42.339294   \n461                                      Ilona       42.339308   \n466                            Toro Restaurant       42.336988   \n467                    Seiyo Sushi & Wine Shop       42.336972   \n472                                       Mela       42.343477   \n475                              House of Siam       42.343157   \n476                                 Black Lamb       42.343671   \n478                                     Gre.Co       42.349920   \n487                      Atlantic Fish Company       42.349014   \n488                    Saltie Girl Seafood Bar       42.351111   \n493                       Buttermilk & Bourbon       42.351592   \n495                Lolita Cocina & Tequila Bar       42.350563   \n500                             Luke's Lobster       42.348805   \n502                                  Sorellina       42.348718   \n503                                   La Voile       42.349509   \n508                               Puro Ceviche       42.349355   \n511                 Joe's American Bar & Grill       42.350368   \n512                     OAK Long Bar + Kitchen       42.349276   \n513                                    Dig Inn       42.350714   \n520                        Earls Kitchen + Bar       42.347656   \n521                         Piattini Wine Cafe       42.349857   \n522                        La Pizza & La Pasta       42.347787   \n523                                       CAVA       42.349970   \n525                                      Krasi       42.348696   \n526                               MET Back Bay       42.350974   \n527                          SELECT Oyster Bar       42.348526   \n528                                      Porto       42.348286   \n529                               Fogo De Ch\u00e3o       42.348617   \n531                       Beantown Pho & Grill       42.349254   \n535                     Stephanie's On Newbury       42.350282   \n538                      Thai Basil Restaurant       42.351117   \n552                                      Terra       42.347748   \n557                                   wagamama       42.347627   \n562                  Kashmir Indian Restaurant       42.349252   \n566                             Santouka Ramen       42.348496   \n568                                Casa Romero       42.349420   \n572                        La Piazza at Eataly       42.347749   \n578                                La Hacienda       42.373965   \n580                       Restaurante El Pe\u00f1ol       42.375676   \n585                                 McDonald's       42.374450   \n586                          Saigon Restaurant       42.377233   \n588                                 D'Amelio's       42.374372   \n597                     Mi Pueblito Restaurant       42.379043   \n601                          Craft Table & Bar       42.373035   \n603                             Tertulias Cafe       42.374580   \n605                            Pazza on Porter       42.372921   \n606                              Canton Eatery       42.378438   \n609                             Barney's Grill       42.376739   \n618                                 Sweet Rice       42.375896   \n626                                 Tangierino       42.373950   \n637                     Ninety Nine Restaurant       42.376034   \n651                           The Tip Tap Room       42.361153   \n652                        Qdoba Mexican Grill       42.364872   \n654                            Osteria Rustico       42.364397   \n660                     Bishop's Mediterranean       42.363129   \n667                                     Grotto       42.359915   \n669                                  Ma Maison       42.361095   \n672                            Anna's Taqueria       42.361187   \n673                                     Alcove       42.367270   \n676                                      Seoul       42.360981   \n686                  Antonio's Cucina Italiana       42.361152   \n688                   Pierrot Bistrot Francais       42.361123   \n695                        Fin's Sushi & Grill       42.361270   \n706                             New Sushi, Inc       42.361182   \n724                                      Finch       42.363906   \n745                         Toscano Restaurant       42.357360   \n748                                  Ma Maison       42.361095   \n752                                 Hulun Beir       42.360934   \n758                            Anna's Taqueria       42.361187   \n761                                75 Chestnut       42.356805   \n762                                 No. 9 Park       42.357540   \n763                                     Grotto       42.359915   \n764                           The Tip Tap Room       42.361153   \n766                Scampo at The Liberty Hotel       42.361937   \n768                       Union Club of Boston       42.357411   \n773             Zen Japanese Grill & Sushi Bar       42.358020   \n775                                      Seoul       42.360981   \n806                                      Oishi       42.261536   \n807                                 Shangri-La       42.258664   \n808                                  110 Grill       42.262051   \n815                      Gyu-Kaku Japanese BBQ       42.346322   \n817                               Cafe Landwer       42.346659   \n820                            Taberna de Haro       42.345824   \n821                                Futago Udon       42.347624   \n824                             Audubon Boston       42.347359   \n826                                 Sol Azteca       42.346466   \n827                                    Mei Mei       42.347481   \n831                     Chipotle Mexican Grill       42.344657   \n832                                 Yard House       42.345118   \n837                             Saloniki Greek       42.344833   \n839                                       Cava       42.343972   \n845                   Thornton's Fenway Grille       42.343063   \n849                                   Eventide       42.344411   \n850                                  Rod Dee 2       42.343167   \n858                              Esperia Grill       42.349016   \n860                        Devlin's Restaurant       42.348928   \n879                                Dragon Chef       42.349218   \n881                                MDM Noodles       42.349154   \n882                             Bangkok Bistro       42.349214   \n883                                      Asahi       42.349267   \n891                               Happy Garden       42.348930   \n903             River Grille Restaurant & Cafe       42.255948   \n904                           Fairmount Grille       42.254637   \n914                           Antonio's Bacaro       42.255763   \n918                 Brothers Deli & Restaurant       42.268276   \n921          Golden Krust Caribbean Restaurant       42.268841   \n923                                Burger King       42.268216   \n929                         Down Home Delivery       42.299496   \n936                  Oasis Vegan Veggie Parlor       42.299572   \n940                                       Capo       42.336070   \n941                  Alfredo's Italian Kitchen       42.332819   \n942                Lincoln Tavern & Restaurant       42.336406   \n944                 Loco Taqueria & Oyster Bar       42.336999   \n949                                   Fat Baby       42.335147   \n964                             The New Ho Toy       42.332775   \n979                                       Capo       42.336070   \n980                  Alfredo's Italian Kitchen       42.332819   \n981                Lincoln Tavern & Restaurant       42.336406   \n983                 Loco Taqueria & Oyster Bar       42.336999   \n988                                   Fat Baby       42.335147   \n1003                            The New Ho Toy       42.332775   \n1018                            Lulu's Allston       42.355068   \n1019                           Kaju Tofu House       42.354329   \n1020                               Azama Grill       42.354422   \n1021                     Fish Market Sushi Bar       42.353039   \n1024                        Myung Dong 1st Ave       42.353383   \n1025                                  Coreanos       42.353042   \n1026                           Mala Restaurant       42.352960   \n1028                                Thai Place       42.353185   \n1030                   Carlo's Cucina Italiana       42.353026   \n1031                                 Shabu Zen       42.352678   \n1032                             Punjab Palace       42.352839   \n1033                                    Bazaar       42.354782   \n1037                    Habanero Mexican Grill       42.352998   \n1038                          Garlic 'n Lemons       42.352163   \n1039                    Whole Heart Provisions       42.353745   \n1041                               Dolphin Bay       42.352553   \n1049                                  Asia Wok       42.354576   \n1050                              Jo Jo TaiPei       42.352788   \n1054                          Dumpling Kingdom       42.352077   \n1055                                    A@time       42.354939   \n1056                Le's Vietnamese Restaurant       42.353022   \n1059                             Korean Garden       42.352325   \n1060                         Amelia's Taqueria       42.353049   \n1061                        Buk Kyung II (BK2)       42.353016   \n1066                   YoMa Burmese Restaurant       42.353669   \n1067                                S & I Thai       42.353013   \n1073                                  SAKANAYA       42.352504   \n1074                            Blue Asia Cafe       42.352913   \n1077                        Hanmaru Restaurant       42.351381   \n1079                      Taqueria El Carrizal       42.353287   \n1081                                 Alfredo's       42.353478   \n1084                               Grasshopper       42.353758   \n1096                               Burger King       42.353034   \n2                    Roslindale House Of Pizza       42.287989   \n20                           JP House of Pizza       42.309898   \n29                               Penguin Pizza       42.334022   \n40                       Crispy Dough Pizzeria       42.332252   \n200                 Oath Pizza - South Station       42.351512   \n288                                Blaze Pizza       42.351041   \n301                                Sal's Pizza       42.354890   \n330                       Boston Kitchen Pizza       42.350902   \n335                            Regina Pizzeria       42.365394   \n339                                     Locale       42.365055   \n341                           Galleria Umberto       42.363874   \n368                            Ernesto's Pizza       42.363370   \n374                           Monica's Mercato       42.365095   \n393                      Ducali Pizzeria & Bar       42.367086   \n433                                Ugi's Pizza       42.326569   \n519                  Dirty Water Dough Company       42.349957   \n584                          Santarpio's Pizza       42.372816   \n591                          Dough East Boston       42.371602   \n624                                       Figs       42.373588   \n625                       Jenny's Pizza & Subs       42.381289   \n632                             Domino's Pizza       42.377501   \n642                            Kipo's Pizzeria       42.377443   \n696                  Papa's Roast Beef & Pizza       42.364579   \n697                             Halftime Pizza       42.365194   \n702                         All Star Pizza Bar       42.361176   \n715                           Felcaro Pizzeria       42.361177   \n727                        Crazy Dough's Pizza       42.366316   \n741                                       Figs       42.357255   \n750                   The Upper Crust Pizzeria       42.356652   \n757                                    Florina       42.359375   \n789                               Woosta Pizza       42.263812   \n859                          Little Pizza King       42.349211   \n871                             Imperial Pizza       42.349114   \n875                             Domino's Pizza       42.348732   \n905                                Papa Gino's       42.255657   \n915                            Tony's Pizzeria       42.255726   \n935                         Four Corners Pizza       42.299380   \n961                             Domino's Pizza       42.334135   \n963                              Land Of Pizza       42.336151   \n965                     Supreme house of pizza       42.329688   \n968                           McGoo's Pizzeria       42.335466   \n971                         Three Clover Pizza       42.336911   \n1000                            Domino's Pizza       42.334135   \n1002                             Land Of Pizza       42.336151   \n1004                    Supreme house of pizza       42.329688   \n1007                          McGoo's Pizzeria       42.335466   \n1010                        Three Clover Pizza       42.336911   \n1040                            Domino's Pizza       42.354546   \n1064                           Regina Pizzeria       42.356111   \n1080                            La Mamma Pizza       42.353124   \n114                 Equinox Sports Club Boston       42.353189   \n142                           Barry's Bootcamp       42.354010   \n174                 Equinox Sports Club Boston       42.353189   \n178                          Stay Fit at Hyatt       42.353963   \n187                    Equinox Franklin Street       42.356074   \n205                        Boston Sports Clubs       42.355994   \n230                        Boston Sports Clubs       42.351687   \n238                 Equinox Sports Club Boston       42.353189   \n253                           Barry's Bootcamp       42.354010   \n292                          Stay Fit at Hyatt       42.353963   \n324        Planet Fitness - Temporarily Closed       42.355868   \n398      Beacon Hill Athletic Club (North End)       42.362404   \n425                       Crossfit On The Hill       42.328008   \n432                            Crossfit Boston       42.327902   \n443                             Recycle Studio       42.342183   \n477                                     barre3       42.339950   \n524                   Flywheel Sports - Boston       42.347510   \n541                 Healthworks Fitness Center       42.348557   \n543                             The Bar Method       42.351720   \n563                           Barry's Bootcamp       42.348294   \n663            The Clubs at Charles River Park       42.365985   \n677                         Boston Sports Club       42.361580   \n679                  Beacon Hill Athletic Club       42.365164   \n689                                      ZONE5       42.361044   \n737                                  Row House       42.367165   \n798                          Worcester Fitness       42.264091   \n842                            CrossFit Fenway       42.346143   \n864                       Orangetheory Fitness       42.350453   \n902                             Hyde Park YMCA       42.257152   \n934                      Healthworks at Codman       42.296106   \n1048                Wai Kru Mixed Martial Arts       42.353403   \n27                                 Linden Path       42.305793   \n28                     Kevin W Fitzgerald Park       42.332031   \n47                                    Riverway       42.340129   \n74                               Longwood Mall       42.343092   \n87                          Elliot Norton Park       42.349124   \n112                          Commonwealth Park       42.352752   \n184                         Post Office Square       42.356340   \n277                              Boston Common       42.355487   \n326                         Elliot Norton Park       42.349124   \n364                           Paul Revere Mall       42.365863   \n378   The Rose Kennedy Greenway - Mothers Walk       42.362640   \n381                             North End Park       42.362488   \n384                        Copp's Hill Terrace       42.367717   \n423                     Armenian Heritage Park       42.360796   \n429                              Highland Park       42.325877   \n459                         Titus Sparrow Park       42.343614   \n474                       Franklin Square Park       42.338979   \n480                   Commonwealth Avenue Mall       42.351887   \n607                    Umana Barnes Skate Park       42.378391   \n613                Top Of Bunker Hill Monument       42.376420   \n643                              Reader's Park       42.376952   \n658                        Zakim Overlook Park       42.365712   \n759                              Boston Common       42.355487   \n785                          Worcester Commons       42.261970   \n894                       Brighton Square Park       42.348339   \n945                                Thomas Park       42.332693   \n972                       Viens Memorial Field       42.330450   \n984                                Thomas Park       42.332693   \n1011                      Viens Memorial Field       42.330450   \n\n      Venue Longitude Venue Category  \n0          -71.122254     Restaurant  \n9          -71.115143     Restaurant  \n23         -71.114657     Restaurant  \n32         -71.100046     Restaurant  \n34         -71.105563     Restaurant  \n36         -71.099424     Restaurant  \n37         -71.105127     Restaurant  \n41         -71.106357     Restaurant  \n43         -71.103637     Restaurant  \n44         -71.105541     Restaurant  \n48         -71.107756     Restaurant  \n49         -71.107560     Restaurant  \n52         -71.106850     Restaurant  \n55         -71.106864     Restaurant  \n61         -71.106852     Restaurant  \n63         -71.108541     Restaurant  \n75         -71.106846     Restaurant  \n76         -71.110395     Restaurant  \n83         -71.066976     Restaurant  \n84         -71.068695     Restaurant  \n94         -71.069634     Restaurant  \n96         -71.064782     Restaurant  \n97         -71.066204     Restaurant  \n113        -71.062715     Restaurant  \n122        -71.061523     Restaurant  \n125        -71.072644     Restaurant  \n127        -71.072351     Restaurant  \n129        -71.061232     Restaurant  \n130        -71.061497     Restaurant  \n134        -71.062918     Restaurant  \n137        -71.056216     Restaurant  \n141        -71.056763     Restaurant  \n143        -71.057679     Restaurant  \n144        -71.059098     Restaurant  \n145        -71.060942     Restaurant  \n147        -71.060359     Restaurant  \n151        -71.060597     Restaurant  \n152        -71.060736     Restaurant  \n155        -71.060673     Restaurant  \n156        -71.060723     Restaurant  \n157        -71.060786     Restaurant  \n160        -71.058651     Restaurant  \n163        -71.060916     Restaurant  \n173        -71.060544     Restaurant  \n175        -71.061523     Restaurant  \n176        -71.061232     Restaurant  \n182        -71.059895     Restaurant  \n186        -71.062715     Restaurant  \n189        -71.061775     Restaurant  \n190        -71.061158     Restaurant  \n194        -71.061154     Restaurant  \n198        -71.061497     Restaurant  \n203        -71.062597     Restaurant  \n208        -71.060342     Restaurant  \n209        -71.062271     Restaurant  \n215        -71.062717     Restaurant  \n216        -71.060799     Restaurant  \n217        -71.059783     Restaurant  \n220        -71.060385     Restaurant  \n221        -71.062994     Restaurant  \n222        -71.060457     Restaurant  \n224        -71.060293     Restaurant  \n225        -71.062135     Restaurant  \n228        -71.062958     Restaurant  \n229        -71.061120     Restaurant  \n235        -71.060942     Restaurant  \n243        -71.060736     Restaurant  \n246        -71.062715     Restaurant  \n249        -71.060597     Restaurant  \n250        -71.064371     Restaurant  \n252        -71.060359     Restaurant  \n254        -71.060673     Restaurant  \n255        -71.060786     Restaurant  \n256        -71.060723     Restaurant  \n257        -71.061523     Restaurant  \n258        -71.060916     Restaurant  \n261        -71.064782     Restaurant  \n264        -71.062597     Restaurant  \n267        -71.061232     Restaurant  \n270        -71.059098     Restaurant  \n272        -71.061775     Restaurant  \n275        -71.066976     Restaurant  \n276        -71.059379     Restaurant  \n278        -71.061466     Restaurant  \n279        -71.062271     Restaurant  \n281        -71.060544     Restaurant  \n283        -71.066204     Restaurant  \n284        -71.062717     Restaurant  \n285        -71.059611     Restaurant  \n286        -71.062994     Restaurant  \n289        -71.061497     Restaurant  \n291        -71.061158     Restaurant  \n297        -71.064821     Restaurant  \n299        -71.062958     Restaurant  \n303        -71.061154     Restaurant  \n317        -71.057679     Restaurant  \n319        -71.065137     Restaurant  \n327        -71.059895     Restaurant  \n331        -71.062135     Restaurant  \n333        -71.056763     Restaurant  \n343        -71.054500     Restaurant  \n346        -71.054293     Restaurant  \n350        -71.053475     Restaurant  \n352        -71.053827     Restaurant  \n353        -71.053266     Restaurant  \n354        -71.054150     Restaurant  \n355        -71.056139     Restaurant  \n356        -71.052808     Restaurant  \n357        -71.053579     Restaurant  \n358        -71.053516     Restaurant  \n359        -71.055002     Restaurant  \n362        -71.055559     Restaurant  \n363        -71.054700     Restaurant  \n366        -71.055069     Restaurant  \n370        -71.053350     Restaurant  \n372        -71.055584     Restaurant  \n375        -71.052592     Restaurant  \n376        -71.054979     Restaurant  \n377        -71.051804     Restaurant  \n379        -71.055160     Restaurant  \n383        -71.055239     Restaurant  \n385        -71.055267     Restaurant  \n386        -71.054381     Restaurant  \n387        -71.053831     Restaurant  \n389        -71.054479     Restaurant  \n394        -71.058133     Restaurant  \n395        -71.057587     Restaurant  \n400        -71.055644     Restaurant  \n402        -71.050872     Restaurant  \n403        -71.059870     Restaurant  \n405        -71.057054     Restaurant  \n414        -71.057152     Restaurant  \n415        -71.056763     Restaurant  \n434        -71.078749     Restaurant  \n441        -71.075926     Restaurant  \n442        -71.075982     Restaurant  \n444        -71.077646     Restaurant  \n447        -71.081622     Restaurant  \n448        -71.080562     Restaurant  \n452        -71.072997     Restaurant  \n455        -71.073843     Restaurant  \n456        -71.080481     Restaurant  \n461        -71.080733     Restaurant  \n466        -71.075924     Restaurant  \n467        -71.076376     Restaurant  \n472        -71.072566     Restaurant  \n475        -71.073138     Restaurant  \n476        -71.072619     Restaurant  \n478        -71.081633     Restaurant  \n487        -71.081096     Restaurant  \n488        -71.077811     Restaurant  \n493        -71.078452     Restaurant  \n495        -71.077544     Restaurant  \n500        -71.079185     Restaurant  \n502        -71.077984     Restaurant  \n503        -71.083195     Restaurant  \n508        -71.083212     Restaurant  \n511        -71.079741     Restaurant  \n512        -71.076816     Restaurant  \n513        -71.076201     Restaurant  \n520        -71.082018     Restaurant  \n521        -71.081315     Restaurant  \n522        -71.082444     Restaurant  \n523        -71.078851     Restaurant  \n525        -71.083947     Restaurant  \n526        -71.077568     Restaurant  \n527        -71.083931     Restaurant  \n528        -71.080399     Restaurant  \n529        -71.077220     Restaurant  \n531        -71.083498     Restaurant  \n535        -71.079714     Restaurant  \n538        -71.076787     Restaurant  \n552        -71.082418     Restaurant  \n557        -71.081685     Restaurant  \n562        -71.083969     Restaurant  \n566        -71.085519     Restaurant  \n568        -71.084410     Restaurant  \n572        -71.082406     Restaurant  \n578        -71.039027     Restaurant  \n580        -71.036970     Restaurant  \n585        -71.040254     Restaurant  \n586        -71.039152     Restaurant  \n588        -71.037946     Restaurant  \n597        -71.039933     Restaurant  \n601        -71.036082     Restaurant  \n603        -71.037794     Restaurant  \n605        -71.036041     Restaurant  \n606        -71.039211     Restaurant  \n609        -71.033773     Restaurant  \n618        -71.064861     Restaurant  \n626        -71.062880     Restaurant  \n637        -71.065658     Restaurant  \n651        -71.063976     Restaurant  \n652        -71.061837     Restaurant  \n654        -71.059870     Restaurant  \n660        -71.063915     Restaurant  \n667        -71.062807     Restaurant  \n669        -71.067915     Restaurant  \n672        -71.067009     Restaurant  \n673        -71.060597     Restaurant  \n676        -71.064676     Restaurant  \n686        -71.068327     Restaurant  \n688        -71.067980     Restaurant  \n695        -71.066767     Restaurant  \n706        -71.063259     Restaurant  \n724        -71.062543     Restaurant  \n745        -71.070026     Restaurant  \n748        -71.067915     Restaurant  \n752        -71.068929     Restaurant  \n758        -71.067009     Restaurant  \n761        -71.070932     Restaurant  \n762        -71.063193     Restaurant  \n763        -71.062807     Restaurant  \n764        -71.063976     Restaurant  \n766        -71.070513     Restaurant  \n768        -71.062702     Restaurant  \n773        -71.062531     Restaurant  \n775        -71.064676     Restaurant  \n806        -71.802249     Restaurant  \n807        -71.802767     Restaurant  \n808        -71.798801     Restaurant  \n815        -71.106985     Restaurant  \n817        -71.105558     Restaurant  \n820        -71.106775     Restaurant  \n821        -71.105899     Restaurant  \n824        -71.103189     Restaurant  \n826        -71.106005     Restaurant  \n827        -71.105949     Restaurant  \n831        -71.100825     Restaurant  \n832        -71.100226     Restaurant  \n837        -71.100620     Restaurant  \n839        -71.099204     Restaurant  \n845        -71.099494     Restaurant  \n849        -71.098818     Restaurant  \n850        -71.099210     Restaurant  \n858        -71.152825     Restaurant  \n860        -71.152384     Restaurant  \n879        -71.155339     Restaurant  \n881        -71.152830     Restaurant  \n882        -71.156914     Restaurant  \n883        -71.153497     Restaurant  \n891        -71.153719     Restaurant  \n903        -71.123980     Restaurant  \n904        -71.120041     Restaurant  \n914        -71.120955     Restaurant  \n918        -71.093551     Restaurant  \n921        -71.093468     Restaurant  \n923        -71.095763     Restaurant  \n929        -71.073426     Restaurant  \n936        -71.073652     Restaurant  \n940        -71.047079     Restaurant  \n941        -71.051181     Restaurant  \n942        -71.047522     Restaurant  \n944        -71.047803     Restaurant  \n949        -71.046168     Restaurant  \n964        -71.053470     Restaurant  \n979        -71.047079     Restaurant  \n980        -71.051181     Restaurant  \n981        -71.047522     Restaurant  \n983        -71.047803     Restaurant  \n988        -71.046168     Restaurant  \n1003       -71.053470     Restaurant  \n1018       -71.134107     Restaurant  \n1019       -71.132374     Restaurant  \n1020       -71.132358     Restaurant  \n1021       -71.132975     Restaurant  \n1024       -71.132121     Restaurant  \n1025       -71.132925     Restaurant  \n1026       -71.131033     Restaurant  \n1028       -71.133784     Restaurant  \n1030       -71.131135     Restaurant  \n1031       -71.129113     Restaurant  \n1032       -71.130520     Restaurant  \n1033       -71.134428     Restaurant  \n1037       -71.132791     Restaurant  \n1038       -71.131948     Restaurant  \n1039       -71.137189     Restaurant  \n1041       -71.128739     Restaurant  \n1049       -71.132423     Restaurant  \n1050       -71.130414     Restaurant  \n1054       -71.131895     Restaurant  \n1055       -71.134358     Restaurant  \n1056       -71.131408     Restaurant  \n1059       -71.131861     Restaurant  \n1060       -71.133678     Restaurant  \n1061       -71.131892     Restaurant  \n1066       -71.137583     Restaurant  \n1067       -71.132889     Restaurant  \n1073       -71.130372     Restaurant  \n1074       -71.130675     Restaurant  \n1077       -71.131451     Restaurant  \n1079       -71.136654     Restaurant  \n1081       -71.135810     Restaurant  \n1084       -71.137440     Restaurant  \n1096       -71.135002     Restaurant  \n2          -71.126549     Restaurant  \n20         -71.115335     Restaurant  \n29         -71.105148     Restaurant  \n40         -71.099526     Restaurant  \n200        -71.055041     Restaurant  \n288        -71.065615     Restaurant  \n301        -71.063517     Restaurant  \n330        -71.063024     Restaurant  \n335        -71.056883     Restaurant  \n339        -71.053271     Restaurant  \n341        -71.054377     Restaurant  \n368        -71.055998     Restaurant  \n374        -71.055587     Restaurant  \n393        -71.058068     Restaurant  \n433        -71.100517     Restaurant  \n519        -71.081144     Restaurant  \n584        -71.035345     Restaurant  \n591        -71.042237     Restaurant  \n624        -71.062463     Restaurant  \n625        -71.063019     Restaurant  \n632        -71.066705     Restaurant  \n642        -71.058611     Restaurant  \n696        -71.063203     Restaurant  \n697        -71.061747     Restaurant  \n702        -71.065915     Restaurant  \n715        -71.068075     Restaurant  \n727        -71.062500     Restaurant  \n741        -71.070007     Restaurant  \n750        -71.069723     Restaurant  \n757        -71.063219     Restaurant  \n789        -71.801963     Restaurant  \n859        -71.154740     Restaurant  \n871        -71.152196     Restaurant  \n875        -71.159013     Restaurant  \n905        -71.123903     Restaurant  \n915        -71.120827     Restaurant  \n935        -71.073196     Restaurant  \n961        -71.054952     Restaurant  \n963        -71.046739     Restaurant  \n965        -71.052863     Restaurant  \n968        -71.045835     Restaurant  \n971        -71.048328     Restaurant  \n1000       -71.054952     Restaurant  \n1002       -71.046739     Restaurant  \n1004       -71.052863     Restaurant  \n1007       -71.045835     Restaurant  \n1010       -71.048328     Restaurant  \n1040       -71.133968     Restaurant  \n1064       -71.132614     Restaurant  \n1080       -71.133963     Restaurant  \n114        -71.063053            Gym  \n142        -71.059776            Gym  \n174        -71.063053            Gym  \n178        -71.060688            Gym  \n187        -71.054484            Gym  \n205        -71.058925            Gym  \n230        -71.056105            Gym  \n238        -71.063053            Gym  \n253        -71.059776            Gym  \n292        -71.060688            Gym  \n324        -71.061363            Gym  \n398        -71.051214            Gym  \n425        -71.098176            Gym  \n432        -71.098303            Gym  \n443        -71.075200            Gym  \n477        -71.072495            Gym  \n524        -71.081350            Gym  \n541        -71.075775            Gym  \n543        -71.075910            Gym  \n563        -71.076986            Gym  \n663        -71.068257            Gym  \n677        -71.060910            Gym  \n679        -71.061623            Gym  \n689        -71.064754            Gym  \n737        -71.059856            Gym  \n798        -71.796487            Gym  \n842        -71.099495            Gym  \n864        -71.152819            Gym  \n902        -71.120292            Gym  \n934        -71.071944            Gym  \n1048       -71.136008            Gym  \n27         -71.122191           Park  \n28         -71.102734           Park  \n47         -71.109825           Park  \n74         -71.111595           Park  \n87         -71.065949           Park  \n112        -71.070626           Park  \n184        -71.055686           Park  \n277        -71.064882           Park  \n326        -71.065949           Park  \n364        -71.053787           Park  \n378        -71.056407           Park  \n381        -71.056477           Park  \n384        -71.055293           Park  \n423        -71.053295           Park  \n429        -71.094233           Park  \n459        -71.080148           Park  \n474        -71.073225           Park  \n480        -71.080033           Park  \n607        -71.040459           Park  \n613        -71.060637           Park  \n643        -71.065564           Park  \n658        -71.060656           Park  \n759        -71.064882           Park  \n785        -71.800934           Park  \n894        -71.153752           Park  \n945        -71.046095           Park  \n972        -71.046228           Park  \n984        -71.046095           Park  \n1011       -71.046228           Park  ",
                        "text/html": "<div>\n<style scoped>\n    .dataframe tbody tr th:only-of-type {\n        vertical-align: middle;\n    }\n\n    .dataframe tbody tr th {\n        vertical-align: top;\n    }\n\n    .dataframe thead th {\n        text-align: right;\n    }\n</style>\n<table border=\"1\" class=\"dataframe\">\n  <thead>\n    <tr style=\"text-align: right;\">\n      <th></th>\n      <th>Neighborhood</th>\n      <th>Neighborhood Latitude</th>\n      <th>Neighborhood Longitude</th>\n      <th>Venue</th>\n      <th>Venue Latitude</th>\n      <th>Venue Longitude</th>\n      <th>Venue Category</th>\n    </tr>\n  </thead>\n  <tbody>\n    <tr>\n      <th>0</th>\n      <td>Roslindale</td>\n      <td>42.291209</td>\n      <td>-71.124497</td>\n      <td>Guira Y Tambora</td>\n      <td>42.291845</td>\n      <td>-71.122254</td>\n      <td>Restaurant</td>\n    </tr>\n    <tr>\n      <th>9</th>\n      <td>Jamaica Plain</td>\n      <td>42.309820</td>\n      <td>-71.120330</td>\n      <td>Vee Vee</td>\n      <td>42.310210</td>\n      <td>-71.115143</td>\n      <td>Restaurant</td>\n    </tr>\n    <tr>\n      <th>23</th>\n      <td>Jamaica Plain</td>\n      <td>42.309820</td>\n      <td>-71.120330</td>\n      <td>JP Seafood Cafe</td>\n      <td>42.310894</td>\n      <td>-71.114657</td>\n      <td>Restaurant</td>\n    </tr>\n    <tr>\n      <th>32</th>\n      <td>Mission Hill</td>\n      <td>42.332560</td>\n      <td>-71.103608</td>\n      <td>Lilly's Gourmet Pasta Express</td>\n      <td>42.332445</td>\n      <td>-71.100046</td>\n      <td>Restaurant</td>\n    </tr>\n    <tr>\n      <th>34</th>\n      <td>Mission Hill</td>\n      <td>42.332560</td>\n      <td>-71.103608</td>\n      <td>Laughing Monk Cafe</td>\n      <td>42.334077</td>\n      <td>-71.105563</td>\n      <td>Restaurant</td>\n    </tr>\n    <tr>\n      <th>36</th>\n      <td>Mission Hill</td>\n      <td>42.332560</td>\n      <td>-71.103608</td>\n      <td>Milkweed</td>\n      <td>42.332168</td>\n      <td>-71.099424</td>\n      <td>Restaurant</td>\n    </tr>\n    <tr>\n      <th>37</th>\n      <td>Mission Hill</td>\n      <td>42.332560</td>\n      <td>-71.103608</td>\n      <td>Mission Bar &amp; Grill</td>\n      <td>42.333925</td>\n      <td>-71.105127</td>\n      <td>Restaurant</td>\n    </tr>\n    <tr>\n      <th>41</th>\n      <td>Mission Hill</td>\n      <td>42.332560</td>\n      <td>-71.103608</td>\n      <td>Mama's Place</td>\n      <td>42.333391</td>\n      <td>-71.106357</td>\n      <td>Restaurant</td>\n    </tr>\n    <tr>\n      <th>43</th>\n      <td>Mission Hill</td>\n      <td>42.332560</td>\n      <td>-71.103608</td>\n      <td>Mission Sushi &amp; Wok</td>\n      <td>42.333834</td>\n      <td>-71.103637</td>\n      <td>Restaurant</td>\n    </tr>\n    <tr>\n      <th>44</th>\n      <td>Mission Hill</td>\n      <td>42.332560</td>\n      <td>-71.103608</td>\n      <td>Flames Restaurant II</td>\n      <td>42.333661</td>\n      <td>-71.105541</td>\n      <td>Restaurant</td>\n    </tr>\n    <tr>\n      <th>48</th>\n      <td>Longwood</td>\n      <td>42.341533</td>\n      <td>-71.110155</td>\n      <td>Clover LMA</td>\n      <td>42.339123</td>\n      <td>-71.107756</td>\n      <td>Restaurant</td>\n    </tr>\n    <tr>\n      <th>49</th>\n      <td>Longwood</td>\n      <td>42.341533</td>\n      <td>-71.110155</td>\n      <td>B.GOOD</td>\n      <td>42.338967</td>\n      <td>-71.107560</td>\n      <td>Restaurant</td>\n    </tr>\n    <tr>\n      <th>52</th>\n      <td>Longwood</td>\n      <td>42.341533</td>\n      <td>-71.110155</td>\n      <td>Sami's Wrap n' Roll</td>\n      <td>42.338428</td>\n      <td>-71.106850</td>\n      <td>Restaurant</td>\n    </tr>\n    <tr>\n      <th>55</th>\n      <td>Longwood</td>\n      <td>42.341533</td>\n      <td>-71.110155</td>\n      <td>Sepal</td>\n      <td>42.338194</td>\n      <td>-71.106864</td>\n      <td>Restaurant</td>\n    </tr>\n    <tr>\n      <th>61</th>\n      <td>Longwood</td>\n      <td>42.341533</td>\n      <td>-71.110155</td>\n      <td>Longwood Grille and Bar</td>\n      <td>42.338135</td>\n      <td>-71.106852</td>\n      <td>Restaurant</td>\n    </tr>\n    <tr>\n      <th>63</th>\n      <td>Longwood</td>\n      <td>42.341533</td>\n      <td>-71.110155</td>\n      <td>Sushi Express</td>\n      <td>42.345846</td>\n      <td>-71.108541</td>\n      <td>Restaurant</td>\n    </tr>\n    <tr>\n      <th>75</th>\n      <td>Longwood</td>\n      <td>42.341533</td>\n      <td>-71.110155</td>\n      <td>McDonald's</td>\n      <td>42.338286</td>\n      <td>-71.106846</td>\n      <td>Restaurant</td>\n    </tr>\n    <tr>\n      <th>76</th>\n      <td>Longwood</td>\n      <td>42.341533</td>\n      <td>-71.110155</td>\n      <td>Farr Cafeteria</td>\n      <td>42.338694</td>\n      <td>-71.110395</td>\n      <td>Restaurant</td>\n    </tr>\n    <tr>\n      <th>83</th>\n      <td>Bay Village</td>\n      <td>42.350011</td>\n      <td>-71.066948</td>\n      <td>Ostra</td>\n      <td>42.351060</td>\n      <td>-71.066976</td>\n      <td>Restaurant</td>\n    </tr>\n    <tr>\n      <th>84</th>\n      <td>Bay Village</td>\n      <td>42.350011</td>\n      <td>-71.066948</td>\n      <td>Maggiano's Little Italy</td>\n      <td>42.350966</td>\n      <td>-71.068695</td>\n      <td>Restaurant</td>\n    </tr>\n    <tr>\n      <th>94</th>\n      <td>Bay Village</td>\n      <td>42.350011</td>\n      <td>-71.066948</td>\n      <td>Bistro du Midi</td>\n      <td>42.352249</td>\n      <td>-71.069634</td>\n      <td>Restaurant</td>\n    </tr>\n    <tr>\n      <th>96</th>\n      <td>Bay Village</td>\n      <td>42.350011</td>\n      <td>-71.066948</td>\n      <td>Maria's Taqueria</td>\n      <td>42.351254</td>\n      <td>-71.064782</td>\n      <td>Restaurant</td>\n    </tr>\n    <tr>\n      <th>97</th>\n      <td>Bay Village</td>\n      <td>42.350011</td>\n      <td>-71.066948</td>\n      <td>Shaking Crab</td>\n      <td>42.352291</td>\n      <td>-71.066204</td>\n      <td>Restaurant</td>\n    </tr>\n    <tr>\n      <th>113</th>\n      <td>Bay Village</td>\n      <td>42.350011</td>\n      <td>-71.066948</td>\n      <td>Q Restaurant</td>\n      <td>42.351707</td>\n      <td>-71.062715</td>\n      <td>Restaurant</td>\n    </tr>\n    <tr>\n      <th>122</th>\n      <td>Bay Village</td>\n      <td>42.350011</td>\n      <td>-71.066948</td>\n      <td>Double Chin</td>\n      <td>42.350739</td>\n      <td>-71.061523</td>\n      <td>Restaurant</td>\n    </tr>\n    <tr>\n      <th>125</th>\n      <td>Bay Village</td>\n      <td>42.350011</td>\n      <td>-71.066948</td>\n      <td>FiRE + iCE Boston</td>\n      <td>42.350578</td>\n      <td>-71.072644</td>\n      <td>Restaurant</td>\n    </tr>\n    <tr>\n      <th>127</th>\n      <td>Bay Village</td>\n      <td>42.350011</td>\n      <td>-71.066948</td>\n      <td>by CHLOE.</td>\n      <td>42.351651</td>\n      <td>-71.072351</td>\n      <td>Restaurant</td>\n    </tr>\n    <tr>\n      <th>129</th>\n      <td>Bay Village</td>\n      <td>42.350011</td>\n      <td>-71.066948</td>\n      <td>163 Vietnamese Sandwiches &amp; Bubble Tea</td>\n      <td>42.351328</td>\n      <td>-71.061232</td>\n      <td>Restaurant</td>\n    </tr>\n    <tr>\n      <th>130</th>\n      <td>Bay Village</td>\n      <td>42.350011</td>\n      <td>-71.066948</td>\n      <td>Hong Kong Eatery</td>\n      <td>42.350981</td>\n      <td>-71.061497</td>\n      <td>Restaurant</td>\n    </tr>\n    <tr>\n      <th>134</th>\n      <td>Bay Village</td>\n      <td>42.350011</td>\n      <td>-71.066948</td>\n      <td>Blu</td>\n      <td>42.353267</td>\n      <td>-71.062918</td>\n      <td>Restaurant</td>\n    </tr>\n    <tr>\n      <th>137</th>\n      <td>Leather District</td>\n      <td>42.352322</td>\n      <td>-71.057343</td>\n      <td>Clover Food Lab FIN</td>\n      <td>42.353715</td>\n      <td>-71.056216</td>\n      <td>Restaurant</td>\n    </tr>\n    <tr>\n      <th>141</th>\n      <td>Leather District</td>\n      <td>42.352322</td>\n      <td>-71.057343</td>\n      <td>O Ya</td>\n      <td>42.351502</td>\n      <td>-71.056763</td>\n      <td>Restaurant</td>\n    </tr>\n    <tr>\n      <th>143</th>\n      <td>Leather District</td>\n      <td>42.352322</td>\n      <td>-71.057343</td>\n      <td>Troquet On South</td>\n      <td>42.351162</td>\n      <td>-71.057679</td>\n      <td>Restaurant</td>\n    </tr>\n    <tr>\n      <th>144</th>\n      <td>Leather District</td>\n      <td>42.352322</td>\n      <td>-71.057343</td>\n      <td>Stillwater</td>\n      <td>42.352281</td>\n      <td>-71.059098</td>\n      <td>Restaurant</td>\n    </tr>\n    <tr>\n      <th>145</th>\n      <td>Leather District</td>\n      <td>42.352322</td>\n      <td>-71.057343</td>\n      <td>Shabu Zen</td>\n      <td>42.350922</td>\n      <td>-71.060942</td>\n      <td>Restaurant</td>\n    </tr>\n    <tr>\n      <th>147</th>\n      <td>Leather District</td>\n      <td>42.352322</td>\n      <td>-71.057343</td>\n      <td>Taiwan Cafe</td>\n      <td>42.351391</td>\n      <td>-71.060359</td>\n      <td>Restaurant</td>\n    </tr>\n    <tr>\n      <th>151</th>\n      <td>Leather District</td>\n      <td>42.352322</td>\n      <td>-71.057343</td>\n      <td>Peach Farm</td>\n      <td>42.351237</td>\n      <td>-71.060597</td>\n      <td>Restaurant</td>\n    </tr>\n    <tr>\n      <th>152</th>\n      <td>Leather District</td>\n      <td>42.352322</td>\n      <td>-71.057343</td>\n      <td>Shojo</td>\n      <td>42.351028</td>\n      <td>-71.060736</td>\n      <td>Restaurant</td>\n    </tr>\n    <tr>\n      <th>155</th>\n      <td>Leather District</td>\n      <td>42.352322</td>\n      <td>-71.057343</td>\n      <td>Gourmet China House</td>\n      <td>42.351345</td>\n      <td>-71.060673</td>\n      <td>Restaurant</td>\n    </tr>\n    <tr>\n      <th>156</th>\n      <td>Leather District</td>\n      <td>42.352322</td>\n      <td>-71.057343</td>\n      <td>Gourmet Dumpling House</td>\n      <td>42.351380</td>\n      <td>-71.060723</td>\n      <td>Restaurant</td>\n    </tr>\n    <tr>\n      <th>157</th>\n      <td>Leather District</td>\n      <td>42.352322</td>\n      <td>-71.057343</td>\n      <td>Crave - Mad for Chicken</td>\n      <td>42.350378</td>\n      <td>-71.060786</td>\n      <td>Restaurant</td>\n    </tr>\n    <tr>\n      <th>160</th>\n      <td>Leather District</td>\n      <td>42.352322</td>\n      <td>-71.057343</td>\n      <td>Hei La Moon</td>\n      <td>42.351067</td>\n      <td>-71.058651</td>\n      <td>Restaurant</td>\n    </tr>\n    <tr>\n      <th>163</th>\n      <td>Leather District</td>\n      <td>42.352322</td>\n      <td>-71.057343</td>\n      <td>Tora</td>\n      <td>42.350782</td>\n      <td>-71.060916</td>\n      <td>Restaurant</td>\n    </tr>\n    <tr>\n      <th>173</th>\n      <td>Leather District</td>\n      <td>42.352322</td>\n      <td>-71.057343</td>\n      <td>Winsor Dim Sum Cafe</td>\n      <td>42.351030</td>\n      <td>-71.060544</td>\n      <td>Restaurant</td>\n    </tr>\n    <tr>\n      <th>175</th>\n      <td>Leather District</td>\n      <td>42.352322</td>\n      <td>-71.057343</td>\n      <td>Double Chin</td>\n      <td>42.350739</td>\n      <td>-71.061523</td>\n      <td>Restaurant</td>\n    </tr>\n    <tr>\n      <th>176</th>\n      <td>Leather District</td>\n      <td>42.352322</td>\n      <td>-71.057343</td>\n      <td>163 Vietnamese Sandwiches &amp; Bubble Tea</td>\n      <td>42.351328</td>\n      <td>-71.061232</td>\n      <td>Restaurant</td>\n    </tr>\n    <tr>\n      <th>182</th>\n      <td>Leather District</td>\n      <td>42.352322</td>\n      <td>-71.057343</td>\n      <td>New Jumbo Seafood Restaurant</td>\n      <td>42.350902</td>\n      <td>-71.059895</td>\n      <td>Restaurant</td>\n    </tr>\n    <tr>\n      <th>186</th>\n      <td>Leather District</td>\n      <td>42.352322</td>\n      <td>-71.057343</td>\n      <td>Q Restaurant</td>\n      <td>42.351707</td>\n      <td>-71.062715</td>\n      <td>Restaurant</td>\n    </tr>\n    <tr>\n      <th>189</th>\n      <td>Leather District</td>\n      <td>42.352322</td>\n      <td>-71.057343</td>\n      <td>ruka</td>\n      <td>42.354503</td>\n      <td>-71.061775</td>\n      <td>Restaurant</td>\n    </tr>\n    <tr>\n      <th>190</th>\n      <td>Leather District</td>\n      <td>42.352322</td>\n      <td>-71.057343</td>\n      <td>Avana Sushi</td>\n      <td>42.351509</td>\n      <td>-71.061158</td>\n      <td>Restaurant</td>\n    </tr>\n    <tr>\n      <th>194</th>\n      <td>Leather District</td>\n      <td>42.352322</td>\n      <td>-71.057343</td>\n      <td>Hot Eastern</td>\n      <td>42.351516</td>\n      <td>-71.061154</td>\n      <td>Restaurant</td>\n    </tr>\n    <tr>\n      <th>198</th>\n      <td>Leather District</td>\n      <td>42.352322</td>\n      <td>-71.057343</td>\n      <td>Hong Kong Eatery</td>\n      <td>42.350981</td>\n      <td>-71.061497</td>\n      <td>Restaurant</td>\n    </tr>\n    <tr>\n      <th>203</th>\n      <td>Leather District</td>\n      <td>42.352322</td>\n      <td>-71.057343</td>\n      <td>Irashai Sushi Teriyaki</td>\n      <td>42.350929</td>\n      <td>-71.062597</td>\n      <td>Restaurant</td>\n    </tr>\n    <tr>\n      <th>208</th>\n      <td>Leather District</td>\n      <td>42.352322</td>\n      <td>-71.057343</td>\n      <td>Wai Wai Restaurant</td>\n      <td>42.351588</td>\n      <td>-71.060342</td>\n      <td>Restaurant</td>\n    </tr>\n    <tr>\n      <th>209</th>\n      <td>Leather District</td>\n      <td>42.352322</td>\n      <td>-71.057343</td>\n      <td>Legal Crossing</td>\n      <td>42.353593</td>\n      <td>-71.062271</td>\n      <td>Restaurant</td>\n    </tr>\n    <tr>\n      <th>215</th>\n      <td>Leather District</td>\n      <td>42.352322</td>\n      <td>-71.057343</td>\n      <td>My Thai Vegan Cafe</td>\n      <td>42.351571</td>\n      <td>-71.062717</td>\n      <td>Restaurant</td>\n    </tr>\n    <tr>\n      <th>216</th>\n      <td>Leather District</td>\n      <td>42.352322</td>\n      <td>-71.057343</td>\n      <td>China Pearl Restaurant</td>\n      <td>42.351112</td>\n      <td>-71.060799</td>\n      <td>Restaurant</td>\n    </tr>\n    <tr>\n      <th>217</th>\n      <td>Leather District</td>\n      <td>42.352322</td>\n      <td>-71.057343</td>\n      <td>Hot Pot Buffet</td>\n      <td>42.351289</td>\n      <td>-71.059783</td>\n      <td>Restaurant</td>\n    </tr>\n    <tr>\n      <th>220</th>\n      <td>Leather District</td>\n      <td>42.352322</td>\n      <td>-71.057343</td>\n      <td>China King</td>\n      <td>42.351336</td>\n      <td>-71.060385</td>\n      <td>Restaurant</td>\n    </tr>\n    <tr>\n      <th>221</th>\n      <td>Leather District</td>\n      <td>42.352322</td>\n      <td>-71.057343</td>\n      <td>Dumpling Cafe</td>\n      <td>42.351260</td>\n      <td>-71.062994</td>\n      <td>Restaurant</td>\n    </tr>\n    <tr>\n      <th>222</th>\n      <td>Leather District</td>\n      <td>42.352322</td>\n      <td>-71.057343</td>\n      <td>5 Spices House</td>\n      <td>42.351331</td>\n      <td>-71.060457</td>\n      <td>Restaurant</td>\n    </tr>\n    <tr>\n      <th>224</th>\n      <td>Leather District</td>\n      <td>42.352322</td>\n      <td>-71.057343</td>\n      <td>Wing's Kitchen</td>\n      <td>42.350574</td>\n      <td>-71.060293</td>\n      <td>Restaurant</td>\n    </tr>\n    <tr>\n      <th>225</th>\n      <td>Leather District</td>\n      <td>42.352322</td>\n      <td>-71.057343</td>\n      <td>Democracy Brewing Company</td>\n      <td>42.355073</td>\n      <td>-71.062135</td>\n      <td>Restaurant</td>\n    </tr>\n    <tr>\n      <th>228</th>\n      <td>Leather District</td>\n      <td>42.352322</td>\n      <td>-71.057343</td>\n      <td>New Saigon Sandwich</td>\n      <td>42.351048</td>\n      <td>-71.062958</td>\n      <td>Restaurant</td>\n    </tr>\n    <tr>\n      <th>229</th>\n      <td>Leather District</td>\n      <td>42.352322</td>\n      <td>-71.057343</td>\n      <td>Dumpling King</td>\n      <td>42.351540</td>\n      <td>-71.061120</td>\n      <td>Restaurant</td>\n    </tr>\n    <tr>\n      <th>235</th>\n      <td>Chinatown</td>\n      <td>42.352217</td>\n      <td>-71.062607</td>\n      <td>Shabu Zen</td>\n      <td>42.350922</td>\n      <td>-71.060942</td>\n      <td>Restaurant</td>\n    </tr>\n    <tr>\n      <th>243</th>\n      <td>Chinatown</td>\n      <td>42.352217</td>\n      <td>-71.062607</td>\n      <td>Shojo</td>\n      <td>42.351028</td>\n      <td>-71.060736</td>\n      <td>Restaurant</td>\n    </tr>\n    <tr>\n      <th>246</th>\n      <td>Chinatown</td>\n      <td>42.352217</td>\n      <td>-71.062607</td>\n      <td>Q Restaurant</td>\n      <td>42.351707</td>\n      <td>-71.062715</td>\n      <td>Restaurant</td>\n    </tr>\n    <tr>\n      <th>249</th>\n      <td>Chinatown</td>\n      <td>42.352217</td>\n      <td>-71.062607</td>\n      <td>Peach Farm</td>\n      <td>42.351237</td>\n      <td>-71.060597</td>\n      <td>Restaurant</td>\n    </tr>\n    <tr>\n      <th>250</th>\n      <td>Chinatown</td>\n      <td>42.352217</td>\n      <td>-71.062607</td>\n      <td>Teatro</td>\n      <td>42.353026</td>\n      <td>-71.064371</td>\n      <td>Restaurant</td>\n    </tr>\n    <tr>\n      <th>252</th>\n      <td>Chinatown</td>\n      <td>42.352217</td>\n      <td>-71.062607</td>\n      <td>Taiwan Cafe</td>\n      <td>42.351391</td>\n      <td>-71.060359</td>\n      <td>Restaurant</td>\n    </tr>\n    <tr>\n      <th>254</th>\n      <td>Chinatown</td>\n      <td>42.352217</td>\n      <td>-71.062607</td>\n      <td>Gourmet China House</td>\n      <td>42.351345</td>\n      <td>-71.060673</td>\n      <td>Restaurant</td>\n    </tr>\n    <tr>\n      <th>255</th>\n      <td>Chinatown</td>\n      <td>42.352217</td>\n      <td>-71.062607</td>\n      <td>Crave - Mad for Chicken</td>\n      <td>42.350378</td>\n      <td>-71.060786</td>\n      <td>Restaurant</td>\n    </tr>\n    <tr>\n      <th>256</th>\n      <td>Chinatown</td>\n      <td>42.352217</td>\n      <td>-71.062607</td>\n      <td>Gourmet Dumpling House</td>\n      <td>42.351380</td>\n      <td>-71.060723</td>\n      <td>Restaurant</td>\n    </tr>\n    <tr>\n      <th>257</th>\n      <td>Chinatown</td>\n      <td>42.352217</td>\n      <td>-71.062607</td>\n      <td>Double Chin</td>\n      <td>42.350739</td>\n      <td>-71.061523</td>\n      <td>Restaurant</td>\n    </tr>\n    <tr>\n      <th>258</th>\n      <td>Chinatown</td>\n      <td>42.352217</td>\n      <td>-71.062607</td>\n      <td>Tora</td>\n      <td>42.350782</td>\n      <td>-71.060916</td>\n      <td>Restaurant</td>\n    </tr>\n    <tr>\n      <th>261</th>\n      <td>Chinatown</td>\n      <td>42.352217</td>\n      <td>-71.062607</td>\n      <td>Maria's Taqueria</td>\n      <td>42.351254</td>\n      <td>-71.064782</td>\n      <td>Restaurant</td>\n    </tr>\n    <tr>\n      <th>264</th>\n      <td>Chinatown</td>\n      <td>42.352217</td>\n      <td>-71.062607</td>\n      <td>Irashai Sushi Teriyaki</td>\n      <td>42.350929</td>\n      <td>-71.062597</td>\n      <td>Restaurant</td>\n    </tr>\n    <tr>\n      <th>267</th>\n      <td>Chinatown</td>\n      <td>42.352217</td>\n      <td>-71.062607</td>\n      <td>163 Vietnamese Sandwiches &amp; Bubble Tea</td>\n      <td>42.351328</td>\n      <td>-71.061232</td>\n      <td>Restaurant</td>\n    </tr>\n    <tr>\n      <th>270</th>\n      <td>Chinatown</td>\n      <td>42.352217</td>\n      <td>-71.062607</td>\n      <td>Stillwater</td>\n      <td>42.352281</td>\n      <td>-71.059098</td>\n      <td>Restaurant</td>\n    </tr>\n    <tr>\n      <th>272</th>\n      <td>Chinatown</td>\n      <td>42.352217</td>\n      <td>-71.062607</td>\n      <td>ruka</td>\n      <td>42.354503</td>\n      <td>-71.061775</td>\n      <td>Restaurant</td>\n    </tr>\n    <tr>\n      <th>275</th>\n      <td>Chinatown</td>\n      <td>42.352217</td>\n      <td>-71.062607</td>\n      <td>Ostra</td>\n      <td>42.351060</td>\n      <td>-71.066976</td>\n      <td>Restaurant</td>\n    </tr>\n    <tr>\n      <th>276</th>\n      <td>Chinatown</td>\n      <td>42.352217</td>\n      <td>-71.062607</td>\n      <td>Gene's Chinese Flatbread Cafe</td>\n      <td>42.353332</td>\n      <td>-71.059379</td>\n      <td>Restaurant</td>\n    </tr>\n    <tr>\n      <th>278</th>\n      <td>Chinatown</td>\n      <td>42.352217</td>\n      <td>-71.062607</td>\n      <td>Yvonne's</td>\n      <td>42.355664</td>\n      <td>-71.061466</td>\n      <td>Restaurant</td>\n    </tr>\n    <tr>\n      <th>279</th>\n      <td>Chinatown</td>\n      <td>42.352217</td>\n      <td>-71.062607</td>\n      <td>Legal Crossing</td>\n      <td>42.353593</td>\n      <td>-71.062271</td>\n      <td>Restaurant</td>\n    </tr>\n    <tr>\n      <th>281</th>\n      <td>Chinatown</td>\n      <td>42.352217</td>\n      <td>-71.062607</td>\n      <td>Winsor Dim Sum Cafe</td>\n      <td>42.351030</td>\n      <td>-71.060544</td>\n      <td>Restaurant</td>\n    </tr>\n    <tr>\n      <th>283</th>\n      <td>Chinatown</td>\n      <td>42.352217</td>\n      <td>-71.062607</td>\n      <td>Shaking Crab</td>\n      <td>42.352291</td>\n      <td>-71.066204</td>\n      <td>Restaurant</td>\n    </tr>\n    <tr>\n      <th>284</th>\n      <td>Chinatown</td>\n      <td>42.352217</td>\n      <td>-71.062607</td>\n      <td>My Thai Vegan Cafe</td>\n      <td>42.351571</td>\n      <td>-71.062717</td>\n      <td>Restaurant</td>\n    </tr>\n    <tr>\n      <th>285</th>\n      <td>Chinatown</td>\n      <td>42.352217</td>\n      <td>-71.062607</td>\n      <td>The Chicken &amp; Rice Guys Store</td>\n      <td>42.353360</td>\n      <td>-71.059611</td>\n      <td>Restaurant</td>\n    </tr>\n    <tr>\n      <th>286</th>\n      <td>Chinatown</td>\n      <td>42.352217</td>\n      <td>-71.062607</td>\n      <td>Dumpling Cafe</td>\n      <td>42.351260</td>\n      <td>-71.062994</td>\n      <td>Restaurant</td>\n    </tr>\n    <tr>\n      <th>289</th>\n      <td>Chinatown</td>\n      <td>42.352217</td>\n      <td>-71.062607</td>\n      <td>Hong Kong Eatery</td>\n      <td>42.350981</td>\n      <td>-71.061497</td>\n      <td>Restaurant</td>\n    </tr>\n    <tr>\n      <th>291</th>\n      <td>Chinatown</td>\n      <td>42.352217</td>\n      <td>-71.062607</td>\n      <td>Avana Sushi</td>\n      <td>42.351509</td>\n      <td>-71.061158</td>\n      <td>Restaurant</td>\n    </tr>\n    <tr>\n      <th>297</th>\n      <td>Chinatown</td>\n      <td>42.352217</td>\n      <td>-71.062607</td>\n      <td>Genki Ya</td>\n      <td>42.351106</td>\n      <td>-71.064821</td>\n      <td>Restaurant</td>\n    </tr>\n    <tr>\n      <th>299</th>\n      <td>Chinatown</td>\n      <td>42.352217</td>\n      <td>-71.062607</td>\n      <td>New Saigon Sandwich</td>\n      <td>42.351048</td>\n      <td>-71.062958</td>\n      <td>Restaurant</td>\n    </tr>\n    <tr>\n      <th>303</th>\n      <td>Chinatown</td>\n      <td>42.352217</td>\n      <td>-71.062607</td>\n      <td>Hot Eastern</td>\n      <td>42.351516</td>\n      <td>-71.061154</td>\n      <td>Restaurant</td>\n    </tr>\n    <tr>\n      <th>317</th>\n      <td>Chinatown</td>\n      <td>42.352217</td>\n      <td>-71.062607</td>\n      <td>Troquet On South</td>\n      <td>42.351162</td>\n      <td>-71.057679</td>\n      <td>Restaurant</td>\n    </tr>\n    <tr>\n      <th>319</th>\n      <td>Chinatown</td>\n      <td>42.352217</td>\n      <td>-71.062607</td>\n      <td>Abby Lane Food &amp; Spirits</td>\n      <td>42.350503</td>\n      <td>-71.065137</td>\n      <td>Restaurant</td>\n    </tr>\n    <tr>\n      <th>327</th>\n      <td>Chinatown</td>\n      <td>42.352217</td>\n      <td>-71.062607</td>\n      <td>New Jumbo Seafood Restaurant</td>\n      <td>42.350902</td>\n      <td>-71.059895</td>\n      <td>Restaurant</td>\n    </tr>\n    <tr>\n      <th>331</th>\n      <td>Chinatown</td>\n      <td>42.352217</td>\n      <td>-71.062607</td>\n      <td>Democracy Brewing Company</td>\n      <td>42.355073</td>\n      <td>-71.062135</td>\n      <td>Restaurant</td>\n    </tr>\n    <tr>\n      <th>333</th>\n      <td>Chinatown</td>\n      <td>42.352217</td>\n      <td>-71.062607</td>\n      <td>O Ya</td>\n      <td>42.351502</td>\n      <td>-71.056763</td>\n      <td>Restaurant</td>\n    </tr>\n    <tr>\n      <th>343</th>\n      <td>North End</td>\n      <td>42.365097</td>\n      <td>-71.054495</td>\n      <td>Trattoria Il Panino</td>\n      <td>42.363836</td>\n      <td>-71.054500</td>\n      <td>Restaurant</td>\n    </tr>\n    <tr>\n      <th>346</th>\n      <td>North End</td>\n      <td>42.365097</td>\n      <td>-71.054495</td>\n      <td>Carmelina's</td>\n      <td>42.364027</td>\n      <td>-71.054293</td>\n      <td>Restaurant</td>\n    </tr>\n    <tr>\n      <th>350</th>\n      <td>North End</td>\n      <td>42.365097</td>\n      <td>-71.054495</td>\n      <td>Mamma Maria</td>\n      <td>42.364062</td>\n      <td>-71.053475</td>\n      <td>Restaurant</td>\n    </tr>\n    <tr>\n      <th>352</th>\n      <td>North End</td>\n      <td>42.365097</td>\n      <td>-71.054495</td>\n      <td>Limoncello</td>\n      <td>42.363353</td>\n      <td>-71.053827</td>\n      <td>Restaurant</td>\n    </tr>\n    <tr>\n      <th>353</th>\n      <td>North End</td>\n      <td>42.365097</td>\n      <td>-71.054495</td>\n      <td>Strega Ristorante</td>\n      <td>42.364984</td>\n      <td>-71.053266</td>\n      <td>Restaurant</td>\n    </tr>\n    <tr>\n      <th>354</th>\n      <td>North End</td>\n      <td>42.365097</td>\n      <td>-71.054495</td>\n      <td>The Daily Catch</td>\n      <td>42.364158</td>\n      <td>-71.054150</td>\n      <td>Restaurant</td>\n    </tr>\n    <tr>\n      <th>355</th>\n      <td>North End</td>\n      <td>42.365097</td>\n      <td>-71.054495</td>\n      <td>Neptune Oyster</td>\n      <td>42.363237</td>\n      <td>-71.056139</td>\n      <td>Restaurant</td>\n    </tr>\n    <tr>\n      <th>356</th>\n      <td>North End</td>\n      <td>42.365097</td>\n      <td>-71.054495</td>\n      <td>Prezza</td>\n      <td>42.364605</td>\n      <td>-71.052808</td>\n      <td>Restaurant</td>\n    </tr>\n    <tr>\n      <th>357</th>\n      <td>North End</td>\n      <td>42.365097</td>\n      <td>-71.054495</td>\n      <td>Giacomo's</td>\n      <td>42.364683</td>\n      <td>-71.053579</td>\n      <td>Restaurant</td>\n    </tr>\n    <tr>\n      <th>358</th>\n      <td>North End</td>\n      <td>42.365097</td>\n      <td>-71.054495</td>\n      <td>North Square Oyster</td>\n      <td>42.363978</td>\n      <td>-71.053516</td>\n      <td>Restaurant</td>\n    </tr>\n    <tr>\n      <th>359</th>\n      <td>North End</td>\n      <td>42.365097</td>\n      <td>-71.054495</td>\n      <td>Aria</td>\n      <td>42.363286</td>\n      <td>-71.055002</td>\n      <td>Restaurant</td>\n    </tr>\n    <tr>\n      <th>362</th>\n      <td>North End</td>\n      <td>42.365097</td>\n      <td>-71.054495</td>\n      <td>Al Dente</td>\n      <td>42.364169</td>\n      <td>-71.055559</td>\n      <td>Restaurant</td>\n    </tr>\n    <tr>\n      <th>363</th>\n      <td>North End</td>\n      <td>42.365097</td>\n      <td>-71.054495</td>\n      <td>Quattro</td>\n      <td>42.363656</td>\n      <td>-71.054700</td>\n      <td>Restaurant</td>\n    </tr>\n    <tr>\n      <th>366</th>\n      <td>North End</td>\n      <td>42.365097</td>\n      <td>-71.054495</td>\n      <td>Bricco</td>\n      <td>42.363225</td>\n      <td>-71.055069</td>\n      <td>Restaurant</td>\n    </tr>\n    <tr>\n      <th>370</th>\n      <td>North End</td>\n      <td>42.365097</td>\n      <td>-71.054495</td>\n      <td>Cantina Italiana</td>\n      <td>42.364944</td>\n      <td>-71.053350</td>\n      <td>Restaurant</td>\n    </tr>\n    <tr>\n      <th>372</th>\n      <td>North End</td>\n      <td>42.365097</td>\n      <td>-71.054495</td>\n      <td>La Famiglia Giorgio's</td>\n      <td>42.364561</td>\n      <td>-71.055584</td>\n      <td>Restaurant</td>\n    </tr>\n    <tr>\n      <th>375</th>\n      <td>North End</td>\n      <td>42.365097</td>\n      <td>-71.054495</td>\n      <td>North Street Grille</td>\n      <td>42.363564</td>\n      <td>-71.052592</td>\n      <td>Restaurant</td>\n    </tr>\n    <tr>\n      <th>376</th>\n      <td>North End</td>\n      <td>42.365097</td>\n      <td>-71.054495</td>\n      <td>Mare</td>\n      <td>42.362857</td>\n      <td>-71.054979</td>\n      <td>Restaurant</td>\n    </tr>\n    <tr>\n      <th>377</th>\n      <td>North End</td>\n      <td>42.365097</td>\n      <td>-71.054495</td>\n      <td>Tenoch</td>\n      <td>42.363364</td>\n      <td>-71.051804</td>\n      <td>Restaurant</td>\n    </tr>\n    <tr>\n      <th>379</th>\n      <td>North End</td>\n      <td>42.365097</td>\n      <td>-71.054495</td>\n      <td>Parla</td>\n      <td>42.363135</td>\n      <td>-71.055160</td>\n      <td>Restaurant</td>\n    </tr>\n    <tr>\n      <th>383</th>\n      <td>North End</td>\n      <td>42.365097</td>\n      <td>-71.054495</td>\n      <td>Lucca</td>\n      <td>42.363059</td>\n      <td>-71.055239</td>\n      <td>Restaurant</td>\n    </tr>\n    <tr>\n      <th>385</th>\n      <td>North End</td>\n      <td>42.365097</td>\n      <td>-71.054495</td>\n      <td>Tresca</td>\n      <td>42.363028</td>\n      <td>-71.055267</td>\n      <td>Restaurant</td>\n    </tr>\n    <tr>\n      <th>386</th>\n      <td>North End</td>\n      <td>42.365097</td>\n      <td>-71.054495</td>\n      <td>Vinoteca di Monica</td>\n      <td>42.363370</td>\n      <td>-71.054381</td>\n      <td>Restaurant</td>\n    </tr>\n    <tr>\n      <th>387</th>\n      <td>North End</td>\n      <td>42.365097</td>\n      <td>-71.054495</td>\n      <td>Florentine Cafe</td>\n      <td>42.364399</td>\n      <td>-71.053831</td>\n      <td>Restaurant</td>\n    </tr>\n    <tr>\n      <th>389</th>\n      <td>North End</td>\n      <td>42.365097</td>\n      <td>-71.054495</td>\n      <td>Villa Francesca</td>\n      <td>42.363480</td>\n      <td>-71.054479</td>\n      <td>Restaurant</td>\n    </tr>\n    <tr>\n      <th>394</th>\n      <td>North End</td>\n      <td>42.365097</td>\n      <td>-71.054495</td>\n      <td>Massimino's Cucina Italiana</td>\n      <td>42.366495</td>\n      <td>-71.058133</td>\n      <td>Restaurant</td>\n    </tr>\n    <tr>\n      <th>395</th>\n      <td>North End</td>\n      <td>42.365097</td>\n      <td>-71.054495</td>\n      <td>Red's Best</td>\n      <td>42.361960</td>\n      <td>-71.057587</td>\n      <td>Restaurant</td>\n    </tr>\n    <tr>\n      <th>400</th>\n      <td>North End</td>\n      <td>42.365097</td>\n      <td>-71.054495</td>\n      <td>Mother Anna's</td>\n      <td>42.362523</td>\n      <td>-71.055644</td>\n      <td>Restaurant</td>\n    </tr>\n    <tr>\n      <th>402</th>\n      <td>North End</td>\n      <td>42.365097</td>\n      <td>-71.054495</td>\n      <td>Boston Sail Loft</td>\n      <td>42.362543</td>\n      <td>-71.050872</td>\n      <td>Restaurant</td>\n    </tr>\n    <tr>\n      <th>403</th>\n      <td>North End</td>\n      <td>42.365097</td>\n      <td>-71.054495</td>\n      <td>Osteria Rustico</td>\n      <td>42.364397</td>\n      <td>-71.059870</td>\n      <td>Restaurant</td>\n    </tr>\n    <tr>\n      <th>405</th>\n      <td>North End</td>\n      <td>42.365097</td>\n      <td>-71.054495</td>\n      <td>Saus Restaurant</td>\n      <td>42.361076</td>\n      <td>-71.057054</td>\n      <td>Restaurant</td>\n    </tr>\n    <tr>\n      <th>414</th>\n      <td>North End</td>\n      <td>42.365097</td>\n      <td>-71.054495</td>\n      <td>Union Oyster House</td>\n      <td>42.361371</td>\n      <td>-71.057152</td>\n      <td>Restaurant</td>\n    </tr>\n    <tr>\n      <th>415</th>\n      <td>North End</td>\n      <td>42.365097</td>\n      <td>-71.054495</td>\n      <td>Kala Thai Cookery</td>\n      <td>42.361928</td>\n      <td>-71.056763</td>\n      <td>Restaurant</td>\n    </tr>\n    <tr>\n      <th>434</th>\n      <td>South End</td>\n      <td>42.341310</td>\n      <td>-71.077230</td>\n      <td>Petit Robert Bistro</td>\n      <td>42.343020</td>\n      <td>-71.078749</td>\n      <td>Restaurant</td>\n    </tr>\n    <tr>\n      <th>441</th>\n      <td>South End</td>\n      <td>42.341310</td>\n      <td>-71.077230</td>\n      <td>El Centro</td>\n      <td>42.338754</td>\n      <td>-71.075926</td>\n      <td>Restaurant</td>\n    </tr>\n    <tr>\n      <th>442</th>\n      <td>South End</td>\n      <td>42.341310</td>\n      <td>-71.077230</td>\n      <td>Orinoco Kitchen</td>\n      <td>42.338803</td>\n      <td>-71.075982</td>\n      <td>Restaurant</td>\n    </tr>\n    <tr>\n      <th>444</th>\n      <td>South End</td>\n      <td>42.341310</td>\n      <td>-71.077230</td>\n      <td>Giacomo's</td>\n      <td>42.343952</td>\n      <td>-71.077646</td>\n      <td>Restaurant</td>\n    </tr>\n    <tr>\n      <th>447</th>\n      <td>South End</td>\n      <td>42.341310</td>\n      <td>-71.077230</td>\n      <td>SRV</td>\n      <td>42.340871</td>\n      <td>-71.081622</td>\n      <td>Restaurant</td>\n    </tr>\n    <tr>\n      <th>448</th>\n      <td>South End</td>\n      <td>42.341310</td>\n      <td>-71.077230</td>\n      <td>Five Horses Tavern</td>\n      <td>42.341727</td>\n      <td>-71.080562</td>\n      <td>Restaurant</td>\n    </tr>\n    <tr>\n      <th>452</th>\n      <td>South End</td>\n      <td>42.341310</td>\n      <td>-71.077230</td>\n      <td>Vejigantes</td>\n      <td>42.342105</td>\n      <td>-71.072997</td>\n      <td>Restaurant</td>\n    </tr>\n    <tr>\n      <th>455</th>\n      <td>South End</td>\n      <td>42.341310</td>\n      <td>-71.077230</td>\n      <td>anoush\u2019ella</td>\n      <td>42.338869</td>\n      <td>-71.073843</td>\n      <td>Restaurant</td>\n    </tr>\n    <tr>\n      <th>456</th>\n      <td>South End</td>\n      <td>42.341310</td>\n      <td>-71.077230</td>\n      <td>Mida</td>\n      <td>42.339294</td>\n      <td>-71.080481</td>\n      <td>Restaurant</td>\n    </tr>\n    <tr>\n      <th>461</th>\n      <td>South End</td>\n      <td>42.341310</td>\n      <td>-71.077230</td>\n      <td>Ilona</td>\n      <td>42.339308</td>\n      <td>-71.080733</td>\n      <td>Restaurant</td>\n    </tr>\n    <tr>\n      <th>466</th>\n      <td>South End</td>\n      <td>42.341310</td>\n      <td>-71.077230</td>\n      <td>Toro Restaurant</td>\n      <td>42.336988</td>\n      <td>-71.075924</td>\n      <td>Restaurant</td>\n    </tr>\n    <tr>\n      <th>467</th>\n      <td>South End</td>\n      <td>42.341310</td>\n      <td>-71.077230</td>\n      <td>Seiyo Sushi &amp; Wine Shop</td>\n      <td>42.336972</td>\n      <td>-71.076376</td>\n      <td>Restaurant</td>\n    </tr>\n    <tr>\n      <th>472</th>\n      <td>South End</td>\n      <td>42.341310</td>\n      <td>-71.077230</td>\n      <td>Mela</td>\n      <td>42.343477</td>\n      <td>-71.072566</td>\n      <td>Restaurant</td>\n    </tr>\n    <tr>\n      <th>475</th>\n      <td>South End</td>\n      <td>42.341310</td>\n      <td>-71.077230</td>\n      <td>House of Siam</td>\n      <td>42.343157</td>\n      <td>-71.073138</td>\n      <td>Restaurant</td>\n    </tr>\n    <tr>\n      <th>476</th>\n      <td>South End</td>\n      <td>42.341310</td>\n      <td>-71.077230</td>\n      <td>Black Lamb</td>\n      <td>42.343671</td>\n      <td>-71.072619</td>\n      <td>Restaurant</td>\n    </tr>\n    <tr>\n      <th>478</th>\n      <td>Back Bay</td>\n      <td>42.350549</td>\n      <td>-71.080311</td>\n      <td>Gre.Co</td>\n      <td>42.349920</td>\n      <td>-71.081633</td>\n      <td>Restaurant</td>\n    </tr>\n    <tr>\n      <th>487</th>\n      <td>Back Bay</td>\n      <td>42.350549</td>\n      <td>-71.080311</td>\n      <td>Atlantic Fish Company</td>\n      <td>42.349014</td>\n      <td>-71.081096</td>\n      <td>Restaurant</td>\n    </tr>\n    <tr>\n      <th>488</th>\n      <td>Back Bay</td>\n      <td>42.350549</td>\n      <td>-71.080311</td>\n      <td>Saltie Girl Seafood Bar</td>\n      <td>42.351111</td>\n      <td>-71.077811</td>\n      <td>Restaurant</td>\n    </tr>\n    <tr>\n      <th>493</th>\n      <td>Back Bay</td>\n      <td>42.350549</td>\n      <td>-71.080311</td>\n      <td>Buttermilk &amp; Bourbon</td>\n      <td>42.351592</td>\n      <td>-71.078452</td>\n      <td>Restaurant</td>\n    </tr>\n    <tr>\n      <th>495</th>\n      <td>Back Bay</td>\n      <td>42.350549</td>\n      <td>-71.080311</td>\n      <td>Lolita Cocina &amp; Tequila Bar</td>\n      <td>42.350563</td>\n      <td>-71.077544</td>\n      <td>Restaurant</td>\n    </tr>\n    <tr>\n      <th>500</th>\n      <td>Back Bay</td>\n      <td>42.350549</td>\n      <td>-71.080311</td>\n      <td>Luke's Lobster</td>\n      <td>42.348805</td>\n      <td>-71.079185</td>\n      <td>Restaurant</td>\n    </tr>\n    <tr>\n      <th>502</th>\n      <td>Back Bay</td>\n      <td>42.350549</td>\n      <td>-71.080311</td>\n      <td>Sorellina</td>\n      <td>42.348718</td>\n      <td>-71.077984</td>\n      <td>Restaurant</td>\n    </tr>\n    <tr>\n      <th>503</th>\n      <td>Back Bay</td>\n      <td>42.350549</td>\n      <td>-71.080311</td>\n      <td>La Voile</td>\n      <td>42.349509</td>\n      <td>-71.083195</td>\n      <td>Restaurant</td>\n    </tr>\n    <tr>\n      <th>508</th>\n      <td>Back Bay</td>\n      <td>42.350549</td>\n      <td>-71.080311</td>\n      <td>Puro Ceviche</td>\n      <td>42.349355</td>\n      <td>-71.083212</td>\n      <td>Restaurant</td>\n    </tr>\n    <tr>\n      <th>511</th>\n      <td>Back Bay</td>\n      <td>42.350549</td>\n      <td>-71.080311</td>\n      <td>Joe's American Bar &amp; Grill</td>\n      <td>42.350368</td>\n      <td>-71.079741</td>\n      <td>Restaurant</td>\n    </tr>\n    <tr>\n      <th>512</th>\n      <td>Back Bay</td>\n      <td>42.350549</td>\n      <td>-71.080311</td>\n      <td>OAK Long Bar + Kitchen</td>\n      <td>42.349276</td>\n      <td>-71.076816</td>\n      <td>Restaurant</td>\n    </tr>\n    <tr>\n      <th>513</th>\n      <td>Back Bay</td>\n      <td>42.350549</td>\n      <td>-71.080311</td>\n      <td>Dig Inn</td>\n      <td>42.350714</td>\n      <td>-71.076201</td>\n      <td>Restaurant</td>\n    </tr>\n    <tr>\n      <th>520</th>\n      <td>Back Bay</td>\n      <td>42.350549</td>\n      <td>-71.080311</td>\n      <td>Earls Kitchen + Bar</td>\n      <td>42.347656</td>\n      <td>-71.082018</td>\n      <td>Restaurant</td>\n    </tr>\n    <tr>\n      <th>521</th>\n      <td>Back Bay</td>\n      <td>42.350549</td>\n      <td>-71.080311</td>\n      <td>Piattini Wine Cafe</td>\n      <td>42.349857</td>\n      <td>-71.081315</td>\n      <td>Restaurant</td>\n    </tr>\n    <tr>\n      <th>522</th>\n      <td>Back Bay</td>\n      <td>42.350549</td>\n      <td>-71.080311</td>\n      <td>La Pizza &amp; La Pasta</td>\n      <td>42.347787</td>\n      <td>-71.082444</td>\n      <td>Restaurant</td>\n    </tr>\n    <tr>\n      <th>523</th>\n      <td>Back Bay</td>\n      <td>42.350549</td>\n      <td>-71.080311</td>\n      <td>CAVA</td>\n      <td>42.349970</td>\n      <td>-71.078851</td>\n      <td>Restaurant</td>\n    </tr>\n    <tr>\n      <th>525</th>\n      <td>Back Bay</td>\n      <td>42.350549</td>\n      <td>-71.080311</td>\n      <td>Krasi</td>\n      <td>42.348696</td>\n      <td>-71.083947</td>\n      <td>Restaurant</td>\n    </tr>\n    <tr>\n      <th>526</th>\n      <td>Back Bay</td>\n      <td>42.350549</td>\n      <td>-71.080311</td>\n      <td>MET Back Bay</td>\n      <td>42.350974</td>\n      <td>-71.077568</td>\n      <td>Restaurant</td>\n    </tr>\n    <tr>\n      <th>527</th>\n      <td>Back Bay</td>\n      <td>42.350549</td>\n      <td>-71.080311</td>\n      <td>SELECT Oyster Bar</td>\n      <td>42.348526</td>\n      <td>-71.083931</td>\n      <td>Restaurant</td>\n    </tr>\n    <tr>\n      <th>528</th>\n      <td>Back Bay</td>\n      <td>42.350549</td>\n      <td>-71.080311</td>\n      <td>Porto</td>\n      <td>42.348286</td>\n      <td>-71.080399</td>\n      <td>Restaurant</td>\n    </tr>\n    <tr>\n      <th>529</th>\n      <td>Back Bay</td>\n      <td>42.350549</td>\n      <td>-71.080311</td>\n      <td>Fogo De Ch\u00e3o</td>\n      <td>42.348617</td>\n      <td>-71.077220</td>\n      <td>Restaurant</td>\n    </tr>\n    <tr>\n      <th>531</th>\n      <td>Back Bay</td>\n      <td>42.350549</td>\n      <td>-71.080311</td>\n      <td>Beantown Pho &amp; Grill</td>\n      <td>42.349254</td>\n      <td>-71.083498</td>\n      <td>Restaurant</td>\n    </tr>\n    <tr>\n      <th>535</th>\n      <td>Back Bay</td>\n      <td>42.350549</td>\n      <td>-71.080311</td>\n      <td>Stephanie's On Newbury</td>\n      <td>42.350282</td>\n      <td>-71.079714</td>\n      <td>Restaurant</td>\n    </tr>\n    <tr>\n      <th>538</th>\n      <td>Back Bay</td>\n      <td>42.350549</td>\n      <td>-71.080311</td>\n      <td>Thai Basil Restaurant</td>\n      <td>42.351117</td>\n      <td>-71.076787</td>\n      <td>Restaurant</td>\n    </tr>\n    <tr>\n      <th>552</th>\n      <td>Back Bay</td>\n      <td>42.350549</td>\n      <td>-71.080311</td>\n      <td>Terra</td>\n      <td>42.347748</td>\n      <td>-71.082418</td>\n      <td>Restaurant</td>\n    </tr>\n    <tr>\n      <th>557</th>\n      <td>Back Bay</td>\n      <td>42.350549</td>\n      <td>-71.080311</td>\n      <td>wagamama</td>\n      <td>42.347627</td>\n      <td>-71.081685</td>\n      <td>Restaurant</td>\n    </tr>\n    <tr>\n      <th>562</th>\n      <td>Back Bay</td>\n      <td>42.350549</td>\n      <td>-71.080311</td>\n      <td>Kashmir Indian Restaurant</td>\n      <td>42.349252</td>\n      <td>-71.083969</td>\n      <td>Restaurant</td>\n    </tr>\n    <tr>\n      <th>566</th>\n      <td>Back Bay</td>\n      <td>42.350549</td>\n      <td>-71.080311</td>\n      <td>Santouka Ramen</td>\n      <td>42.348496</td>\n      <td>-71.085519</td>\n      <td>Restaurant</td>\n    </tr>\n    <tr>\n      <th>568</th>\n      <td>Back Bay</td>\n      <td>42.350549</td>\n      <td>-71.080311</td>\n      <td>Casa Romero</td>\n      <td>42.349420</td>\n      <td>-71.084410</td>\n      <td>Restaurant</td>\n    </tr>\n    <tr>\n      <th>572</th>\n      <td>Back Bay</td>\n      <td>42.350549</td>\n      <td>-71.080311</td>\n      <td>La Piazza at Eataly</td>\n      <td>42.347749</td>\n      <td>-71.082406</td>\n      <td>Restaurant</td>\n    </tr>\n    <tr>\n      <th>578</th>\n      <td>East Boston</td>\n      <td>42.375097</td>\n      <td>-71.039217</td>\n      <td>La Hacienda</td>\n      <td>42.373965</td>\n      <td>-71.039027</td>\n      <td>Restaurant</td>\n    </tr>\n    <tr>\n      <th>580</th>\n      <td>East Boston</td>\n      <td>42.375097</td>\n      <td>-71.039217</td>\n      <td>Restaurante El Pe\u00f1ol</td>\n      <td>42.375676</td>\n      <td>-71.036970</td>\n      <td>Restaurant</td>\n    </tr>\n    <tr>\n      <th>585</th>\n      <td>East Boston</td>\n      <td>42.375097</td>\n      <td>-71.039217</td>\n      <td>McDonald's</td>\n      <td>42.374450</td>\n      <td>-71.040254</td>\n      <td>Restaurant</td>\n    </tr>\n    <tr>\n      <th>586</th>\n      <td>East Boston</td>\n      <td>42.375097</td>\n      <td>-71.039217</td>\n      <td>Saigon Restaurant</td>\n      <td>42.377233</td>\n      <td>-71.039152</td>\n      <td>Restaurant</td>\n    </tr>\n    <tr>\n      <th>588</th>\n      <td>East Boston</td>\n      <td>42.375097</td>\n      <td>-71.039217</td>\n      <td>D'Amelio's</td>\n      <td>42.374372</td>\n      <td>-71.037946</td>\n      <td>Restaurant</td>\n    </tr>\n    <tr>\n      <th>597</th>\n      <td>East Boston</td>\n      <td>42.375097</td>\n      <td>-71.039217</td>\n      <td>Mi Pueblito Restaurant</td>\n      <td>42.379043</td>\n      <td>-71.039933</td>\n      <td>Restaurant</td>\n    </tr>\n    <tr>\n      <th>601</th>\n      <td>East Boston</td>\n      <td>42.375097</td>\n      <td>-71.039217</td>\n      <td>Craft Table &amp; Bar</td>\n      <td>42.373035</td>\n      <td>-71.036082</td>\n      <td>Restaurant</td>\n    </tr>\n    <tr>\n      <th>603</th>\n      <td>East Boston</td>\n      <td>42.375097</td>\n      <td>-71.039217</td>\n      <td>Tertulias Cafe</td>\n      <td>42.374580</td>\n      <td>-71.037794</td>\n      <td>Restaurant</td>\n    </tr>\n    <tr>\n      <th>605</th>\n      <td>East Boston</td>\n      <td>42.375097</td>\n      <td>-71.039217</td>\n      <td>Pazza on Porter</td>\n      <td>42.372921</td>\n      <td>-71.036041</td>\n      <td>Restaurant</td>\n    </tr>\n    <tr>\n      <th>606</th>\n      <td>East Boston</td>\n      <td>42.375097</td>\n      <td>-71.039217</td>\n      <td>Canton Eatery</td>\n      <td>42.378438</td>\n      <td>-71.039211</td>\n      <td>Restaurant</td>\n    </tr>\n    <tr>\n      <th>609</th>\n      <td>East Boston</td>\n      <td>42.375097</td>\n      <td>-71.039217</td>\n      <td>Barney's Grill</td>\n      <td>42.376739</td>\n      <td>-71.033773</td>\n      <td>Restaurant</td>\n    </tr>\n    <tr>\n      <th>618</th>\n      <td>Charlestown</td>\n      <td>42.377875</td>\n      <td>-71.061996</td>\n      <td>Sweet Rice</td>\n      <td>42.375896</td>\n      <td>-71.064861</td>\n      <td>Restaurant</td>\n    </tr>\n    <tr>\n      <th>626</th>\n      <td>Charlestown</td>\n      <td>42.377875</td>\n      <td>-71.061996</td>\n      <td>Tangierino</td>\n      <td>42.373950</td>\n      <td>-71.062880</td>\n      <td>Restaurant</td>\n    </tr>\n    <tr>\n      <th>637</th>\n      <td>Charlestown</td>\n      <td>42.377875</td>\n      <td>-71.061996</td>\n      <td>Ninety Nine Restaurant</td>\n      <td>42.376034</td>\n      <td>-71.065658</td>\n      <td>Restaurant</td>\n    </tr>\n    <tr>\n      <th>651</th>\n      <td>West End</td>\n      <td>42.363919</td>\n      <td>-71.063899</td>\n      <td>The Tip Tap Room</td>\n      <td>42.361153</td>\n      <td>-71.063976</td>\n      <td>Restaurant</td>\n    </tr>\n    <tr>\n      <th>652</th>\n      <td>West End</td>\n      <td>42.363919</td>\n      <td>-71.063899</td>\n      <td>Qdoba Mexican Grill</td>\n      <td>42.364872</td>\n      <td>-71.061837</td>\n      <td>Restaurant</td>\n    </tr>\n    <tr>\n      <th>654</th>\n      <td>West End</td>\n      <td>42.363919</td>\n      <td>-71.063899</td>\n      <td>Osteria Rustico</td>\n      <td>42.364397</td>\n      <td>-71.059870</td>\n      <td>Restaurant</td>\n    </tr>\n    <tr>\n      <th>660</th>\n      <td>West End</td>\n      <td>42.363919</td>\n      <td>-71.063899</td>\n      <td>Bishop's Mediterranean</td>\n      <td>42.363129</td>\n      <td>-71.063915</td>\n      <td>Restaurant</td>\n    </tr>\n    <tr>\n      <th>667</th>\n      <td>West End</td>\n      <td>42.363919</td>\n      <td>-71.063899</td>\n      <td>Grotto</td>\n      <td>42.359915</td>\n      <td>-71.062807</td>\n      <td>Restaurant</td>\n    </tr>\n    <tr>\n      <th>669</th>\n      <td>West End</td>\n      <td>42.363919</td>\n      <td>-71.063899</td>\n      <td>Ma Maison</td>\n      <td>42.361095</td>\n      <td>-71.067915</td>\n      <td>Restaurant</td>\n    </tr>\n    <tr>\n      <th>672</th>\n      <td>West End</td>\n      <td>42.363919</td>\n      <td>-71.063899</td>\n      <td>Anna's Taqueria</td>\n      <td>42.361187</td>\n      <td>-71.067009</td>\n      <td>Restaurant</td>\n    </tr>\n    <tr>\n      <th>673</th>\n      <td>West End</td>\n      <td>42.363919</td>\n      <td>-71.063899</td>\n      <td>Alcove</td>\n      <td>42.367270</td>\n      <td>-71.060597</td>\n      <td>Restaurant</td>\n    </tr>\n    <tr>\n      <th>676</th>\n      <td>West End</td>\n      <td>42.363919</td>\n      <td>-71.063899</td>\n      <td>Seoul</td>\n      <td>42.360981</td>\n      <td>-71.064676</td>\n      <td>Restaurant</td>\n    </tr>\n    <tr>\n      <th>686</th>\n      <td>West End</td>\n      <td>42.363919</td>\n      <td>-71.063899</td>\n      <td>Antonio's Cucina Italiana</td>\n      <td>42.361152</td>\n      <td>-71.068327</td>\n      <td>Restaurant</td>\n    </tr>\n    <tr>\n      <th>688</th>\n      <td>West End</td>\n      <td>42.363919</td>\n      <td>-71.063899</td>\n      <td>Pierrot Bistrot Francais</td>\n      <td>42.361123</td>\n      <td>-71.067980</td>\n      <td>Restaurant</td>\n    </tr>\n    <tr>\n      <th>695</th>\n      <td>West End</td>\n      <td>42.363919</td>\n      <td>-71.063899</td>\n      <td>Fin's Sushi &amp; Grill</td>\n      <td>42.361270</td>\n      <td>-71.066767</td>\n      <td>Restaurant</td>\n    </tr>\n    <tr>\n      <th>706</th>\n      <td>West End</td>\n      <td>42.363919</td>\n      <td>-71.063899</td>\n      <td>New Sushi, Inc</td>\n      <td>42.361182</td>\n      <td>-71.063259</td>\n      <td>Restaurant</td>\n    </tr>\n    <tr>\n      <th>724</th>\n      <td>West End</td>\n      <td>42.363919</td>\n      <td>-71.063899</td>\n      <td>Finch</td>\n      <td>42.363906</td>\n      <td>-71.062543</td>\n      <td>Restaurant</td>\n    </tr>\n    <tr>\n      <th>745</th>\n      <td>Beacon Hill</td>\n      <td>42.358708</td>\n      <td>-71.067829</td>\n      <td>Toscano Restaurant</td>\n      <td>42.357360</td>\n      <td>-71.070026</td>\n      <td>Restaurant</td>\n    </tr>\n    <tr>\n      <th>748</th>\n      <td>Beacon Hill</td>\n      <td>42.358708</td>\n      <td>-71.067829</td>\n      <td>Ma Maison</td>\n      <td>42.361095</td>\n      <td>-71.067915</td>\n      <td>Restaurant</td>\n    </tr>\n    <tr>\n      <th>752</th>\n      <td>Beacon Hill</td>\n      <td>42.358708</td>\n      <td>-71.067829</td>\n      <td>Hulun Beir</td>\n      <td>42.360934</td>\n      <td>-71.068929</td>\n      <td>Restaurant</td>\n    </tr>\n    <tr>\n      <th>758</th>\n      <td>Beacon Hill</td>\n      <td>42.358708</td>\n      <td>-71.067829</td>\n      <td>Anna's Taqueria</td>\n      <td>42.361187</td>\n      <td>-71.067009</td>\n      <td>Restaurant</td>\n    </tr>\n    <tr>\n      <th>761</th>\n      <td>Beacon Hill</td>\n      <td>42.358708</td>\n      <td>-71.067829</td>\n      <td>75 Chestnut</td>\n      <td>42.356805</td>\n      <td>-71.070932</td>\n      <td>Restaurant</td>\n    </tr>\n    <tr>\n      <th>762</th>\n      <td>Beacon Hill</td>\n      <td>42.358708</td>\n      <td>-71.067829</td>\n      <td>No. 9 Park</td>\n      <td>42.357540</td>\n      <td>-71.063193</td>\n      <td>Restaurant</td>\n    </tr>\n    <tr>\n      <th>763</th>\n      <td>Beacon Hill</td>\n      <td>42.358708</td>\n      <td>-71.067829</td>\n      <td>Grotto</td>\n      <td>42.359915</td>\n      <td>-71.062807</td>\n      <td>Restaurant</td>\n    </tr>\n    <tr>\n      <th>764</th>\n      <td>Beacon Hill</td>\n      <td>42.358708</td>\n      <td>-71.067829</td>\n      <td>The Tip Tap Room</td>\n      <td>42.361153</td>\n      <td>-71.063976</td>\n      <td>Restaurant</td>\n    </tr>\n    <tr>\n      <th>766</th>\n      <td>Beacon Hill</td>\n      <td>42.358708</td>\n      <td>-71.067829</td>\n      <td>Scampo at The Liberty Hotel</td>\n      <td>42.361937</td>\n      <td>-71.070513</td>\n      <td>Restaurant</td>\n    </tr>\n    <tr>\n      <th>768</th>\n      <td>Beacon Hill</td>\n      <td>42.358708</td>\n      <td>-71.067829</td>\n      <td>Union Club of Boston</td>\n      <td>42.357411</td>\n      <td>-71.062702</td>\n      <td>Restaurant</td>\n    </tr>\n    <tr>\n      <th>773</th>\n      <td>Beacon Hill</td>\n      <td>42.358708</td>\n      <td>-71.067829</td>\n      <td>Zen Japanese Grill &amp; Sushi Bar</td>\n      <td>42.358020</td>\n      <td>-71.062531</td>\n      <td>Restaurant</td>\n    </tr>\n    <tr>\n      <th>775</th>\n      <td>Beacon Hill</td>\n      <td>42.358708</td>\n      <td>-71.067829</td>\n      <td>Seoul</td>\n      <td>42.360981</td>\n      <td>-71.064676</td>\n      <td>Restaurant</td>\n    </tr>\n    <tr>\n      <th>806</th>\n      <td>Downtown</td>\n      <td>42.263069</td>\n      <td>-71.802002</td>\n      <td>Oishi</td>\n      <td>42.261536</td>\n      <td>-71.802249</td>\n      <td>Restaurant</td>\n    </tr>\n    <tr>\n      <th>807</th>\n      <td>Downtown</td>\n      <td>42.263069</td>\n      <td>-71.802002</td>\n      <td>Shangri-La</td>\n      <td>42.258664</td>\n      <td>-71.802767</td>\n      <td>Restaurant</td>\n    </tr>\n    <tr>\n      <th>808</th>\n      <td>Downtown</td>\n      <td>42.263069</td>\n      <td>-71.802002</td>\n      <td>110 Grill</td>\n      <td>42.262051</td>\n      <td>-71.798801</td>\n      <td>Restaurant</td>\n    </tr>\n    <tr>\n      <th>815</th>\n      <td>Fenway</td>\n      <td>42.345187</td>\n      <td>-71.104599</td>\n      <td>Gyu-Kaku Japanese BBQ</td>\n      <td>42.346322</td>\n      <td>-71.106985</td>\n      <td>Restaurant</td>\n    </tr>\n    <tr>\n      <th>817</th>\n      <td>Fenway</td>\n      <td>42.345187</td>\n      <td>-71.104599</td>\n      <td>Cafe Landwer</td>\n      <td>42.346659</td>\n      <td>-71.105558</td>\n      <td>Restaurant</td>\n    </tr>\n    <tr>\n      <th>820</th>\n      <td>Fenway</td>\n      <td>42.345187</td>\n      <td>-71.104599</td>\n      <td>Taberna de Haro</td>\n      <td>42.345824</td>\n      <td>-71.106775</td>\n      <td>Restaurant</td>\n    </tr>\n    <tr>\n      <th>821</th>\n      <td>Fenway</td>\n      <td>42.345187</td>\n      <td>-71.104599</td>\n      <td>Futago Udon</td>\n      <td>42.347624</td>\n      <td>-71.105899</td>\n      <td>Restaurant</td>\n    </tr>\n    <tr>\n      <th>824</th>\n      <td>Fenway</td>\n      <td>42.345187</td>\n      <td>-71.104599</td>\n      <td>Audubon Boston</td>\n      <td>42.347359</td>\n      <td>-71.103189</td>\n      <td>Restaurant</td>\n    </tr>\n    <tr>\n      <th>826</th>\n      <td>Fenway</td>\n      <td>42.345187</td>\n      <td>-71.104599</td>\n      <td>Sol Azteca</td>\n      <td>42.346466</td>\n      <td>-71.106005</td>\n      <td>Restaurant</td>\n    </tr>\n    <tr>\n      <th>827</th>\n      <td>Fenway</td>\n      <td>42.345187</td>\n      <td>-71.104599</td>\n      <td>Mei Mei</td>\n      <td>42.347481</td>\n      <td>-71.105949</td>\n      <td>Restaurant</td>\n    </tr>\n    <tr>\n      <th>831</th>\n      <td>Fenway</td>\n      <td>42.345187</td>\n      <td>-71.104599</td>\n      <td>Chipotle Mexican Grill</td>\n      <td>42.344657</td>\n      <td>-71.100825</td>\n      <td>Restaurant</td>\n    </tr>\n    <tr>\n      <th>832</th>\n      <td>Fenway</td>\n      <td>42.345187</td>\n      <td>-71.104599</td>\n      <td>Yard House</td>\n      <td>42.345118</td>\n      <td>-71.100226</td>\n      <td>Restaurant</td>\n    </tr>\n    <tr>\n      <th>837</th>\n      <td>Fenway</td>\n      <td>42.345187</td>\n      <td>-71.104599</td>\n      <td>Saloniki Greek</td>\n      <td>42.344833</td>\n      <td>-71.100620</td>\n      <td>Restaurant</td>\n    </tr>\n    <tr>\n      <th>839</th>\n      <td>Fenway</td>\n      <td>42.345187</td>\n      <td>-71.104599</td>\n      <td>Cava</td>\n      <td>42.343972</td>\n      <td>-71.099204</td>\n      <td>Restaurant</td>\n    </tr>\n    <tr>\n      <th>845</th>\n      <td>Fenway</td>\n      <td>42.345187</td>\n      <td>-71.104599</td>\n      <td>Thornton's Fenway Grille</td>\n      <td>42.343063</td>\n      <td>-71.099494</td>\n      <td>Restaurant</td>\n    </tr>\n    <tr>\n      <th>849</th>\n      <td>Fenway</td>\n      <td>42.345187</td>\n      <td>-71.104599</td>\n      <td>Eventide</td>\n      <td>42.344411</td>\n      <td>-71.098818</td>\n      <td>Restaurant</td>\n    </tr>\n    <tr>\n      <th>850</th>\n      <td>Fenway</td>\n      <td>42.345187</td>\n      <td>-71.104599</td>\n      <td>Rod Dee 2</td>\n      <td>42.343167</td>\n      <td>-71.099210</td>\n      <td>Restaurant</td>\n    </tr>\n    <tr>\n      <th>858</th>\n      <td>Brighton</td>\n      <td>42.350097</td>\n      <td>-71.156442</td>\n      <td>Esperia Grill</td>\n      <td>42.349016</td>\n      <td>-71.152825</td>\n      <td>Restaurant</td>\n    </tr>\n    <tr>\n      <th>860</th>\n      <td>Brighton</td>\n      <td>42.350097</td>\n      <td>-71.156442</td>\n      <td>Devlin's Restaurant</td>\n      <td>42.348928</td>\n      <td>-71.152384</td>\n      <td>Restaurant</td>\n    </tr>\n    <tr>\n      <th>879</th>\n      <td>Brighton</td>\n      <td>42.350097</td>\n      <td>-71.156442</td>\n      <td>Dragon Chef</td>\n      <td>42.349218</td>\n      <td>-71.155339</td>\n      <td>Restaurant</td>\n    </tr>\n    <tr>\n      <th>881</th>\n      <td>Brighton</td>\n      <td>42.350097</td>\n      <td>-71.156442</td>\n      <td>MDM Noodles</td>\n      <td>42.349154</td>\n      <td>-71.152830</td>\n      <td>Restaurant</td>\n    </tr>\n    <tr>\n      <th>882</th>\n      <td>Brighton</td>\n      <td>42.350097</td>\n      <td>-71.156442</td>\n      <td>Bangkok Bistro</td>\n      <td>42.349214</td>\n      <td>-71.156914</td>\n      <td>Restaurant</td>\n    </tr>\n    <tr>\n      <th>883</th>\n      <td>Brighton</td>\n      <td>42.350097</td>\n      <td>-71.156442</td>\n      <td>Asahi</td>\n      <td>42.349267</td>\n      <td>-71.153497</td>\n      <td>Restaurant</td>\n    </tr>\n    <tr>\n      <th>891</th>\n      <td>Brighton</td>\n      <td>42.350097</td>\n      <td>-71.156442</td>\n      <td>Happy Garden</td>\n      <td>42.348930</td>\n      <td>-71.153719</td>\n      <td>Restaurant</td>\n    </tr>\n    <tr>\n      <th>903</th>\n      <td>Hyde Park</td>\n      <td>42.255654</td>\n      <td>-71.124496</td>\n      <td>River Grille Restaurant &amp; Cafe</td>\n      <td>42.255948</td>\n      <td>-71.123980</td>\n      <td>Restaurant</td>\n    </tr>\n    <tr>\n      <th>904</th>\n      <td>Hyde Park</td>\n      <td>42.255654</td>\n      <td>-71.124496</td>\n      <td>Fairmount Grille</td>\n      <td>42.254637</td>\n      <td>-71.120041</td>\n      <td>Restaurant</td>\n    </tr>\n    <tr>\n      <th>914</th>\n      <td>Hyde Park</td>\n      <td>42.255654</td>\n      <td>-71.124496</td>\n      <td>Antonio's Bacaro</td>\n      <td>42.255763</td>\n      <td>-71.120955</td>\n      <td>Restaurant</td>\n    </tr>\n    <tr>\n      <th>918</th>\n      <td>Mattapan</td>\n      <td>42.267566</td>\n      <td>-71.092427</td>\n      <td>Brothers Deli &amp; Restaurant</td>\n      <td>42.268276</td>\n      <td>-71.093551</td>\n      <td>Restaurant</td>\n    </tr>\n    <tr>\n      <th>921</th>\n      <td>Mattapan</td>\n      <td>42.267566</td>\n      <td>-71.092427</td>\n      <td>Golden Krust Caribbean Restaurant</td>\n      <td>42.268841</td>\n      <td>-71.093468</td>\n      <td>Restaurant</td>\n    </tr>\n    <tr>\n      <th>923</th>\n      <td>Mattapan</td>\n      <td>42.267566</td>\n      <td>-71.092427</td>\n      <td>Burger King</td>\n      <td>42.268216</td>\n      <td>-71.095763</td>\n      <td>Restaurant</td>\n    </tr>\n    <tr>\n      <th>929</th>\n      <td>Dorchester</td>\n      <td>42.297320</td>\n      <td>-71.074495</td>\n      <td>Down Home Delivery</td>\n      <td>42.299496</td>\n      <td>-71.073426</td>\n      <td>Restaurant</td>\n    </tr>\n    <tr>\n      <th>936</th>\n      <td>Dorchester</td>\n      <td>42.297320</td>\n      <td>-71.074495</td>\n      <td>Oasis Vegan Veggie Parlor</td>\n      <td>42.299572</td>\n      <td>-71.073652</td>\n      <td>Restaurant</td>\n    </tr>\n    <tr>\n      <th>940</th>\n      <td>South Boston Waterfront</td>\n      <td>42.333431</td>\n      <td>-71.049495</td>\n      <td>Capo</td>\n      <td>42.336070</td>\n      <td>-71.047079</td>\n      <td>Restaurant</td>\n    </tr>\n    <tr>\n      <th>941</th>\n      <td>South Boston Waterfront</td>\n      <td>42.333431</td>\n      <td>-71.049495</td>\n      <td>Alfredo's Italian Kitchen</td>\n      <td>42.332819</td>\n      <td>-71.051181</td>\n      <td>Restaurant</td>\n    </tr>\n    <tr>\n      <th>942</th>\n      <td>South Boston Waterfront</td>\n      <td>42.333431</td>\n      <td>-71.049495</td>\n      <td>Lincoln Tavern &amp; Restaurant</td>\n      <td>42.336406</td>\n      <td>-71.047522</td>\n      <td>Restaurant</td>\n    </tr>\n    <tr>\n      <th>944</th>\n      <td>South Boston Waterfront</td>\n      <td>42.333431</td>\n      <td>-71.049495</td>\n      <td>Loco Taqueria &amp; Oyster Bar</td>\n      <td>42.336999</td>\n      <td>-71.047803</td>\n      <td>Restaurant</td>\n    </tr>\n    <tr>\n      <th>949</th>\n      <td>South Boston Waterfront</td>\n      <td>42.333431</td>\n      <td>-71.049495</td>\n      <td>Fat Baby</td>\n      <td>42.335147</td>\n      <td>-71.046168</td>\n      <td>Restaurant</td>\n    </tr>\n    <tr>\n      <th>964</th>\n      <td>South Boston Waterfront</td>\n      <td>42.333431</td>\n      <td>-71.049495</td>\n      <td>The New Ho Toy</td>\n      <td>42.332775</td>\n      <td>-71.053470</td>\n      <td>Restaurant</td>\n    </tr>\n    <tr>\n      <th>979</th>\n      <td>South Boston</td>\n      <td>42.333431</td>\n      <td>-71.049495</td>\n      <td>Capo</td>\n      <td>42.336070</td>\n      <td>-71.047079</td>\n      <td>Restaurant</td>\n    </tr>\n    <tr>\n      <th>980</th>\n      <td>South Boston</td>\n      <td>42.333431</td>\n      <td>-71.049495</td>\n      <td>Alfredo's Italian Kitchen</td>\n      <td>42.332819</td>\n      <td>-71.051181</td>\n      <td>Restaurant</td>\n    </tr>\n    <tr>\n      <th>981</th>\n      <td>South Boston</td>\n      <td>42.333431</td>\n      <td>-71.049495</td>\n      <td>Lincoln Tavern &amp; Restaurant</td>\n      <td>42.336406</td>\n      <td>-71.047522</td>\n      <td>Restaurant</td>\n    </tr>\n    <tr>\n      <th>983</th>\n      <td>South Boston</td>\n      <td>42.333431</td>\n      <td>-71.049495</td>\n      <td>Loco Taqueria &amp; Oyster Bar</td>\n      <td>42.336999</td>\n      <td>-71.047803</td>\n      <td>Restaurant</td>\n    </tr>\n    <tr>\n      <th>988</th>\n      <td>South Boston</td>\n      <td>42.333431</td>\n      <td>-71.049495</td>\n      <td>Fat Baby</td>\n      <td>42.335147</td>\n      <td>-71.046168</td>\n      <td>Restaurant</td>\n    </tr>\n    <tr>\n      <th>1003</th>\n      <td>South Boston</td>\n      <td>42.333431</td>\n      <td>-71.049495</td>\n      <td>The New Ho Toy</td>\n      <td>42.332775</td>\n      <td>-71.053470</td>\n      <td>Restaurant</td>\n    </tr>\n    <tr>\n      <th>1018</th>\n      <td>Allston</td>\n      <td>42.355434</td>\n      <td>-71.132127</td>\n      <td>Lulu's Allston</td>\n      <td>42.355068</td>\n      <td>-71.134107</td>\n      <td>Restaurant</td>\n    </tr>\n    <tr>\n      <th>1019</th>\n      <td>Allston</td>\n      <td>42.355434</td>\n      <td>-71.132127</td>\n      <td>Kaju Tofu House</td>\n      <td>42.354329</td>\n      <td>-71.132374</td>\n      <td>Restaurant</td>\n    </tr>\n    <tr>\n      <th>1020</th>\n      <td>Allston</td>\n      <td>42.355434</td>\n      <td>-71.132127</td>\n      <td>Azama Grill</td>\n      <td>42.354422</td>\n      <td>-71.132358</td>\n      <td>Restaurant</td>\n    </tr>\n    <tr>\n      <th>1021</th>\n      <td>Allston</td>\n      <td>42.355434</td>\n      <td>-71.132127</td>\n      <td>Fish Market Sushi Bar</td>\n      <td>42.353039</td>\n      <td>-71.132975</td>\n      <td>Restaurant</td>\n    </tr>\n    <tr>\n      <th>1024</th>\n      <td>Allston</td>\n      <td>42.355434</td>\n      <td>-71.132127</td>\n      <td>Myung Dong 1st Ave</td>\n      <td>42.353383</td>\n      <td>-71.132121</td>\n      <td>Restaurant</td>\n    </tr>\n    <tr>\n      <th>1025</th>\n      <td>Allston</td>\n      <td>42.355434</td>\n      <td>-71.132127</td>\n      <td>Coreanos</td>\n      <td>42.353042</td>\n      <td>-71.132925</td>\n      <td>Restaurant</td>\n    </tr>\n    <tr>\n      <th>1026</th>\n      <td>Allston</td>\n      <td>42.355434</td>\n      <td>-71.132127</td>\n      <td>Mala Restaurant</td>\n      <td>42.352960</td>\n      <td>-71.131033</td>\n      <td>Restaurant</td>\n    </tr>\n    <tr>\n      <th>1028</th>\n      <td>Allston</td>\n      <td>42.355434</td>\n      <td>-71.132127</td>\n      <td>Thai Place</td>\n      <td>42.353185</td>\n      <td>-71.133784</td>\n      <td>Restaurant</td>\n    </tr>\n    <tr>\n      <th>1030</th>\n      <td>Allston</td>\n      <td>42.355434</td>\n      <td>-71.132127</td>\n      <td>Carlo's Cucina Italiana</td>\n      <td>42.353026</td>\n      <td>-71.131135</td>\n      <td>Restaurant</td>\n    </tr>\n    <tr>\n      <th>1031</th>\n      <td>Allston</td>\n      <td>42.355434</td>\n      <td>-71.132127</td>\n      <td>Shabu Zen</td>\n      <td>42.352678</td>\n      <td>-71.129113</td>\n      <td>Restaurant</td>\n    </tr>\n    <tr>\n      <th>1032</th>\n      <td>Allston</td>\n      <td>42.355434</td>\n      <td>-71.132127</td>\n      <td>Punjab Palace</td>\n      <td>42.352839</td>\n      <td>-71.130520</td>\n      <td>Restaurant</td>\n    </tr>\n    <tr>\n      <th>1033</th>\n      <td>Allston</td>\n      <td>42.355434</td>\n      <td>-71.132127</td>\n      <td>Bazaar</td>\n      <td>42.354782</td>\n      <td>-71.134428</td>\n      <td>Restaurant</td>\n    </tr>\n    <tr>\n      <th>1037</th>\n      <td>Allston</td>\n      <td>42.355434</td>\n      <td>-71.132127</td>\n      <td>Habanero Mexican Grill</td>\n      <td>42.352998</td>\n      <td>-71.132791</td>\n      <td>Restaurant</td>\n    </tr>\n    <tr>\n      <th>1038</th>\n      <td>Allston</td>\n      <td>42.355434</td>\n      <td>-71.132127</td>\n      <td>Garlic 'n Lemons</td>\n      <td>42.352163</td>\n      <td>-71.131948</td>\n      <td>Restaurant</td>\n    </tr>\n    <tr>\n      <th>1039</th>\n      <td>Allston</td>\n      <td>42.355434</td>\n      <td>-71.132127</td>\n      <td>Whole Heart Provisions</td>\n      <td>42.353745</td>\n      <td>-71.137189</td>\n      <td>Restaurant</td>\n    </tr>\n    <tr>\n      <th>1041</th>\n      <td>Allston</td>\n      <td>42.355434</td>\n      <td>-71.132127</td>\n      <td>Dolphin Bay</td>\n      <td>42.352553</td>\n      <td>-71.128739</td>\n      <td>Restaurant</td>\n    </tr>\n    <tr>\n      <th>1049</th>\n      <td>Allston</td>\n      <td>42.355434</td>\n      <td>-71.132127</td>\n      <td>Asia Wok</td>\n      <td>42.354576</td>\n      <td>-71.132423</td>\n      <td>Restaurant</td>\n    </tr>\n    <tr>\n      <th>1050</th>\n      <td>Allston</td>\n      <td>42.355434</td>\n      <td>-71.132127</td>\n      <td>Jo Jo TaiPei</td>\n      <td>42.352788</td>\n      <td>-71.130414</td>\n      <td>Restaurant</td>\n    </tr>\n    <tr>\n      <th>1054</th>\n      <td>Allston</td>\n      <td>42.355434</td>\n      <td>-71.132127</td>\n      <td>Dumpling Kingdom</td>\n      <td>42.352077</td>\n      <td>-71.131895</td>\n      <td>Restaurant</td>\n    </tr>\n    <tr>\n      <th>1055</th>\n      <td>Allston</td>\n      <td>42.355434</td>\n      <td>-71.132127</td>\n      <td>A@time</td>\n      <td>42.354939</td>\n      <td>-71.134358</td>\n      <td>Restaurant</td>\n    </tr>\n    <tr>\n      <th>1056</th>\n      <td>Allston</td>\n      <td>42.355434</td>\n      <td>-71.132127</td>\n      <td>Le's Vietnamese Restaurant</td>\n      <td>42.353022</td>\n      <td>-71.131408</td>\n      <td>Restaurant</td>\n    </tr>\n    <tr>\n      <th>1059</th>\n      <td>Allston</td>\n      <td>42.355434</td>\n      <td>-71.132127</td>\n      <td>Korean Garden</td>\n      <td>42.352325</td>\n      <td>-71.131861</td>\n      <td>Restaurant</td>\n    </tr>\n    <tr>\n      <th>1060</th>\n      <td>Allston</td>\n      <td>42.355434</td>\n      <td>-71.132127</td>\n      <td>Amelia's Taqueria</td>\n      <td>42.353049</td>\n      <td>-71.133678</td>\n      <td>Restaurant</td>\n    </tr>\n    <tr>\n      <th>1061</th>\n      <td>Allston</td>\n      <td>42.355434</td>\n      <td>-71.132127</td>\n      <td>Buk Kyung II (BK2)</td>\n      <td>42.353016</td>\n      <td>-71.131892</td>\n      <td>Restaurant</td>\n    </tr>\n    <tr>\n      <th>1066</th>\n      <td>Allston</td>\n      <td>42.355434</td>\n      <td>-71.132127</td>\n      <td>YoMa Burmese Restaurant</td>\n      <td>42.353669</td>\n      <td>-71.137583</td>\n      <td>Restaurant</td>\n    </tr>\n    <tr>\n      <th>1067</th>\n      <td>Allston</td>\n      <td>42.355434</td>\n      <td>-71.132127</td>\n      <td>S &amp; I Thai</td>\n      <td>42.353013</td>\n      <td>-71.132889</td>\n      <td>Restaurant</td>\n    </tr>\n    <tr>\n      <th>1073</th>\n      <td>Allston</td>\n      <td>42.355434</td>\n      <td>-71.132127</td>\n      <td>SAKANAYA</td>\n      <td>42.352504</td>\n      <td>-71.130372</td>\n      <td>Restaurant</td>\n    </tr>\n    <tr>\n      <th>1074</th>\n      <td>Allston</td>\n      <td>42.355434</td>\n      <td>-71.132127</td>\n      <td>Blue Asia Cafe</td>\n      <td>42.352913</td>\n      <td>-71.130675</td>\n      <td>Restaurant</td>\n    </tr>\n    <tr>\n      <th>1077</th>\n      <td>Allston</td>\n      <td>42.355434</td>\n      <td>-71.132127</td>\n      <td>Hanmaru Restaurant</td>\n      <td>42.351381</td>\n      <td>-71.131451</td>\n      <td>Restaurant</td>\n    </tr>\n    <tr>\n      <th>1079</th>\n      <td>Allston</td>\n      <td>42.355434</td>\n      <td>-71.132127</td>\n      <td>Taqueria El Carrizal</td>\n      <td>42.353287</td>\n      <td>-71.136654</td>\n      <td>Restaurant</td>\n    </tr>\n    <tr>\n      <th>1081</th>\n      <td>Allston</td>\n      <td>42.355434</td>\n      <td>-71.132127</td>\n      <td>Alfredo's</td>\n      <td>42.353478</td>\n      <td>-71.135810</td>\n      <td>Restaurant</td>\n    </tr>\n    <tr>\n      <th>1084</th>\n      <td>Allston</td>\n      <td>42.355434</td>\n      <td>-71.132127</td>\n      <td>Grasshopper</td>\n      <td>42.353758</td>\n      <td>-71.137440</td>\n      <td>Restaurant</td>\n    </tr>\n    <tr>\n      <th>1096</th>\n      <td>Allston</td>\n      <td>42.355434</td>\n      <td>-71.132127</td>\n      <td>Burger King</td>\n      <td>42.353034</td>\n      <td>-71.135002</td>\n      <td>Restaurant</td>\n    </tr>\n    <tr>\n      <th>2</th>\n      <td>Roslindale</td>\n      <td>42.291209</td>\n      <td>-71.124497</td>\n      <td>Roslindale House Of Pizza</td>\n      <td>42.287989</td>\n      <td>-71.126549</td>\n      <td>Restaurant</td>\n    </tr>\n    <tr>\n      <th>20</th>\n      <td>Jamaica Plain</td>\n      <td>42.309820</td>\n      <td>-71.120330</td>\n      <td>JP House of Pizza</td>\n      <td>42.309898</td>\n      <td>-71.115335</td>\n      <td>Restaurant</td>\n    </tr>\n    <tr>\n      <th>29</th>\n      <td>Mission Hill</td>\n      <td>42.332560</td>\n      <td>-71.103608</td>\n      <td>Penguin Pizza</td>\n      <td>42.334022</td>\n      <td>-71.105148</td>\n      <td>Restaurant</td>\n    </tr>\n    <tr>\n      <th>40</th>\n      <td>Mission Hill</td>\n      <td>42.332560</td>\n      <td>-71.103608</td>\n      <td>Crispy Dough Pizzeria</td>\n      <td>42.332252</td>\n      <td>-71.099526</td>\n      <td>Restaurant</td>\n    </tr>\n    <tr>\n      <th>200</th>\n      <td>Leather District</td>\n      <td>42.352322</td>\n      <td>-71.057343</td>\n      <td>Oath Pizza - South Station</td>\n      <td>42.351512</td>\n      <td>-71.055041</td>\n      <td>Restaurant</td>\n    </tr>\n    <tr>\n      <th>288</th>\n      <td>Chinatown</td>\n      <td>42.352217</td>\n      <td>-71.062607</td>\n      <td>Blaze Pizza</td>\n      <td>42.351041</td>\n      <td>-71.065615</td>\n      <td>Restaurant</td>\n    </tr>\n    <tr>\n      <th>301</th>\n      <td>Chinatown</td>\n      <td>42.352217</td>\n      <td>-71.062607</td>\n      <td>Sal's Pizza</td>\n      <td>42.354890</td>\n      <td>-71.063517</td>\n      <td>Restaurant</td>\n    </tr>\n    <tr>\n      <th>330</th>\n      <td>Chinatown</td>\n      <td>42.352217</td>\n      <td>-71.062607</td>\n      <td>Boston Kitchen Pizza</td>\n      <td>42.350902</td>\n      <td>-71.063024</td>\n      <td>Restaurant</td>\n    </tr>\n    <tr>\n      <th>335</th>\n      <td>North End</td>\n      <td>42.365097</td>\n      <td>-71.054495</td>\n      <td>Regina Pizzeria</td>\n      <td>42.365394</td>\n      <td>-71.056883</td>\n      <td>Restaurant</td>\n    </tr>\n    <tr>\n      <th>339</th>\n      <td>North End</td>\n      <td>42.365097</td>\n      <td>-71.054495</td>\n      <td>Locale</td>\n      <td>42.365055</td>\n      <td>-71.053271</td>\n      <td>Restaurant</td>\n    </tr>\n    <tr>\n      <th>341</th>\n      <td>North End</td>\n      <td>42.365097</td>\n      <td>-71.054495</td>\n      <td>Galleria Umberto</td>\n      <td>42.363874</td>\n      <td>-71.054377</td>\n      <td>Restaurant</td>\n    </tr>\n    <tr>\n      <th>368</th>\n      <td>North End</td>\n      <td>42.365097</td>\n      <td>-71.054495</td>\n      <td>Ernesto's Pizza</td>\n      <td>42.363370</td>\n      <td>-71.055998</td>\n      <td>Restaurant</td>\n    </tr>\n    <tr>\n      <th>374</th>\n      <td>North End</td>\n      <td>42.365097</td>\n      <td>-71.054495</td>\n      <td>Monica's Mercato</td>\n      <td>42.365095</td>\n      <td>-71.055587</td>\n      <td>Restaurant</td>\n    </tr>\n    <tr>\n      <th>393</th>\n      <td>North End</td>\n      <td>42.365097</td>\n      <td>-71.054495</td>\n      <td>Ducali Pizzeria &amp; Bar</td>\n      <td>42.367086</td>\n      <td>-71.058068</td>\n      <td>Restaurant</td>\n    </tr>\n    <tr>\n      <th>433</th>\n      <td>Roxbury</td>\n      <td>42.324843</td>\n      <td>-71.095016</td>\n      <td>Ugi's Pizza</td>\n      <td>42.326569</td>\n      <td>-71.100517</td>\n      <td>Restaurant</td>\n    </tr>\n    <tr>\n      <th>519</th>\n      <td>Back Bay</td>\n      <td>42.350549</td>\n      <td>-71.080311</td>\n      <td>Dirty Water Dough Company</td>\n      <td>42.349957</td>\n      <td>-71.081144</td>\n      <td>Restaurant</td>\n    </tr>\n    <tr>\n      <th>584</th>\n      <td>East Boston</td>\n      <td>42.375097</td>\n      <td>-71.039217</td>\n      <td>Santarpio's Pizza</td>\n      <td>42.372816</td>\n      <td>-71.035345</td>\n      <td>Restaurant</td>\n    </tr>\n    <tr>\n      <th>591</th>\n      <td>East Boston</td>\n      <td>42.375097</td>\n      <td>-71.039217</td>\n      <td>Dough East Boston</td>\n      <td>42.371602</td>\n      <td>-71.042237</td>\n      <td>Restaurant</td>\n    </tr>\n    <tr>\n      <th>624</th>\n      <td>Charlestown</td>\n      <td>42.377875</td>\n      <td>-71.061996</td>\n      <td>Figs</td>\n      <td>42.373588</td>\n      <td>-71.062463</td>\n      <td>Restaurant</td>\n    </tr>\n    <tr>\n      <th>625</th>\n      <td>Charlestown</td>\n      <td>42.377875</td>\n      <td>-71.061996</td>\n      <td>Jenny's Pizza &amp; Subs</td>\n      <td>42.381289</td>\n      <td>-71.063019</td>\n      <td>Restaurant</td>\n    </tr>\n    <tr>\n      <th>632</th>\n      <td>Charlestown</td>\n      <td>42.377875</td>\n      <td>-71.061996</td>\n      <td>Domino's Pizza</td>\n      <td>42.377501</td>\n      <td>-71.066705</td>\n      <td>Restaurant</td>\n    </tr>\n    <tr>\n      <th>642</th>\n      <td>Charlestown</td>\n      <td>42.377875</td>\n      <td>-71.061996</td>\n      <td>Kipo's Pizzeria</td>\n      <td>42.377443</td>\n      <td>-71.058611</td>\n      <td>Restaurant</td>\n    </tr>\n    <tr>\n      <th>696</th>\n      <td>West End</td>\n      <td>42.363919</td>\n      <td>-71.063899</td>\n      <td>Papa's Roast Beef &amp; Pizza</td>\n      <td>42.364579</td>\n      <td>-71.063203</td>\n      <td>Restaurant</td>\n    </tr>\n    <tr>\n      <th>697</th>\n      <td>West End</td>\n      <td>42.363919</td>\n      <td>-71.063899</td>\n      <td>Halftime Pizza</td>\n      <td>42.365194</td>\n      <td>-71.061747</td>\n      <td>Restaurant</td>\n    </tr>\n    <tr>\n      <th>702</th>\n      <td>West End</td>\n      <td>42.363919</td>\n      <td>-71.063899</td>\n      <td>All Star Pizza Bar</td>\n      <td>42.361176</td>\n      <td>-71.065915</td>\n      <td>Restaurant</td>\n    </tr>\n    <tr>\n      <th>715</th>\n      <td>West End</td>\n      <td>42.363919</td>\n      <td>-71.063899</td>\n      <td>Felcaro Pizzeria</td>\n      <td>42.361177</td>\n      <td>-71.068075</td>\n      <td>Restaurant</td>\n    </tr>\n    <tr>\n      <th>727</th>\n      <td>West End</td>\n      <td>42.363919</td>\n      <td>-71.063899</td>\n      <td>Crazy Dough's Pizza</td>\n      <td>42.366316</td>\n      <td>-71.062500</td>\n      <td>Restaurant</td>\n    </tr>\n    <tr>\n      <th>741</th>\n      <td>Beacon Hill</td>\n      <td>42.358708</td>\n      <td>-71.067829</td>\n      <td>Figs</td>\n      <td>42.357255</td>\n      <td>-71.070007</td>\n      <td>Restaurant</td>\n    </tr>\n    <tr>\n      <th>750</th>\n      <td>Beacon Hill</td>\n      <td>42.358708</td>\n      <td>-71.067829</td>\n      <td>The Upper Crust Pizzeria</td>\n      <td>42.356652</td>\n      <td>-71.069723</td>\n      <td>Restaurant</td>\n    </tr>\n    <tr>\n      <th>757</th>\n      <td>Beacon Hill</td>\n      <td>42.358708</td>\n      <td>-71.067829</td>\n      <td>Florina</td>\n      <td>42.359375</td>\n      <td>-71.063219</td>\n      <td>Restaurant</td>\n    </tr>\n    <tr>\n      <th>789</th>\n      <td>Downtown</td>\n      <td>42.263069</td>\n      <td>-71.802002</td>\n      <td>Woosta Pizza</td>\n      <td>42.263812</td>\n      <td>-71.801963</td>\n      <td>Restaurant</td>\n    </tr>\n    <tr>\n      <th>859</th>\n      <td>Brighton</td>\n      <td>42.350097</td>\n      <td>-71.156442</td>\n      <td>Little Pizza King</td>\n      <td>42.349211</td>\n      <td>-71.154740</td>\n      <td>Restaurant</td>\n    </tr>\n    <tr>\n      <th>871</th>\n      <td>Brighton</td>\n      <td>42.350097</td>\n      <td>-71.156442</td>\n      <td>Imperial Pizza</td>\n      <td>42.349114</td>\n      <td>-71.152196</td>\n      <td>Restaurant</td>\n    </tr>\n    <tr>\n      <th>875</th>\n      <td>Brighton</td>\n      <td>42.350097</td>\n      <td>-71.156442</td>\n      <td>Domino's Pizza</td>\n      <td>42.348732</td>\n      <td>-71.159013</td>\n      <td>Restaurant</td>\n    </tr>\n    <tr>\n      <th>905</th>\n      <td>Hyde Park</td>\n      <td>42.255654</td>\n      <td>-71.124496</td>\n      <td>Papa Gino's</td>\n      <td>42.255657</td>\n      <td>-71.123903</td>\n      <td>Restaurant</td>\n    </tr>\n    <tr>\n      <th>915</th>\n      <td>Hyde Park</td>\n      <td>42.255654</td>\n      <td>-71.124496</td>\n      <td>Tony's Pizzeria</td>\n      <td>42.255726</td>\n      <td>-71.120827</td>\n      <td>Restaurant</td>\n    </tr>\n    <tr>\n      <th>935</th>\n      <td>Dorchester</td>\n      <td>42.297320</td>\n      <td>-71.074495</td>\n      <td>Four Corners Pizza</td>\n      <td>42.299380</td>\n      <td>-71.073196</td>\n      <td>Restaurant</td>\n    </tr>\n    <tr>\n      <th>961</th>\n      <td>South Boston Waterfront</td>\n      <td>42.333431</td>\n      <td>-71.049495</td>\n      <td>Domino's Pizza</td>\n      <td>42.334135</td>\n      <td>-71.054952</td>\n      <td>Restaurant</td>\n    </tr>\n    <tr>\n      <th>963</th>\n      <td>South Boston Waterfront</td>\n      <td>42.333431</td>\n      <td>-71.049495</td>\n      <td>Land Of Pizza</td>\n      <td>42.336151</td>\n      <td>-71.046739</td>\n      <td>Restaurant</td>\n    </tr>\n    <tr>\n      <th>965</th>\n      <td>South Boston Waterfront</td>\n      <td>42.333431</td>\n      <td>-71.049495</td>\n      <td>Supreme house of pizza</td>\n      <td>42.329688</td>\n      <td>-71.052863</td>\n      <td>Restaurant</td>\n    </tr>\n    <tr>\n      <th>968</th>\n      <td>South Boston Waterfront</td>\n      <td>42.333431</td>\n      <td>-71.049495</td>\n      <td>McGoo's Pizzeria</td>\n      <td>42.335466</td>\n      <td>-71.045835</td>\n      <td>Restaurant</td>\n    </tr>\n    <tr>\n      <th>971</th>\n      <td>South Boston Waterfront</td>\n      <td>42.333431</td>\n      <td>-71.049495</td>\n      <td>Three Clover Pizza</td>\n      <td>42.336911</td>\n      <td>-71.048328</td>\n      <td>Restaurant</td>\n    </tr>\n    <tr>\n      <th>1000</th>\n      <td>South Boston</td>\n      <td>42.333431</td>\n      <td>-71.049495</td>\n      <td>Domino's Pizza</td>\n      <td>42.334135</td>\n      <td>-71.054952</td>\n      <td>Restaurant</td>\n    </tr>\n    <tr>\n      <th>1002</th>\n      <td>South Boston</td>\n      <td>42.333431</td>\n      <td>-71.049495</td>\n      <td>Land Of Pizza</td>\n      <td>42.336151</td>\n      <td>-71.046739</td>\n      <td>Restaurant</td>\n    </tr>\n    <tr>\n      <th>1004</th>\n      <td>South Boston</td>\n      <td>42.333431</td>\n      <td>-71.049495</td>\n      <td>Supreme house of pizza</td>\n      <td>42.329688</td>\n      <td>-71.052863</td>\n      <td>Restaurant</td>\n    </tr>\n    <tr>\n      <th>1007</th>\n      <td>South Boston</td>\n      <td>42.333431</td>\n      <td>-71.049495</td>\n      <td>McGoo's Pizzeria</td>\n      <td>42.335466</td>\n      <td>-71.045835</td>\n      <td>Restaurant</td>\n    </tr>\n    <tr>\n      <th>1010</th>\n      <td>South Boston</td>\n      <td>42.333431</td>\n      <td>-71.049495</td>\n      <td>Three Clover Pizza</td>\n      <td>42.336911</td>\n      <td>-71.048328</td>\n      <td>Restaurant</td>\n    </tr>\n    <tr>\n      <th>1040</th>\n      <td>Allston</td>\n      <td>42.355434</td>\n      <td>-71.132127</td>\n      <td>Domino's Pizza</td>\n      <td>42.354546</td>\n      <td>-71.133968</td>\n      <td>Restaurant</td>\n    </tr>\n    <tr>\n      <th>1064</th>\n      <td>Allston</td>\n      <td>42.355434</td>\n      <td>-71.132127</td>\n      <td>Regina Pizzeria</td>\n      <td>42.356111</td>\n      <td>-71.132614</td>\n      <td>Restaurant</td>\n    </tr>\n    <tr>\n      <th>1080</th>\n      <td>Allston</td>\n      <td>42.355434</td>\n      <td>-71.132127</td>\n      <td>La Mamma Pizza</td>\n      <td>42.353124</td>\n      <td>-71.133963</td>\n      <td>Restaurant</td>\n    </tr>\n    <tr>\n      <th>114</th>\n      <td>Bay Village</td>\n      <td>42.350011</td>\n      <td>-71.066948</td>\n      <td>Equinox Sports Club Boston</td>\n      <td>42.353189</td>\n      <td>-71.063053</td>\n      <td>Gym</td>\n    </tr>\n    <tr>\n      <th>142</th>\n      <td>Leather District</td>\n      <td>42.352322</td>\n      <td>-71.057343</td>\n      <td>Barry's Bootcamp</td>\n      <td>42.354010</td>\n      <td>-71.059776</td>\n      <td>Gym</td>\n    </tr>\n    <tr>\n      <th>174</th>\n      <td>Leather District</td>\n      <td>42.352322</td>\n      <td>-71.057343</td>\n      <td>Equinox Sports Club Boston</td>\n      <td>42.353189</td>\n      <td>-71.063053</td>\n      <td>Gym</td>\n    </tr>\n    <tr>\n      <th>178</th>\n      <td>Leather District</td>\n      <td>42.352322</td>\n      <td>-71.057343</td>\n      <td>Stay Fit at Hyatt</td>\n      <td>42.353963</td>\n      <td>-71.060688</td>\n      <td>Gym</td>\n    </tr>\n    <tr>\n      <th>187</th>\n      <td>Leather District</td>\n      <td>42.352322</td>\n      <td>-71.057343</td>\n      <td>Equinox Franklin Street</td>\n      <td>42.356074</td>\n      <td>-71.054484</td>\n      <td>Gym</td>\n    </tr>\n    <tr>\n      <th>205</th>\n      <td>Leather District</td>\n      <td>42.352322</td>\n      <td>-71.057343</td>\n      <td>Boston Sports Clubs</td>\n      <td>42.355994</td>\n      <td>-71.058925</td>\n      <td>Gym</td>\n    </tr>\n    <tr>\n      <th>230</th>\n      <td>Leather District</td>\n      <td>42.352322</td>\n      <td>-71.057343</td>\n      <td>Boston Sports Clubs</td>\n      <td>42.351687</td>\n      <td>-71.056105</td>\n      <td>Gym</td>\n    </tr>\n    <tr>\n      <th>238</th>\n      <td>Chinatown</td>\n      <td>42.352217</td>\n      <td>-71.062607</td>\n      <td>Equinox Sports Club Boston</td>\n      <td>42.353189</td>\n      <td>-71.063053</td>\n      <td>Gym</td>\n    </tr>\n    <tr>\n      <th>253</th>\n      <td>Chinatown</td>\n      <td>42.352217</td>\n      <td>-71.062607</td>\n      <td>Barry's Bootcamp</td>\n      <td>42.354010</td>\n      <td>-71.059776</td>\n      <td>Gym</td>\n    </tr>\n    <tr>\n      <th>292</th>\n      <td>Chinatown</td>\n      <td>42.352217</td>\n      <td>-71.062607</td>\n      <td>Stay Fit at Hyatt</td>\n      <td>42.353963</td>\n      <td>-71.060688</td>\n      <td>Gym</td>\n    </tr>\n    <tr>\n      <th>324</th>\n      <td>Chinatown</td>\n      <td>42.352217</td>\n      <td>-71.062607</td>\n      <td>Planet Fitness - Temporarily Closed</td>\n      <td>42.355868</td>\n      <td>-71.061363</td>\n      <td>Gym</td>\n    </tr>\n    <tr>\n      <th>398</th>\n      <td>North End</td>\n      <td>42.365097</td>\n      <td>-71.054495</td>\n      <td>Beacon Hill Athletic Club (North End)</td>\n      <td>42.362404</td>\n      <td>-71.051214</td>\n      <td>Gym</td>\n    </tr>\n    <tr>\n      <th>425</th>\n      <td>Roxbury</td>\n      <td>42.324843</td>\n      <td>-71.095016</td>\n      <td>Crossfit On The Hill</td>\n      <td>42.328008</td>\n      <td>-71.098176</td>\n      <td>Gym</td>\n    </tr>\n    <tr>\n      <th>432</th>\n      <td>Roxbury</td>\n      <td>42.324843</td>\n      <td>-71.095016</td>\n      <td>Crossfit Boston</td>\n      <td>42.327902</td>\n      <td>-71.098303</td>\n      <td>Gym</td>\n    </tr>\n    <tr>\n      <th>443</th>\n      <td>South End</td>\n      <td>42.341310</td>\n      <td>-71.077230</td>\n      <td>Recycle Studio</td>\n      <td>42.342183</td>\n      <td>-71.075200</td>\n      <td>Gym</td>\n    </tr>\n    <tr>\n      <th>477</th>\n      <td>South End</td>\n      <td>42.341310</td>\n      <td>-71.077230</td>\n      <td>barre3</td>\n      <td>42.339950</td>\n      <td>-71.072495</td>\n      <td>Gym</td>\n    </tr>\n    <tr>\n      <th>524</th>\n      <td>Back Bay</td>\n      <td>42.350549</td>\n      <td>-71.080311</td>\n      <td>Flywheel Sports - Boston</td>\n      <td>42.347510</td>\n      <td>-71.081350</td>\n      <td>Gym</td>\n    </tr>\n    <tr>\n      <th>541</th>\n      <td>Back Bay</td>\n      <td>42.350549</td>\n      <td>-71.080311</td>\n      <td>Healthworks Fitness Center</td>\n      <td>42.348557</td>\n      <td>-71.075775</td>\n      <td>Gym</td>\n    </tr>\n    <tr>\n      <th>543</th>\n      <td>Back Bay</td>\n      <td>42.350549</td>\n      <td>-71.080311</td>\n      <td>The Bar Method</td>\n      <td>42.351720</td>\n      <td>-71.075910</td>\n      <td>Gym</td>\n    </tr>\n    <tr>\n      <th>563</th>\n      <td>Back Bay</td>\n      <td>42.350549</td>\n      <td>-71.080311</td>\n      <td>Barry's Bootcamp</td>\n      <td>42.348294</td>\n      <td>-71.076986</td>\n      <td>Gym</td>\n    </tr>\n    <tr>\n      <th>663</th>\n      <td>West End</td>\n      <td>42.363919</td>\n      <td>-71.063899</td>\n      <td>The Clubs at Charles River Park</td>\n      <td>42.365985</td>\n      <td>-71.068257</td>\n      <td>Gym</td>\n    </tr>\n    <tr>\n      <th>677</th>\n      <td>West End</td>\n      <td>42.363919</td>\n      <td>-71.063899</td>\n      <td>Boston Sports Club</td>\n      <td>42.361580</td>\n      <td>-71.060910</td>\n      <td>Gym</td>\n    </tr>\n    <tr>\n      <th>679</th>\n      <td>West End</td>\n      <td>42.363919</td>\n      <td>-71.063899</td>\n      <td>Beacon Hill Athletic Club</td>\n      <td>42.365164</td>\n      <td>-71.061623</td>\n      <td>Gym</td>\n    </tr>\n    <tr>\n      <th>689</th>\n      <td>West End</td>\n      <td>42.363919</td>\n      <td>-71.063899</td>\n      <td>ZONE5</td>\n      <td>42.361044</td>\n      <td>-71.064754</td>\n      <td>Gym</td>\n    </tr>\n    <tr>\n      <th>737</th>\n      <td>West End</td>\n      <td>42.363919</td>\n      <td>-71.063899</td>\n      <td>Row House</td>\n      <td>42.367165</td>\n      <td>-71.059856</td>\n      <td>Gym</td>\n    </tr>\n    <tr>\n      <th>798</th>\n      <td>Downtown</td>\n      <td>42.263069</td>\n      <td>-71.802002</td>\n      <td>Worcester Fitness</td>\n      <td>42.264091</td>\n      <td>-71.796487</td>\n      <td>Gym</td>\n    </tr>\n    <tr>\n      <th>842</th>\n      <td>Fenway</td>\n      <td>42.345187</td>\n      <td>-71.104599</td>\n      <td>CrossFit Fenway</td>\n      <td>42.346143</td>\n      <td>-71.099495</td>\n      <td>Gym</td>\n    </tr>\n    <tr>\n      <th>864</th>\n      <td>Brighton</td>\n      <td>42.350097</td>\n      <td>-71.156442</td>\n      <td>Orangetheory Fitness</td>\n      <td>42.350453</td>\n      <td>-71.152819</td>\n      <td>Gym</td>\n    </tr>\n    <tr>\n      <th>902</th>\n      <td>Hyde Park</td>\n      <td>42.255654</td>\n      <td>-71.124496</td>\n      <td>Hyde Park YMCA</td>\n      <td>42.257152</td>\n      <td>-71.120292</td>\n      <td>Gym</td>\n    </tr>\n    <tr>\n      <th>934</th>\n      <td>Dorchester</td>\n      <td>42.297320</td>\n      <td>-71.074495</td>\n      <td>Healthworks at Codman</td>\n      <td>42.296106</td>\n      <td>-71.071944</td>\n      <td>Gym</td>\n    </tr>\n    <tr>\n      <th>1048</th>\n      <td>Allston</td>\n      <td>42.355434</td>\n      <td>-71.132127</td>\n      <td>Wai Kru Mixed Martial Arts</td>\n      <td>42.353403</td>\n      <td>-71.136008</td>\n      <td>Gym</td>\n    </tr>\n    <tr>\n      <th>27</th>\n      <td>Jamaica Plain</td>\n      <td>42.309820</td>\n      <td>-71.120330</td>\n      <td>Linden Path</td>\n      <td>42.305793</td>\n      <td>-71.122191</td>\n      <td>Park</td>\n    </tr>\n    <tr>\n      <th>28</th>\n      <td>Mission Hill</td>\n      <td>42.332560</td>\n      <td>-71.103608</td>\n      <td>Kevin W Fitzgerald Park</td>\n      <td>42.332031</td>\n      <td>-71.102734</td>\n      <td>Park</td>\n    </tr>\n    <tr>\n      <th>47</th>\n      <td>Longwood</td>\n      <td>42.341533</td>\n      <td>-71.110155</td>\n      <td>Riverway</td>\n      <td>42.340129</td>\n      <td>-71.109825</td>\n      <td>Park</td>\n    </tr>\n    <tr>\n      <th>74</th>\n      <td>Longwood</td>\n      <td>42.341533</td>\n      <td>-71.110155</td>\n      <td>Longwood Mall</td>\n      <td>42.343092</td>\n      <td>-71.111595</td>\n      <td>Park</td>\n    </tr>\n    <tr>\n      <th>87</th>\n      <td>Bay Village</td>\n      <td>42.350011</td>\n      <td>-71.066948</td>\n      <td>Elliot Norton Park</td>\n      <td>42.349124</td>\n      <td>-71.065949</td>\n      <td>Park</td>\n    </tr>\n    <tr>\n      <th>112</th>\n      <td>Bay Village</td>\n      <td>42.350011</td>\n      <td>-71.066948</td>\n      <td>Commonwealth Park</td>\n      <td>42.352752</td>\n      <td>-71.070626</td>\n      <td>Park</td>\n    </tr>\n    <tr>\n      <th>184</th>\n      <td>Leather District</td>\n      <td>42.352322</td>\n      <td>-71.057343</td>\n      <td>Post Office Square</td>\n      <td>42.356340</td>\n      <td>-71.055686</td>\n      <td>Park</td>\n    </tr>\n    <tr>\n      <th>277</th>\n      <td>Chinatown</td>\n      <td>42.352217</td>\n      <td>-71.062607</td>\n      <td>Boston Common</td>\n      <td>42.355487</td>\n      <td>-71.064882</td>\n      <td>Park</td>\n    </tr>\n    <tr>\n      <th>326</th>\n      <td>Chinatown</td>\n      <td>42.352217</td>\n      <td>-71.062607</td>\n      <td>Elliot Norton Park</td>\n      <td>42.349124</td>\n      <td>-71.065949</td>\n      <td>Park</td>\n    </tr>\n    <tr>\n      <th>364</th>\n      <td>North End</td>\n      <td>42.365097</td>\n      <td>-71.054495</td>\n      <td>Paul Revere Mall</td>\n      <td>42.365863</td>\n      <td>-71.053787</td>\n      <td>Park</td>\n    </tr>\n    <tr>\n      <th>378</th>\n      <td>North End</td>\n      <td>42.365097</td>\n      <td>-71.054495</td>\n      <td>The Rose Kennedy Greenway - Mothers Walk</td>\n      <td>42.362640</td>\n      <td>-71.056407</td>\n      <td>Park</td>\n    </tr>\n    <tr>\n      <th>381</th>\n      <td>North End</td>\n      <td>42.365097</td>\n      <td>-71.054495</td>\n      <td>North End Park</td>\n      <td>42.362488</td>\n      <td>-71.056477</td>\n      <td>Park</td>\n    </tr>\n    <tr>\n      <th>384</th>\n      <td>North End</td>\n      <td>42.365097</td>\n      <td>-71.054495</td>\n      <td>Copp's Hill Terrace</td>\n      <td>42.367717</td>\n      <td>-71.055293</td>\n      <td>Park</td>\n    </tr>\n    <tr>\n      <th>423</th>\n      <td>North End</td>\n      <td>42.365097</td>\n      <td>-71.054495</td>\n      <td>Armenian Heritage Park</td>\n      <td>42.360796</td>\n      <td>-71.053295</td>\n      <td>Park</td>\n    </tr>\n    <tr>\n      <th>429</th>\n      <td>Roxbury</td>\n      <td>42.324843</td>\n      <td>-71.095016</td>\n      <td>Highland Park</td>\n      <td>42.325877</td>\n      <td>-71.094233</td>\n      <td>Park</td>\n    </tr>\n    <tr>\n      <th>459</th>\n      <td>South End</td>\n      <td>42.341310</td>\n      <td>-71.077230</td>\n      <td>Titus Sparrow Park</td>\n      <td>42.343614</td>\n      <td>-71.080148</td>\n      <td>Park</td>\n    </tr>\n    <tr>\n      <th>474</th>\n      <td>South End</td>\n      <td>42.341310</td>\n      <td>-71.077230</td>\n      <td>Franklin Square Park</td>\n      <td>42.338979</td>\n      <td>-71.073225</td>\n      <td>Park</td>\n    </tr>\n    <tr>\n      <th>480</th>\n      <td>Back Bay</td>\n      <td>42.350549</td>\n      <td>-71.080311</td>\n      <td>Commonwealth Avenue Mall</td>\n      <td>42.351887</td>\n      <td>-71.080033</td>\n      <td>Park</td>\n    </tr>\n    <tr>\n      <th>607</th>\n      <td>East Boston</td>\n      <td>42.375097</td>\n      <td>-71.039217</td>\n      <td>Umana Barnes Skate Park</td>\n      <td>42.378391</td>\n      <td>-71.040459</td>\n      <td>Park</td>\n    </tr>\n    <tr>\n      <th>613</th>\n      <td>Charlestown</td>\n      <td>42.377875</td>\n      <td>-71.061996</td>\n      <td>Top Of Bunker Hill Monument</td>\n      <td>42.376420</td>\n      <td>-71.060637</td>\n      <td>Park</td>\n    </tr>\n    <tr>\n      <th>643</th>\n      <td>Charlestown</td>\n      <td>42.377875</td>\n      <td>-71.061996</td>\n      <td>Reader's Park</td>\n      <td>42.376952</td>\n      <td>-71.065564</td>\n      <td>Park</td>\n    </tr>\n    <tr>\n      <th>658</th>\n      <td>West End</td>\n      <td>42.363919</td>\n      <td>-71.063899</td>\n      <td>Zakim Overlook Park</td>\n      <td>42.365712</td>\n      <td>-71.060656</td>\n      <td>Park</td>\n    </tr>\n    <tr>\n      <th>759</th>\n      <td>Beacon Hill</td>\n      <td>42.358708</td>\n      <td>-71.067829</td>\n      <td>Boston Common</td>\n      <td>42.355487</td>\n      <td>-71.064882</td>\n      <td>Park</td>\n    </tr>\n    <tr>\n      <th>785</th>\n      <td>Downtown</td>\n      <td>42.263069</td>\n      <td>-71.802002</td>\n      <td>Worcester Commons</td>\n      <td>42.261970</td>\n      <td>-71.800934</td>\n      <td>Park</td>\n    </tr>\n    <tr>\n      <th>894</th>\n      <td>Brighton</td>\n      <td>42.350097</td>\n      <td>-71.156442</td>\n      <td>Brighton Square Park</td>\n      <td>42.348339</td>\n      <td>-71.153752</td>\n      <td>Park</td>\n    </tr>\n    <tr>\n      <th>945</th>\n      <td>South Boston Waterfront</td>\n      <td>42.333431</td>\n      <td>-71.049495</td>\n      <td>Thomas Park</td>\n      <td>42.332693</td>\n      <td>-71.046095</td>\n      <td>Park</td>\n    </tr>\n    <tr>\n      <th>972</th>\n      <td>South Boston Waterfront</td>\n      <td>42.333431</td>\n      <td>-71.049495</td>\n      <td>Viens Memorial Field</td>\n      <td>42.330450</td>\n      <td>-71.046228</td>\n      <td>Park</td>\n    </tr>\n    <tr>\n      <th>984</th>\n      <td>South Boston</td>\n      <td>42.333431</td>\n      <td>-71.049495</td>\n      <td>Thomas Park</td>\n      <td>42.332693</td>\n      <td>-71.046095</td>\n      <td>Park</td>\n    </tr>\n    <tr>\n      <th>1011</th>\n      <td>South Boston</td>\n      <td>42.333431</td>\n      <td>-71.049495</td>\n      <td>Viens Memorial Field</td>\n      <td>42.330450</td>\n      <td>-71.046228</td>\n      <td>Park</td>\n    </tr>\n  </tbody>\n</table>\n</div>"
                    },
                    "metadata": {}
                }
            ]
        },
        {
            "metadata": {},
            "cell_type": "code",
            "source": "boston_gymandfood.shape #check the number of rows and columns",
            "execution_count": 120,
            "outputs": [
                {
                    "output_type": "execute_result",
                    "execution_count": 120,
                    "data": {
                        "text/plain": "(405, 7)"
                    },
                    "metadata": {}
                }
            ]
        },
        {
            "metadata": {},
            "cell_type": "markdown",
            "source": "#### Analysis"
        },
        {
            "metadata": {},
            "cell_type": "markdown",
            "source": "We will now analyze each of the neighborhoods. We first apply one hot encoding on our dataframe, boston_gymandfood."
        },
        {
            "metadata": {},
            "cell_type": "code",
            "source": "#use one hot encoding\nboston_onehot = pd.get_dummies(boston_gymandfood[['Venue Category']], prefix = \"\", prefix_sep = \"\")\n\n#put the neighborhood column back\nboston_onehot['Neighborhood'] = boston_gymandfood['Neighborhood']\n\n# move neighborhood column to the first column\nfixed_columns = [boston_onehot.columns[-1]] + list(boston_onehot.columns[:-1])\nboston_onehot = boston_onehot[fixed_columns]\n\nboston_onehot.head()",
            "execution_count": 121,
            "outputs": [
                {
                    "output_type": "execute_result",
                    "execution_count": 121,
                    "data": {
                        "text/plain": "     Neighborhood  Gym  Park  Restaurant\n0      Roslindale    0     0           1\n9   Jamaica Plain    0     0           1\n23  Jamaica Plain    0     0           1\n32   Mission Hill    0     0           1\n34   Mission Hill    0     0           1",
                        "text/html": "<div>\n<style scoped>\n    .dataframe tbody tr th:only-of-type {\n        vertical-align: middle;\n    }\n\n    .dataframe tbody tr th {\n        vertical-align: top;\n    }\n\n    .dataframe thead th {\n        text-align: right;\n    }\n</style>\n<table border=\"1\" class=\"dataframe\">\n  <thead>\n    <tr style=\"text-align: right;\">\n      <th></th>\n      <th>Neighborhood</th>\n      <th>Gym</th>\n      <th>Park</th>\n      <th>Restaurant</th>\n    </tr>\n  </thead>\n  <tbody>\n    <tr>\n      <th>0</th>\n      <td>Roslindale</td>\n      <td>0</td>\n      <td>0</td>\n      <td>1</td>\n    </tr>\n    <tr>\n      <th>9</th>\n      <td>Jamaica Plain</td>\n      <td>0</td>\n      <td>0</td>\n      <td>1</td>\n    </tr>\n    <tr>\n      <th>23</th>\n      <td>Jamaica Plain</td>\n      <td>0</td>\n      <td>0</td>\n      <td>1</td>\n    </tr>\n    <tr>\n      <th>32</th>\n      <td>Mission Hill</td>\n      <td>0</td>\n      <td>0</td>\n      <td>1</td>\n    </tr>\n    <tr>\n      <th>34</th>\n      <td>Mission Hill</td>\n      <td>0</td>\n      <td>0</td>\n      <td>1</td>\n    </tr>\n  </tbody>\n</table>\n</div>"
                    },
                    "metadata": {}
                }
            ]
        },
        {
            "metadata": {},
            "cell_type": "markdown",
            "source": "Group the rows based on neighborhood name and the mean of frequency of occurrence for each category."
        },
        {
            "metadata": {},
            "cell_type": "code",
            "source": "\n#group rows by neighborhood and by taking the mean of each category of business\nboston_grouped = boston_onehot.groupby('Neighborhood').mean().reset_index()\nboston_grouped.head()",
            "execution_count": 122,
            "outputs": [
                {
                    "output_type": "execute_result",
                    "execution_count": 122,
                    "data": {
                        "text/plain": "  Neighborhood       Gym      Park  Restaurant\n0      Allston  0.027027  0.000000    0.972973\n1     Back Bay  0.111111  0.027778    0.861111\n2  Bay Village  0.066667  0.133333    0.800000\n3  Beacon Hill  0.000000  0.062500    0.937500\n4     Brighton  0.083333  0.083333    0.833333",
                        "text/html": "<div>\n<style scoped>\n    .dataframe tbody tr th:only-of-type {\n        vertical-align: middle;\n    }\n\n    .dataframe tbody tr th {\n        vertical-align: top;\n    }\n\n    .dataframe thead th {\n        text-align: right;\n    }\n</style>\n<table border=\"1\" class=\"dataframe\">\n  <thead>\n    <tr style=\"text-align: right;\">\n      <th></th>\n      <th>Neighborhood</th>\n      <th>Gym</th>\n      <th>Park</th>\n      <th>Restaurant</th>\n    </tr>\n  </thead>\n  <tbody>\n    <tr>\n      <th>0</th>\n      <td>Allston</td>\n      <td>0.027027</td>\n      <td>0.000000</td>\n      <td>0.972973</td>\n    </tr>\n    <tr>\n      <th>1</th>\n      <td>Back Bay</td>\n      <td>0.111111</td>\n      <td>0.027778</td>\n      <td>0.861111</td>\n    </tr>\n    <tr>\n      <th>2</th>\n      <td>Bay Village</td>\n      <td>0.066667</td>\n      <td>0.133333</td>\n      <td>0.800000</td>\n    </tr>\n    <tr>\n      <th>3</th>\n      <td>Beacon Hill</td>\n      <td>0.000000</td>\n      <td>0.062500</td>\n      <td>0.937500</td>\n    </tr>\n    <tr>\n      <th>4</th>\n      <td>Brighton</td>\n      <td>0.083333</td>\n      <td>0.083333</td>\n      <td>0.833333</td>\n    </tr>\n  </tbody>\n</table>\n</div>"
                    },
                    "metadata": {}
                }
            ]
        },
        {
            "metadata": {},
            "cell_type": "code",
            "source": "boston_grouped.sort_values(by = 'Gym', ascending = 'False', inplace = True)",
            "execution_count": 123,
            "outputs": []
        },
        {
            "metadata": {},
            "cell_type": "code",
            "source": "def most_common_venues(row, num_top_venues):\n    row_categories = row.iloc[1:]\n    row_categories_sorted = row_categories.sort_values(ascending=False)\n    \n    return row_categories_sorted.index.values[0:num_top_venues]\n\n",
            "execution_count": 124,
            "outputs": []
        },
        {
            "metadata": {},
            "cell_type": "code",
            "source": "#order the venues and store in a dataframe\nnum_top_venues = 3\n\nindicators = ['st', 'nd', 'rd']\n\n# create columns according to number of top venues\ncolumns = ['Neighborhood']\nfor ind in np.arange(num_top_venues):\n    try:\n        columns.append('{}{} Most Common Venue'.format(ind+1, indicators[ind]))\n    except:\n        columns.append('{}th Most Common Venue'.format(ind+1))\n\n# create a new dataframe\nsorted_venues = pd.DataFrame(columns=columns)\nsorted_venues['Neighborhood'] = boston_grouped['Neighborhood']\n\nfor ind in np.arange(boston_grouped.shape[0]):\n    sorted_venues.iloc[ind, 1:] = most_common_venues(boston_grouped.iloc[ind, :], num_top_venues)\n\nsorted_venues",
            "execution_count": 140,
            "outputs": [
                {
                    "output_type": "execute_result",
                    "execution_count": 140,
                    "data": {
                        "text/plain": "               Neighborhood 1st Most Common Venue 2nd Most Common Venue  \\\n9               East Boston            Restaurant                  Park   \n16             Mission Hill            Restaurant                  Park   \n15                 Mattapan            Restaurant                  Park   \n14                 Longwood            Restaurant                  Park   \n12            Jamaica Plain            Restaurant                  Park   \n20             South Boston            Restaurant                  Park   \n21  South Boston Waterfront            Restaurant                  Park   \n18               Roslindale            Restaurant                  Park   \n5               Charlestown            Restaurant                  Park   \n3               Beacon Hill            Restaurant                  Park   \n17                North End            Restaurant                  Park   \n0                   Allston            Restaurant                   Gym   \n10                   Fenway            Restaurant                   Gym   \n2               Bay Village            Restaurant                  Park   \n4                  Brighton            Restaurant                  Park   \n6                 Chinatown            Restaurant                   Gym   \n22                South End            Restaurant                  Park   \n1                  Back Bay            Restaurant                   Gym   \n13         Leather District            Restaurant                   Gym   \n11                Hyde Park            Restaurant                   Gym   \n8                  Downtown            Restaurant                  Park   \n23                 West End            Restaurant                   Gym   \n7                Dorchester            Restaurant                   Gym   \n19                  Roxbury                   Gym            Restaurant   \n\n   3rd Most Common Venue  \n9                    Gym  \n16                   Gym  \n15                   Gym  \n14                   Gym  \n12                   Gym  \n20                   Gym  \n21                   Gym  \n18                   Gym  \n5                    Gym  \n3                    Gym  \n17                   Gym  \n0                   Park  \n10                  Park  \n2                    Gym  \n4                    Gym  \n6                   Park  \n22                   Gym  \n1                   Park  \n13                  Park  \n11                  Park  \n8                    Gym  \n23                  Park  \n7                   Park  \n19                  Park  ",
                        "text/html": "<div>\n<style scoped>\n    .dataframe tbody tr th:only-of-type {\n        vertical-align: middle;\n    }\n\n    .dataframe tbody tr th {\n        vertical-align: top;\n    }\n\n    .dataframe thead th {\n        text-align: right;\n    }\n</style>\n<table border=\"1\" class=\"dataframe\">\n  <thead>\n    <tr style=\"text-align: right;\">\n      <th></th>\n      <th>Neighborhood</th>\n      <th>1st Most Common Venue</th>\n      <th>2nd Most Common Venue</th>\n      <th>3rd Most Common Venue</th>\n    </tr>\n  </thead>\n  <tbody>\n    <tr>\n      <th>9</th>\n      <td>East Boston</td>\n      <td>Restaurant</td>\n      <td>Park</td>\n      <td>Gym</td>\n    </tr>\n    <tr>\n      <th>16</th>\n      <td>Mission Hill</td>\n      <td>Restaurant</td>\n      <td>Park</td>\n      <td>Gym</td>\n    </tr>\n    <tr>\n      <th>15</th>\n      <td>Mattapan</td>\n      <td>Restaurant</td>\n      <td>Park</td>\n      <td>Gym</td>\n    </tr>\n    <tr>\n      <th>14</th>\n      <td>Longwood</td>\n      <td>Restaurant</td>\n      <td>Park</td>\n      <td>Gym</td>\n    </tr>\n    <tr>\n      <th>12</th>\n      <td>Jamaica Plain</td>\n      <td>Restaurant</td>\n      <td>Park</td>\n      <td>Gym</td>\n    </tr>\n    <tr>\n      <th>20</th>\n      <td>South Boston</td>\n      <td>Restaurant</td>\n      <td>Park</td>\n      <td>Gym</td>\n    </tr>\n    <tr>\n      <th>21</th>\n      <td>South Boston Waterfront</td>\n      <td>Restaurant</td>\n      <td>Park</td>\n      <td>Gym</td>\n    </tr>\n    <tr>\n      <th>18</th>\n      <td>Roslindale</td>\n      <td>Restaurant</td>\n      <td>Park</td>\n      <td>Gym</td>\n    </tr>\n    <tr>\n      <th>5</th>\n      <td>Charlestown</td>\n      <td>Restaurant</td>\n      <td>Park</td>\n      <td>Gym</td>\n    </tr>\n    <tr>\n      <th>3</th>\n      <td>Beacon Hill</td>\n      <td>Restaurant</td>\n      <td>Park</td>\n      <td>Gym</td>\n    </tr>\n    <tr>\n      <th>17</th>\n      <td>North End</td>\n      <td>Restaurant</td>\n      <td>Park</td>\n      <td>Gym</td>\n    </tr>\n    <tr>\n      <th>0</th>\n      <td>Allston</td>\n      <td>Restaurant</td>\n      <td>Gym</td>\n      <td>Park</td>\n    </tr>\n    <tr>\n      <th>10</th>\n      <td>Fenway</td>\n      <td>Restaurant</td>\n      <td>Gym</td>\n      <td>Park</td>\n    </tr>\n    <tr>\n      <th>2</th>\n      <td>Bay Village</td>\n      <td>Restaurant</td>\n      <td>Park</td>\n      <td>Gym</td>\n    </tr>\n    <tr>\n      <th>4</th>\n      <td>Brighton</td>\n      <td>Restaurant</td>\n      <td>Park</td>\n      <td>Gym</td>\n    </tr>\n    <tr>\n      <th>6</th>\n      <td>Chinatown</td>\n      <td>Restaurant</td>\n      <td>Gym</td>\n      <td>Park</td>\n    </tr>\n    <tr>\n      <th>22</th>\n      <td>South End</td>\n      <td>Restaurant</td>\n      <td>Park</td>\n      <td>Gym</td>\n    </tr>\n    <tr>\n      <th>1</th>\n      <td>Back Bay</td>\n      <td>Restaurant</td>\n      <td>Gym</td>\n      <td>Park</td>\n    </tr>\n    <tr>\n      <th>13</th>\n      <td>Leather District</td>\n      <td>Restaurant</td>\n      <td>Gym</td>\n      <td>Park</td>\n    </tr>\n    <tr>\n      <th>11</th>\n      <td>Hyde Park</td>\n      <td>Restaurant</td>\n      <td>Gym</td>\n      <td>Park</td>\n    </tr>\n    <tr>\n      <th>8</th>\n      <td>Downtown</td>\n      <td>Restaurant</td>\n      <td>Park</td>\n      <td>Gym</td>\n    </tr>\n    <tr>\n      <th>23</th>\n      <td>West End</td>\n      <td>Restaurant</td>\n      <td>Gym</td>\n      <td>Park</td>\n    </tr>\n    <tr>\n      <th>7</th>\n      <td>Dorchester</td>\n      <td>Restaurant</td>\n      <td>Gym</td>\n      <td>Park</td>\n    </tr>\n    <tr>\n      <th>19</th>\n      <td>Roxbury</td>\n      <td>Gym</td>\n      <td>Restaurant</td>\n      <td>Park</td>\n    </tr>\n  </tbody>\n</table>\n</div>"
                    },
                    "metadata": {}
                }
            ]
        },
        {
            "metadata": {},
            "cell_type": "markdown",
            "source": "We will now conduct k-means clustering to cluster the Boston neighborhoods into 4 clusters."
        },
        {
            "metadata": {},
            "cell_type": "code",
            "source": "#define the number of clusters\nkclusters = 4\nboston_data4clustering = boston_grouped.drop('Neighborhood',1)\n\n#conduct k means clustering\nkmeans = KMeans(n_clusters = kclusters, random_state = 4).fit(boston_data4clustering)\n\n\n                    ",
            "execution_count": 126,
            "outputs": []
        },
        {
            "metadata": {},
            "cell_type": "code",
            "source": "sorted_venues.insert(0, 'Cluster Labels', kmeans.labels_) #add cluster labels \n",
            "execution_count": 127,
            "outputs": []
        },
        {
            "metadata": {},
            "cell_type": "markdown",
            "source": "We will now finalize our table to compare different neighborhoods."
        },
        {
            "metadata": {},
            "cell_type": "code",
            "source": "\nboston_table_finalized = boston_neighborhoods\nboston_table_finalized['Latitude'] = boston_neighborhoods['Latitude']\nboston_table_finalized['Longitude'] = boston_neighborhoods['Longitude']\nboston_table_finalized= boston_table_finalized.join(sorted_venues.set_index('Neighborhood'), on='Neighborhood')\nboston_table_finalized",
            "execution_count": 128,
            "outputs": [
                {
                    "output_type": "execute_result",
                    "execution_count": 128,
                    "data": {
                        "text/plain": "               Neighborhood                                 Address  SqMiles  \\\n0                Roslindale               Roslindale, Massachusetts     2.51   \n1             Jamaica Plain            Jamaica Plain, Massachusetts     3.94   \n2              Mission Hill             Mission Hill, Massachusetts     0.55   \n3                  Longwood                 Longwood, Massachusetts     0.29   \n4               Bay Village              Bay Village, Massachusetts     0.04   \n5          Leather District         Leather District, Massachusetts     0.02   \n6                 Chinatown                Chinatown, Massachusetts     0.12   \n7                 North End                North End, Massachusetts     0.20   \n8                   Roxbury                  Roxbury, Massachusetts     3.29   \n9                 South End                South End, Massachusetts     0.74   \n10                 Back Bay                 Back Bay, Massachusetts     0.62   \n11              East Boston              East Boston, Massachusetts     4.71   \n12              Charlestown              Charlestown, Massachusetts     1.36   \n13                 West End                 West End, Massachusetts     0.30   \n14              Beacon Hill              Beacon Hill, Massachusetts     0.31   \n15                 Downtown                 Downtown, Massachusetts     0.62   \n16                   Fenway                   Fenway, Massachusetts     0.88   \n17                 Brighton                 Brighton, Massachusetts     2.88   \n18             West Roxbury             West Roxbury, Massachusetts     5.49   \n19                Hyde Park                Hyde Park, Massachusetts     4.57   \n20                 Mattapan                 Mattapan, Massachusetts     2.11   \n21               Dorchester               Dorchester, Massachusetts     7.29   \n22  South Boston Waterfront  South Boston Waterfront, Massachusetts     0.97   \n23             South Boston             South Boston, Massachusetts     2.25   \n24                  Allston                  Allston, Massachusetts     1.56   \n25           Harbor Islands           Harbor Islands, Massachusetts     1.29   \n\n   Latitude Longitude  Cluster Labels 1st Most Common Venue  \\\n0   42.2912  -71.1245             3.0            Restaurant   \n1   42.3098  -71.1203             0.0            Restaurant   \n2   42.3326  -71.1036             3.0            Restaurant   \n3   42.3415  -71.1102             0.0            Restaurant   \n4     42.35  -71.0669             0.0            Restaurant   \n5   42.3523  -71.0573             2.0            Restaurant   \n6   42.3522  -71.0626             2.0            Restaurant   \n7   42.3651  -71.0545             0.0            Restaurant   \n8   42.3248   -71.095             1.0                   Gym   \n9   42.3413  -71.0772             2.0            Restaurant   \n10  42.3505  -71.0803             2.0            Restaurant   \n11  42.3751  -71.0392             3.0            Restaurant   \n12  42.3779   -71.062             0.0            Restaurant   \n13  42.3639  -71.0639             2.0            Restaurant   \n14  42.3587  -71.0678             3.0            Restaurant   \n15  42.2631   -71.802             2.0            Restaurant   \n16  42.3452  -71.1046             3.0            Restaurant   \n17  42.3501  -71.1564             2.0            Restaurant   \n18  42.2793  -71.1495             NaN                   NaN   \n19  42.2557  -71.1245             2.0            Restaurant   \n20  42.2676  -71.0924             3.0            Restaurant   \n21  42.2973  -71.0745             2.0            Restaurant   \n22  42.3334  -71.0495             0.0            Restaurant   \n23  42.3334  -71.0495             0.0            Restaurant   \n24  42.3554  -71.1321             3.0            Restaurant   \n25  42.2697  -70.9209             NaN                   NaN   \n\n   2nd Most Common Venue 3rd Most Common Venue  \n0                   Park                   Gym  \n1                   Park                   Gym  \n2                   Park                   Gym  \n3                   Park                   Gym  \n4                   Park                   Gym  \n5                    Gym                  Park  \n6                    Gym                  Park  \n7                   Park                   Gym  \n8             Restaurant                  Park  \n9                   Park                   Gym  \n10                   Gym                  Park  \n11                  Park                   Gym  \n12                  Park                   Gym  \n13                   Gym                  Park  \n14                  Park                   Gym  \n15                  Park                   Gym  \n16                   Gym                  Park  \n17                  Park                   Gym  \n18                   NaN                   NaN  \n19                   Gym                  Park  \n20                  Park                   Gym  \n21                   Gym                  Park  \n22                  Park                   Gym  \n23                  Park                   Gym  \n24                   Gym                  Park  \n25                   NaN                   NaN  ",
                        "text/html": "<div>\n<style scoped>\n    .dataframe tbody tr th:only-of-type {\n        vertical-align: middle;\n    }\n\n    .dataframe tbody tr th {\n        vertical-align: top;\n    }\n\n    .dataframe thead th {\n        text-align: right;\n    }\n</style>\n<table border=\"1\" class=\"dataframe\">\n  <thead>\n    <tr style=\"text-align: right;\">\n      <th></th>\n      <th>Neighborhood</th>\n      <th>Address</th>\n      <th>SqMiles</th>\n      <th>Latitude</th>\n      <th>Longitude</th>\n      <th>Cluster Labels</th>\n      <th>1st Most Common Venue</th>\n      <th>2nd Most Common Venue</th>\n      <th>3rd Most Common Venue</th>\n    </tr>\n  </thead>\n  <tbody>\n    <tr>\n      <th>0</th>\n      <td>Roslindale</td>\n      <td>Roslindale, Massachusetts</td>\n      <td>2.51</td>\n      <td>42.2912</td>\n      <td>-71.1245</td>\n      <td>3.0</td>\n      <td>Restaurant</td>\n      <td>Park</td>\n      <td>Gym</td>\n    </tr>\n    <tr>\n      <th>1</th>\n      <td>Jamaica Plain</td>\n      <td>Jamaica Plain, Massachusetts</td>\n      <td>3.94</td>\n      <td>42.3098</td>\n      <td>-71.1203</td>\n      <td>0.0</td>\n      <td>Restaurant</td>\n      <td>Park</td>\n      <td>Gym</td>\n    </tr>\n    <tr>\n      <th>2</th>\n      <td>Mission Hill</td>\n      <td>Mission Hill, Massachusetts</td>\n      <td>0.55</td>\n      <td>42.3326</td>\n      <td>-71.1036</td>\n      <td>3.0</td>\n      <td>Restaurant</td>\n      <td>Park</td>\n      <td>Gym</td>\n    </tr>\n    <tr>\n      <th>3</th>\n      <td>Longwood</td>\n      <td>Longwood, Massachusetts</td>\n      <td>0.29</td>\n      <td>42.3415</td>\n      <td>-71.1102</td>\n      <td>0.0</td>\n      <td>Restaurant</td>\n      <td>Park</td>\n      <td>Gym</td>\n    </tr>\n    <tr>\n      <th>4</th>\n      <td>Bay Village</td>\n      <td>Bay Village, Massachusetts</td>\n      <td>0.04</td>\n      <td>42.35</td>\n      <td>-71.0669</td>\n      <td>0.0</td>\n      <td>Restaurant</td>\n      <td>Park</td>\n      <td>Gym</td>\n    </tr>\n    <tr>\n      <th>5</th>\n      <td>Leather District</td>\n      <td>Leather District, Massachusetts</td>\n      <td>0.02</td>\n      <td>42.3523</td>\n      <td>-71.0573</td>\n      <td>2.0</td>\n      <td>Restaurant</td>\n      <td>Gym</td>\n      <td>Park</td>\n    </tr>\n    <tr>\n      <th>6</th>\n      <td>Chinatown</td>\n      <td>Chinatown, Massachusetts</td>\n      <td>0.12</td>\n      <td>42.3522</td>\n      <td>-71.0626</td>\n      <td>2.0</td>\n      <td>Restaurant</td>\n      <td>Gym</td>\n      <td>Park</td>\n    </tr>\n    <tr>\n      <th>7</th>\n      <td>North End</td>\n      <td>North End, Massachusetts</td>\n      <td>0.20</td>\n      <td>42.3651</td>\n      <td>-71.0545</td>\n      <td>0.0</td>\n      <td>Restaurant</td>\n      <td>Park</td>\n      <td>Gym</td>\n    </tr>\n    <tr>\n      <th>8</th>\n      <td>Roxbury</td>\n      <td>Roxbury, Massachusetts</td>\n      <td>3.29</td>\n      <td>42.3248</td>\n      <td>-71.095</td>\n      <td>1.0</td>\n      <td>Gym</td>\n      <td>Restaurant</td>\n      <td>Park</td>\n    </tr>\n    <tr>\n      <th>9</th>\n      <td>South End</td>\n      <td>South End, Massachusetts</td>\n      <td>0.74</td>\n      <td>42.3413</td>\n      <td>-71.0772</td>\n      <td>2.0</td>\n      <td>Restaurant</td>\n      <td>Park</td>\n      <td>Gym</td>\n    </tr>\n    <tr>\n      <th>10</th>\n      <td>Back Bay</td>\n      <td>Back Bay, Massachusetts</td>\n      <td>0.62</td>\n      <td>42.3505</td>\n      <td>-71.0803</td>\n      <td>2.0</td>\n      <td>Restaurant</td>\n      <td>Gym</td>\n      <td>Park</td>\n    </tr>\n    <tr>\n      <th>11</th>\n      <td>East Boston</td>\n      <td>East Boston, Massachusetts</td>\n      <td>4.71</td>\n      <td>42.3751</td>\n      <td>-71.0392</td>\n      <td>3.0</td>\n      <td>Restaurant</td>\n      <td>Park</td>\n      <td>Gym</td>\n    </tr>\n    <tr>\n      <th>12</th>\n      <td>Charlestown</td>\n      <td>Charlestown, Massachusetts</td>\n      <td>1.36</td>\n      <td>42.3779</td>\n      <td>-71.062</td>\n      <td>0.0</td>\n      <td>Restaurant</td>\n      <td>Park</td>\n      <td>Gym</td>\n    </tr>\n    <tr>\n      <th>13</th>\n      <td>West End</td>\n      <td>West End, Massachusetts</td>\n      <td>0.30</td>\n      <td>42.3639</td>\n      <td>-71.0639</td>\n      <td>2.0</td>\n      <td>Restaurant</td>\n      <td>Gym</td>\n      <td>Park</td>\n    </tr>\n    <tr>\n      <th>14</th>\n      <td>Beacon Hill</td>\n      <td>Beacon Hill, Massachusetts</td>\n      <td>0.31</td>\n      <td>42.3587</td>\n      <td>-71.0678</td>\n      <td>3.0</td>\n      <td>Restaurant</td>\n      <td>Park</td>\n      <td>Gym</td>\n    </tr>\n    <tr>\n      <th>15</th>\n      <td>Downtown</td>\n      <td>Downtown, Massachusetts</td>\n      <td>0.62</td>\n      <td>42.2631</td>\n      <td>-71.802</td>\n      <td>2.0</td>\n      <td>Restaurant</td>\n      <td>Park</td>\n      <td>Gym</td>\n    </tr>\n    <tr>\n      <th>16</th>\n      <td>Fenway</td>\n      <td>Fenway, Massachusetts</td>\n      <td>0.88</td>\n      <td>42.3452</td>\n      <td>-71.1046</td>\n      <td>3.0</td>\n      <td>Restaurant</td>\n      <td>Gym</td>\n      <td>Park</td>\n    </tr>\n    <tr>\n      <th>17</th>\n      <td>Brighton</td>\n      <td>Brighton, Massachusetts</td>\n      <td>2.88</td>\n      <td>42.3501</td>\n      <td>-71.1564</td>\n      <td>2.0</td>\n      <td>Restaurant</td>\n      <td>Park</td>\n      <td>Gym</td>\n    </tr>\n    <tr>\n      <th>18</th>\n      <td>West Roxbury</td>\n      <td>West Roxbury, Massachusetts</td>\n      <td>5.49</td>\n      <td>42.2793</td>\n      <td>-71.1495</td>\n      <td>NaN</td>\n      <td>NaN</td>\n      <td>NaN</td>\n      <td>NaN</td>\n    </tr>\n    <tr>\n      <th>19</th>\n      <td>Hyde Park</td>\n      <td>Hyde Park, Massachusetts</td>\n      <td>4.57</td>\n      <td>42.2557</td>\n      <td>-71.1245</td>\n      <td>2.0</td>\n      <td>Restaurant</td>\n      <td>Gym</td>\n      <td>Park</td>\n    </tr>\n    <tr>\n      <th>20</th>\n      <td>Mattapan</td>\n      <td>Mattapan, Massachusetts</td>\n      <td>2.11</td>\n      <td>42.2676</td>\n      <td>-71.0924</td>\n      <td>3.0</td>\n      <td>Restaurant</td>\n      <td>Park</td>\n      <td>Gym</td>\n    </tr>\n    <tr>\n      <th>21</th>\n      <td>Dorchester</td>\n      <td>Dorchester, Massachusetts</td>\n      <td>7.29</td>\n      <td>42.2973</td>\n      <td>-71.0745</td>\n      <td>2.0</td>\n      <td>Restaurant</td>\n      <td>Gym</td>\n      <td>Park</td>\n    </tr>\n    <tr>\n      <th>22</th>\n      <td>South Boston Waterfront</td>\n      <td>South Boston Waterfront, Massachusetts</td>\n      <td>0.97</td>\n      <td>42.3334</td>\n      <td>-71.0495</td>\n      <td>0.0</td>\n      <td>Restaurant</td>\n      <td>Park</td>\n      <td>Gym</td>\n    </tr>\n    <tr>\n      <th>23</th>\n      <td>South Boston</td>\n      <td>South Boston, Massachusetts</td>\n      <td>2.25</td>\n      <td>42.3334</td>\n      <td>-71.0495</td>\n      <td>0.0</td>\n      <td>Restaurant</td>\n      <td>Park</td>\n      <td>Gym</td>\n    </tr>\n    <tr>\n      <th>24</th>\n      <td>Allston</td>\n      <td>Allston, Massachusetts</td>\n      <td>1.56</td>\n      <td>42.3554</td>\n      <td>-71.1321</td>\n      <td>3.0</td>\n      <td>Restaurant</td>\n      <td>Gym</td>\n      <td>Park</td>\n    </tr>\n    <tr>\n      <th>25</th>\n      <td>Harbor Islands</td>\n      <td>Harbor Islands, Massachusetts</td>\n      <td>1.29</td>\n      <td>42.2697</td>\n      <td>-70.9209</td>\n      <td>NaN</td>\n      <td>NaN</td>\n      <td>NaN</td>\n      <td>NaN</td>\n    </tr>\n  </tbody>\n</table>\n</div>"
                    },
                    "metadata": {}
                }
            ]
        },
        {
            "metadata": {},
            "cell_type": "code",
            "source": "boston_table_finalized.dropna(inplace = True) #drop neighborhoods whose data have missing values (NaN)",
            "execution_count": 129,
            "outputs": []
        },
        {
            "metadata": {},
            "cell_type": "code",
            "source": "boston_table_finalized= boston_table_finalized.merge(boston_grouped, on = \"Neighborhood\")\nboston_table_finalized",
            "execution_count": 130,
            "outputs": [
                {
                    "output_type": "execute_result",
                    "execution_count": 130,
                    "data": {
                        "text/plain": "               Neighborhood                                 Address  SqMiles  \\\n0                Roslindale               Roslindale, Massachusetts     2.51   \n1             Jamaica Plain            Jamaica Plain, Massachusetts     3.94   \n2              Mission Hill             Mission Hill, Massachusetts     0.55   \n3                  Longwood                 Longwood, Massachusetts     0.29   \n4               Bay Village              Bay Village, Massachusetts     0.04   \n5          Leather District         Leather District, Massachusetts     0.02   \n6                 Chinatown                Chinatown, Massachusetts     0.12   \n7                 North End                North End, Massachusetts     0.20   \n8                   Roxbury                  Roxbury, Massachusetts     3.29   \n9                 South End                South End, Massachusetts     0.74   \n10                 Back Bay                 Back Bay, Massachusetts     0.62   \n11              East Boston              East Boston, Massachusetts     4.71   \n12              Charlestown              Charlestown, Massachusetts     1.36   \n13                 West End                 West End, Massachusetts     0.30   \n14              Beacon Hill              Beacon Hill, Massachusetts     0.31   \n15                 Downtown                 Downtown, Massachusetts     0.62   \n16                   Fenway                   Fenway, Massachusetts     0.88   \n17                 Brighton                 Brighton, Massachusetts     2.88   \n18                Hyde Park                Hyde Park, Massachusetts     4.57   \n19                 Mattapan                 Mattapan, Massachusetts     2.11   \n20               Dorchester               Dorchester, Massachusetts     7.29   \n21  South Boston Waterfront  South Boston Waterfront, Massachusetts     0.97   \n22             South Boston             South Boston, Massachusetts     2.25   \n23                  Allston                  Allston, Massachusetts     1.56   \n\n   Latitude Longitude  Cluster Labels 1st Most Common Venue  \\\n0   42.2912  -71.1245             3.0            Restaurant   \n1   42.3098  -71.1203             0.0            Restaurant   \n2   42.3326  -71.1036             3.0            Restaurant   \n3   42.3415  -71.1102             0.0            Restaurant   \n4     42.35  -71.0669             0.0            Restaurant   \n5   42.3523  -71.0573             2.0            Restaurant   \n6   42.3522  -71.0626             2.0            Restaurant   \n7   42.3651  -71.0545             0.0            Restaurant   \n8   42.3248   -71.095             1.0                   Gym   \n9   42.3413  -71.0772             2.0            Restaurant   \n10  42.3505  -71.0803             2.0            Restaurant   \n11  42.3751  -71.0392             3.0            Restaurant   \n12  42.3779   -71.062             0.0            Restaurant   \n13  42.3639  -71.0639             2.0            Restaurant   \n14  42.3587  -71.0678             3.0            Restaurant   \n15  42.2631   -71.802             2.0            Restaurant   \n16  42.3452  -71.1046             3.0            Restaurant   \n17  42.3501  -71.1564             2.0            Restaurant   \n18  42.2557  -71.1245             2.0            Restaurant   \n19  42.2676  -71.0924             3.0            Restaurant   \n20  42.2973  -71.0745             2.0            Restaurant   \n21  42.3334  -71.0495             0.0            Restaurant   \n22  42.3334  -71.0495             0.0            Restaurant   \n23  42.3554  -71.1321             3.0            Restaurant   \n\n   2nd Most Common Venue 3rd Most Common Venue       Gym      Park  Restaurant  \n0                   Park                   Gym  0.000000  0.000000    1.000000  \n1                   Park                   Gym  0.000000  0.250000    0.750000  \n2                   Park                   Gym  0.000000  0.100000    0.900000  \n3                   Park                   Gym  0.000000  0.200000    0.800000  \n4                   Park                   Gym  0.066667  0.133333    0.800000  \n5                    Gym                  Park  0.139535  0.023256    0.837209  \n6                    Gym                  Park  0.090909  0.045455    0.863636  \n7                   Park                   Gym  0.022222  0.111111    0.866667  \n8             Restaurant                  Park  0.500000  0.250000    0.250000  \n9                   Park                   Gym  0.105263  0.105263    0.789474  \n10                   Gym                  Park  0.111111  0.027778    0.861111  \n11                  Park                   Gym  0.000000  0.071429    0.928571  \n12                  Park                   Gym  0.000000  0.222222    0.777778  \n13                   Gym                  Park  0.200000  0.040000    0.760000  \n14                  Park                   Gym  0.000000  0.062500    0.937500  \n15                  Park                   Gym  0.166667  0.166667    0.666667  \n16                   Gym                  Park  0.066667  0.000000    0.933333  \n17                  Park                   Gym  0.083333  0.083333    0.833333  \n18                   Gym                  Park  0.166667  0.000000    0.833333  \n19                  Park                   Gym  0.000000  0.000000    1.000000  \n20                   Gym                  Park  0.250000  0.000000    0.750000  \n21                  Park                   Gym  0.000000  0.153846    0.846154  \n22                  Park                   Gym  0.000000  0.153846    0.846154  \n23                   Gym                  Park  0.027027  0.000000    0.972973  ",
                        "text/html": "<div>\n<style scoped>\n    .dataframe tbody tr th:only-of-type {\n        vertical-align: middle;\n    }\n\n    .dataframe tbody tr th {\n        vertical-align: top;\n    }\n\n    .dataframe thead th {\n        text-align: right;\n    }\n</style>\n<table border=\"1\" class=\"dataframe\">\n  <thead>\n    <tr style=\"text-align: right;\">\n      <th></th>\n      <th>Neighborhood</th>\n      <th>Address</th>\n      <th>SqMiles</th>\n      <th>Latitude</th>\n      <th>Longitude</th>\n      <th>Cluster Labels</th>\n      <th>1st Most Common Venue</th>\n      <th>2nd Most Common Venue</th>\n      <th>3rd Most Common Venue</th>\n      <th>Gym</th>\n      <th>Park</th>\n      <th>Restaurant</th>\n    </tr>\n  </thead>\n  <tbody>\n    <tr>\n      <th>0</th>\n      <td>Roslindale</td>\n      <td>Roslindale, Massachusetts</td>\n      <td>2.51</td>\n      <td>42.2912</td>\n      <td>-71.1245</td>\n      <td>3.0</td>\n      <td>Restaurant</td>\n      <td>Park</td>\n      <td>Gym</td>\n      <td>0.000000</td>\n      <td>0.000000</td>\n      <td>1.000000</td>\n    </tr>\n    <tr>\n      <th>1</th>\n      <td>Jamaica Plain</td>\n      <td>Jamaica Plain, Massachusetts</td>\n      <td>3.94</td>\n      <td>42.3098</td>\n      <td>-71.1203</td>\n      <td>0.0</td>\n      <td>Restaurant</td>\n      <td>Park</td>\n      <td>Gym</td>\n      <td>0.000000</td>\n      <td>0.250000</td>\n      <td>0.750000</td>\n    </tr>\n    <tr>\n      <th>2</th>\n      <td>Mission Hill</td>\n      <td>Mission Hill, Massachusetts</td>\n      <td>0.55</td>\n      <td>42.3326</td>\n      <td>-71.1036</td>\n      <td>3.0</td>\n      <td>Restaurant</td>\n      <td>Park</td>\n      <td>Gym</td>\n      <td>0.000000</td>\n      <td>0.100000</td>\n      <td>0.900000</td>\n    </tr>\n    <tr>\n      <th>3</th>\n      <td>Longwood</td>\n      <td>Longwood, Massachusetts</td>\n      <td>0.29</td>\n      <td>42.3415</td>\n      <td>-71.1102</td>\n      <td>0.0</td>\n      <td>Restaurant</td>\n      <td>Park</td>\n      <td>Gym</td>\n      <td>0.000000</td>\n      <td>0.200000</td>\n      <td>0.800000</td>\n    </tr>\n    <tr>\n      <th>4</th>\n      <td>Bay Village</td>\n      <td>Bay Village, Massachusetts</td>\n      <td>0.04</td>\n      <td>42.35</td>\n      <td>-71.0669</td>\n      <td>0.0</td>\n      <td>Restaurant</td>\n      <td>Park</td>\n      <td>Gym</td>\n      <td>0.066667</td>\n      <td>0.133333</td>\n      <td>0.800000</td>\n    </tr>\n    <tr>\n      <th>5</th>\n      <td>Leather District</td>\n      <td>Leather District, Massachusetts</td>\n      <td>0.02</td>\n      <td>42.3523</td>\n      <td>-71.0573</td>\n      <td>2.0</td>\n      <td>Restaurant</td>\n      <td>Gym</td>\n      <td>Park</td>\n      <td>0.139535</td>\n      <td>0.023256</td>\n      <td>0.837209</td>\n    </tr>\n    <tr>\n      <th>6</th>\n      <td>Chinatown</td>\n      <td>Chinatown, Massachusetts</td>\n      <td>0.12</td>\n      <td>42.3522</td>\n      <td>-71.0626</td>\n      <td>2.0</td>\n      <td>Restaurant</td>\n      <td>Gym</td>\n      <td>Park</td>\n      <td>0.090909</td>\n      <td>0.045455</td>\n      <td>0.863636</td>\n    </tr>\n    <tr>\n      <th>7</th>\n      <td>North End</td>\n      <td>North End, Massachusetts</td>\n      <td>0.20</td>\n      <td>42.3651</td>\n      <td>-71.0545</td>\n      <td>0.0</td>\n      <td>Restaurant</td>\n      <td>Park</td>\n      <td>Gym</td>\n      <td>0.022222</td>\n      <td>0.111111</td>\n      <td>0.866667</td>\n    </tr>\n    <tr>\n      <th>8</th>\n      <td>Roxbury</td>\n      <td>Roxbury, Massachusetts</td>\n      <td>3.29</td>\n      <td>42.3248</td>\n      <td>-71.095</td>\n      <td>1.0</td>\n      <td>Gym</td>\n      <td>Restaurant</td>\n      <td>Park</td>\n      <td>0.500000</td>\n      <td>0.250000</td>\n      <td>0.250000</td>\n    </tr>\n    <tr>\n      <th>9</th>\n      <td>South End</td>\n      <td>South End, Massachusetts</td>\n      <td>0.74</td>\n      <td>42.3413</td>\n      <td>-71.0772</td>\n      <td>2.0</td>\n      <td>Restaurant</td>\n      <td>Park</td>\n      <td>Gym</td>\n      <td>0.105263</td>\n      <td>0.105263</td>\n      <td>0.789474</td>\n    </tr>\n    <tr>\n      <th>10</th>\n      <td>Back Bay</td>\n      <td>Back Bay, Massachusetts</td>\n      <td>0.62</td>\n      <td>42.3505</td>\n      <td>-71.0803</td>\n      <td>2.0</td>\n      <td>Restaurant</td>\n      <td>Gym</td>\n      <td>Park</td>\n      <td>0.111111</td>\n      <td>0.027778</td>\n      <td>0.861111</td>\n    </tr>\n    <tr>\n      <th>11</th>\n      <td>East Boston</td>\n      <td>East Boston, Massachusetts</td>\n      <td>4.71</td>\n      <td>42.3751</td>\n      <td>-71.0392</td>\n      <td>3.0</td>\n      <td>Restaurant</td>\n      <td>Park</td>\n      <td>Gym</td>\n      <td>0.000000</td>\n      <td>0.071429</td>\n      <td>0.928571</td>\n    </tr>\n    <tr>\n      <th>12</th>\n      <td>Charlestown</td>\n      <td>Charlestown, Massachusetts</td>\n      <td>1.36</td>\n      <td>42.3779</td>\n      <td>-71.062</td>\n      <td>0.0</td>\n      <td>Restaurant</td>\n      <td>Park</td>\n      <td>Gym</td>\n      <td>0.000000</td>\n      <td>0.222222</td>\n      <td>0.777778</td>\n    </tr>\n    <tr>\n      <th>13</th>\n      <td>West End</td>\n      <td>West End, Massachusetts</td>\n      <td>0.30</td>\n      <td>42.3639</td>\n      <td>-71.0639</td>\n      <td>2.0</td>\n      <td>Restaurant</td>\n      <td>Gym</td>\n      <td>Park</td>\n      <td>0.200000</td>\n      <td>0.040000</td>\n      <td>0.760000</td>\n    </tr>\n    <tr>\n      <th>14</th>\n      <td>Beacon Hill</td>\n      <td>Beacon Hill, Massachusetts</td>\n      <td>0.31</td>\n      <td>42.3587</td>\n      <td>-71.0678</td>\n      <td>3.0</td>\n      <td>Restaurant</td>\n      <td>Park</td>\n      <td>Gym</td>\n      <td>0.000000</td>\n      <td>0.062500</td>\n      <td>0.937500</td>\n    </tr>\n    <tr>\n      <th>15</th>\n      <td>Downtown</td>\n      <td>Downtown, Massachusetts</td>\n      <td>0.62</td>\n      <td>42.2631</td>\n      <td>-71.802</td>\n      <td>2.0</td>\n      <td>Restaurant</td>\n      <td>Park</td>\n      <td>Gym</td>\n      <td>0.166667</td>\n      <td>0.166667</td>\n      <td>0.666667</td>\n    </tr>\n    <tr>\n      <th>16</th>\n      <td>Fenway</td>\n      <td>Fenway, Massachusetts</td>\n      <td>0.88</td>\n      <td>42.3452</td>\n      <td>-71.1046</td>\n      <td>3.0</td>\n      <td>Restaurant</td>\n      <td>Gym</td>\n      <td>Park</td>\n      <td>0.066667</td>\n      <td>0.000000</td>\n      <td>0.933333</td>\n    </tr>\n    <tr>\n      <th>17</th>\n      <td>Brighton</td>\n      <td>Brighton, Massachusetts</td>\n      <td>2.88</td>\n      <td>42.3501</td>\n      <td>-71.1564</td>\n      <td>2.0</td>\n      <td>Restaurant</td>\n      <td>Park</td>\n      <td>Gym</td>\n      <td>0.083333</td>\n      <td>0.083333</td>\n      <td>0.833333</td>\n    </tr>\n    <tr>\n      <th>18</th>\n      <td>Hyde Park</td>\n      <td>Hyde Park, Massachusetts</td>\n      <td>4.57</td>\n      <td>42.2557</td>\n      <td>-71.1245</td>\n      <td>2.0</td>\n      <td>Restaurant</td>\n      <td>Gym</td>\n      <td>Park</td>\n      <td>0.166667</td>\n      <td>0.000000</td>\n      <td>0.833333</td>\n    </tr>\n    <tr>\n      <th>19</th>\n      <td>Mattapan</td>\n      <td>Mattapan, Massachusetts</td>\n      <td>2.11</td>\n      <td>42.2676</td>\n      <td>-71.0924</td>\n      <td>3.0</td>\n      <td>Restaurant</td>\n      <td>Park</td>\n      <td>Gym</td>\n      <td>0.000000</td>\n      <td>0.000000</td>\n      <td>1.000000</td>\n    </tr>\n    <tr>\n      <th>20</th>\n      <td>Dorchester</td>\n      <td>Dorchester, Massachusetts</td>\n      <td>7.29</td>\n      <td>42.2973</td>\n      <td>-71.0745</td>\n      <td>2.0</td>\n      <td>Restaurant</td>\n      <td>Gym</td>\n      <td>Park</td>\n      <td>0.250000</td>\n      <td>0.000000</td>\n      <td>0.750000</td>\n    </tr>\n    <tr>\n      <th>21</th>\n      <td>South Boston Waterfront</td>\n      <td>South Boston Waterfront, Massachusetts</td>\n      <td>0.97</td>\n      <td>42.3334</td>\n      <td>-71.0495</td>\n      <td>0.0</td>\n      <td>Restaurant</td>\n      <td>Park</td>\n      <td>Gym</td>\n      <td>0.000000</td>\n      <td>0.153846</td>\n      <td>0.846154</td>\n    </tr>\n    <tr>\n      <th>22</th>\n      <td>South Boston</td>\n      <td>South Boston, Massachusetts</td>\n      <td>2.25</td>\n      <td>42.3334</td>\n      <td>-71.0495</td>\n      <td>0.0</td>\n      <td>Restaurant</td>\n      <td>Park</td>\n      <td>Gym</td>\n      <td>0.000000</td>\n      <td>0.153846</td>\n      <td>0.846154</td>\n    </tr>\n    <tr>\n      <th>23</th>\n      <td>Allston</td>\n      <td>Allston, Massachusetts</td>\n      <td>1.56</td>\n      <td>42.3554</td>\n      <td>-71.1321</td>\n      <td>3.0</td>\n      <td>Restaurant</td>\n      <td>Gym</td>\n      <td>Park</td>\n      <td>0.027027</td>\n      <td>0.000000</td>\n      <td>0.972973</td>\n    </tr>\n  </tbody>\n</table>\n</div>"
                    },
                    "metadata": {}
                }
            ]
        },
        {
            "metadata": {},
            "cell_type": "markdown",
            "source": "We will now visualize our clusters"
        },
        {
            "metadata": {
                "scrolled": true
            },
            "cell_type": "code",
            "source": "#visualize the clusters\n\n\n# create map\nmap_clusters = folium.Map(location=[latboston, lngboston], zoom_start=11)\n\n# set color scheme for the clusters\nx = np.arange(kclusters)\nys = [i + x + (i*x)**2 for i in range(kclusters)]\ncolors_array = cm.rainbow(np.linspace(0, 1, len(ys)))\nrainbow = [colors.rgb2hex(i) for i in colors_array]\n\n# add markers to the map\nmarkers_colors = []\nfor lat, lon, poi, cluster in zip(boston_table_finalized['Latitude'], boston_table_finalized['Longitude'], boston_table_finalized['Neighborhood'], boston_table_finalized['Cluster Labels']):\n    label = folium.Popup(str(poi) + ' Cluster ' + str(cluster), parse_html=True)\n    folium.CircleMarker(\n        [lat, lon],\n        radius=5,\n        popup=label,\n        color=rainbow[int(cluster-1)],\n        fill=True,\n        fill_color=rainbow[int(cluster-1)],\n        fill_opacity=0.7).add_to(map_clusters)\n       \nmap_clusters",
            "execution_count": 131,
            "outputs": [
                {
                    "output_type": "execute_result",
                    "execution_count": 131,
                    "data": {
                        "text/plain": "<folium.folium.Map at 0x7fef05c46f90>",
                        "text/html": "<div style=\"width:100%;\"><div style=\"position:relative;width:100%;height:0;padding-bottom:60%;\"><span style=\"color:#565656\">Make this Notebook Trusted to load map: File -> Trust Notebook</span><iframe src=\"about:blank\" style=\"position:absolute;width:100%;height:100%;left:0;top:0;border:none !important;\" data-html=%3C%21DOCTYPE%20html%3E%0A%3Chead%3E%20%20%20%20%0A%20%20%20%20%3Cmeta%20http-equiv%3D%22content-type%22%20content%3D%22text/html%3B%20charset%3DUTF-8%22%20/%3E%0A%20%20%20%20%0A%20%20%20%20%20%20%20%20%3Cscript%3E%0A%20%20%20%20%20%20%20%20%20%20%20%20L_NO_TOUCH%20%3D%20false%3B%0A%20%20%20%20%20%20%20%20%20%20%20%20L_DISABLE_3D%20%3D%20false%3B%0A%20%20%20%20%20%20%20%20%3C/script%3E%0A%20%20%20%20%0A%20%20%20%20%3Cstyle%3Ehtml%2C%20body%20%7Bwidth%3A%20100%25%3Bheight%3A%20100%25%3Bmargin%3A%200%3Bpadding%3A%200%3B%7D%3C/style%3E%0A%20%20%20%20%3Cstyle%3E%23map%20%7Bposition%3Aabsolute%3Btop%3A0%3Bbottom%3A0%3Bright%3A0%3Bleft%3A0%3B%7D%3C/style%3E%0A%20%20%20%20%3Cscript%20src%3D%22https%3A//cdn.jsdelivr.net/npm/leaflet%401.6.0/dist/leaflet.js%22%3E%3C/script%3E%0A%20%20%20%20%3Cscript%20src%3D%22https%3A//code.jquery.com/jquery-1.12.4.min.js%22%3E%3C/script%3E%0A%20%20%20%20%3Cscript%20src%3D%22https%3A//maxcdn.bootstrapcdn.com/bootstrap/3.2.0/js/bootstrap.min.js%22%3E%3C/script%3E%0A%20%20%20%20%3Cscript%20src%3D%22https%3A//cdnjs.cloudflare.com/ajax/libs/Leaflet.awesome-markers/2.0.2/leaflet.awesome-markers.js%22%3E%3C/script%3E%0A%20%20%20%20%3Clink%20rel%3D%22stylesheet%22%20href%3D%22https%3A//cdn.jsdelivr.net/npm/leaflet%401.6.0/dist/leaflet.css%22/%3E%0A%20%20%20%20%3Clink%20rel%3D%22stylesheet%22%20href%3D%22https%3A//maxcdn.bootstrapcdn.com/bootstrap/3.2.0/css/bootstrap.min.css%22/%3E%0A%20%20%20%20%3Clink%20rel%3D%22stylesheet%22%20href%3D%22https%3A//maxcdn.bootstrapcdn.com/bootstrap/3.2.0/css/bootstrap-theme.min.css%22/%3E%0A%20%20%20%20%3Clink%20rel%3D%22stylesheet%22%20href%3D%22https%3A//maxcdn.bootstrapcdn.com/font-awesome/4.6.3/css/font-awesome.min.css%22/%3E%0A%20%20%20%20%3Clink%20rel%3D%22stylesheet%22%20href%3D%22https%3A//cdnjs.cloudflare.com/ajax/libs/Leaflet.awesome-markers/2.0.2/leaflet.awesome-markers.css%22/%3E%0A%20%20%20%20%3Clink%20rel%3D%22stylesheet%22%20href%3D%22https%3A//cdn.jsdelivr.net/gh/python-visualization/folium/folium/templates/leaflet.awesome.rotate.min.css%22/%3E%0A%20%20%20%20%0A%20%20%20%20%20%20%20%20%20%20%20%20%3Cmeta%20name%3D%22viewport%22%20content%3D%22width%3Ddevice-width%2C%0A%20%20%20%20%20%20%20%20%20%20%20%20%20%20%20%20initial-scale%3D1.0%2C%20maximum-scale%3D1.0%2C%20user-scalable%3Dno%22%20/%3E%0A%20%20%20%20%20%20%20%20%20%20%20%20%3Cstyle%3E%0A%20%20%20%20%20%20%20%20%20%20%20%20%20%20%20%20%23map_c2c7b95ca9ba4f90a81056bc1923629d%20%7B%0A%20%20%20%20%20%20%20%20%20%20%20%20%20%20%20%20%20%20%20%20position%3A%20relative%3B%0A%20%20%20%20%20%20%20%20%20%20%20%20%20%20%20%20%20%20%20%20width%3A%20100.0%25%3B%0A%20%20%20%20%20%20%20%20%20%20%20%20%20%20%20%20%20%20%20%20height%3A%20100.0%25%3B%0A%20%20%20%20%20%20%20%20%20%20%20%20%20%20%20%20%20%20%20%20left%3A%200.0%25%3B%0A%20%20%20%20%20%20%20%20%20%20%20%20%20%20%20%20%20%20%20%20top%3A%200.0%25%3B%0A%20%20%20%20%20%20%20%20%20%20%20%20%20%20%20%20%7D%0A%20%20%20%20%20%20%20%20%20%20%20%20%3C/style%3E%0A%20%20%20%20%20%20%20%20%0A%3C/head%3E%0A%3Cbody%3E%20%20%20%20%0A%20%20%20%20%0A%20%20%20%20%20%20%20%20%20%20%20%20%3Cdiv%20class%3D%22folium-map%22%20id%3D%22map_c2c7b95ca9ba4f90a81056bc1923629d%22%20%3E%3C/div%3E%0A%20%20%20%20%20%20%20%20%0A%3C/body%3E%0A%3Cscript%3E%20%20%20%20%0A%20%20%20%20%0A%20%20%20%20%20%20%20%20%20%20%20%20var%20map_c2c7b95ca9ba4f90a81056bc1923629d%20%3D%20L.map%28%0A%20%20%20%20%20%20%20%20%20%20%20%20%20%20%20%20%22map_c2c7b95ca9ba4f90a81056bc1923629d%22%2C%0A%20%20%20%20%20%20%20%20%20%20%20%20%20%20%20%20%7B%0A%20%20%20%20%20%20%20%20%20%20%20%20%20%20%20%20%20%20%20%20center%3A%20%5B42.3602534%2C%20-71.0582912%5D%2C%0A%20%20%20%20%20%20%20%20%20%20%20%20%20%20%20%20%20%20%20%20crs%3A%20L.CRS.EPSG3857%2C%0A%20%20%20%20%20%20%20%20%20%20%20%20%20%20%20%20%20%20%20%20zoom%3A%2011%2C%0A%20%20%20%20%20%20%20%20%20%20%20%20%20%20%20%20%20%20%20%20zoomControl%3A%20true%2C%0A%20%20%20%20%20%20%20%20%20%20%20%20%20%20%20%20%20%20%20%20preferCanvas%3A%20false%2C%0A%20%20%20%20%20%20%20%20%20%20%20%20%20%20%20%20%7D%0A%20%20%20%20%20%20%20%20%20%20%20%20%29%3B%0A%0A%20%20%20%20%20%20%20%20%20%20%20%20%0A%0A%20%20%20%20%20%20%20%20%0A%20%20%20%20%0A%20%20%20%20%20%20%20%20%20%20%20%20var%20tile_layer_e75103104e5f43daa81ad726a2ae19ed%20%3D%20L.tileLayer%28%0A%20%20%20%20%20%20%20%20%20%20%20%20%20%20%20%20%22https%3A//%7Bs%7D.tile.openstreetmap.org/%7Bz%7D/%7Bx%7D/%7By%7D.png%22%2C%0A%20%20%20%20%20%20%20%20%20%20%20%20%20%20%20%20%7B%22attribution%22%3A%20%22Data%20by%20%5Cu0026copy%3B%20%5Cu003ca%20href%3D%5C%22http%3A//openstreetmap.org%5C%22%5Cu003eOpenStreetMap%5Cu003c/a%5Cu003e%2C%20under%20%5Cu003ca%20href%3D%5C%22http%3A//www.openstreetmap.org/copyright%5C%22%5Cu003eODbL%5Cu003c/a%5Cu003e.%22%2C%20%22detectRetina%22%3A%20false%2C%20%22maxNativeZoom%22%3A%2018%2C%20%22maxZoom%22%3A%2018%2C%20%22minZoom%22%3A%200%2C%20%22noWrap%22%3A%20false%2C%20%22opacity%22%3A%201%2C%20%22subdomains%22%3A%20%22abc%22%2C%20%22tms%22%3A%20false%7D%0A%20%20%20%20%20%20%20%20%20%20%20%20%29.addTo%28map_c2c7b95ca9ba4f90a81056bc1923629d%29%3B%0A%20%20%20%20%20%20%20%20%0A%20%20%20%20%0A%20%20%20%20%20%20%20%20%20%20%20%20var%20circle_marker_2af0ed9f89e94286ab361d9bbd98f171%20%3D%20L.circleMarker%28%0A%20%20%20%20%20%20%20%20%20%20%20%20%20%20%20%20%5B42.2912093%2C%20-71.1244966%5D%2C%0A%20%20%20%20%20%20%20%20%20%20%20%20%20%20%20%20%7B%22bubblingMouseEvents%22%3A%20true%2C%20%22color%22%3A%20%22%23d4dd80%22%2C%20%22dashArray%22%3A%20null%2C%20%22dashOffset%22%3A%20null%2C%20%22fill%22%3A%20true%2C%20%22fillColor%22%3A%20%22%23d4dd80%22%2C%20%22fillOpacity%22%3A%200.7%2C%20%22fillRule%22%3A%20%22evenodd%22%2C%20%22lineCap%22%3A%20%22round%22%2C%20%22lineJoin%22%3A%20%22round%22%2C%20%22opacity%22%3A%201.0%2C%20%22radius%22%3A%205%2C%20%22stroke%22%3A%20true%2C%20%22weight%22%3A%203%7D%0A%20%20%20%20%20%20%20%20%20%20%20%20%29.addTo%28map_c2c7b95ca9ba4f90a81056bc1923629d%29%3B%0A%20%20%20%20%20%20%20%20%0A%20%20%20%20%0A%20%20%20%20%20%20%20%20var%20popup_b2f05fd5d667455591392b0c2824449b%20%3D%20L.popup%28%7B%22maxWidth%22%3A%20%22100%25%22%7D%29%3B%0A%0A%20%20%20%20%20%20%20%20%0A%20%20%20%20%20%20%20%20%20%20%20%20var%20html_11f41155fe3e418692adaff746d1d1ac%20%3D%20%24%28%60%3Cdiv%20id%3D%22html_11f41155fe3e418692adaff746d1d1ac%22%20style%3D%22width%3A%20100.0%25%3B%20height%3A%20100.0%25%3B%22%3ERoslindale%20Cluster%203.0%3C/div%3E%60%29%5B0%5D%3B%0A%20%20%20%20%20%20%20%20%20%20%20%20popup_b2f05fd5d667455591392b0c2824449b.setContent%28html_11f41155fe3e418692adaff746d1d1ac%29%3B%0A%20%20%20%20%20%20%20%20%0A%0A%20%20%20%20%20%20%20%20circle_marker_2af0ed9f89e94286ab361d9bbd98f171.bindPopup%28popup_b2f05fd5d667455591392b0c2824449b%29%0A%20%20%20%20%20%20%20%20%3B%0A%0A%20%20%20%20%20%20%20%20%0A%20%20%20%20%0A%20%20%20%20%0A%20%20%20%20%20%20%20%20%20%20%20%20var%20circle_marker_5a7f2668a70e4206ab0eaaa3cc9b162f%20%3D%20L.circleMarker%28%0A%20%20%20%20%20%20%20%20%20%20%20%20%20%20%20%20%5B42.3098201%2C%20-71.1203299%5D%2C%0A%20%20%20%20%20%20%20%20%20%20%20%20%20%20%20%20%7B%22bubblingMouseEvents%22%3A%20true%2C%20%22color%22%3A%20%22%23ff0000%22%2C%20%22dashArray%22%3A%20null%2C%20%22dashOffset%22%3A%20null%2C%20%22fill%22%3A%20true%2C%20%22fillColor%22%3A%20%22%23ff0000%22%2C%20%22fillOpacity%22%3A%200.7%2C%20%22fillRule%22%3A%20%22evenodd%22%2C%20%22lineCap%22%3A%20%22round%22%2C%20%22lineJoin%22%3A%20%22round%22%2C%20%22opacity%22%3A%201.0%2C%20%22radius%22%3A%205%2C%20%22stroke%22%3A%20true%2C%20%22weight%22%3A%203%7D%0A%20%20%20%20%20%20%20%20%20%20%20%20%29.addTo%28map_c2c7b95ca9ba4f90a81056bc1923629d%29%3B%0A%20%20%20%20%20%20%20%20%0A%20%20%20%20%0A%20%20%20%20%20%20%20%20var%20popup_6db42042ca4d4670ba8f9741ffcf35ec%20%3D%20L.popup%28%7B%22maxWidth%22%3A%20%22100%25%22%7D%29%3B%0A%0A%20%20%20%20%20%20%20%20%0A%20%20%20%20%20%20%20%20%20%20%20%20var%20html_3df8d52013054ad9977e32d112a59ea0%20%3D%20%24%28%60%3Cdiv%20id%3D%22html_3df8d52013054ad9977e32d112a59ea0%22%20style%3D%22width%3A%20100.0%25%3B%20height%3A%20100.0%25%3B%22%3EJamaica%20Plain%20Cluster%200.0%3C/div%3E%60%29%5B0%5D%3B%0A%20%20%20%20%20%20%20%20%20%20%20%20popup_6db42042ca4d4670ba8f9741ffcf35ec.setContent%28html_3df8d52013054ad9977e32d112a59ea0%29%3B%0A%20%20%20%20%20%20%20%20%0A%0A%20%20%20%20%20%20%20%20circle_marker_5a7f2668a70e4206ab0eaaa3cc9b162f.bindPopup%28popup_6db42042ca4d4670ba8f9741ffcf35ec%29%0A%20%20%20%20%20%20%20%20%3B%0A%0A%20%20%20%20%20%20%20%20%0A%20%20%20%20%0A%20%20%20%20%0A%20%20%20%20%20%20%20%20%20%20%20%20var%20circle_marker_8c7a60f95bbe4cc1a760cddba1603c7b%20%3D%20L.circleMarker%28%0A%20%20%20%20%20%20%20%20%20%20%20%20%20%20%20%20%5B42.33255965%2C%20-71.10360773640765%5D%2C%0A%20%20%20%20%20%20%20%20%20%20%20%20%20%20%20%20%7B%22bubblingMouseEvents%22%3A%20true%2C%20%22color%22%3A%20%22%23d4dd80%22%2C%20%22dashArray%22%3A%20null%2C%20%22dashOffset%22%3A%20null%2C%20%22fill%22%3A%20true%2C%20%22fillColor%22%3A%20%22%23d4dd80%22%2C%20%22fillOpacity%22%3A%200.7%2C%20%22fillRule%22%3A%20%22evenodd%22%2C%20%22lineCap%22%3A%20%22round%22%2C%20%22lineJoin%22%3A%20%22round%22%2C%20%22opacity%22%3A%201.0%2C%20%22radius%22%3A%205%2C%20%22stroke%22%3A%20true%2C%20%22weight%22%3A%203%7D%0A%20%20%20%20%20%20%20%20%20%20%20%20%29.addTo%28map_c2c7b95ca9ba4f90a81056bc1923629d%29%3B%0A%20%20%20%20%20%20%20%20%0A%20%20%20%20%0A%20%20%20%20%20%20%20%20var%20popup_82e1a319d17342379e8c906507794a22%20%3D%20L.popup%28%7B%22maxWidth%22%3A%20%22100%25%22%7D%29%3B%0A%0A%20%20%20%20%20%20%20%20%0A%20%20%20%20%20%20%20%20%20%20%20%20var%20html_5eab308351f14ad48f6dc18518789880%20%3D%20%24%28%60%3Cdiv%20id%3D%22html_5eab308351f14ad48f6dc18518789880%22%20style%3D%22width%3A%20100.0%25%3B%20height%3A%20100.0%25%3B%22%3EMission%20Hill%20Cluster%203.0%3C/div%3E%60%29%5B0%5D%3B%0A%20%20%20%20%20%20%20%20%20%20%20%20popup_82e1a319d17342379e8c906507794a22.setContent%28html_5eab308351f14ad48f6dc18518789880%29%3B%0A%20%20%20%20%20%20%20%20%0A%0A%20%20%20%20%20%20%20%20circle_marker_8c7a60f95bbe4cc1a760cddba1603c7b.bindPopup%28popup_82e1a319d17342379e8c906507794a22%29%0A%20%20%20%20%20%20%20%20%3B%0A%0A%20%20%20%20%20%20%20%20%0A%20%20%20%20%0A%20%20%20%20%0A%20%20%20%20%20%20%20%20%20%20%20%20var%20circle_marker_14f595b842cc4669a92c84afae779ed2%20%3D%20L.circleMarker%28%0A%20%20%20%20%20%20%20%20%20%20%20%20%20%20%20%20%5B42.3415333%2C%20-71.1101551%5D%2C%0A%20%20%20%20%20%20%20%20%20%20%20%20%20%20%20%20%7B%22bubblingMouseEvents%22%3A%20true%2C%20%22color%22%3A%20%22%23ff0000%22%2C%20%22dashArray%22%3A%20null%2C%20%22dashOffset%22%3A%20null%2C%20%22fill%22%3A%20true%2C%20%22fillColor%22%3A%20%22%23ff0000%22%2C%20%22fillOpacity%22%3A%200.7%2C%20%22fillRule%22%3A%20%22evenodd%22%2C%20%22lineCap%22%3A%20%22round%22%2C%20%22lineJoin%22%3A%20%22round%22%2C%20%22opacity%22%3A%201.0%2C%20%22radius%22%3A%205%2C%20%22stroke%22%3A%20true%2C%20%22weight%22%3A%203%7D%0A%20%20%20%20%20%20%20%20%20%20%20%20%29.addTo%28map_c2c7b95ca9ba4f90a81056bc1923629d%29%3B%0A%20%20%20%20%20%20%20%20%0A%20%20%20%20%0A%20%20%20%20%20%20%20%20var%20popup_93bab123b3764f35aa618116a7fb236f%20%3D%20L.popup%28%7B%22maxWidth%22%3A%20%22100%25%22%7D%29%3B%0A%0A%20%20%20%20%20%20%20%20%0A%20%20%20%20%20%20%20%20%20%20%20%20var%20html_7c17c2dbb41f4a23978a26aa321a0f6c%20%3D%20%24%28%60%3Cdiv%20id%3D%22html_7c17c2dbb41f4a23978a26aa321a0f6c%22%20style%3D%22width%3A%20100.0%25%3B%20height%3A%20100.0%25%3B%22%3ELongwood%20Cluster%200.0%3C/div%3E%60%29%5B0%5D%3B%0A%20%20%20%20%20%20%20%20%20%20%20%20popup_93bab123b3764f35aa618116a7fb236f.setContent%28html_7c17c2dbb41f4a23978a26aa321a0f6c%29%3B%0A%20%20%20%20%20%20%20%20%0A%0A%20%20%20%20%20%20%20%20circle_marker_14f595b842cc4669a92c84afae779ed2.bindPopup%28popup_93bab123b3764f35aa618116a7fb236f%29%0A%20%20%20%20%20%20%20%20%3B%0A%0A%20%20%20%20%20%20%20%20%0A%20%20%20%20%0A%20%20%20%20%0A%20%20%20%20%20%20%20%20%20%20%20%20var%20circle_marker_66f86ba3e3074bbaa65e7d4e0cdfb4e8%20%3D%20L.circleMarker%28%0A%20%20%20%20%20%20%20%20%20%20%20%20%20%20%20%20%5B42.35001105%2C%20-71.0669477958571%5D%2C%0A%20%20%20%20%20%20%20%20%20%20%20%20%20%20%20%20%7B%22bubblingMouseEvents%22%3A%20true%2C%20%22color%22%3A%20%22%23ff0000%22%2C%20%22dashArray%22%3A%20null%2C%20%22dashOffset%22%3A%20null%2C%20%22fill%22%3A%20true%2C%20%22fillColor%22%3A%20%22%23ff0000%22%2C%20%22fillOpacity%22%3A%200.7%2C%20%22fillRule%22%3A%20%22evenodd%22%2C%20%22lineCap%22%3A%20%22round%22%2C%20%22lineJoin%22%3A%20%22round%22%2C%20%22opacity%22%3A%201.0%2C%20%22radius%22%3A%205%2C%20%22stroke%22%3A%20true%2C%20%22weight%22%3A%203%7D%0A%20%20%20%20%20%20%20%20%20%20%20%20%29.addTo%28map_c2c7b95ca9ba4f90a81056bc1923629d%29%3B%0A%20%20%20%20%20%20%20%20%0A%20%20%20%20%0A%20%20%20%20%20%20%20%20var%20popup_0c8fe417a8ef4569bb55337783484786%20%3D%20L.popup%28%7B%22maxWidth%22%3A%20%22100%25%22%7D%29%3B%0A%0A%20%20%20%20%20%20%20%20%0A%20%20%20%20%20%20%20%20%20%20%20%20var%20html_bfcc672d25ec4e0c9f1df64c4556bfc5%20%3D%20%24%28%60%3Cdiv%20id%3D%22html_bfcc672d25ec4e0c9f1df64c4556bfc5%22%20style%3D%22width%3A%20100.0%25%3B%20height%3A%20100.0%25%3B%22%3EBay%20Village%20Cluster%200.0%3C/div%3E%60%29%5B0%5D%3B%0A%20%20%20%20%20%20%20%20%20%20%20%20popup_0c8fe417a8ef4569bb55337783484786.setContent%28html_bfcc672d25ec4e0c9f1df64c4556bfc5%29%3B%0A%20%20%20%20%20%20%20%20%0A%0A%20%20%20%20%20%20%20%20circle_marker_66f86ba3e3074bbaa65e7d4e0cdfb4e8.bindPopup%28popup_0c8fe417a8ef4569bb55337783484786%29%0A%20%20%20%20%20%20%20%20%3B%0A%0A%20%20%20%20%20%20%20%20%0A%20%20%20%20%0A%20%20%20%20%0A%20%20%20%20%20%20%20%20%20%20%20%20var%20circle_marker_50a6fa3c6eec47d2bfe2ab6dbf223259%20%3D%20L.circleMarker%28%0A%20%20%20%20%20%20%20%20%20%20%20%20%20%20%20%20%5B42.3523222%2C%20-71.05734307739965%5D%2C%0A%20%20%20%20%20%20%20%20%20%20%20%20%20%20%20%20%7B%22bubblingMouseEvents%22%3A%20true%2C%20%22color%22%3A%20%22%232adddd%22%2C%20%22dashArray%22%3A%20null%2C%20%22dashOffset%22%3A%20null%2C%20%22fill%22%3A%20true%2C%20%22fillColor%22%3A%20%22%232adddd%22%2C%20%22fillOpacity%22%3A%200.7%2C%20%22fillRule%22%3A%20%22evenodd%22%2C%20%22lineCap%22%3A%20%22round%22%2C%20%22lineJoin%22%3A%20%22round%22%2C%20%22opacity%22%3A%201.0%2C%20%22radius%22%3A%205%2C%20%22stroke%22%3A%20true%2C%20%22weight%22%3A%203%7D%0A%20%20%20%20%20%20%20%20%20%20%20%20%29.addTo%28map_c2c7b95ca9ba4f90a81056bc1923629d%29%3B%0A%20%20%20%20%20%20%20%20%0A%20%20%20%20%0A%20%20%20%20%20%20%20%20var%20popup_dc50c7b461a5415c99337c0c3defef23%20%3D%20L.popup%28%7B%22maxWidth%22%3A%20%22100%25%22%7D%29%3B%0A%0A%20%20%20%20%20%20%20%20%0A%20%20%20%20%20%20%20%20%20%20%20%20var%20html_5b288e6a10424af4a4bbe259fb7de830%20%3D%20%24%28%60%3Cdiv%20id%3D%22html_5b288e6a10424af4a4bbe259fb7de830%22%20style%3D%22width%3A%20100.0%25%3B%20height%3A%20100.0%25%3B%22%3ELeather%20District%20Cluster%202.0%3C/div%3E%60%29%5B0%5D%3B%0A%20%20%20%20%20%20%20%20%20%20%20%20popup_dc50c7b461a5415c99337c0c3defef23.setContent%28html_5b288e6a10424af4a4bbe259fb7de830%29%3B%0A%20%20%20%20%20%20%20%20%0A%0A%20%20%20%20%20%20%20%20circle_marker_50a6fa3c6eec47d2bfe2ab6dbf223259.bindPopup%28popup_dc50c7b461a5415c99337c0c3defef23%29%0A%20%20%20%20%20%20%20%20%3B%0A%0A%20%20%20%20%20%20%20%20%0A%20%20%20%20%0A%20%20%20%20%0A%20%20%20%20%20%20%20%20%20%20%20%20var%20circle_marker_da06ca27291a4a22b4ee8e89f2d6c98d%20%3D%20L.circleMarker%28%0A%20%20%20%20%20%20%20%20%20%20%20%20%20%20%20%20%5B42.3522166%2C%20-71.0626074%5D%2C%0A%20%20%20%20%20%20%20%20%20%20%20%20%20%20%20%20%7B%22bubblingMouseEvents%22%3A%20true%2C%20%22color%22%3A%20%22%232adddd%22%2C%20%22dashArray%22%3A%20null%2C%20%22dashOffset%22%3A%20null%2C%20%22fill%22%3A%20true%2C%20%22fillColor%22%3A%20%22%232adddd%22%2C%20%22fillOpacity%22%3A%200.7%2C%20%22fillRule%22%3A%20%22evenodd%22%2C%20%22lineCap%22%3A%20%22round%22%2C%20%22lineJoin%22%3A%20%22round%22%2C%20%22opacity%22%3A%201.0%2C%20%22radius%22%3A%205%2C%20%22stroke%22%3A%20true%2C%20%22weight%22%3A%203%7D%0A%20%20%20%20%20%20%20%20%20%20%20%20%29.addTo%28map_c2c7b95ca9ba4f90a81056bc1923629d%29%3B%0A%20%20%20%20%20%20%20%20%0A%20%20%20%20%0A%20%20%20%20%20%20%20%20var%20popup_23ab26b302fc474fbbb9e703364d0960%20%3D%20L.popup%28%7B%22maxWidth%22%3A%20%22100%25%22%7D%29%3B%0A%0A%20%20%20%20%20%20%20%20%0A%20%20%20%20%20%20%20%20%20%20%20%20var%20html_5d83577bb4cb410880bc28accc2b3269%20%3D%20%24%28%60%3Cdiv%20id%3D%22html_5d83577bb4cb410880bc28accc2b3269%22%20style%3D%22width%3A%20100.0%25%3B%20height%3A%20100.0%25%3B%22%3EChinatown%20Cluster%202.0%3C/div%3E%60%29%5B0%5D%3B%0A%20%20%20%20%20%20%20%20%20%20%20%20popup_23ab26b302fc474fbbb9e703364d0960.setContent%28html_5d83577bb4cb410880bc28accc2b3269%29%3B%0A%20%20%20%20%20%20%20%20%0A%0A%20%20%20%20%20%20%20%20circle_marker_da06ca27291a4a22b4ee8e89f2d6c98d.bindPopup%28popup_23ab26b302fc474fbbb9e703364d0960%29%0A%20%20%20%20%20%20%20%20%3B%0A%0A%20%20%20%20%20%20%20%20%0A%20%20%20%20%0A%20%20%20%20%0A%20%20%20%20%20%20%20%20%20%20%20%20var%20circle_marker_f6860c54b5c74369b99a6598c81d0b54%20%3D%20L.circleMarker%28%0A%20%20%20%20%20%20%20%20%20%20%20%20%20%20%20%20%5B42.3650974%2C%20-71.0544954%5D%2C%0A%20%20%20%20%20%20%20%20%20%20%20%20%20%20%20%20%7B%22bubblingMouseEvents%22%3A%20true%2C%20%22color%22%3A%20%22%23ff0000%22%2C%20%22dashArray%22%3A%20null%2C%20%22dashOffset%22%3A%20null%2C%20%22fill%22%3A%20true%2C%20%22fillColor%22%3A%20%22%23ff0000%22%2C%20%22fillOpacity%22%3A%200.7%2C%20%22fillRule%22%3A%20%22evenodd%22%2C%20%22lineCap%22%3A%20%22round%22%2C%20%22lineJoin%22%3A%20%22round%22%2C%20%22opacity%22%3A%201.0%2C%20%22radius%22%3A%205%2C%20%22stroke%22%3A%20true%2C%20%22weight%22%3A%203%7D%0A%20%20%20%20%20%20%20%20%20%20%20%20%29.addTo%28map_c2c7b95ca9ba4f90a81056bc1923629d%29%3B%0A%20%20%20%20%20%20%20%20%0A%20%20%20%20%0A%20%20%20%20%20%20%20%20var%20popup_fbdb71f6b6984c54a0ed3caaca518090%20%3D%20L.popup%28%7B%22maxWidth%22%3A%20%22100%25%22%7D%29%3B%0A%0A%20%20%20%20%20%20%20%20%0A%20%20%20%20%20%20%20%20%20%20%20%20var%20html_7e69085bd83c4f969ce6bdc15f1a597d%20%3D%20%24%28%60%3Cdiv%20id%3D%22html_7e69085bd83c4f969ce6bdc15f1a597d%22%20style%3D%22width%3A%20100.0%25%3B%20height%3A%20100.0%25%3B%22%3ENorth%20End%20Cluster%200.0%3C/div%3E%60%29%5B0%5D%3B%0A%20%20%20%20%20%20%20%20%20%20%20%20popup_fbdb71f6b6984c54a0ed3caaca518090.setContent%28html_7e69085bd83c4f969ce6bdc15f1a597d%29%3B%0A%20%20%20%20%20%20%20%20%0A%0A%20%20%20%20%20%20%20%20circle_marker_f6860c54b5c74369b99a6598c81d0b54.bindPopup%28popup_fbdb71f6b6984c54a0ed3caaca518090%29%0A%20%20%20%20%20%20%20%20%3B%0A%0A%20%20%20%20%20%20%20%20%0A%20%20%20%20%0A%20%20%20%20%0A%20%20%20%20%20%20%20%20%20%20%20%20var%20circle_marker_f067343a2dc64de4acfe8c7671adcacf%20%3D%20L.circleMarker%28%0A%20%20%20%20%20%20%20%20%20%20%20%20%20%20%20%20%5B42.3248426%2C%20-71.0950158%5D%2C%0A%20%20%20%20%20%20%20%20%20%20%20%20%20%20%20%20%7B%22bubblingMouseEvents%22%3A%20true%2C%20%22color%22%3A%20%22%238000ff%22%2C%20%22dashArray%22%3A%20null%2C%20%22dashOffset%22%3A%20null%2C%20%22fill%22%3A%20true%2C%20%22fillColor%22%3A%20%22%238000ff%22%2C%20%22fillOpacity%22%3A%200.7%2C%20%22fillRule%22%3A%20%22evenodd%22%2C%20%22lineCap%22%3A%20%22round%22%2C%20%22lineJoin%22%3A%20%22round%22%2C%20%22opacity%22%3A%201.0%2C%20%22radius%22%3A%205%2C%20%22stroke%22%3A%20true%2C%20%22weight%22%3A%203%7D%0A%20%20%20%20%20%20%20%20%20%20%20%20%29.addTo%28map_c2c7b95ca9ba4f90a81056bc1923629d%29%3B%0A%20%20%20%20%20%20%20%20%0A%20%20%20%20%0A%20%20%20%20%20%20%20%20var%20popup_193147f040f545e4b8268e75c92de1b8%20%3D%20L.popup%28%7B%22maxWidth%22%3A%20%22100%25%22%7D%29%3B%0A%0A%20%20%20%20%20%20%20%20%0A%20%20%20%20%20%20%20%20%20%20%20%20var%20html_2ef8fd803738450fadad2c030148fc9d%20%3D%20%24%28%60%3Cdiv%20id%3D%22html_2ef8fd803738450fadad2c030148fc9d%22%20style%3D%22width%3A%20100.0%25%3B%20height%3A%20100.0%25%3B%22%3ERoxbury%20Cluster%201.0%3C/div%3E%60%29%5B0%5D%3B%0A%20%20%20%20%20%20%20%20%20%20%20%20popup_193147f040f545e4b8268e75c92de1b8.setContent%28html_2ef8fd803738450fadad2c030148fc9d%29%3B%0A%20%20%20%20%20%20%20%20%0A%0A%20%20%20%20%20%20%20%20circle_marker_f067343a2dc64de4acfe8c7671adcacf.bindPopup%28popup_193147f040f545e4b8268e75c92de1b8%29%0A%20%20%20%20%20%20%20%20%3B%0A%0A%20%20%20%20%20%20%20%20%0A%20%20%20%20%0A%20%20%20%20%0A%20%20%20%20%20%20%20%20%20%20%20%20var%20circle_marker_19c121ba6c8141d69dd765391462e713%20%3D%20L.circleMarker%28%0A%20%20%20%20%20%20%20%20%20%20%20%20%20%20%20%20%5B42.34131%2C%20-71.0772298%5D%2C%0A%20%20%20%20%20%20%20%20%20%20%20%20%20%20%20%20%7B%22bubblingMouseEvents%22%3A%20true%2C%20%22color%22%3A%20%22%232adddd%22%2C%20%22dashArray%22%3A%20null%2C%20%22dashOffset%22%3A%20null%2C%20%22fill%22%3A%20true%2C%20%22fillColor%22%3A%20%22%232adddd%22%2C%20%22fillOpacity%22%3A%200.7%2C%20%22fillRule%22%3A%20%22evenodd%22%2C%20%22lineCap%22%3A%20%22round%22%2C%20%22lineJoin%22%3A%20%22round%22%2C%20%22opacity%22%3A%201.0%2C%20%22radius%22%3A%205%2C%20%22stroke%22%3A%20true%2C%20%22weight%22%3A%203%7D%0A%20%20%20%20%20%20%20%20%20%20%20%20%29.addTo%28map_c2c7b95ca9ba4f90a81056bc1923629d%29%3B%0A%20%20%20%20%20%20%20%20%0A%20%20%20%20%0A%20%20%20%20%20%20%20%20var%20popup_d42d3ae86d4d4f30ac797c6849cf941b%20%3D%20L.popup%28%7B%22maxWidth%22%3A%20%22100%25%22%7D%29%3B%0A%0A%20%20%20%20%20%20%20%20%0A%20%20%20%20%20%20%20%20%20%20%20%20var%20html_62edd5593acc4d299c4bc92bf388570e%20%3D%20%24%28%60%3Cdiv%20id%3D%22html_62edd5593acc4d299c4bc92bf388570e%22%20style%3D%22width%3A%20100.0%25%3B%20height%3A%20100.0%25%3B%22%3ESouth%20End%20Cluster%202.0%3C/div%3E%60%29%5B0%5D%3B%0A%20%20%20%20%20%20%20%20%20%20%20%20popup_d42d3ae86d4d4f30ac797c6849cf941b.setContent%28html_62edd5593acc4d299c4bc92bf388570e%29%3B%0A%20%20%20%20%20%20%20%20%0A%0A%20%20%20%20%20%20%20%20circle_marker_19c121ba6c8141d69dd765391462e713.bindPopup%28popup_d42d3ae86d4d4f30ac797c6849cf941b%29%0A%20%20%20%20%20%20%20%20%3B%0A%0A%20%20%20%20%20%20%20%20%0A%20%20%20%20%0A%20%20%20%20%0A%20%20%20%20%20%20%20%20%20%20%20%20var%20circle_marker_89f86796f59944249deb56c0670cfbf5%20%3D%20L.circleMarker%28%0A%20%20%20%20%20%20%20%20%20%20%20%20%20%20%20%20%5B42.35054885%2C%20-71.08031131584724%5D%2C%0A%20%20%20%20%20%20%20%20%20%20%20%20%20%20%20%20%7B%22bubblingMouseEvents%22%3A%20true%2C%20%22color%22%3A%20%22%232adddd%22%2C%20%22dashArray%22%3A%20null%2C%20%22dashOffset%22%3A%20null%2C%20%22fill%22%3A%20true%2C%20%22fillColor%22%3A%20%22%232adddd%22%2C%20%22fillOpacity%22%3A%200.7%2C%20%22fillRule%22%3A%20%22evenodd%22%2C%20%22lineCap%22%3A%20%22round%22%2C%20%22lineJoin%22%3A%20%22round%22%2C%20%22opacity%22%3A%201.0%2C%20%22radius%22%3A%205%2C%20%22stroke%22%3A%20true%2C%20%22weight%22%3A%203%7D%0A%20%20%20%20%20%20%20%20%20%20%20%20%29.addTo%28map_c2c7b95ca9ba4f90a81056bc1923629d%29%3B%0A%20%20%20%20%20%20%20%20%0A%20%20%20%20%0A%20%20%20%20%20%20%20%20var%20popup_769f6d88a4764888955828fab5f8f1c6%20%3D%20L.popup%28%7B%22maxWidth%22%3A%20%22100%25%22%7D%29%3B%0A%0A%20%20%20%20%20%20%20%20%0A%20%20%20%20%20%20%20%20%20%20%20%20var%20html_a744cc98ad5c48e28607e2fa430c294a%20%3D%20%24%28%60%3Cdiv%20id%3D%22html_a744cc98ad5c48e28607e2fa430c294a%22%20style%3D%22width%3A%20100.0%25%3B%20height%3A%20100.0%25%3B%22%3EBack%20Bay%20Cluster%202.0%3C/div%3E%60%29%5B0%5D%3B%0A%20%20%20%20%20%20%20%20%20%20%20%20popup_769f6d88a4764888955828fab5f8f1c6.setContent%28html_a744cc98ad5c48e28607e2fa430c294a%29%3B%0A%20%20%20%20%20%20%20%20%0A%0A%20%20%20%20%20%20%20%20circle_marker_89f86796f59944249deb56c0670cfbf5.bindPopup%28popup_769f6d88a4764888955828fab5f8f1c6%29%0A%20%20%20%20%20%20%20%20%3B%0A%0A%20%20%20%20%20%20%20%20%0A%20%20%20%20%0A%20%20%20%20%0A%20%20%20%20%20%20%20%20%20%20%20%20var%20circle_marker_6ba67d4247aa40d0a497a07e3285e1bc%20%3D%20L.circleMarker%28%0A%20%20%20%20%20%20%20%20%20%20%20%20%20%20%20%20%5B42.3750973%2C%20-71.0392173%5D%2C%0A%20%20%20%20%20%20%20%20%20%20%20%20%20%20%20%20%7B%22bubblingMouseEvents%22%3A%20true%2C%20%22color%22%3A%20%22%23d4dd80%22%2C%20%22dashArray%22%3A%20null%2C%20%22dashOffset%22%3A%20null%2C%20%22fill%22%3A%20true%2C%20%22fillColor%22%3A%20%22%23d4dd80%22%2C%20%22fillOpacity%22%3A%200.7%2C%20%22fillRule%22%3A%20%22evenodd%22%2C%20%22lineCap%22%3A%20%22round%22%2C%20%22lineJoin%22%3A%20%22round%22%2C%20%22opacity%22%3A%201.0%2C%20%22radius%22%3A%205%2C%20%22stroke%22%3A%20true%2C%20%22weight%22%3A%203%7D%0A%20%20%20%20%20%20%20%20%20%20%20%20%29.addTo%28map_c2c7b95ca9ba4f90a81056bc1923629d%29%3B%0A%20%20%20%20%20%20%20%20%0A%20%20%20%20%0A%20%20%20%20%20%20%20%20var%20popup_8c6afcabe89848efb0214229a4745247%20%3D%20L.popup%28%7B%22maxWidth%22%3A%20%22100%25%22%7D%29%3B%0A%0A%20%20%20%20%20%20%20%20%0A%20%20%20%20%20%20%20%20%20%20%20%20var%20html_191cae50cd3f4063b0698546795f0aa9%20%3D%20%24%28%60%3Cdiv%20id%3D%22html_191cae50cd3f4063b0698546795f0aa9%22%20style%3D%22width%3A%20100.0%25%3B%20height%3A%20100.0%25%3B%22%3EEast%20Boston%20Cluster%203.0%3C/div%3E%60%29%5B0%5D%3B%0A%20%20%20%20%20%20%20%20%20%20%20%20popup_8c6afcabe89848efb0214229a4745247.setContent%28html_191cae50cd3f4063b0698546795f0aa9%29%3B%0A%20%20%20%20%20%20%20%20%0A%0A%20%20%20%20%20%20%20%20circle_marker_6ba67d4247aa40d0a497a07e3285e1bc.bindPopup%28popup_8c6afcabe89848efb0214229a4745247%29%0A%20%20%20%20%20%20%20%20%3B%0A%0A%20%20%20%20%20%20%20%20%0A%20%20%20%20%0A%20%20%20%20%0A%20%20%20%20%20%20%20%20%20%20%20%20var%20circle_marker_a9ecc0f6b83c40fca3232af3adcf71c7%20%3D%20L.circleMarker%28%0A%20%20%20%20%20%20%20%20%20%20%20%20%20%20%20%20%5B42.3778749%2C%20-71.0619957%5D%2C%0A%20%20%20%20%20%20%20%20%20%20%20%20%20%20%20%20%7B%22bubblingMouseEvents%22%3A%20true%2C%20%22color%22%3A%20%22%23ff0000%22%2C%20%22dashArray%22%3A%20null%2C%20%22dashOffset%22%3A%20null%2C%20%22fill%22%3A%20true%2C%20%22fillColor%22%3A%20%22%23ff0000%22%2C%20%22fillOpacity%22%3A%200.7%2C%20%22fillRule%22%3A%20%22evenodd%22%2C%20%22lineCap%22%3A%20%22round%22%2C%20%22lineJoin%22%3A%20%22round%22%2C%20%22opacity%22%3A%201.0%2C%20%22radius%22%3A%205%2C%20%22stroke%22%3A%20true%2C%20%22weight%22%3A%203%7D%0A%20%20%20%20%20%20%20%20%20%20%20%20%29.addTo%28map_c2c7b95ca9ba4f90a81056bc1923629d%29%3B%0A%20%20%20%20%20%20%20%20%0A%20%20%20%20%0A%20%20%20%20%20%20%20%20var%20popup_ed742ae557584b5c8d0e3bdd38571329%20%3D%20L.popup%28%7B%22maxWidth%22%3A%20%22100%25%22%7D%29%3B%0A%0A%20%20%20%20%20%20%20%20%0A%20%20%20%20%20%20%20%20%20%20%20%20var%20html_63efff5992df4b2cb2938f15e5124cd1%20%3D%20%24%28%60%3Cdiv%20id%3D%22html_63efff5992df4b2cb2938f15e5124cd1%22%20style%3D%22width%3A%20100.0%25%3B%20height%3A%20100.0%25%3B%22%3ECharlestown%20Cluster%200.0%3C/div%3E%60%29%5B0%5D%3B%0A%20%20%20%20%20%20%20%20%20%20%20%20popup_ed742ae557584b5c8d0e3bdd38571329.setContent%28html_63efff5992df4b2cb2938f15e5124cd1%29%3B%0A%20%20%20%20%20%20%20%20%0A%0A%20%20%20%20%20%20%20%20circle_marker_a9ecc0f6b83c40fca3232af3adcf71c7.bindPopup%28popup_ed742ae557584b5c8d0e3bdd38571329%29%0A%20%20%20%20%20%20%20%20%3B%0A%0A%20%20%20%20%20%20%20%20%0A%20%20%20%20%0A%20%20%20%20%0A%20%20%20%20%20%20%20%20%20%20%20%20var%20circle_marker_205141b892254e5e9d8ac4341907cfe4%20%3D%20L.circleMarker%28%0A%20%20%20%20%20%20%20%20%20%20%20%20%20%20%20%20%5B42.3639186%2C%20-71.0638993%5D%2C%0A%20%20%20%20%20%20%20%20%20%20%20%20%20%20%20%20%7B%22bubblingMouseEvents%22%3A%20true%2C%20%22color%22%3A%20%22%232adddd%22%2C%20%22dashArray%22%3A%20null%2C%20%22dashOffset%22%3A%20null%2C%20%22fill%22%3A%20true%2C%20%22fillColor%22%3A%20%22%232adddd%22%2C%20%22fillOpacity%22%3A%200.7%2C%20%22fillRule%22%3A%20%22evenodd%22%2C%20%22lineCap%22%3A%20%22round%22%2C%20%22lineJoin%22%3A%20%22round%22%2C%20%22opacity%22%3A%201.0%2C%20%22radius%22%3A%205%2C%20%22stroke%22%3A%20true%2C%20%22weight%22%3A%203%7D%0A%20%20%20%20%20%20%20%20%20%20%20%20%29.addTo%28map_c2c7b95ca9ba4f90a81056bc1923629d%29%3B%0A%20%20%20%20%20%20%20%20%0A%20%20%20%20%0A%20%20%20%20%20%20%20%20var%20popup_83b65ec9abf743bc8e66fd049d2a71a4%20%3D%20L.popup%28%7B%22maxWidth%22%3A%20%22100%25%22%7D%29%3B%0A%0A%20%20%20%20%20%20%20%20%0A%20%20%20%20%20%20%20%20%20%20%20%20var%20html_5e914c757ab44439ba32e056fec48513%20%3D%20%24%28%60%3Cdiv%20id%3D%22html_5e914c757ab44439ba32e056fec48513%22%20style%3D%22width%3A%20100.0%25%3B%20height%3A%20100.0%25%3B%22%3EWest%20End%20Cluster%202.0%3C/div%3E%60%29%5B0%5D%3B%0A%20%20%20%20%20%20%20%20%20%20%20%20popup_83b65ec9abf743bc8e66fd049d2a71a4.setContent%28html_5e914c757ab44439ba32e056fec48513%29%3B%0A%20%20%20%20%20%20%20%20%0A%0A%20%20%20%20%20%20%20%20circle_marker_205141b892254e5e9d8ac4341907cfe4.bindPopup%28popup_83b65ec9abf743bc8e66fd049d2a71a4%29%0A%20%20%20%20%20%20%20%20%3B%0A%0A%20%20%20%20%20%20%20%20%0A%20%20%20%20%0A%20%20%20%20%0A%20%20%20%20%20%20%20%20%20%20%20%20var%20circle_marker_47d9fb49b2e548b88b14bc94b6848681%20%3D%20L.circleMarker%28%0A%20%20%20%20%20%20%20%20%20%20%20%20%20%20%20%20%5B42.3587085%2C%20-71.067829%5D%2C%0A%20%20%20%20%20%20%20%20%20%20%20%20%20%20%20%20%7B%22bubblingMouseEvents%22%3A%20true%2C%20%22color%22%3A%20%22%23d4dd80%22%2C%20%22dashArray%22%3A%20null%2C%20%22dashOffset%22%3A%20null%2C%20%22fill%22%3A%20true%2C%20%22fillColor%22%3A%20%22%23d4dd80%22%2C%20%22fillOpacity%22%3A%200.7%2C%20%22fillRule%22%3A%20%22evenodd%22%2C%20%22lineCap%22%3A%20%22round%22%2C%20%22lineJoin%22%3A%20%22round%22%2C%20%22opacity%22%3A%201.0%2C%20%22radius%22%3A%205%2C%20%22stroke%22%3A%20true%2C%20%22weight%22%3A%203%7D%0A%20%20%20%20%20%20%20%20%20%20%20%20%29.addTo%28map_c2c7b95ca9ba4f90a81056bc1923629d%29%3B%0A%20%20%20%20%20%20%20%20%0A%20%20%20%20%0A%20%20%20%20%20%20%20%20var%20popup_cc7dd68ab24b48c3baa7e362ea0040e7%20%3D%20L.popup%28%7B%22maxWidth%22%3A%20%22100%25%22%7D%29%3B%0A%0A%20%20%20%20%20%20%20%20%0A%20%20%20%20%20%20%20%20%20%20%20%20var%20html_c334027d3de948a7ba3f6f6173d62785%20%3D%20%24%28%60%3Cdiv%20id%3D%22html_c334027d3de948a7ba3f6f6173d62785%22%20style%3D%22width%3A%20100.0%25%3B%20height%3A%20100.0%25%3B%22%3EBeacon%20Hill%20Cluster%203.0%3C/div%3E%60%29%5B0%5D%3B%0A%20%20%20%20%20%20%20%20%20%20%20%20popup_cc7dd68ab24b48c3baa7e362ea0040e7.setContent%28html_c334027d3de948a7ba3f6f6173d62785%29%3B%0A%20%20%20%20%20%20%20%20%0A%0A%20%20%20%20%20%20%20%20circle_marker_47d9fb49b2e548b88b14bc94b6848681.bindPopup%28popup_cc7dd68ab24b48c3baa7e362ea0040e7%29%0A%20%20%20%20%20%20%20%20%3B%0A%0A%20%20%20%20%20%20%20%20%0A%20%20%20%20%0A%20%20%20%20%0A%20%20%20%20%20%20%20%20%20%20%20%20var%20circle_marker_d80a9144808e472e8709691755cca321%20%3D%20L.circleMarker%28%0A%20%20%20%20%20%20%20%20%20%20%20%20%20%20%20%20%5B42.2630688%2C%20-71.8020015%5D%2C%0A%20%20%20%20%20%20%20%20%20%20%20%20%20%20%20%20%7B%22bubblingMouseEvents%22%3A%20true%2C%20%22color%22%3A%20%22%232adddd%22%2C%20%22dashArray%22%3A%20null%2C%20%22dashOffset%22%3A%20null%2C%20%22fill%22%3A%20true%2C%20%22fillColor%22%3A%20%22%232adddd%22%2C%20%22fillOpacity%22%3A%200.7%2C%20%22fillRule%22%3A%20%22evenodd%22%2C%20%22lineCap%22%3A%20%22round%22%2C%20%22lineJoin%22%3A%20%22round%22%2C%20%22opacity%22%3A%201.0%2C%20%22radius%22%3A%205%2C%20%22stroke%22%3A%20true%2C%20%22weight%22%3A%203%7D%0A%20%20%20%20%20%20%20%20%20%20%20%20%29.addTo%28map_c2c7b95ca9ba4f90a81056bc1923629d%29%3B%0A%20%20%20%20%20%20%20%20%0A%20%20%20%20%0A%20%20%20%20%20%20%20%20var%20popup_98ff098496914d23b5406542105680e1%20%3D%20L.popup%28%7B%22maxWidth%22%3A%20%22100%25%22%7D%29%3B%0A%0A%20%20%20%20%20%20%20%20%0A%20%20%20%20%20%20%20%20%20%20%20%20var%20html_f1dbaed4d4cc4faf9ea014c7fe2cd84a%20%3D%20%24%28%60%3Cdiv%20id%3D%22html_f1dbaed4d4cc4faf9ea014c7fe2cd84a%22%20style%3D%22width%3A%20100.0%25%3B%20height%3A%20100.0%25%3B%22%3EDowntown%20Cluster%202.0%3C/div%3E%60%29%5B0%5D%3B%0A%20%20%20%20%20%20%20%20%20%20%20%20popup_98ff098496914d23b5406542105680e1.setContent%28html_f1dbaed4d4cc4faf9ea014c7fe2cd84a%29%3B%0A%20%20%20%20%20%20%20%20%0A%0A%20%20%20%20%20%20%20%20circle_marker_d80a9144808e472e8709691755cca321.bindPopup%28popup_98ff098496914d23b5406542105680e1%29%0A%20%20%20%20%20%20%20%20%3B%0A%0A%20%20%20%20%20%20%20%20%0A%20%20%20%20%0A%20%20%20%20%0A%20%20%20%20%20%20%20%20%20%20%20%20var%20circle_marker_28c21ace6f464f3b9b007a07707a5604%20%3D%20L.circleMarker%28%0A%20%20%20%20%20%20%20%20%20%20%20%20%20%20%20%20%5B42.3451868%2C%20-71.1045987%5D%2C%0A%20%20%20%20%20%20%20%20%20%20%20%20%20%20%20%20%7B%22bubblingMouseEvents%22%3A%20true%2C%20%22color%22%3A%20%22%23d4dd80%22%2C%20%22dashArray%22%3A%20null%2C%20%22dashOffset%22%3A%20null%2C%20%22fill%22%3A%20true%2C%20%22fillColor%22%3A%20%22%23d4dd80%22%2C%20%22fillOpacity%22%3A%200.7%2C%20%22fillRule%22%3A%20%22evenodd%22%2C%20%22lineCap%22%3A%20%22round%22%2C%20%22lineJoin%22%3A%20%22round%22%2C%20%22opacity%22%3A%201.0%2C%20%22radius%22%3A%205%2C%20%22stroke%22%3A%20true%2C%20%22weight%22%3A%203%7D%0A%20%20%20%20%20%20%20%20%20%20%20%20%29.addTo%28map_c2c7b95ca9ba4f90a81056bc1923629d%29%3B%0A%20%20%20%20%20%20%20%20%0A%20%20%20%20%0A%20%20%20%20%20%20%20%20var%20popup_2629b4ce75074792a3839d04e046d45c%20%3D%20L.popup%28%7B%22maxWidth%22%3A%20%22100%25%22%7D%29%3B%0A%0A%20%20%20%20%20%20%20%20%0A%20%20%20%20%20%20%20%20%20%20%20%20var%20html_85c3f4bed51542a5b4858c0aad372ce4%20%3D%20%24%28%60%3Cdiv%20id%3D%22html_85c3f4bed51542a5b4858c0aad372ce4%22%20style%3D%22width%3A%20100.0%25%3B%20height%3A%20100.0%25%3B%22%3EFenway%20Cluster%203.0%3C/div%3E%60%29%5B0%5D%3B%0A%20%20%20%20%20%20%20%20%20%20%20%20popup_2629b4ce75074792a3839d04e046d45c.setContent%28html_85c3f4bed51542a5b4858c0aad372ce4%29%3B%0A%20%20%20%20%20%20%20%20%0A%0A%20%20%20%20%20%20%20%20circle_marker_28c21ace6f464f3b9b007a07707a5604.bindPopup%28popup_2629b4ce75074792a3839d04e046d45c%29%0A%20%20%20%20%20%20%20%20%3B%0A%0A%20%20%20%20%20%20%20%20%0A%20%20%20%20%0A%20%20%20%20%0A%20%20%20%20%20%20%20%20%20%20%20%20var%20circle_marker_7169d59aac3d44a9991e1621e8760e90%20%3D%20L.circleMarker%28%0A%20%20%20%20%20%20%20%20%20%20%20%20%20%20%20%20%5B42.3500971%2C%20-71.1564423%5D%2C%0A%20%20%20%20%20%20%20%20%20%20%20%20%20%20%20%20%7B%22bubblingMouseEvents%22%3A%20true%2C%20%22color%22%3A%20%22%232adddd%22%2C%20%22dashArray%22%3A%20null%2C%20%22dashOffset%22%3A%20null%2C%20%22fill%22%3A%20true%2C%20%22fillColor%22%3A%20%22%232adddd%22%2C%20%22fillOpacity%22%3A%200.7%2C%20%22fillRule%22%3A%20%22evenodd%22%2C%20%22lineCap%22%3A%20%22round%22%2C%20%22lineJoin%22%3A%20%22round%22%2C%20%22opacity%22%3A%201.0%2C%20%22radius%22%3A%205%2C%20%22stroke%22%3A%20true%2C%20%22weight%22%3A%203%7D%0A%20%20%20%20%20%20%20%20%20%20%20%20%29.addTo%28map_c2c7b95ca9ba4f90a81056bc1923629d%29%3B%0A%20%20%20%20%20%20%20%20%0A%20%20%20%20%0A%20%20%20%20%20%20%20%20var%20popup_8fadb80e13fd40d5940cf412365a7ee5%20%3D%20L.popup%28%7B%22maxWidth%22%3A%20%22100%25%22%7D%29%3B%0A%0A%20%20%20%20%20%20%20%20%0A%20%20%20%20%20%20%20%20%20%20%20%20var%20html_68be10cc1b3d4a54950e590b14516f47%20%3D%20%24%28%60%3Cdiv%20id%3D%22html_68be10cc1b3d4a54950e590b14516f47%22%20style%3D%22width%3A%20100.0%25%3B%20height%3A%20100.0%25%3B%22%3EBrighton%20Cluster%202.0%3C/div%3E%60%29%5B0%5D%3B%0A%20%20%20%20%20%20%20%20%20%20%20%20popup_8fadb80e13fd40d5940cf412365a7ee5.setContent%28html_68be10cc1b3d4a54950e590b14516f47%29%3B%0A%20%20%20%20%20%20%20%20%0A%0A%20%20%20%20%20%20%20%20circle_marker_7169d59aac3d44a9991e1621e8760e90.bindPopup%28popup_8fadb80e13fd40d5940cf412365a7ee5%29%0A%20%20%20%20%20%20%20%20%3B%0A%0A%20%20%20%20%20%20%20%20%0A%20%20%20%20%0A%20%20%20%20%0A%20%20%20%20%20%20%20%20%20%20%20%20var%20circle_marker_c644bb9f435b46cf9bfc1640accaba9d%20%3D%20L.circleMarker%28%0A%20%20%20%20%20%20%20%20%20%20%20%20%20%20%20%20%5B42.2556543%2C%20-71.1244963%5D%2C%0A%20%20%20%20%20%20%20%20%20%20%20%20%20%20%20%20%7B%22bubblingMouseEvents%22%3A%20true%2C%20%22color%22%3A%20%22%232adddd%22%2C%20%22dashArray%22%3A%20null%2C%20%22dashOffset%22%3A%20null%2C%20%22fill%22%3A%20true%2C%20%22fillColor%22%3A%20%22%232adddd%22%2C%20%22fillOpacity%22%3A%200.7%2C%20%22fillRule%22%3A%20%22evenodd%22%2C%20%22lineCap%22%3A%20%22round%22%2C%20%22lineJoin%22%3A%20%22round%22%2C%20%22opacity%22%3A%201.0%2C%20%22radius%22%3A%205%2C%20%22stroke%22%3A%20true%2C%20%22weight%22%3A%203%7D%0A%20%20%20%20%20%20%20%20%20%20%20%20%29.addTo%28map_c2c7b95ca9ba4f90a81056bc1923629d%29%3B%0A%20%20%20%20%20%20%20%20%0A%20%20%20%20%0A%20%20%20%20%20%20%20%20var%20popup_64ba95e1126541018d32301e58ebbdb8%20%3D%20L.popup%28%7B%22maxWidth%22%3A%20%22100%25%22%7D%29%3B%0A%0A%20%20%20%20%20%20%20%20%0A%20%20%20%20%20%20%20%20%20%20%20%20var%20html_07abd6437f334ef38add8cf0eea62456%20%3D%20%24%28%60%3Cdiv%20id%3D%22html_07abd6437f334ef38add8cf0eea62456%22%20style%3D%22width%3A%20100.0%25%3B%20height%3A%20100.0%25%3B%22%3EHyde%20Park%20Cluster%202.0%3C/div%3E%60%29%5B0%5D%3B%0A%20%20%20%20%20%20%20%20%20%20%20%20popup_64ba95e1126541018d32301e58ebbdb8.setContent%28html_07abd6437f334ef38add8cf0eea62456%29%3B%0A%20%20%20%20%20%20%20%20%0A%0A%20%20%20%20%20%20%20%20circle_marker_c644bb9f435b46cf9bfc1640accaba9d.bindPopup%28popup_64ba95e1126541018d32301e58ebbdb8%29%0A%20%20%20%20%20%20%20%20%3B%0A%0A%20%20%20%20%20%20%20%20%0A%20%20%20%20%0A%20%20%20%20%0A%20%20%20%20%20%20%20%20%20%20%20%20var%20circle_marker_f83d3279e5ee4eed90a526f8eee23015%20%3D%20L.circleMarker%28%0A%20%20%20%20%20%20%20%20%20%20%20%20%20%20%20%20%5B42.2675657%2C%20-71.0924273%5D%2C%0A%20%20%20%20%20%20%20%20%20%20%20%20%20%20%20%20%7B%22bubblingMouseEvents%22%3A%20true%2C%20%22color%22%3A%20%22%23d4dd80%22%2C%20%22dashArray%22%3A%20null%2C%20%22dashOffset%22%3A%20null%2C%20%22fill%22%3A%20true%2C%20%22fillColor%22%3A%20%22%23d4dd80%22%2C%20%22fillOpacity%22%3A%200.7%2C%20%22fillRule%22%3A%20%22evenodd%22%2C%20%22lineCap%22%3A%20%22round%22%2C%20%22lineJoin%22%3A%20%22round%22%2C%20%22opacity%22%3A%201.0%2C%20%22radius%22%3A%205%2C%20%22stroke%22%3A%20true%2C%20%22weight%22%3A%203%7D%0A%20%20%20%20%20%20%20%20%20%20%20%20%29.addTo%28map_c2c7b95ca9ba4f90a81056bc1923629d%29%3B%0A%20%20%20%20%20%20%20%20%0A%20%20%20%20%0A%20%20%20%20%20%20%20%20var%20popup_3641755448da4266aeb3bed37efa1554%20%3D%20L.popup%28%7B%22maxWidth%22%3A%20%22100%25%22%7D%29%3B%0A%0A%20%20%20%20%20%20%20%20%0A%20%20%20%20%20%20%20%20%20%20%20%20var%20html_ed4822084c124e25b8f4ad1534523a27%20%3D%20%24%28%60%3Cdiv%20id%3D%22html_ed4822084c124e25b8f4ad1534523a27%22%20style%3D%22width%3A%20100.0%25%3B%20height%3A%20100.0%25%3B%22%3EMattapan%20Cluster%203.0%3C/div%3E%60%29%5B0%5D%3B%0A%20%20%20%20%20%20%20%20%20%20%20%20popup_3641755448da4266aeb3bed37efa1554.setContent%28html_ed4822084c124e25b8f4ad1534523a27%29%3B%0A%20%20%20%20%20%20%20%20%0A%0A%20%20%20%20%20%20%20%20circle_marker_f83d3279e5ee4eed90a526f8eee23015.bindPopup%28popup_3641755448da4266aeb3bed37efa1554%29%0A%20%20%20%20%20%20%20%20%3B%0A%0A%20%20%20%20%20%20%20%20%0A%20%20%20%20%0A%20%20%20%20%0A%20%20%20%20%20%20%20%20%20%20%20%20var%20circle_marker_b4559362e2fc433b9ddb306b46d42c06%20%3D%20L.circleMarker%28%0A%20%20%20%20%20%20%20%20%20%20%20%20%20%20%20%20%5B42.2973205%2C%20-71.0744952%5D%2C%0A%20%20%20%20%20%20%20%20%20%20%20%20%20%20%20%20%7B%22bubblingMouseEvents%22%3A%20true%2C%20%22color%22%3A%20%22%232adddd%22%2C%20%22dashArray%22%3A%20null%2C%20%22dashOffset%22%3A%20null%2C%20%22fill%22%3A%20true%2C%20%22fillColor%22%3A%20%22%232adddd%22%2C%20%22fillOpacity%22%3A%200.7%2C%20%22fillRule%22%3A%20%22evenodd%22%2C%20%22lineCap%22%3A%20%22round%22%2C%20%22lineJoin%22%3A%20%22round%22%2C%20%22opacity%22%3A%201.0%2C%20%22radius%22%3A%205%2C%20%22stroke%22%3A%20true%2C%20%22weight%22%3A%203%7D%0A%20%20%20%20%20%20%20%20%20%20%20%20%29.addTo%28map_c2c7b95ca9ba4f90a81056bc1923629d%29%3B%0A%20%20%20%20%20%20%20%20%0A%20%20%20%20%0A%20%20%20%20%20%20%20%20var%20popup_39898264ac914eda967995cf2304850b%20%3D%20L.popup%28%7B%22maxWidth%22%3A%20%22100%25%22%7D%29%3B%0A%0A%20%20%20%20%20%20%20%20%0A%20%20%20%20%20%20%20%20%20%20%20%20var%20html_a05b68be2c6b4d6686ad3eea11d4bf79%20%3D%20%24%28%60%3Cdiv%20id%3D%22html_a05b68be2c6b4d6686ad3eea11d4bf79%22%20style%3D%22width%3A%20100.0%25%3B%20height%3A%20100.0%25%3B%22%3EDorchester%20Cluster%202.0%3C/div%3E%60%29%5B0%5D%3B%0A%20%20%20%20%20%20%20%20%20%20%20%20popup_39898264ac914eda967995cf2304850b.setContent%28html_a05b68be2c6b4d6686ad3eea11d4bf79%29%3B%0A%20%20%20%20%20%20%20%20%0A%0A%20%20%20%20%20%20%20%20circle_marker_b4559362e2fc433b9ddb306b46d42c06.bindPopup%28popup_39898264ac914eda967995cf2304850b%29%0A%20%20%20%20%20%20%20%20%3B%0A%0A%20%20%20%20%20%20%20%20%0A%20%20%20%20%0A%20%20%20%20%0A%20%20%20%20%20%20%20%20%20%20%20%20var%20circle_marker_f2ae2eee60794c53acfb64bf6990be80%20%3D%20L.circleMarker%28%0A%20%20%20%20%20%20%20%20%20%20%20%20%20%20%20%20%5B42.3334312%2C%20-71.0494949%5D%2C%0A%20%20%20%20%20%20%20%20%20%20%20%20%20%20%20%20%7B%22bubblingMouseEvents%22%3A%20true%2C%20%22color%22%3A%20%22%23ff0000%22%2C%20%22dashArray%22%3A%20null%2C%20%22dashOffset%22%3A%20null%2C%20%22fill%22%3A%20true%2C%20%22fillColor%22%3A%20%22%23ff0000%22%2C%20%22fillOpacity%22%3A%200.7%2C%20%22fillRule%22%3A%20%22evenodd%22%2C%20%22lineCap%22%3A%20%22round%22%2C%20%22lineJoin%22%3A%20%22round%22%2C%20%22opacity%22%3A%201.0%2C%20%22radius%22%3A%205%2C%20%22stroke%22%3A%20true%2C%20%22weight%22%3A%203%7D%0A%20%20%20%20%20%20%20%20%20%20%20%20%29.addTo%28map_c2c7b95ca9ba4f90a81056bc1923629d%29%3B%0A%20%20%20%20%20%20%20%20%0A%20%20%20%20%0A%20%20%20%20%20%20%20%20var%20popup_d03d44ec2a494705ad9289fddfd053bf%20%3D%20L.popup%28%7B%22maxWidth%22%3A%20%22100%25%22%7D%29%3B%0A%0A%20%20%20%20%20%20%20%20%0A%20%20%20%20%20%20%20%20%20%20%20%20var%20html_5a91caf3937d441eae1872e8680bdf46%20%3D%20%24%28%60%3Cdiv%20id%3D%22html_5a91caf3937d441eae1872e8680bdf46%22%20style%3D%22width%3A%20100.0%25%3B%20height%3A%20100.0%25%3B%22%3ESouth%20Boston%20Waterfront%20Cluster%200.0%3C/div%3E%60%29%5B0%5D%3B%0A%20%20%20%20%20%20%20%20%20%20%20%20popup_d03d44ec2a494705ad9289fddfd053bf.setContent%28html_5a91caf3937d441eae1872e8680bdf46%29%3B%0A%20%20%20%20%20%20%20%20%0A%0A%20%20%20%20%20%20%20%20circle_marker_f2ae2eee60794c53acfb64bf6990be80.bindPopup%28popup_d03d44ec2a494705ad9289fddfd053bf%29%0A%20%20%20%20%20%20%20%20%3B%0A%0A%20%20%20%20%20%20%20%20%0A%20%20%20%20%0A%20%20%20%20%0A%20%20%20%20%20%20%20%20%20%20%20%20var%20circle_marker_0dea8cea19764da88d2f463abd745cf2%20%3D%20L.circleMarker%28%0A%20%20%20%20%20%20%20%20%20%20%20%20%20%20%20%20%5B42.3334312%2C%20-71.0494949%5D%2C%0A%20%20%20%20%20%20%20%20%20%20%20%20%20%20%20%20%7B%22bubblingMouseEvents%22%3A%20true%2C%20%22color%22%3A%20%22%23ff0000%22%2C%20%22dashArray%22%3A%20null%2C%20%22dashOffset%22%3A%20null%2C%20%22fill%22%3A%20true%2C%20%22fillColor%22%3A%20%22%23ff0000%22%2C%20%22fillOpacity%22%3A%200.7%2C%20%22fillRule%22%3A%20%22evenodd%22%2C%20%22lineCap%22%3A%20%22round%22%2C%20%22lineJoin%22%3A%20%22round%22%2C%20%22opacity%22%3A%201.0%2C%20%22radius%22%3A%205%2C%20%22stroke%22%3A%20true%2C%20%22weight%22%3A%203%7D%0A%20%20%20%20%20%20%20%20%20%20%20%20%29.addTo%28map_c2c7b95ca9ba4f90a81056bc1923629d%29%3B%0A%20%20%20%20%20%20%20%20%0A%20%20%20%20%0A%20%20%20%20%20%20%20%20var%20popup_de223e45f35245efa65186cbf7a8c9ca%20%3D%20L.popup%28%7B%22maxWidth%22%3A%20%22100%25%22%7D%29%3B%0A%0A%20%20%20%20%20%20%20%20%0A%20%20%20%20%20%20%20%20%20%20%20%20var%20html_ac0599e7c6d248428c3c2aee0e7ad2d1%20%3D%20%24%28%60%3Cdiv%20id%3D%22html_ac0599e7c6d248428c3c2aee0e7ad2d1%22%20style%3D%22width%3A%20100.0%25%3B%20height%3A%20100.0%25%3B%22%3ESouth%20Boston%20Cluster%200.0%3C/div%3E%60%29%5B0%5D%3B%0A%20%20%20%20%20%20%20%20%20%20%20%20popup_de223e45f35245efa65186cbf7a8c9ca.setContent%28html_ac0599e7c6d248428c3c2aee0e7ad2d1%29%3B%0A%20%20%20%20%20%20%20%20%0A%0A%20%20%20%20%20%20%20%20circle_marker_0dea8cea19764da88d2f463abd745cf2.bindPopup%28popup_de223e45f35245efa65186cbf7a8c9ca%29%0A%20%20%20%20%20%20%20%20%3B%0A%0A%20%20%20%20%20%20%20%20%0A%20%20%20%20%0A%20%20%20%20%0A%20%20%20%20%20%20%20%20%20%20%20%20var%20circle_marker_612bab7c54ad4939bce782b76158ab39%20%3D%20L.circleMarker%28%0A%20%20%20%20%20%20%20%20%20%20%20%20%20%20%20%20%5B42.3554344%2C%20-71.1321271%5D%2C%0A%20%20%20%20%20%20%20%20%20%20%20%20%20%20%20%20%7B%22bubblingMouseEvents%22%3A%20true%2C%20%22color%22%3A%20%22%23d4dd80%22%2C%20%22dashArray%22%3A%20null%2C%20%22dashOffset%22%3A%20null%2C%20%22fill%22%3A%20true%2C%20%22fillColor%22%3A%20%22%23d4dd80%22%2C%20%22fillOpacity%22%3A%200.7%2C%20%22fillRule%22%3A%20%22evenodd%22%2C%20%22lineCap%22%3A%20%22round%22%2C%20%22lineJoin%22%3A%20%22round%22%2C%20%22opacity%22%3A%201.0%2C%20%22radius%22%3A%205%2C%20%22stroke%22%3A%20true%2C%20%22weight%22%3A%203%7D%0A%20%20%20%20%20%20%20%20%20%20%20%20%29.addTo%28map_c2c7b95ca9ba4f90a81056bc1923629d%29%3B%0A%20%20%20%20%20%20%20%20%0A%20%20%20%20%0A%20%20%20%20%20%20%20%20var%20popup_2d772574bb864e26b1343172657607c4%20%3D%20L.popup%28%7B%22maxWidth%22%3A%20%22100%25%22%7D%29%3B%0A%0A%20%20%20%20%20%20%20%20%0A%20%20%20%20%20%20%20%20%20%20%20%20var%20html_9a5bccd69326438baa16130075a1b70f%20%3D%20%24%28%60%3Cdiv%20id%3D%22html_9a5bccd69326438baa16130075a1b70f%22%20style%3D%22width%3A%20100.0%25%3B%20height%3A%20100.0%25%3B%22%3EAllston%20Cluster%203.0%3C/div%3E%60%29%5B0%5D%3B%0A%20%20%20%20%20%20%20%20%20%20%20%20popup_2d772574bb864e26b1343172657607c4.setContent%28html_9a5bccd69326438baa16130075a1b70f%29%3B%0A%20%20%20%20%20%20%20%20%0A%0A%20%20%20%20%20%20%20%20circle_marker_612bab7c54ad4939bce782b76158ab39.bindPopup%28popup_2d772574bb864e26b1343172657607c4%29%0A%20%20%20%20%20%20%20%20%3B%0A%0A%20%20%20%20%20%20%20%20%0A%20%20%20%20%0A%3C/script%3E onload=\"this.contentDocument.open();this.contentDocument.write(    decodeURIComponent(this.getAttribute('data-html')));this.contentDocument.close();\" allowfullscreen webkitallowfullscreen mozallowfullscreen></iframe></div></div>"
                    },
                    "metadata": {}
                }
            ]
        },
        {
            "metadata": {},
            "cell_type": "markdown",
            "source": "#### Examination of the Clusters"
        },
        {
            "metadata": {},
            "cell_type": "markdown",
            "source": "We will now examine each of the clusters:"
        },
        {
            "metadata": {},
            "cell_type": "markdown",
            "source": "CLUSTER 0:"
        },
        {
            "metadata": {
                "scrolled": false
            },
            "cell_type": "code",
            "source": "Cluster0 = boston_table_finalized.loc[boston_table_finalized['Cluster Labels'] == 0, boston_table_finalized.columns[[1] + list(range(5, boston_table_finalized.shape[1]))]]\nCluster0",
            "execution_count": 132,
            "outputs": [
                {
                    "output_type": "execute_result",
                    "execution_count": 132,
                    "data": {
                        "text/plain": "                                   Address  Cluster Labels  \\\n1             Jamaica Plain, Massachusetts             0.0   \n3                  Longwood, Massachusetts             0.0   \n4               Bay Village, Massachusetts             0.0   \n7                 North End, Massachusetts             0.0   \n12              Charlestown, Massachusetts             0.0   \n21  South Boston Waterfront, Massachusetts             0.0   \n22             South Boston, Massachusetts             0.0   \n\n   1st Most Common Venue 2nd Most Common Venue 3rd Most Common Venue  \\\n1             Restaurant                  Park                   Gym   \n3             Restaurant                  Park                   Gym   \n4             Restaurant                  Park                   Gym   \n7             Restaurant                  Park                   Gym   \n12            Restaurant                  Park                   Gym   \n21            Restaurant                  Park                   Gym   \n22            Restaurant                  Park                   Gym   \n\n         Gym      Park  Restaurant  \n1   0.000000  0.250000    0.750000  \n3   0.000000  0.200000    0.800000  \n4   0.066667  0.133333    0.800000  \n7   0.022222  0.111111    0.866667  \n12  0.000000  0.222222    0.777778  \n21  0.000000  0.153846    0.846154  \n22  0.000000  0.153846    0.846154  ",
                        "text/html": "<div>\n<style scoped>\n    .dataframe tbody tr th:only-of-type {\n        vertical-align: middle;\n    }\n\n    .dataframe tbody tr th {\n        vertical-align: top;\n    }\n\n    .dataframe thead th {\n        text-align: right;\n    }\n</style>\n<table border=\"1\" class=\"dataframe\">\n  <thead>\n    <tr style=\"text-align: right;\">\n      <th></th>\n      <th>Address</th>\n      <th>Cluster Labels</th>\n      <th>1st Most Common Venue</th>\n      <th>2nd Most Common Venue</th>\n      <th>3rd Most Common Venue</th>\n      <th>Gym</th>\n      <th>Park</th>\n      <th>Restaurant</th>\n    </tr>\n  </thead>\n  <tbody>\n    <tr>\n      <th>1</th>\n      <td>Jamaica Plain, Massachusetts</td>\n      <td>0.0</td>\n      <td>Restaurant</td>\n      <td>Park</td>\n      <td>Gym</td>\n      <td>0.000000</td>\n      <td>0.250000</td>\n      <td>0.750000</td>\n    </tr>\n    <tr>\n      <th>3</th>\n      <td>Longwood, Massachusetts</td>\n      <td>0.0</td>\n      <td>Restaurant</td>\n      <td>Park</td>\n      <td>Gym</td>\n      <td>0.000000</td>\n      <td>0.200000</td>\n      <td>0.800000</td>\n    </tr>\n    <tr>\n      <th>4</th>\n      <td>Bay Village, Massachusetts</td>\n      <td>0.0</td>\n      <td>Restaurant</td>\n      <td>Park</td>\n      <td>Gym</td>\n      <td>0.066667</td>\n      <td>0.133333</td>\n      <td>0.800000</td>\n    </tr>\n    <tr>\n      <th>7</th>\n      <td>North End, Massachusetts</td>\n      <td>0.0</td>\n      <td>Restaurant</td>\n      <td>Park</td>\n      <td>Gym</td>\n      <td>0.022222</td>\n      <td>0.111111</td>\n      <td>0.866667</td>\n    </tr>\n    <tr>\n      <th>12</th>\n      <td>Charlestown, Massachusetts</td>\n      <td>0.0</td>\n      <td>Restaurant</td>\n      <td>Park</td>\n      <td>Gym</td>\n      <td>0.000000</td>\n      <td>0.222222</td>\n      <td>0.777778</td>\n    </tr>\n    <tr>\n      <th>21</th>\n      <td>South Boston Waterfront, Massachusetts</td>\n      <td>0.0</td>\n      <td>Restaurant</td>\n      <td>Park</td>\n      <td>Gym</td>\n      <td>0.000000</td>\n      <td>0.153846</td>\n      <td>0.846154</td>\n    </tr>\n    <tr>\n      <th>22</th>\n      <td>South Boston, Massachusetts</td>\n      <td>0.0</td>\n      <td>Restaurant</td>\n      <td>Park</td>\n      <td>Gym</td>\n      <td>0.000000</td>\n      <td>0.153846</td>\n      <td>0.846154</td>\n    </tr>\n  </tbody>\n</table>\n</div>"
                    },
                    "metadata": {}
                }
            ]
        },
        {
            "metadata": {},
            "cell_type": "markdown",
            "source": "CLUSTER 1:"
        },
        {
            "metadata": {},
            "cell_type": "code",
            "source": "Cluster1 = boston_table_finalized.loc[boston_table_finalized['Cluster Labels'] == 1, boston_table_finalized.columns[[1] + list(range(5, boston_table_finalized.shape[1]))]]\nCluster1",
            "execution_count": 133,
            "outputs": [
                {
                    "output_type": "execute_result",
                    "execution_count": 133,
                    "data": {
                        "text/plain": "                  Address  Cluster Labels 1st Most Common Venue  \\\n8  Roxbury, Massachusetts             1.0                   Gym   \n\n  2nd Most Common Venue 3rd Most Common Venue  Gym  Park  Restaurant  \n8            Restaurant                  Park  0.5  0.25        0.25  ",
                        "text/html": "<div>\n<style scoped>\n    .dataframe tbody tr th:only-of-type {\n        vertical-align: middle;\n    }\n\n    .dataframe tbody tr th {\n        vertical-align: top;\n    }\n\n    .dataframe thead th {\n        text-align: right;\n    }\n</style>\n<table border=\"1\" class=\"dataframe\">\n  <thead>\n    <tr style=\"text-align: right;\">\n      <th></th>\n      <th>Address</th>\n      <th>Cluster Labels</th>\n      <th>1st Most Common Venue</th>\n      <th>2nd Most Common Venue</th>\n      <th>3rd Most Common Venue</th>\n      <th>Gym</th>\n      <th>Park</th>\n      <th>Restaurant</th>\n    </tr>\n  </thead>\n  <tbody>\n    <tr>\n      <th>8</th>\n      <td>Roxbury, Massachusetts</td>\n      <td>1.0</td>\n      <td>Gym</td>\n      <td>Restaurant</td>\n      <td>Park</td>\n      <td>0.5</td>\n      <td>0.25</td>\n      <td>0.25</td>\n    </tr>\n  </tbody>\n</table>\n</div>"
                    },
                    "metadata": {}
                }
            ]
        },
        {
            "metadata": {},
            "cell_type": "markdown",
            "source": "CLUSTER2:"
        },
        {
            "metadata": {},
            "cell_type": "code",
            "source": "Cluster2= boston_table_finalized.loc[boston_table_finalized['Cluster Labels'] == 2, boston_table_finalized.columns[[1] + list(range(5, boston_table_finalized.shape[1]))]]\nCluster2",
            "execution_count": 134,
            "outputs": [
                {
                    "output_type": "execute_result",
                    "execution_count": 134,
                    "data": {
                        "text/plain": "                            Address  Cluster Labels 1st Most Common Venue  \\\n5   Leather District, Massachusetts             2.0            Restaurant   \n6          Chinatown, Massachusetts             2.0            Restaurant   \n9          South End, Massachusetts             2.0            Restaurant   \n10          Back Bay, Massachusetts             2.0            Restaurant   \n13          West End, Massachusetts             2.0            Restaurant   \n15          Downtown, Massachusetts             2.0            Restaurant   \n17          Brighton, Massachusetts             2.0            Restaurant   \n18         Hyde Park, Massachusetts             2.0            Restaurant   \n20        Dorchester, Massachusetts             2.0            Restaurant   \n\n   2nd Most Common Venue 3rd Most Common Venue       Gym      Park  Restaurant  \n5                    Gym                  Park  0.139535  0.023256    0.837209  \n6                    Gym                  Park  0.090909  0.045455    0.863636  \n9                   Park                   Gym  0.105263  0.105263    0.789474  \n10                   Gym                  Park  0.111111  0.027778    0.861111  \n13                   Gym                  Park  0.200000  0.040000    0.760000  \n15                  Park                   Gym  0.166667  0.166667    0.666667  \n17                  Park                   Gym  0.083333  0.083333    0.833333  \n18                   Gym                  Park  0.166667  0.000000    0.833333  \n20                   Gym                  Park  0.250000  0.000000    0.750000  ",
                        "text/html": "<div>\n<style scoped>\n    .dataframe tbody tr th:only-of-type {\n        vertical-align: middle;\n    }\n\n    .dataframe tbody tr th {\n        vertical-align: top;\n    }\n\n    .dataframe thead th {\n        text-align: right;\n    }\n</style>\n<table border=\"1\" class=\"dataframe\">\n  <thead>\n    <tr style=\"text-align: right;\">\n      <th></th>\n      <th>Address</th>\n      <th>Cluster Labels</th>\n      <th>1st Most Common Venue</th>\n      <th>2nd Most Common Venue</th>\n      <th>3rd Most Common Venue</th>\n      <th>Gym</th>\n      <th>Park</th>\n      <th>Restaurant</th>\n    </tr>\n  </thead>\n  <tbody>\n    <tr>\n      <th>5</th>\n      <td>Leather District, Massachusetts</td>\n      <td>2.0</td>\n      <td>Restaurant</td>\n      <td>Gym</td>\n      <td>Park</td>\n      <td>0.139535</td>\n      <td>0.023256</td>\n      <td>0.837209</td>\n    </tr>\n    <tr>\n      <th>6</th>\n      <td>Chinatown, Massachusetts</td>\n      <td>2.0</td>\n      <td>Restaurant</td>\n      <td>Gym</td>\n      <td>Park</td>\n      <td>0.090909</td>\n      <td>0.045455</td>\n      <td>0.863636</td>\n    </tr>\n    <tr>\n      <th>9</th>\n      <td>South End, Massachusetts</td>\n      <td>2.0</td>\n      <td>Restaurant</td>\n      <td>Park</td>\n      <td>Gym</td>\n      <td>0.105263</td>\n      <td>0.105263</td>\n      <td>0.789474</td>\n    </tr>\n    <tr>\n      <th>10</th>\n      <td>Back Bay, Massachusetts</td>\n      <td>2.0</td>\n      <td>Restaurant</td>\n      <td>Gym</td>\n      <td>Park</td>\n      <td>0.111111</td>\n      <td>0.027778</td>\n      <td>0.861111</td>\n    </tr>\n    <tr>\n      <th>13</th>\n      <td>West End, Massachusetts</td>\n      <td>2.0</td>\n      <td>Restaurant</td>\n      <td>Gym</td>\n      <td>Park</td>\n      <td>0.200000</td>\n      <td>0.040000</td>\n      <td>0.760000</td>\n    </tr>\n    <tr>\n      <th>15</th>\n      <td>Downtown, Massachusetts</td>\n      <td>2.0</td>\n      <td>Restaurant</td>\n      <td>Park</td>\n      <td>Gym</td>\n      <td>0.166667</td>\n      <td>0.166667</td>\n      <td>0.666667</td>\n    </tr>\n    <tr>\n      <th>17</th>\n      <td>Brighton, Massachusetts</td>\n      <td>2.0</td>\n      <td>Restaurant</td>\n      <td>Park</td>\n      <td>Gym</td>\n      <td>0.083333</td>\n      <td>0.083333</td>\n      <td>0.833333</td>\n    </tr>\n    <tr>\n      <th>18</th>\n      <td>Hyde Park, Massachusetts</td>\n      <td>2.0</td>\n      <td>Restaurant</td>\n      <td>Gym</td>\n      <td>Park</td>\n      <td>0.166667</td>\n      <td>0.000000</td>\n      <td>0.833333</td>\n    </tr>\n    <tr>\n      <th>20</th>\n      <td>Dorchester, Massachusetts</td>\n      <td>2.0</td>\n      <td>Restaurant</td>\n      <td>Gym</td>\n      <td>Park</td>\n      <td>0.250000</td>\n      <td>0.000000</td>\n      <td>0.750000</td>\n    </tr>\n  </tbody>\n</table>\n</div>"
                    },
                    "metadata": {}
                }
            ]
        },
        {
            "metadata": {},
            "cell_type": "markdown",
            "source": "CLUSTER 3:"
        },
        {
            "metadata": {},
            "cell_type": "code",
            "source": "Cluster3 = boston_table_finalized.loc[boston_table_finalized['Cluster Labels'] == 3, boston_table_finalized.columns[[1] + list(range(5, boston_table_finalized.shape[1]))]]\nCluster3",
            "execution_count": 135,
            "outputs": [
                {
                    "output_type": "execute_result",
                    "execution_count": 135,
                    "data": {
                        "text/plain": "                        Address  Cluster Labels 1st Most Common Venue  \\\n0     Roslindale, Massachusetts             3.0            Restaurant   \n2   Mission Hill, Massachusetts             3.0            Restaurant   \n11   East Boston, Massachusetts             3.0            Restaurant   \n14   Beacon Hill, Massachusetts             3.0            Restaurant   \n16        Fenway, Massachusetts             3.0            Restaurant   \n19      Mattapan, Massachusetts             3.0            Restaurant   \n23       Allston, Massachusetts             3.0            Restaurant   \n\n   2nd Most Common Venue 3rd Most Common Venue       Gym      Park  Restaurant  \n0                   Park                   Gym  0.000000  0.000000    1.000000  \n2                   Park                   Gym  0.000000  0.100000    0.900000  \n11                  Park                   Gym  0.000000  0.071429    0.928571  \n14                  Park                   Gym  0.000000  0.062500    0.937500  \n16                   Gym                  Park  0.066667  0.000000    0.933333  \n19                  Park                   Gym  0.000000  0.000000    1.000000  \n23                   Gym                  Park  0.027027  0.000000    0.972973  ",
                        "text/html": "<div>\n<style scoped>\n    .dataframe tbody tr th:only-of-type {\n        vertical-align: middle;\n    }\n\n    .dataframe tbody tr th {\n        vertical-align: top;\n    }\n\n    .dataframe thead th {\n        text-align: right;\n    }\n</style>\n<table border=\"1\" class=\"dataframe\">\n  <thead>\n    <tr style=\"text-align: right;\">\n      <th></th>\n      <th>Address</th>\n      <th>Cluster Labels</th>\n      <th>1st Most Common Venue</th>\n      <th>2nd Most Common Venue</th>\n      <th>3rd Most Common Venue</th>\n      <th>Gym</th>\n      <th>Park</th>\n      <th>Restaurant</th>\n    </tr>\n  </thead>\n  <tbody>\n    <tr>\n      <th>0</th>\n      <td>Roslindale, Massachusetts</td>\n      <td>3.0</td>\n      <td>Restaurant</td>\n      <td>Park</td>\n      <td>Gym</td>\n      <td>0.000000</td>\n      <td>0.000000</td>\n      <td>1.000000</td>\n    </tr>\n    <tr>\n      <th>2</th>\n      <td>Mission Hill, Massachusetts</td>\n      <td>3.0</td>\n      <td>Restaurant</td>\n      <td>Park</td>\n      <td>Gym</td>\n      <td>0.000000</td>\n      <td>0.100000</td>\n      <td>0.900000</td>\n    </tr>\n    <tr>\n      <th>11</th>\n      <td>East Boston, Massachusetts</td>\n      <td>3.0</td>\n      <td>Restaurant</td>\n      <td>Park</td>\n      <td>Gym</td>\n      <td>0.000000</td>\n      <td>0.071429</td>\n      <td>0.928571</td>\n    </tr>\n    <tr>\n      <th>14</th>\n      <td>Beacon Hill, Massachusetts</td>\n      <td>3.0</td>\n      <td>Restaurant</td>\n      <td>Park</td>\n      <td>Gym</td>\n      <td>0.000000</td>\n      <td>0.062500</td>\n      <td>0.937500</td>\n    </tr>\n    <tr>\n      <th>16</th>\n      <td>Fenway, Massachusetts</td>\n      <td>3.0</td>\n      <td>Restaurant</td>\n      <td>Gym</td>\n      <td>Park</td>\n      <td>0.066667</td>\n      <td>0.000000</td>\n      <td>0.933333</td>\n    </tr>\n    <tr>\n      <th>19</th>\n      <td>Mattapan, Massachusetts</td>\n      <td>3.0</td>\n      <td>Restaurant</td>\n      <td>Park</td>\n      <td>Gym</td>\n      <td>0.000000</td>\n      <td>0.000000</td>\n      <td>1.000000</td>\n    </tr>\n    <tr>\n      <th>23</th>\n      <td>Allston, Massachusetts</td>\n      <td>3.0</td>\n      <td>Restaurant</td>\n      <td>Gym</td>\n      <td>Park</td>\n      <td>0.027027</td>\n      <td>0.000000</td>\n      <td>0.972973</td>\n    </tr>\n  </tbody>\n</table>\n</div>"
                    },
                    "metadata": {}
                }
            ]
        },
        {
            "metadata": {},
            "cell_type": "markdown",
            "source": "#### Further Visualization of Our Results"
        },
        {
            "metadata": {},
            "cell_type": "markdown",
            "source": "Here are the graphs comparing the proportion of each venue category in each neighborhood."
        },
        {
            "metadata": {},
            "cell_type": "markdown",
            "source": "CLUSTER 0:"
        },
        {
            "metadata": {},
            "cell_type": "code",
            "source": "#Cluster 0\n#create dataframe for graphing\ncluster0_df = pd.DataFrame(columns = ['Neighborhood','Gym', 'Park', 'Restaurant'])\ncluster0_df['Gym'] = Cluster0['Gym']\ncluster0_df['Park'] = Cluster0['Park']\ncluster0_df['Restaurant'] = Cluster0['Restaurant']\ncluster0_df['Neighborhood'] = Cluster0['Address']\n\n\n#make graph\nfig0 = px.bar(cluster0_df, x = \"Neighborhood\", y = ['Gym', 'Park', 'Restaurant'], barmode= 'group', title = 'Percentage frequency of Each Venue Category in Cluster 0')\nfig0.show()",
            "execution_count": 142,
            "outputs": [
                {
                    "output_type": "display_data",
                    "data": {
                        "application/vnd.plotly.v1+json": {
                            "config": {
                                "plotlyServerURL": "https://plot.ly"
                            },
                            "data": [
                                {
                                    "alignmentgroup": "True",
                                    "hovertemplate": "variable=Gym<br>Neighborhood=%{x}<br>value=%{y}<extra></extra>",
                                    "legendgroup": "Gym",
                                    "marker": {
                                        "color": "#636efa"
                                    },
                                    "name": "Gym",
                                    "offsetgroup": "Gym",
                                    "orientation": "v",
                                    "showlegend": true,
                                    "textposition": "auto",
                                    "type": "bar",
                                    "x": [
                                        "Jamaica Plain, Massachusetts",
                                        "Longwood, Massachusetts",
                                        "Bay Village, Massachusetts",
                                        "North End, Massachusetts",
                                        "Charlestown, Massachusetts",
                                        "South Boston Waterfront, Massachusetts",
                                        "South Boston, Massachusetts"
                                    ],
                                    "xaxis": "x",
                                    "y": [
                                        0,
                                        0,
                                        0.06666666666666667,
                                        0.022222222222222223,
                                        0,
                                        0,
                                        0
                                    ],
                                    "yaxis": "y"
                                },
                                {
                                    "alignmentgroup": "True",
                                    "hovertemplate": "variable=Park<br>Neighborhood=%{x}<br>value=%{y}<extra></extra>",
                                    "legendgroup": "Park",
                                    "marker": {
                                        "color": "#EF553B"
                                    },
                                    "name": "Park",
                                    "offsetgroup": "Park",
                                    "orientation": "v",
                                    "showlegend": true,
                                    "textposition": "auto",
                                    "type": "bar",
                                    "x": [
                                        "Jamaica Plain, Massachusetts",
                                        "Longwood, Massachusetts",
                                        "Bay Village, Massachusetts",
                                        "North End, Massachusetts",
                                        "Charlestown, Massachusetts",
                                        "South Boston Waterfront, Massachusetts",
                                        "South Boston, Massachusetts"
                                    ],
                                    "xaxis": "x",
                                    "y": [
                                        0.25,
                                        0.2,
                                        0.13333333333333333,
                                        0.1111111111111111,
                                        0.2222222222222222,
                                        0.15384615384615385,
                                        0.15384615384615385
                                    ],
                                    "yaxis": "y"
                                },
                                {
                                    "alignmentgroup": "True",
                                    "hovertemplate": "variable=Restaurant<br>Neighborhood=%{x}<br>value=%{y}<extra></extra>",
                                    "legendgroup": "Restaurant",
                                    "marker": {
                                        "color": "#00cc96"
                                    },
                                    "name": "Restaurant",
                                    "offsetgroup": "Restaurant",
                                    "orientation": "v",
                                    "showlegend": true,
                                    "textposition": "auto",
                                    "type": "bar",
                                    "x": [
                                        "Jamaica Plain, Massachusetts",
                                        "Longwood, Massachusetts",
                                        "Bay Village, Massachusetts",
                                        "North End, Massachusetts",
                                        "Charlestown, Massachusetts",
                                        "South Boston Waterfront, Massachusetts",
                                        "South Boston, Massachusetts"
                                    ],
                                    "xaxis": "x",
                                    "y": [
                                        0.75,
                                        0.8,
                                        0.8,
                                        0.8666666666666667,
                                        0.7777777777777778,
                                        0.8461538461538461,
                                        0.8461538461538461
                                    ],
                                    "yaxis": "y"
                                }
                            ],
                            "layout": {
                                "barmode": "group",
                                "legend": {
                                    "title": {
                                        "text": "variable"
                                    },
                                    "tracegroupgap": 0
                                },
                                "template": {
                                    "data": {
                                        "bar": [
                                            {
                                                "error_x": {
                                                    "color": "#2a3f5f"
                                                },
                                                "error_y": {
                                                    "color": "#2a3f5f"
                                                },
                                                "marker": {
                                                    "line": {
                                                        "color": "#E5ECF6",
                                                        "width": 0.5
                                                    }
                                                },
                                                "type": "bar"
                                            }
                                        ],
                                        "barpolar": [
                                            {
                                                "marker": {
                                                    "line": {
                                                        "color": "#E5ECF6",
                                                        "width": 0.5
                                                    }
                                                },
                                                "type": "barpolar"
                                            }
                                        ],
                                        "carpet": [
                                            {
                                                "aaxis": {
                                                    "endlinecolor": "#2a3f5f",
                                                    "gridcolor": "white",
                                                    "linecolor": "white",
                                                    "minorgridcolor": "white",
                                                    "startlinecolor": "#2a3f5f"
                                                },
                                                "baxis": {
                                                    "endlinecolor": "#2a3f5f",
                                                    "gridcolor": "white",
                                                    "linecolor": "white",
                                                    "minorgridcolor": "white",
                                                    "startlinecolor": "#2a3f5f"
                                                },
                                                "type": "carpet"
                                            }
                                        ],
                                        "choropleth": [
                                            {
                                                "colorbar": {
                                                    "outlinewidth": 0,
                                                    "ticks": ""
                                                },
                                                "type": "choropleth"
                                            }
                                        ],
                                        "contour": [
                                            {
                                                "colorbar": {
                                                    "outlinewidth": 0,
                                                    "ticks": ""
                                                },
                                                "colorscale": [
                                                    [
                                                        0,
                                                        "#0d0887"
                                                    ],
                                                    [
                                                        0.1111111111111111,
                                                        "#46039f"
                                                    ],
                                                    [
                                                        0.2222222222222222,
                                                        "#7201a8"
                                                    ],
                                                    [
                                                        0.3333333333333333,
                                                        "#9c179e"
                                                    ],
                                                    [
                                                        0.4444444444444444,
                                                        "#bd3786"
                                                    ],
                                                    [
                                                        0.5555555555555556,
                                                        "#d8576b"
                                                    ],
                                                    [
                                                        0.6666666666666666,
                                                        "#ed7953"
                                                    ],
                                                    [
                                                        0.7777777777777778,
                                                        "#fb9f3a"
                                                    ],
                                                    [
                                                        0.8888888888888888,
                                                        "#fdca26"
                                                    ],
                                                    [
                                                        1,
                                                        "#f0f921"
                                                    ]
                                                ],
                                                "type": "contour"
                                            }
                                        ],
                                        "contourcarpet": [
                                            {
                                                "colorbar": {
                                                    "outlinewidth": 0,
                                                    "ticks": ""
                                                },
                                                "type": "contourcarpet"
                                            }
                                        ],
                                        "heatmap": [
                                            {
                                                "colorbar": {
                                                    "outlinewidth": 0,
                                                    "ticks": ""
                                                },
                                                "colorscale": [
                                                    [
                                                        0,
                                                        "#0d0887"
                                                    ],
                                                    [
                                                        0.1111111111111111,
                                                        "#46039f"
                                                    ],
                                                    [
                                                        0.2222222222222222,
                                                        "#7201a8"
                                                    ],
                                                    [
                                                        0.3333333333333333,
                                                        "#9c179e"
                                                    ],
                                                    [
                                                        0.4444444444444444,
                                                        "#bd3786"
                                                    ],
                                                    [
                                                        0.5555555555555556,
                                                        "#d8576b"
                                                    ],
                                                    [
                                                        0.6666666666666666,
                                                        "#ed7953"
                                                    ],
                                                    [
                                                        0.7777777777777778,
                                                        "#fb9f3a"
                                                    ],
                                                    [
                                                        0.8888888888888888,
                                                        "#fdca26"
                                                    ],
                                                    [
                                                        1,
                                                        "#f0f921"
                                                    ]
                                                ],
                                                "type": "heatmap"
                                            }
                                        ],
                                        "heatmapgl": [
                                            {
                                                "colorbar": {
                                                    "outlinewidth": 0,
                                                    "ticks": ""
                                                },
                                                "colorscale": [
                                                    [
                                                        0,
                                                        "#0d0887"
                                                    ],
                                                    [
                                                        0.1111111111111111,
                                                        "#46039f"
                                                    ],
                                                    [
                                                        0.2222222222222222,
                                                        "#7201a8"
                                                    ],
                                                    [
                                                        0.3333333333333333,
                                                        "#9c179e"
                                                    ],
                                                    [
                                                        0.4444444444444444,
                                                        "#bd3786"
                                                    ],
                                                    [
                                                        0.5555555555555556,
                                                        "#d8576b"
                                                    ],
                                                    [
                                                        0.6666666666666666,
                                                        "#ed7953"
                                                    ],
                                                    [
                                                        0.7777777777777778,
                                                        "#fb9f3a"
                                                    ],
                                                    [
                                                        0.8888888888888888,
                                                        "#fdca26"
                                                    ],
                                                    [
                                                        1,
                                                        "#f0f921"
                                                    ]
                                                ],
                                                "type": "heatmapgl"
                                            }
                                        ],
                                        "histogram": [
                                            {
                                                "marker": {
                                                    "colorbar": {
                                                        "outlinewidth": 0,
                                                        "ticks": ""
                                                    }
                                                },
                                                "type": "histogram"
                                            }
                                        ],
                                        "histogram2d": [
                                            {
                                                "colorbar": {
                                                    "outlinewidth": 0,
                                                    "ticks": ""
                                                },
                                                "colorscale": [
                                                    [
                                                        0,
                                                        "#0d0887"
                                                    ],
                                                    [
                                                        0.1111111111111111,
                                                        "#46039f"
                                                    ],
                                                    [
                                                        0.2222222222222222,
                                                        "#7201a8"
                                                    ],
                                                    [
                                                        0.3333333333333333,
                                                        "#9c179e"
                                                    ],
                                                    [
                                                        0.4444444444444444,
                                                        "#bd3786"
                                                    ],
                                                    [
                                                        0.5555555555555556,
                                                        "#d8576b"
                                                    ],
                                                    [
                                                        0.6666666666666666,
                                                        "#ed7953"
                                                    ],
                                                    [
                                                        0.7777777777777778,
                                                        "#fb9f3a"
                                                    ],
                                                    [
                                                        0.8888888888888888,
                                                        "#fdca26"
                                                    ],
                                                    [
                                                        1,
                                                        "#f0f921"
                                                    ]
                                                ],
                                                "type": "histogram2d"
                                            }
                                        ],
                                        "histogram2dcontour": [
                                            {
                                                "colorbar": {
                                                    "outlinewidth": 0,
                                                    "ticks": ""
                                                },
                                                "colorscale": [
                                                    [
                                                        0,
                                                        "#0d0887"
                                                    ],
                                                    [
                                                        0.1111111111111111,
                                                        "#46039f"
                                                    ],
                                                    [
                                                        0.2222222222222222,
                                                        "#7201a8"
                                                    ],
                                                    [
                                                        0.3333333333333333,
                                                        "#9c179e"
                                                    ],
                                                    [
                                                        0.4444444444444444,
                                                        "#bd3786"
                                                    ],
                                                    [
                                                        0.5555555555555556,
                                                        "#d8576b"
                                                    ],
                                                    [
                                                        0.6666666666666666,
                                                        "#ed7953"
                                                    ],
                                                    [
                                                        0.7777777777777778,
                                                        "#fb9f3a"
                                                    ],
                                                    [
                                                        0.8888888888888888,
                                                        "#fdca26"
                                                    ],
                                                    [
                                                        1,
                                                        "#f0f921"
                                                    ]
                                                ],
                                                "type": "histogram2dcontour"
                                            }
                                        ],
                                        "mesh3d": [
                                            {
                                                "colorbar": {
                                                    "outlinewidth": 0,
                                                    "ticks": ""
                                                },
                                                "type": "mesh3d"
                                            }
                                        ],
                                        "parcoords": [
                                            {
                                                "line": {
                                                    "colorbar": {
                                                        "outlinewidth": 0,
                                                        "ticks": ""
                                                    }
                                                },
                                                "type": "parcoords"
                                            }
                                        ],
                                        "pie": [
                                            {
                                                "automargin": true,
                                                "type": "pie"
                                            }
                                        ],
                                        "scatter": [
                                            {
                                                "marker": {
                                                    "colorbar": {
                                                        "outlinewidth": 0,
                                                        "ticks": ""
                                                    }
                                                },
                                                "type": "scatter"
                                            }
                                        ],
                                        "scatter3d": [
                                            {
                                                "line": {
                                                    "colorbar": {
                                                        "outlinewidth": 0,
                                                        "ticks": ""
                                                    }
                                                },
                                                "marker": {
                                                    "colorbar": {
                                                        "outlinewidth": 0,
                                                        "ticks": ""
                                                    }
                                                },
                                                "type": "scatter3d"
                                            }
                                        ],
                                        "scattercarpet": [
                                            {
                                                "marker": {
                                                    "colorbar": {
                                                        "outlinewidth": 0,
                                                        "ticks": ""
                                                    }
                                                },
                                                "type": "scattercarpet"
                                            }
                                        ],
                                        "scattergeo": [
                                            {
                                                "marker": {
                                                    "colorbar": {
                                                        "outlinewidth": 0,
                                                        "ticks": ""
                                                    }
                                                },
                                                "type": "scattergeo"
                                            }
                                        ],
                                        "scattergl": [
                                            {
                                                "marker": {
                                                    "colorbar": {
                                                        "outlinewidth": 0,
                                                        "ticks": ""
                                                    }
                                                },
                                                "type": "scattergl"
                                            }
                                        ],
                                        "scattermapbox": [
                                            {
                                                "marker": {
                                                    "colorbar": {
                                                        "outlinewidth": 0,
                                                        "ticks": ""
                                                    }
                                                },
                                                "type": "scattermapbox"
                                            }
                                        ],
                                        "scatterpolar": [
                                            {
                                                "marker": {
                                                    "colorbar": {
                                                        "outlinewidth": 0,
                                                        "ticks": ""
                                                    }
                                                },
                                                "type": "scatterpolar"
                                            }
                                        ],
                                        "scatterpolargl": [
                                            {
                                                "marker": {
                                                    "colorbar": {
                                                        "outlinewidth": 0,
                                                        "ticks": ""
                                                    }
                                                },
                                                "type": "scatterpolargl"
                                            }
                                        ],
                                        "scatterternary": [
                                            {
                                                "marker": {
                                                    "colorbar": {
                                                        "outlinewidth": 0,
                                                        "ticks": ""
                                                    }
                                                },
                                                "type": "scatterternary"
                                            }
                                        ],
                                        "surface": [
                                            {
                                                "colorbar": {
                                                    "outlinewidth": 0,
                                                    "ticks": ""
                                                },
                                                "colorscale": [
                                                    [
                                                        0,
                                                        "#0d0887"
                                                    ],
                                                    [
                                                        0.1111111111111111,
                                                        "#46039f"
                                                    ],
                                                    [
                                                        0.2222222222222222,
                                                        "#7201a8"
                                                    ],
                                                    [
                                                        0.3333333333333333,
                                                        "#9c179e"
                                                    ],
                                                    [
                                                        0.4444444444444444,
                                                        "#bd3786"
                                                    ],
                                                    [
                                                        0.5555555555555556,
                                                        "#d8576b"
                                                    ],
                                                    [
                                                        0.6666666666666666,
                                                        "#ed7953"
                                                    ],
                                                    [
                                                        0.7777777777777778,
                                                        "#fb9f3a"
                                                    ],
                                                    [
                                                        0.8888888888888888,
                                                        "#fdca26"
                                                    ],
                                                    [
                                                        1,
                                                        "#f0f921"
                                                    ]
                                                ],
                                                "type": "surface"
                                            }
                                        ],
                                        "table": [
                                            {
                                                "cells": {
                                                    "fill": {
                                                        "color": "#EBF0F8"
                                                    },
                                                    "line": {
                                                        "color": "white"
                                                    }
                                                },
                                                "header": {
                                                    "fill": {
                                                        "color": "#C8D4E3"
                                                    },
                                                    "line": {
                                                        "color": "white"
                                                    }
                                                },
                                                "type": "table"
                                            }
                                        ]
                                    },
                                    "layout": {
                                        "annotationdefaults": {
                                            "arrowcolor": "#2a3f5f",
                                            "arrowhead": 0,
                                            "arrowwidth": 1
                                        },
                                        "coloraxis": {
                                            "colorbar": {
                                                "outlinewidth": 0,
                                                "ticks": ""
                                            }
                                        },
                                        "colorscale": {
                                            "diverging": [
                                                [
                                                    0,
                                                    "#8e0152"
                                                ],
                                                [
                                                    0.1,
                                                    "#c51b7d"
                                                ],
                                                [
                                                    0.2,
                                                    "#de77ae"
                                                ],
                                                [
                                                    0.3,
                                                    "#f1b6da"
                                                ],
                                                [
                                                    0.4,
                                                    "#fde0ef"
                                                ],
                                                [
                                                    0.5,
                                                    "#f7f7f7"
                                                ],
                                                [
                                                    0.6,
                                                    "#e6f5d0"
                                                ],
                                                [
                                                    0.7,
                                                    "#b8e186"
                                                ],
                                                [
                                                    0.8,
                                                    "#7fbc41"
                                                ],
                                                [
                                                    0.9,
                                                    "#4d9221"
                                                ],
                                                [
                                                    1,
                                                    "#276419"
                                                ]
                                            ],
                                            "sequential": [
                                                [
                                                    0,
                                                    "#0d0887"
                                                ],
                                                [
                                                    0.1111111111111111,
                                                    "#46039f"
                                                ],
                                                [
                                                    0.2222222222222222,
                                                    "#7201a8"
                                                ],
                                                [
                                                    0.3333333333333333,
                                                    "#9c179e"
                                                ],
                                                [
                                                    0.4444444444444444,
                                                    "#bd3786"
                                                ],
                                                [
                                                    0.5555555555555556,
                                                    "#d8576b"
                                                ],
                                                [
                                                    0.6666666666666666,
                                                    "#ed7953"
                                                ],
                                                [
                                                    0.7777777777777778,
                                                    "#fb9f3a"
                                                ],
                                                [
                                                    0.8888888888888888,
                                                    "#fdca26"
                                                ],
                                                [
                                                    1,
                                                    "#f0f921"
                                                ]
                                            ],
                                            "sequentialminus": [
                                                [
                                                    0,
                                                    "#0d0887"
                                                ],
                                                [
                                                    0.1111111111111111,
                                                    "#46039f"
                                                ],
                                                [
                                                    0.2222222222222222,
                                                    "#7201a8"
                                                ],
                                                [
                                                    0.3333333333333333,
                                                    "#9c179e"
                                                ],
                                                [
                                                    0.4444444444444444,
                                                    "#bd3786"
                                                ],
                                                [
                                                    0.5555555555555556,
                                                    "#d8576b"
                                                ],
                                                [
                                                    0.6666666666666666,
                                                    "#ed7953"
                                                ],
                                                [
                                                    0.7777777777777778,
                                                    "#fb9f3a"
                                                ],
                                                [
                                                    0.8888888888888888,
                                                    "#fdca26"
                                                ],
                                                [
                                                    1,
                                                    "#f0f921"
                                                ]
                                            ]
                                        },
                                        "colorway": [
                                            "#636efa",
                                            "#EF553B",
                                            "#00cc96",
                                            "#ab63fa",
                                            "#FFA15A",
                                            "#19d3f3",
                                            "#FF6692",
                                            "#B6E880",
                                            "#FF97FF",
                                            "#FECB52"
                                        ],
                                        "font": {
                                            "color": "#2a3f5f"
                                        },
                                        "geo": {
                                            "bgcolor": "white",
                                            "lakecolor": "white",
                                            "landcolor": "#E5ECF6",
                                            "showlakes": true,
                                            "showland": true,
                                            "subunitcolor": "white"
                                        },
                                        "hoverlabel": {
                                            "align": "left"
                                        },
                                        "hovermode": "closest",
                                        "mapbox": {
                                            "style": "light"
                                        },
                                        "paper_bgcolor": "white",
                                        "plot_bgcolor": "#E5ECF6",
                                        "polar": {
                                            "angularaxis": {
                                                "gridcolor": "white",
                                                "linecolor": "white",
                                                "ticks": ""
                                            },
                                            "bgcolor": "#E5ECF6",
                                            "radialaxis": {
                                                "gridcolor": "white",
                                                "linecolor": "white",
                                                "ticks": ""
                                            }
                                        },
                                        "scene": {
                                            "xaxis": {
                                                "backgroundcolor": "#E5ECF6",
                                                "gridcolor": "white",
                                                "gridwidth": 2,
                                                "linecolor": "white",
                                                "showbackground": true,
                                                "ticks": "",
                                                "zerolinecolor": "white"
                                            },
                                            "yaxis": {
                                                "backgroundcolor": "#E5ECF6",
                                                "gridcolor": "white",
                                                "gridwidth": 2,
                                                "linecolor": "white",
                                                "showbackground": true,
                                                "ticks": "",
                                                "zerolinecolor": "white"
                                            },
                                            "zaxis": {
                                                "backgroundcolor": "#E5ECF6",
                                                "gridcolor": "white",
                                                "gridwidth": 2,
                                                "linecolor": "white",
                                                "showbackground": true,
                                                "ticks": "",
                                                "zerolinecolor": "white"
                                            }
                                        },
                                        "shapedefaults": {
                                            "line": {
                                                "color": "#2a3f5f"
                                            }
                                        },
                                        "ternary": {
                                            "aaxis": {
                                                "gridcolor": "white",
                                                "linecolor": "white",
                                                "ticks": ""
                                            },
                                            "baxis": {
                                                "gridcolor": "white",
                                                "linecolor": "white",
                                                "ticks": ""
                                            },
                                            "bgcolor": "#E5ECF6",
                                            "caxis": {
                                                "gridcolor": "white",
                                                "linecolor": "white",
                                                "ticks": ""
                                            }
                                        },
                                        "title": {
                                            "x": 0.05
                                        },
                                        "xaxis": {
                                            "automargin": true,
                                            "gridcolor": "white",
                                            "linecolor": "white",
                                            "ticks": "",
                                            "title": {
                                                "standoff": 15
                                            },
                                            "zerolinecolor": "white",
                                            "zerolinewidth": 2
                                        },
                                        "yaxis": {
                                            "automargin": true,
                                            "gridcolor": "white",
                                            "linecolor": "white",
                                            "ticks": "",
                                            "title": {
                                                "standoff": 15
                                            },
                                            "zerolinecolor": "white",
                                            "zerolinewidth": 2
                                        }
                                    }
                                },
                                "title": {
                                    "text": "Percentage frequency of Each Venue Category in Cluster 0"
                                },
                                "xaxis": {
                                    "anchor": "y",
                                    "domain": [
                                        0,
                                        1
                                    ],
                                    "title": {
                                        "text": "Neighborhood"
                                    }
                                },
                                "yaxis": {
                                    "anchor": "x",
                                    "domain": [
                                        0,
                                        1
                                    ],
                                    "title": {
                                        "text": "value"
                                    }
                                }
                            }
                        },
                        "text/html": "<div>\n        \n        \n            <div id=\"aa13abf7-6aaa-4d63-8ae7-779f82e71ba4\" class=\"plotly-graph-div\" style=\"height:525px; width:100%;\"></div>\n            <script type=\"text/javascript\">\n                require([\"plotly\"], function(Plotly) {\n                    window.PLOTLYENV=window.PLOTLYENV || {};\n                    \n                if (document.getElementById(\"aa13abf7-6aaa-4d63-8ae7-779f82e71ba4\")) {\n                    Plotly.newPlot(\n                        'aa13abf7-6aaa-4d63-8ae7-779f82e71ba4',\n                        [{\"alignmentgroup\": \"True\", \"hovertemplate\": \"variable=Gym<br>Neighborhood=%{x}<br>value=%{y}<extra></extra>\", \"legendgroup\": \"Gym\", \"marker\": {\"color\": \"#636efa\"}, \"name\": \"Gym\", \"offsetgroup\": \"Gym\", \"orientation\": \"v\", \"showlegend\": true, \"textposition\": \"auto\", \"type\": \"bar\", \"x\": [\"Jamaica Plain, Massachusetts\", \"Longwood, Massachusetts\", \"Bay Village, Massachusetts\", \"North End, Massachusetts\", \"Charlestown, Massachusetts\", \"South Boston Waterfront, Massachusetts\", \"South Boston, Massachusetts\"], \"xaxis\": \"x\", \"y\": [0.0, 0.0, 0.06666666666666667, 0.022222222222222223, 0.0, 0.0, 0.0], \"yaxis\": \"y\"}, {\"alignmentgroup\": \"True\", \"hovertemplate\": \"variable=Park<br>Neighborhood=%{x}<br>value=%{y}<extra></extra>\", \"legendgroup\": \"Park\", \"marker\": {\"color\": \"#EF553B\"}, \"name\": \"Park\", \"offsetgroup\": \"Park\", \"orientation\": \"v\", \"showlegend\": true, \"textposition\": \"auto\", \"type\": \"bar\", \"x\": [\"Jamaica Plain, Massachusetts\", \"Longwood, Massachusetts\", \"Bay Village, Massachusetts\", \"North End, Massachusetts\", \"Charlestown, Massachusetts\", \"South Boston Waterfront, Massachusetts\", \"South Boston, Massachusetts\"], \"xaxis\": \"x\", \"y\": [0.25, 0.2, 0.13333333333333333, 0.1111111111111111, 0.2222222222222222, 0.15384615384615385, 0.15384615384615385], \"yaxis\": \"y\"}, {\"alignmentgroup\": \"True\", \"hovertemplate\": \"variable=Restaurant<br>Neighborhood=%{x}<br>value=%{y}<extra></extra>\", \"legendgroup\": \"Restaurant\", \"marker\": {\"color\": \"#00cc96\"}, \"name\": \"Restaurant\", \"offsetgroup\": \"Restaurant\", \"orientation\": \"v\", \"showlegend\": true, \"textposition\": \"auto\", \"type\": \"bar\", \"x\": [\"Jamaica Plain, Massachusetts\", \"Longwood, Massachusetts\", \"Bay Village, Massachusetts\", \"North End, Massachusetts\", \"Charlestown, Massachusetts\", \"South Boston Waterfront, Massachusetts\", \"South Boston, Massachusetts\"], \"xaxis\": \"x\", \"y\": [0.75, 0.8, 0.8, 0.8666666666666667, 0.7777777777777778, 0.8461538461538461, 0.8461538461538461], \"yaxis\": \"y\"}],\n                        {\"barmode\": \"group\", \"legend\": {\"title\": {\"text\": \"variable\"}, \"tracegroupgap\": 0}, \"template\": {\"data\": {\"bar\": [{\"error_x\": {\"color\": \"#2a3f5f\"}, \"error_y\": {\"color\": \"#2a3f5f\"}, \"marker\": {\"line\": {\"color\": \"#E5ECF6\", \"width\": 0.5}}, \"type\": \"bar\"}], \"barpolar\": [{\"marker\": {\"line\": {\"color\": \"#E5ECF6\", \"width\": 0.5}}, \"type\": \"barpolar\"}], \"carpet\": [{\"aaxis\": {\"endlinecolor\": \"#2a3f5f\", \"gridcolor\": \"white\", \"linecolor\": \"white\", \"minorgridcolor\": \"white\", \"startlinecolor\": \"#2a3f5f\"}, \"baxis\": {\"endlinecolor\": \"#2a3f5f\", \"gridcolor\": \"white\", \"linecolor\": \"white\", \"minorgridcolor\": \"white\", \"startlinecolor\": \"#2a3f5f\"}, \"type\": \"carpet\"}], \"choropleth\": [{\"colorbar\": {\"outlinewidth\": 0, \"ticks\": \"\"}, \"type\": \"choropleth\"}], \"contour\": [{\"colorbar\": {\"outlinewidth\": 0, \"ticks\": \"\"}, \"colorscale\": [[0.0, \"#0d0887\"], [0.1111111111111111, \"#46039f\"], [0.2222222222222222, \"#7201a8\"], [0.3333333333333333, \"#9c179e\"], [0.4444444444444444, \"#bd3786\"], [0.5555555555555556, \"#d8576b\"], [0.6666666666666666, \"#ed7953\"], [0.7777777777777778, \"#fb9f3a\"], [0.8888888888888888, \"#fdca26\"], [1.0, \"#f0f921\"]], \"type\": \"contour\"}], \"contourcarpet\": [{\"colorbar\": {\"outlinewidth\": 0, \"ticks\": \"\"}, \"type\": \"contourcarpet\"}], \"heatmap\": [{\"colorbar\": {\"outlinewidth\": 0, \"ticks\": \"\"}, \"colorscale\": [[0.0, \"#0d0887\"], [0.1111111111111111, \"#46039f\"], [0.2222222222222222, \"#7201a8\"], [0.3333333333333333, \"#9c179e\"], [0.4444444444444444, \"#bd3786\"], [0.5555555555555556, \"#d8576b\"], [0.6666666666666666, \"#ed7953\"], [0.7777777777777778, \"#fb9f3a\"], [0.8888888888888888, \"#fdca26\"], [1.0, \"#f0f921\"]], \"type\": \"heatmap\"}], \"heatmapgl\": [{\"colorbar\": {\"outlinewidth\": 0, \"ticks\": \"\"}, \"colorscale\": [[0.0, \"#0d0887\"], [0.1111111111111111, \"#46039f\"], [0.2222222222222222, \"#7201a8\"], [0.3333333333333333, \"#9c179e\"], [0.4444444444444444, \"#bd3786\"], [0.5555555555555556, \"#d8576b\"], [0.6666666666666666, \"#ed7953\"], [0.7777777777777778, \"#fb9f3a\"], [0.8888888888888888, \"#fdca26\"], [1.0, \"#f0f921\"]], \"type\": \"heatmapgl\"}], \"histogram\": [{\"marker\": {\"colorbar\": {\"outlinewidth\": 0, \"ticks\": \"\"}}, \"type\": \"histogram\"}], \"histogram2d\": [{\"colorbar\": {\"outlinewidth\": 0, \"ticks\": \"\"}, \"colorscale\": [[0.0, \"#0d0887\"], [0.1111111111111111, \"#46039f\"], [0.2222222222222222, \"#7201a8\"], [0.3333333333333333, \"#9c179e\"], [0.4444444444444444, \"#bd3786\"], [0.5555555555555556, \"#d8576b\"], [0.6666666666666666, \"#ed7953\"], [0.7777777777777778, \"#fb9f3a\"], [0.8888888888888888, \"#fdca26\"], [1.0, \"#f0f921\"]], \"type\": \"histogram2d\"}], \"histogram2dcontour\": [{\"colorbar\": {\"outlinewidth\": 0, \"ticks\": \"\"}, \"colorscale\": [[0.0, \"#0d0887\"], [0.1111111111111111, \"#46039f\"], [0.2222222222222222, \"#7201a8\"], [0.3333333333333333, \"#9c179e\"], [0.4444444444444444, \"#bd3786\"], [0.5555555555555556, \"#d8576b\"], [0.6666666666666666, \"#ed7953\"], [0.7777777777777778, \"#fb9f3a\"], [0.8888888888888888, \"#fdca26\"], [1.0, \"#f0f921\"]], \"type\": \"histogram2dcontour\"}], \"mesh3d\": [{\"colorbar\": {\"outlinewidth\": 0, \"ticks\": \"\"}, \"type\": \"mesh3d\"}], \"parcoords\": [{\"line\": {\"colorbar\": {\"outlinewidth\": 0, \"ticks\": \"\"}}, \"type\": \"parcoords\"}], \"pie\": [{\"automargin\": true, \"type\": \"pie\"}], \"scatter\": [{\"marker\": {\"colorbar\": {\"outlinewidth\": 0, \"ticks\": \"\"}}, \"type\": \"scatter\"}], \"scatter3d\": [{\"line\": {\"colorbar\": {\"outlinewidth\": 0, \"ticks\": \"\"}}, \"marker\": {\"colorbar\": {\"outlinewidth\": 0, \"ticks\": \"\"}}, \"type\": \"scatter3d\"}], \"scattercarpet\": [{\"marker\": {\"colorbar\": {\"outlinewidth\": 0, \"ticks\": \"\"}}, \"type\": \"scattercarpet\"}], \"scattergeo\": [{\"marker\": {\"colorbar\": {\"outlinewidth\": 0, \"ticks\": \"\"}}, \"type\": \"scattergeo\"}], \"scattergl\": [{\"marker\": {\"colorbar\": {\"outlinewidth\": 0, \"ticks\": \"\"}}, \"type\": \"scattergl\"}], \"scattermapbox\": [{\"marker\": {\"colorbar\": {\"outlinewidth\": 0, \"ticks\": \"\"}}, \"type\": \"scattermapbox\"}], \"scatterpolar\": [{\"marker\": {\"colorbar\": {\"outlinewidth\": 0, \"ticks\": \"\"}}, \"type\": \"scatterpolar\"}], \"scatterpolargl\": [{\"marker\": {\"colorbar\": {\"outlinewidth\": 0, \"ticks\": \"\"}}, \"type\": \"scatterpolargl\"}], \"scatterternary\": [{\"marker\": {\"colorbar\": {\"outlinewidth\": 0, \"ticks\": \"\"}}, \"type\": \"scatterternary\"}], \"surface\": [{\"colorbar\": {\"outlinewidth\": 0, \"ticks\": \"\"}, \"colorscale\": [[0.0, \"#0d0887\"], [0.1111111111111111, \"#46039f\"], [0.2222222222222222, \"#7201a8\"], [0.3333333333333333, \"#9c179e\"], [0.4444444444444444, \"#bd3786\"], [0.5555555555555556, \"#d8576b\"], [0.6666666666666666, \"#ed7953\"], [0.7777777777777778, \"#fb9f3a\"], [0.8888888888888888, \"#fdca26\"], [1.0, \"#f0f921\"]], \"type\": \"surface\"}], \"table\": [{\"cells\": {\"fill\": {\"color\": \"#EBF0F8\"}, \"line\": {\"color\": \"white\"}}, \"header\": {\"fill\": {\"color\": \"#C8D4E3\"}, \"line\": {\"color\": \"white\"}}, \"type\": \"table\"}]}, \"layout\": {\"annotationdefaults\": {\"arrowcolor\": \"#2a3f5f\", \"arrowhead\": 0, \"arrowwidth\": 1}, \"coloraxis\": {\"colorbar\": {\"outlinewidth\": 0, \"ticks\": \"\"}}, \"colorscale\": {\"diverging\": [[0, \"#8e0152\"], [0.1, \"#c51b7d\"], [0.2, \"#de77ae\"], [0.3, \"#f1b6da\"], [0.4, \"#fde0ef\"], [0.5, \"#f7f7f7\"], [0.6, \"#e6f5d0\"], [0.7, \"#b8e186\"], [0.8, \"#7fbc41\"], [0.9, \"#4d9221\"], [1, \"#276419\"]], \"sequential\": [[0.0, \"#0d0887\"], [0.1111111111111111, \"#46039f\"], [0.2222222222222222, \"#7201a8\"], [0.3333333333333333, \"#9c179e\"], [0.4444444444444444, \"#bd3786\"], [0.5555555555555556, \"#d8576b\"], [0.6666666666666666, \"#ed7953\"], [0.7777777777777778, \"#fb9f3a\"], [0.8888888888888888, \"#fdca26\"], [1.0, \"#f0f921\"]], \"sequentialminus\": [[0.0, \"#0d0887\"], [0.1111111111111111, \"#46039f\"], [0.2222222222222222, \"#7201a8\"], [0.3333333333333333, \"#9c179e\"], [0.4444444444444444, \"#bd3786\"], [0.5555555555555556, \"#d8576b\"], [0.6666666666666666, \"#ed7953\"], [0.7777777777777778, \"#fb9f3a\"], [0.8888888888888888, \"#fdca26\"], [1.0, \"#f0f921\"]]}, \"colorway\": [\"#636efa\", \"#EF553B\", \"#00cc96\", \"#ab63fa\", \"#FFA15A\", \"#19d3f3\", \"#FF6692\", \"#B6E880\", \"#FF97FF\", \"#FECB52\"], \"font\": {\"color\": \"#2a3f5f\"}, \"geo\": {\"bgcolor\": \"white\", \"lakecolor\": \"white\", \"landcolor\": \"#E5ECF6\", \"showlakes\": true, \"showland\": true, \"subunitcolor\": \"white\"}, \"hoverlabel\": {\"align\": \"left\"}, \"hovermode\": \"closest\", \"mapbox\": {\"style\": \"light\"}, \"paper_bgcolor\": \"white\", \"plot_bgcolor\": \"#E5ECF6\", \"polar\": {\"angularaxis\": {\"gridcolor\": \"white\", \"linecolor\": \"white\", \"ticks\": \"\"}, \"bgcolor\": \"#E5ECF6\", \"radialaxis\": {\"gridcolor\": \"white\", \"linecolor\": \"white\", \"ticks\": \"\"}}, \"scene\": {\"xaxis\": {\"backgroundcolor\": \"#E5ECF6\", \"gridcolor\": \"white\", \"gridwidth\": 2, \"linecolor\": \"white\", \"showbackground\": true, \"ticks\": \"\", \"zerolinecolor\": \"white\"}, \"yaxis\": {\"backgroundcolor\": \"#E5ECF6\", \"gridcolor\": \"white\", \"gridwidth\": 2, \"linecolor\": \"white\", \"showbackground\": true, \"ticks\": \"\", \"zerolinecolor\": \"white\"}, \"zaxis\": {\"backgroundcolor\": \"#E5ECF6\", \"gridcolor\": \"white\", \"gridwidth\": 2, \"linecolor\": \"white\", \"showbackground\": true, \"ticks\": \"\", \"zerolinecolor\": \"white\"}}, \"shapedefaults\": {\"line\": {\"color\": \"#2a3f5f\"}}, \"ternary\": {\"aaxis\": {\"gridcolor\": \"white\", \"linecolor\": \"white\", \"ticks\": \"\"}, \"baxis\": {\"gridcolor\": \"white\", \"linecolor\": \"white\", \"ticks\": \"\"}, \"bgcolor\": \"#E5ECF6\", \"caxis\": {\"gridcolor\": \"white\", \"linecolor\": \"white\", \"ticks\": \"\"}}, \"title\": {\"x\": 0.05}, \"xaxis\": {\"automargin\": true, \"gridcolor\": \"white\", \"linecolor\": \"white\", \"ticks\": \"\", \"title\": {\"standoff\": 15}, \"zerolinecolor\": \"white\", \"zerolinewidth\": 2}, \"yaxis\": {\"automargin\": true, \"gridcolor\": \"white\", \"linecolor\": \"white\", \"ticks\": \"\", \"title\": {\"standoff\": 15}, \"zerolinecolor\": \"white\", \"zerolinewidth\": 2}}}, \"title\": {\"text\": \"Percentage frequency of Each Venue Category in Cluster 0\"}, \"xaxis\": {\"anchor\": \"y\", \"domain\": [0.0, 1.0], \"title\": {\"text\": \"Neighborhood\"}}, \"yaxis\": {\"anchor\": \"x\", \"domain\": [0.0, 1.0], \"title\": {\"text\": \"value\"}}},\n                        {\"responsive\": true}\n                    ).then(function(){\n                            \nvar gd = document.getElementById('aa13abf7-6aaa-4d63-8ae7-779f82e71ba4');\nvar x = new MutationObserver(function (mutations, observer) {{\n        var display = window.getComputedStyle(gd).display;\n        if (!display || display === 'none') {{\n            console.log([gd, 'removed!']);\n            Plotly.purge(gd);\n            observer.disconnect();\n        }}\n}});\n\n// Listen for the removal of the full notebook cells\nvar notebookContainer = gd.closest('#notebook-container');\nif (notebookContainer) {{\n    x.observe(notebookContainer, {childList: true});\n}}\n\n// Listen for the clearing of the current output cell\nvar outputEl = gd.closest('.output');\nif (outputEl) {{\n    x.observe(outputEl, {childList: true});\n}}\n\n                        })\n                };\n                });\n            </script>\n        </div>"
                    },
                    "metadata": {}
                }
            ]
        },
        {
            "metadata": {},
            "cell_type": "markdown",
            "source": "CLUSTER 1:"
        },
        {
            "metadata": {},
            "cell_type": "code",
            "source": "#Cluster 1\n#create dataframe for graphing\ncluster1_df = pd.DataFrame(columns = ['Neighborhood','Gym', 'Park', 'Restaurant'])\ncluster1_df['Gym'] = Cluster1['Gym']\ncluster1_df['Park'] = Cluster1['Park']\ncluster1_df['Restaurant'] = Cluster1['Restaurant']\ncluster1_df['Neighborhood'] = Cluster1['Address']\n\n\n#make graph\nfig1 = px.bar(cluster1_df, x = \"Neighborhood\", y = ['Gym', 'Park', 'Restaurant'], barmode= 'group', title = 'Percentage frequency of Each Venue Category in Cluster 1')\nfig1.show()",
            "execution_count": 143,
            "outputs": [
                {
                    "output_type": "display_data",
                    "data": {
                        "application/vnd.plotly.v1+json": {
                            "config": {
                                "plotlyServerURL": "https://plot.ly"
                            },
                            "data": [
                                {
                                    "alignmentgroup": "True",
                                    "hovertemplate": "variable=Gym<br>Neighborhood=%{x}<br>value=%{y}<extra></extra>",
                                    "legendgroup": "Gym",
                                    "marker": {
                                        "color": "#636efa"
                                    },
                                    "name": "Gym",
                                    "offsetgroup": "Gym",
                                    "orientation": "v",
                                    "showlegend": true,
                                    "textposition": "auto",
                                    "type": "bar",
                                    "x": [
                                        "Roxbury, Massachusetts"
                                    ],
                                    "xaxis": "x",
                                    "y": [
                                        0.5
                                    ],
                                    "yaxis": "y"
                                },
                                {
                                    "alignmentgroup": "True",
                                    "hovertemplate": "variable=Park<br>Neighborhood=%{x}<br>value=%{y}<extra></extra>",
                                    "legendgroup": "Park",
                                    "marker": {
                                        "color": "#EF553B"
                                    },
                                    "name": "Park",
                                    "offsetgroup": "Park",
                                    "orientation": "v",
                                    "showlegend": true,
                                    "textposition": "auto",
                                    "type": "bar",
                                    "x": [
                                        "Roxbury, Massachusetts"
                                    ],
                                    "xaxis": "x",
                                    "y": [
                                        0.25
                                    ],
                                    "yaxis": "y"
                                },
                                {
                                    "alignmentgroup": "True",
                                    "hovertemplate": "variable=Restaurant<br>Neighborhood=%{x}<br>value=%{y}<extra></extra>",
                                    "legendgroup": "Restaurant",
                                    "marker": {
                                        "color": "#00cc96"
                                    },
                                    "name": "Restaurant",
                                    "offsetgroup": "Restaurant",
                                    "orientation": "v",
                                    "showlegend": true,
                                    "textposition": "auto",
                                    "type": "bar",
                                    "x": [
                                        "Roxbury, Massachusetts"
                                    ],
                                    "xaxis": "x",
                                    "y": [
                                        0.25
                                    ],
                                    "yaxis": "y"
                                }
                            ],
                            "layout": {
                                "barmode": "group",
                                "legend": {
                                    "title": {
                                        "text": "variable"
                                    },
                                    "tracegroupgap": 0
                                },
                                "template": {
                                    "data": {
                                        "bar": [
                                            {
                                                "error_x": {
                                                    "color": "#2a3f5f"
                                                },
                                                "error_y": {
                                                    "color": "#2a3f5f"
                                                },
                                                "marker": {
                                                    "line": {
                                                        "color": "#E5ECF6",
                                                        "width": 0.5
                                                    }
                                                },
                                                "type": "bar"
                                            }
                                        ],
                                        "barpolar": [
                                            {
                                                "marker": {
                                                    "line": {
                                                        "color": "#E5ECF6",
                                                        "width": 0.5
                                                    }
                                                },
                                                "type": "barpolar"
                                            }
                                        ],
                                        "carpet": [
                                            {
                                                "aaxis": {
                                                    "endlinecolor": "#2a3f5f",
                                                    "gridcolor": "white",
                                                    "linecolor": "white",
                                                    "minorgridcolor": "white",
                                                    "startlinecolor": "#2a3f5f"
                                                },
                                                "baxis": {
                                                    "endlinecolor": "#2a3f5f",
                                                    "gridcolor": "white",
                                                    "linecolor": "white",
                                                    "minorgridcolor": "white",
                                                    "startlinecolor": "#2a3f5f"
                                                },
                                                "type": "carpet"
                                            }
                                        ],
                                        "choropleth": [
                                            {
                                                "colorbar": {
                                                    "outlinewidth": 0,
                                                    "ticks": ""
                                                },
                                                "type": "choropleth"
                                            }
                                        ],
                                        "contour": [
                                            {
                                                "colorbar": {
                                                    "outlinewidth": 0,
                                                    "ticks": ""
                                                },
                                                "colorscale": [
                                                    [
                                                        0,
                                                        "#0d0887"
                                                    ],
                                                    [
                                                        0.1111111111111111,
                                                        "#46039f"
                                                    ],
                                                    [
                                                        0.2222222222222222,
                                                        "#7201a8"
                                                    ],
                                                    [
                                                        0.3333333333333333,
                                                        "#9c179e"
                                                    ],
                                                    [
                                                        0.4444444444444444,
                                                        "#bd3786"
                                                    ],
                                                    [
                                                        0.5555555555555556,
                                                        "#d8576b"
                                                    ],
                                                    [
                                                        0.6666666666666666,
                                                        "#ed7953"
                                                    ],
                                                    [
                                                        0.7777777777777778,
                                                        "#fb9f3a"
                                                    ],
                                                    [
                                                        0.8888888888888888,
                                                        "#fdca26"
                                                    ],
                                                    [
                                                        1,
                                                        "#f0f921"
                                                    ]
                                                ],
                                                "type": "contour"
                                            }
                                        ],
                                        "contourcarpet": [
                                            {
                                                "colorbar": {
                                                    "outlinewidth": 0,
                                                    "ticks": ""
                                                },
                                                "type": "contourcarpet"
                                            }
                                        ],
                                        "heatmap": [
                                            {
                                                "colorbar": {
                                                    "outlinewidth": 0,
                                                    "ticks": ""
                                                },
                                                "colorscale": [
                                                    [
                                                        0,
                                                        "#0d0887"
                                                    ],
                                                    [
                                                        0.1111111111111111,
                                                        "#46039f"
                                                    ],
                                                    [
                                                        0.2222222222222222,
                                                        "#7201a8"
                                                    ],
                                                    [
                                                        0.3333333333333333,
                                                        "#9c179e"
                                                    ],
                                                    [
                                                        0.4444444444444444,
                                                        "#bd3786"
                                                    ],
                                                    [
                                                        0.5555555555555556,
                                                        "#d8576b"
                                                    ],
                                                    [
                                                        0.6666666666666666,
                                                        "#ed7953"
                                                    ],
                                                    [
                                                        0.7777777777777778,
                                                        "#fb9f3a"
                                                    ],
                                                    [
                                                        0.8888888888888888,
                                                        "#fdca26"
                                                    ],
                                                    [
                                                        1,
                                                        "#f0f921"
                                                    ]
                                                ],
                                                "type": "heatmap"
                                            }
                                        ],
                                        "heatmapgl": [
                                            {
                                                "colorbar": {
                                                    "outlinewidth": 0,
                                                    "ticks": ""
                                                },
                                                "colorscale": [
                                                    [
                                                        0,
                                                        "#0d0887"
                                                    ],
                                                    [
                                                        0.1111111111111111,
                                                        "#46039f"
                                                    ],
                                                    [
                                                        0.2222222222222222,
                                                        "#7201a8"
                                                    ],
                                                    [
                                                        0.3333333333333333,
                                                        "#9c179e"
                                                    ],
                                                    [
                                                        0.4444444444444444,
                                                        "#bd3786"
                                                    ],
                                                    [
                                                        0.5555555555555556,
                                                        "#d8576b"
                                                    ],
                                                    [
                                                        0.6666666666666666,
                                                        "#ed7953"
                                                    ],
                                                    [
                                                        0.7777777777777778,
                                                        "#fb9f3a"
                                                    ],
                                                    [
                                                        0.8888888888888888,
                                                        "#fdca26"
                                                    ],
                                                    [
                                                        1,
                                                        "#f0f921"
                                                    ]
                                                ],
                                                "type": "heatmapgl"
                                            }
                                        ],
                                        "histogram": [
                                            {
                                                "marker": {
                                                    "colorbar": {
                                                        "outlinewidth": 0,
                                                        "ticks": ""
                                                    }
                                                },
                                                "type": "histogram"
                                            }
                                        ],
                                        "histogram2d": [
                                            {
                                                "colorbar": {
                                                    "outlinewidth": 0,
                                                    "ticks": ""
                                                },
                                                "colorscale": [
                                                    [
                                                        0,
                                                        "#0d0887"
                                                    ],
                                                    [
                                                        0.1111111111111111,
                                                        "#46039f"
                                                    ],
                                                    [
                                                        0.2222222222222222,
                                                        "#7201a8"
                                                    ],
                                                    [
                                                        0.3333333333333333,
                                                        "#9c179e"
                                                    ],
                                                    [
                                                        0.4444444444444444,
                                                        "#bd3786"
                                                    ],
                                                    [
                                                        0.5555555555555556,
                                                        "#d8576b"
                                                    ],
                                                    [
                                                        0.6666666666666666,
                                                        "#ed7953"
                                                    ],
                                                    [
                                                        0.7777777777777778,
                                                        "#fb9f3a"
                                                    ],
                                                    [
                                                        0.8888888888888888,
                                                        "#fdca26"
                                                    ],
                                                    [
                                                        1,
                                                        "#f0f921"
                                                    ]
                                                ],
                                                "type": "histogram2d"
                                            }
                                        ],
                                        "histogram2dcontour": [
                                            {
                                                "colorbar": {
                                                    "outlinewidth": 0,
                                                    "ticks": ""
                                                },
                                                "colorscale": [
                                                    [
                                                        0,
                                                        "#0d0887"
                                                    ],
                                                    [
                                                        0.1111111111111111,
                                                        "#46039f"
                                                    ],
                                                    [
                                                        0.2222222222222222,
                                                        "#7201a8"
                                                    ],
                                                    [
                                                        0.3333333333333333,
                                                        "#9c179e"
                                                    ],
                                                    [
                                                        0.4444444444444444,
                                                        "#bd3786"
                                                    ],
                                                    [
                                                        0.5555555555555556,
                                                        "#d8576b"
                                                    ],
                                                    [
                                                        0.6666666666666666,
                                                        "#ed7953"
                                                    ],
                                                    [
                                                        0.7777777777777778,
                                                        "#fb9f3a"
                                                    ],
                                                    [
                                                        0.8888888888888888,
                                                        "#fdca26"
                                                    ],
                                                    [
                                                        1,
                                                        "#f0f921"
                                                    ]
                                                ],
                                                "type": "histogram2dcontour"
                                            }
                                        ],
                                        "mesh3d": [
                                            {
                                                "colorbar": {
                                                    "outlinewidth": 0,
                                                    "ticks": ""
                                                },
                                                "type": "mesh3d"
                                            }
                                        ],
                                        "parcoords": [
                                            {
                                                "line": {
                                                    "colorbar": {
                                                        "outlinewidth": 0,
                                                        "ticks": ""
                                                    }
                                                },
                                                "type": "parcoords"
                                            }
                                        ],
                                        "pie": [
                                            {
                                                "automargin": true,
                                                "type": "pie"
                                            }
                                        ],
                                        "scatter": [
                                            {
                                                "marker": {
                                                    "colorbar": {
                                                        "outlinewidth": 0,
                                                        "ticks": ""
                                                    }
                                                },
                                                "type": "scatter"
                                            }
                                        ],
                                        "scatter3d": [
                                            {
                                                "line": {
                                                    "colorbar": {
                                                        "outlinewidth": 0,
                                                        "ticks": ""
                                                    }
                                                },
                                                "marker": {
                                                    "colorbar": {
                                                        "outlinewidth": 0,
                                                        "ticks": ""
                                                    }
                                                },
                                                "type": "scatter3d"
                                            }
                                        ],
                                        "scattercarpet": [
                                            {
                                                "marker": {
                                                    "colorbar": {
                                                        "outlinewidth": 0,
                                                        "ticks": ""
                                                    }
                                                },
                                                "type": "scattercarpet"
                                            }
                                        ],
                                        "scattergeo": [
                                            {
                                                "marker": {
                                                    "colorbar": {
                                                        "outlinewidth": 0,
                                                        "ticks": ""
                                                    }
                                                },
                                                "type": "scattergeo"
                                            }
                                        ],
                                        "scattergl": [
                                            {
                                                "marker": {
                                                    "colorbar": {
                                                        "outlinewidth": 0,
                                                        "ticks": ""
                                                    }
                                                },
                                                "type": "scattergl"
                                            }
                                        ],
                                        "scattermapbox": [
                                            {
                                                "marker": {
                                                    "colorbar": {
                                                        "outlinewidth": 0,
                                                        "ticks": ""
                                                    }
                                                },
                                                "type": "scattermapbox"
                                            }
                                        ],
                                        "scatterpolar": [
                                            {
                                                "marker": {
                                                    "colorbar": {
                                                        "outlinewidth": 0,
                                                        "ticks": ""
                                                    }
                                                },
                                                "type": "scatterpolar"
                                            }
                                        ],
                                        "scatterpolargl": [
                                            {
                                                "marker": {
                                                    "colorbar": {
                                                        "outlinewidth": 0,
                                                        "ticks": ""
                                                    }
                                                },
                                                "type": "scatterpolargl"
                                            }
                                        ],
                                        "scatterternary": [
                                            {
                                                "marker": {
                                                    "colorbar": {
                                                        "outlinewidth": 0,
                                                        "ticks": ""
                                                    }
                                                },
                                                "type": "scatterternary"
                                            }
                                        ],
                                        "surface": [
                                            {
                                                "colorbar": {
                                                    "outlinewidth": 0,
                                                    "ticks": ""
                                                },
                                                "colorscale": [
                                                    [
                                                        0,
                                                        "#0d0887"
                                                    ],
                                                    [
                                                        0.1111111111111111,
                                                        "#46039f"
                                                    ],
                                                    [
                                                        0.2222222222222222,
                                                        "#7201a8"
                                                    ],
                                                    [
                                                        0.3333333333333333,
                                                        "#9c179e"
                                                    ],
                                                    [
                                                        0.4444444444444444,
                                                        "#bd3786"
                                                    ],
                                                    [
                                                        0.5555555555555556,
                                                        "#d8576b"
                                                    ],
                                                    [
                                                        0.6666666666666666,
                                                        "#ed7953"
                                                    ],
                                                    [
                                                        0.7777777777777778,
                                                        "#fb9f3a"
                                                    ],
                                                    [
                                                        0.8888888888888888,
                                                        "#fdca26"
                                                    ],
                                                    [
                                                        1,
                                                        "#f0f921"
                                                    ]
                                                ],
                                                "type": "surface"
                                            }
                                        ],
                                        "table": [
                                            {
                                                "cells": {
                                                    "fill": {
                                                        "color": "#EBF0F8"
                                                    },
                                                    "line": {
                                                        "color": "white"
                                                    }
                                                },
                                                "header": {
                                                    "fill": {
                                                        "color": "#C8D4E3"
                                                    },
                                                    "line": {
                                                        "color": "white"
                                                    }
                                                },
                                                "type": "table"
                                            }
                                        ]
                                    },
                                    "layout": {
                                        "annotationdefaults": {
                                            "arrowcolor": "#2a3f5f",
                                            "arrowhead": 0,
                                            "arrowwidth": 1
                                        },
                                        "coloraxis": {
                                            "colorbar": {
                                                "outlinewidth": 0,
                                                "ticks": ""
                                            }
                                        },
                                        "colorscale": {
                                            "diverging": [
                                                [
                                                    0,
                                                    "#8e0152"
                                                ],
                                                [
                                                    0.1,
                                                    "#c51b7d"
                                                ],
                                                [
                                                    0.2,
                                                    "#de77ae"
                                                ],
                                                [
                                                    0.3,
                                                    "#f1b6da"
                                                ],
                                                [
                                                    0.4,
                                                    "#fde0ef"
                                                ],
                                                [
                                                    0.5,
                                                    "#f7f7f7"
                                                ],
                                                [
                                                    0.6,
                                                    "#e6f5d0"
                                                ],
                                                [
                                                    0.7,
                                                    "#b8e186"
                                                ],
                                                [
                                                    0.8,
                                                    "#7fbc41"
                                                ],
                                                [
                                                    0.9,
                                                    "#4d9221"
                                                ],
                                                [
                                                    1,
                                                    "#276419"
                                                ]
                                            ],
                                            "sequential": [
                                                [
                                                    0,
                                                    "#0d0887"
                                                ],
                                                [
                                                    0.1111111111111111,
                                                    "#46039f"
                                                ],
                                                [
                                                    0.2222222222222222,
                                                    "#7201a8"
                                                ],
                                                [
                                                    0.3333333333333333,
                                                    "#9c179e"
                                                ],
                                                [
                                                    0.4444444444444444,
                                                    "#bd3786"
                                                ],
                                                [
                                                    0.5555555555555556,
                                                    "#d8576b"
                                                ],
                                                [
                                                    0.6666666666666666,
                                                    "#ed7953"
                                                ],
                                                [
                                                    0.7777777777777778,
                                                    "#fb9f3a"
                                                ],
                                                [
                                                    0.8888888888888888,
                                                    "#fdca26"
                                                ],
                                                [
                                                    1,
                                                    "#f0f921"
                                                ]
                                            ],
                                            "sequentialminus": [
                                                [
                                                    0,
                                                    "#0d0887"
                                                ],
                                                [
                                                    0.1111111111111111,
                                                    "#46039f"
                                                ],
                                                [
                                                    0.2222222222222222,
                                                    "#7201a8"
                                                ],
                                                [
                                                    0.3333333333333333,
                                                    "#9c179e"
                                                ],
                                                [
                                                    0.4444444444444444,
                                                    "#bd3786"
                                                ],
                                                [
                                                    0.5555555555555556,
                                                    "#d8576b"
                                                ],
                                                [
                                                    0.6666666666666666,
                                                    "#ed7953"
                                                ],
                                                [
                                                    0.7777777777777778,
                                                    "#fb9f3a"
                                                ],
                                                [
                                                    0.8888888888888888,
                                                    "#fdca26"
                                                ],
                                                [
                                                    1,
                                                    "#f0f921"
                                                ]
                                            ]
                                        },
                                        "colorway": [
                                            "#636efa",
                                            "#EF553B",
                                            "#00cc96",
                                            "#ab63fa",
                                            "#FFA15A",
                                            "#19d3f3",
                                            "#FF6692",
                                            "#B6E880",
                                            "#FF97FF",
                                            "#FECB52"
                                        ],
                                        "font": {
                                            "color": "#2a3f5f"
                                        },
                                        "geo": {
                                            "bgcolor": "white",
                                            "lakecolor": "white",
                                            "landcolor": "#E5ECF6",
                                            "showlakes": true,
                                            "showland": true,
                                            "subunitcolor": "white"
                                        },
                                        "hoverlabel": {
                                            "align": "left"
                                        },
                                        "hovermode": "closest",
                                        "mapbox": {
                                            "style": "light"
                                        },
                                        "paper_bgcolor": "white",
                                        "plot_bgcolor": "#E5ECF6",
                                        "polar": {
                                            "angularaxis": {
                                                "gridcolor": "white",
                                                "linecolor": "white",
                                                "ticks": ""
                                            },
                                            "bgcolor": "#E5ECF6",
                                            "radialaxis": {
                                                "gridcolor": "white",
                                                "linecolor": "white",
                                                "ticks": ""
                                            }
                                        },
                                        "scene": {
                                            "xaxis": {
                                                "backgroundcolor": "#E5ECF6",
                                                "gridcolor": "white",
                                                "gridwidth": 2,
                                                "linecolor": "white",
                                                "showbackground": true,
                                                "ticks": "",
                                                "zerolinecolor": "white"
                                            },
                                            "yaxis": {
                                                "backgroundcolor": "#E5ECF6",
                                                "gridcolor": "white",
                                                "gridwidth": 2,
                                                "linecolor": "white",
                                                "showbackground": true,
                                                "ticks": "",
                                                "zerolinecolor": "white"
                                            },
                                            "zaxis": {
                                                "backgroundcolor": "#E5ECF6",
                                                "gridcolor": "white",
                                                "gridwidth": 2,
                                                "linecolor": "white",
                                                "showbackground": true,
                                                "ticks": "",
                                                "zerolinecolor": "white"
                                            }
                                        },
                                        "shapedefaults": {
                                            "line": {
                                                "color": "#2a3f5f"
                                            }
                                        },
                                        "ternary": {
                                            "aaxis": {
                                                "gridcolor": "white",
                                                "linecolor": "white",
                                                "ticks": ""
                                            },
                                            "baxis": {
                                                "gridcolor": "white",
                                                "linecolor": "white",
                                                "ticks": ""
                                            },
                                            "bgcolor": "#E5ECF6",
                                            "caxis": {
                                                "gridcolor": "white",
                                                "linecolor": "white",
                                                "ticks": ""
                                            }
                                        },
                                        "title": {
                                            "x": 0.05
                                        },
                                        "xaxis": {
                                            "automargin": true,
                                            "gridcolor": "white",
                                            "linecolor": "white",
                                            "ticks": "",
                                            "title": {
                                                "standoff": 15
                                            },
                                            "zerolinecolor": "white",
                                            "zerolinewidth": 2
                                        },
                                        "yaxis": {
                                            "automargin": true,
                                            "gridcolor": "white",
                                            "linecolor": "white",
                                            "ticks": "",
                                            "title": {
                                                "standoff": 15
                                            },
                                            "zerolinecolor": "white",
                                            "zerolinewidth": 2
                                        }
                                    }
                                },
                                "title": {
                                    "text": "Percentage frequency of Each Venue Category in Cluster 1"
                                },
                                "xaxis": {
                                    "anchor": "y",
                                    "domain": [
                                        0,
                                        1
                                    ],
                                    "title": {
                                        "text": "Neighborhood"
                                    }
                                },
                                "yaxis": {
                                    "anchor": "x",
                                    "domain": [
                                        0,
                                        1
                                    ],
                                    "title": {
                                        "text": "value"
                                    }
                                }
                            }
                        },
                        "text/html": "<div>\n        \n        \n            <div id=\"41fdbd4b-3113-48d4-b80a-ff21fd2b12fb\" class=\"plotly-graph-div\" style=\"height:525px; width:100%;\"></div>\n            <script type=\"text/javascript\">\n                require([\"plotly\"], function(Plotly) {\n                    window.PLOTLYENV=window.PLOTLYENV || {};\n                    \n                if (document.getElementById(\"41fdbd4b-3113-48d4-b80a-ff21fd2b12fb\")) {\n                    Plotly.newPlot(\n                        '41fdbd4b-3113-48d4-b80a-ff21fd2b12fb',\n                        [{\"alignmentgroup\": \"True\", \"hovertemplate\": \"variable=Gym<br>Neighborhood=%{x}<br>value=%{y}<extra></extra>\", \"legendgroup\": \"Gym\", \"marker\": {\"color\": \"#636efa\"}, \"name\": \"Gym\", \"offsetgroup\": \"Gym\", \"orientation\": \"v\", \"showlegend\": true, \"textposition\": \"auto\", \"type\": \"bar\", \"x\": [\"Roxbury, Massachusetts\"], \"xaxis\": \"x\", \"y\": [0.5], \"yaxis\": \"y\"}, {\"alignmentgroup\": \"True\", \"hovertemplate\": \"variable=Park<br>Neighborhood=%{x}<br>value=%{y}<extra></extra>\", \"legendgroup\": \"Park\", \"marker\": {\"color\": \"#EF553B\"}, \"name\": \"Park\", \"offsetgroup\": \"Park\", \"orientation\": \"v\", \"showlegend\": true, \"textposition\": \"auto\", \"type\": \"bar\", \"x\": [\"Roxbury, Massachusetts\"], \"xaxis\": \"x\", \"y\": [0.25], \"yaxis\": \"y\"}, {\"alignmentgroup\": \"True\", \"hovertemplate\": \"variable=Restaurant<br>Neighborhood=%{x}<br>value=%{y}<extra></extra>\", \"legendgroup\": \"Restaurant\", \"marker\": {\"color\": \"#00cc96\"}, \"name\": \"Restaurant\", \"offsetgroup\": \"Restaurant\", \"orientation\": \"v\", \"showlegend\": true, \"textposition\": \"auto\", \"type\": \"bar\", \"x\": [\"Roxbury, Massachusetts\"], \"xaxis\": \"x\", \"y\": [0.25], \"yaxis\": \"y\"}],\n                        {\"barmode\": \"group\", \"legend\": {\"title\": {\"text\": \"variable\"}, \"tracegroupgap\": 0}, \"template\": {\"data\": {\"bar\": [{\"error_x\": {\"color\": \"#2a3f5f\"}, \"error_y\": {\"color\": \"#2a3f5f\"}, \"marker\": {\"line\": {\"color\": \"#E5ECF6\", \"width\": 0.5}}, \"type\": \"bar\"}], \"barpolar\": [{\"marker\": {\"line\": {\"color\": \"#E5ECF6\", \"width\": 0.5}}, \"type\": \"barpolar\"}], \"carpet\": [{\"aaxis\": {\"endlinecolor\": \"#2a3f5f\", \"gridcolor\": \"white\", \"linecolor\": \"white\", \"minorgridcolor\": \"white\", \"startlinecolor\": \"#2a3f5f\"}, \"baxis\": {\"endlinecolor\": \"#2a3f5f\", \"gridcolor\": \"white\", \"linecolor\": \"white\", \"minorgridcolor\": \"white\", \"startlinecolor\": \"#2a3f5f\"}, \"type\": \"carpet\"}], \"choropleth\": [{\"colorbar\": {\"outlinewidth\": 0, \"ticks\": \"\"}, \"type\": \"choropleth\"}], \"contour\": [{\"colorbar\": {\"outlinewidth\": 0, \"ticks\": \"\"}, \"colorscale\": [[0.0, \"#0d0887\"], [0.1111111111111111, \"#46039f\"], [0.2222222222222222, \"#7201a8\"], [0.3333333333333333, \"#9c179e\"], [0.4444444444444444, \"#bd3786\"], [0.5555555555555556, \"#d8576b\"], [0.6666666666666666, \"#ed7953\"], [0.7777777777777778, \"#fb9f3a\"], [0.8888888888888888, \"#fdca26\"], [1.0, \"#f0f921\"]], \"type\": \"contour\"}], \"contourcarpet\": [{\"colorbar\": {\"outlinewidth\": 0, \"ticks\": \"\"}, \"type\": \"contourcarpet\"}], \"heatmap\": [{\"colorbar\": {\"outlinewidth\": 0, \"ticks\": \"\"}, \"colorscale\": [[0.0, \"#0d0887\"], [0.1111111111111111, \"#46039f\"], [0.2222222222222222, \"#7201a8\"], [0.3333333333333333, \"#9c179e\"], [0.4444444444444444, \"#bd3786\"], [0.5555555555555556, \"#d8576b\"], [0.6666666666666666, \"#ed7953\"], [0.7777777777777778, \"#fb9f3a\"], [0.8888888888888888, \"#fdca26\"], [1.0, \"#f0f921\"]], \"type\": \"heatmap\"}], \"heatmapgl\": [{\"colorbar\": {\"outlinewidth\": 0, \"ticks\": \"\"}, \"colorscale\": [[0.0, \"#0d0887\"], [0.1111111111111111, \"#46039f\"], [0.2222222222222222, \"#7201a8\"], [0.3333333333333333, \"#9c179e\"], [0.4444444444444444, \"#bd3786\"], [0.5555555555555556, \"#d8576b\"], [0.6666666666666666, \"#ed7953\"], [0.7777777777777778, \"#fb9f3a\"], [0.8888888888888888, \"#fdca26\"], [1.0, \"#f0f921\"]], \"type\": \"heatmapgl\"}], \"histogram\": [{\"marker\": {\"colorbar\": {\"outlinewidth\": 0, \"ticks\": \"\"}}, \"type\": \"histogram\"}], \"histogram2d\": [{\"colorbar\": {\"outlinewidth\": 0, \"ticks\": \"\"}, \"colorscale\": [[0.0, \"#0d0887\"], [0.1111111111111111, \"#46039f\"], [0.2222222222222222, \"#7201a8\"], [0.3333333333333333, \"#9c179e\"], [0.4444444444444444, \"#bd3786\"], [0.5555555555555556, \"#d8576b\"], [0.6666666666666666, \"#ed7953\"], [0.7777777777777778, \"#fb9f3a\"], [0.8888888888888888, \"#fdca26\"], [1.0, \"#f0f921\"]], \"type\": \"histogram2d\"}], \"histogram2dcontour\": [{\"colorbar\": {\"outlinewidth\": 0, \"ticks\": \"\"}, \"colorscale\": [[0.0, \"#0d0887\"], [0.1111111111111111, \"#46039f\"], [0.2222222222222222, \"#7201a8\"], [0.3333333333333333, \"#9c179e\"], [0.4444444444444444, \"#bd3786\"], [0.5555555555555556, \"#d8576b\"], [0.6666666666666666, \"#ed7953\"], [0.7777777777777778, \"#fb9f3a\"], [0.8888888888888888, \"#fdca26\"], [1.0, \"#f0f921\"]], \"type\": \"histogram2dcontour\"}], \"mesh3d\": [{\"colorbar\": {\"outlinewidth\": 0, \"ticks\": \"\"}, \"type\": \"mesh3d\"}], \"parcoords\": [{\"line\": {\"colorbar\": {\"outlinewidth\": 0, \"ticks\": \"\"}}, \"type\": \"parcoords\"}], \"pie\": [{\"automargin\": true, \"type\": \"pie\"}], \"scatter\": [{\"marker\": {\"colorbar\": {\"outlinewidth\": 0, \"ticks\": \"\"}}, \"type\": \"scatter\"}], \"scatter3d\": [{\"line\": {\"colorbar\": {\"outlinewidth\": 0, \"ticks\": \"\"}}, \"marker\": {\"colorbar\": {\"outlinewidth\": 0, \"ticks\": \"\"}}, \"type\": \"scatter3d\"}], \"scattercarpet\": [{\"marker\": {\"colorbar\": {\"outlinewidth\": 0, \"ticks\": \"\"}}, \"type\": \"scattercarpet\"}], \"scattergeo\": [{\"marker\": {\"colorbar\": {\"outlinewidth\": 0, \"ticks\": \"\"}}, \"type\": \"scattergeo\"}], \"scattergl\": [{\"marker\": {\"colorbar\": {\"outlinewidth\": 0, \"ticks\": \"\"}}, \"type\": \"scattergl\"}], \"scattermapbox\": [{\"marker\": {\"colorbar\": {\"outlinewidth\": 0, \"ticks\": \"\"}}, \"type\": \"scattermapbox\"}], \"scatterpolar\": [{\"marker\": {\"colorbar\": {\"outlinewidth\": 0, \"ticks\": \"\"}}, \"type\": \"scatterpolar\"}], \"scatterpolargl\": [{\"marker\": {\"colorbar\": {\"outlinewidth\": 0, \"ticks\": \"\"}}, \"type\": \"scatterpolargl\"}], \"scatterternary\": [{\"marker\": {\"colorbar\": {\"outlinewidth\": 0, \"ticks\": \"\"}}, \"type\": \"scatterternary\"}], \"surface\": [{\"colorbar\": {\"outlinewidth\": 0, \"ticks\": \"\"}, \"colorscale\": [[0.0, \"#0d0887\"], [0.1111111111111111, \"#46039f\"], [0.2222222222222222, \"#7201a8\"], [0.3333333333333333, \"#9c179e\"], [0.4444444444444444, \"#bd3786\"], [0.5555555555555556, \"#d8576b\"], [0.6666666666666666, \"#ed7953\"], [0.7777777777777778, \"#fb9f3a\"], [0.8888888888888888, \"#fdca26\"], [1.0, \"#f0f921\"]], \"type\": \"surface\"}], \"table\": [{\"cells\": {\"fill\": {\"color\": \"#EBF0F8\"}, \"line\": {\"color\": \"white\"}}, \"header\": {\"fill\": {\"color\": \"#C8D4E3\"}, \"line\": {\"color\": \"white\"}}, \"type\": \"table\"}]}, \"layout\": {\"annotationdefaults\": {\"arrowcolor\": \"#2a3f5f\", \"arrowhead\": 0, \"arrowwidth\": 1}, \"coloraxis\": {\"colorbar\": {\"outlinewidth\": 0, \"ticks\": \"\"}}, \"colorscale\": {\"diverging\": [[0, \"#8e0152\"], [0.1, \"#c51b7d\"], [0.2, \"#de77ae\"], [0.3, \"#f1b6da\"], [0.4, \"#fde0ef\"], [0.5, \"#f7f7f7\"], [0.6, \"#e6f5d0\"], [0.7, \"#b8e186\"], [0.8, \"#7fbc41\"], [0.9, \"#4d9221\"], [1, \"#276419\"]], \"sequential\": [[0.0, \"#0d0887\"], [0.1111111111111111, \"#46039f\"], [0.2222222222222222, \"#7201a8\"], [0.3333333333333333, \"#9c179e\"], [0.4444444444444444, \"#bd3786\"], [0.5555555555555556, \"#d8576b\"], [0.6666666666666666, \"#ed7953\"], [0.7777777777777778, \"#fb9f3a\"], [0.8888888888888888, \"#fdca26\"], [1.0, \"#f0f921\"]], \"sequentialminus\": [[0.0, \"#0d0887\"], [0.1111111111111111, \"#46039f\"], [0.2222222222222222, \"#7201a8\"], [0.3333333333333333, \"#9c179e\"], [0.4444444444444444, \"#bd3786\"], [0.5555555555555556, \"#d8576b\"], [0.6666666666666666, \"#ed7953\"], [0.7777777777777778, \"#fb9f3a\"], [0.8888888888888888, \"#fdca26\"], [1.0, \"#f0f921\"]]}, \"colorway\": [\"#636efa\", \"#EF553B\", \"#00cc96\", \"#ab63fa\", \"#FFA15A\", \"#19d3f3\", \"#FF6692\", \"#B6E880\", \"#FF97FF\", \"#FECB52\"], \"font\": {\"color\": \"#2a3f5f\"}, \"geo\": {\"bgcolor\": \"white\", \"lakecolor\": \"white\", \"landcolor\": \"#E5ECF6\", \"showlakes\": true, \"showland\": true, \"subunitcolor\": \"white\"}, \"hoverlabel\": {\"align\": \"left\"}, \"hovermode\": \"closest\", \"mapbox\": {\"style\": \"light\"}, \"paper_bgcolor\": \"white\", \"plot_bgcolor\": \"#E5ECF6\", \"polar\": {\"angularaxis\": {\"gridcolor\": \"white\", \"linecolor\": \"white\", \"ticks\": \"\"}, \"bgcolor\": \"#E5ECF6\", \"radialaxis\": {\"gridcolor\": \"white\", \"linecolor\": \"white\", \"ticks\": \"\"}}, \"scene\": {\"xaxis\": {\"backgroundcolor\": \"#E5ECF6\", \"gridcolor\": \"white\", \"gridwidth\": 2, \"linecolor\": \"white\", \"showbackground\": true, \"ticks\": \"\", \"zerolinecolor\": \"white\"}, \"yaxis\": {\"backgroundcolor\": \"#E5ECF6\", \"gridcolor\": \"white\", \"gridwidth\": 2, \"linecolor\": \"white\", \"showbackground\": true, \"ticks\": \"\", \"zerolinecolor\": \"white\"}, \"zaxis\": {\"backgroundcolor\": \"#E5ECF6\", \"gridcolor\": \"white\", \"gridwidth\": 2, \"linecolor\": \"white\", \"showbackground\": true, \"ticks\": \"\", \"zerolinecolor\": \"white\"}}, \"shapedefaults\": {\"line\": {\"color\": \"#2a3f5f\"}}, \"ternary\": {\"aaxis\": {\"gridcolor\": \"white\", \"linecolor\": \"white\", \"ticks\": \"\"}, \"baxis\": {\"gridcolor\": \"white\", \"linecolor\": \"white\", \"ticks\": \"\"}, \"bgcolor\": \"#E5ECF6\", \"caxis\": {\"gridcolor\": \"white\", \"linecolor\": \"white\", \"ticks\": \"\"}}, \"title\": {\"x\": 0.05}, \"xaxis\": {\"automargin\": true, \"gridcolor\": \"white\", \"linecolor\": \"white\", \"ticks\": \"\", \"title\": {\"standoff\": 15}, \"zerolinecolor\": \"white\", \"zerolinewidth\": 2}, \"yaxis\": {\"automargin\": true, \"gridcolor\": \"white\", \"linecolor\": \"white\", \"ticks\": \"\", \"title\": {\"standoff\": 15}, \"zerolinecolor\": \"white\", \"zerolinewidth\": 2}}}, \"title\": {\"text\": \"Percentage frequency of Each Venue Category in Cluster 1\"}, \"xaxis\": {\"anchor\": \"y\", \"domain\": [0.0, 1.0], \"title\": {\"text\": \"Neighborhood\"}}, \"yaxis\": {\"anchor\": \"x\", \"domain\": [0.0, 1.0], \"title\": {\"text\": \"value\"}}},\n                        {\"responsive\": true}\n                    ).then(function(){\n                            \nvar gd = document.getElementById('41fdbd4b-3113-48d4-b80a-ff21fd2b12fb');\nvar x = new MutationObserver(function (mutations, observer) {{\n        var display = window.getComputedStyle(gd).display;\n        if (!display || display === 'none') {{\n            console.log([gd, 'removed!']);\n            Plotly.purge(gd);\n            observer.disconnect();\n        }}\n}});\n\n// Listen for the removal of the full notebook cells\nvar notebookContainer = gd.closest('#notebook-container');\nif (notebookContainer) {{\n    x.observe(notebookContainer, {childList: true});\n}}\n\n// Listen for the clearing of the current output cell\nvar outputEl = gd.closest('.output');\nif (outputEl) {{\n    x.observe(outputEl, {childList: true});\n}}\n\n                        })\n                };\n                });\n            </script>\n        </div>"
                    },
                    "metadata": {}
                }
            ]
        },
        {
            "metadata": {},
            "cell_type": "markdown",
            "source": "CLUSTER 2:"
        },
        {
            "metadata": {},
            "cell_type": "code",
            "source": "#Cluster 2\n#create dataframe for graphing\ncluster2_df = pd.DataFrame(columns = ['Neighborhood','Gym', 'Park', 'Restaurant'])\ncluster2_df['Gym'] = Cluster2['Gym']\ncluster2_df['Park'] = Cluster2['Park']\ncluster2_df['Restaurant'] = Cluster2['Restaurant']\ncluster2_df['Neighborhood'] = Cluster2['Address']\n\n\n#make graph\nfig2 = px.bar(cluster2_df, x = \"Neighborhood\", y = ['Gym', 'Park', 'Restaurant'], barmode= 'group', title = 'Percentage frequency of Each Venue Category in Cluster 2')\nfig2.show()",
            "execution_count": 144,
            "outputs": [
                {
                    "output_type": "display_data",
                    "data": {
                        "application/vnd.plotly.v1+json": {
                            "config": {
                                "plotlyServerURL": "https://plot.ly"
                            },
                            "data": [
                                {
                                    "alignmentgroup": "True",
                                    "hovertemplate": "variable=Gym<br>Neighborhood=%{x}<br>value=%{y}<extra></extra>",
                                    "legendgroup": "Gym",
                                    "marker": {
                                        "color": "#636efa"
                                    },
                                    "name": "Gym",
                                    "offsetgroup": "Gym",
                                    "orientation": "v",
                                    "showlegend": true,
                                    "textposition": "auto",
                                    "type": "bar",
                                    "x": [
                                        "Leather District, Massachusetts",
                                        "Chinatown, Massachusetts",
                                        "South End, Massachusetts",
                                        "Back Bay, Massachusetts",
                                        "West End, Massachusetts",
                                        "Downtown, Massachusetts",
                                        "Brighton, Massachusetts",
                                        "Hyde Park, Massachusetts",
                                        "Dorchester, Massachusetts"
                                    ],
                                    "xaxis": "x",
                                    "y": [
                                        0.13953488372093023,
                                        0.09090909090909091,
                                        0.10526315789473684,
                                        0.1111111111111111,
                                        0.2,
                                        0.16666666666666666,
                                        0.08333333333333333,
                                        0.16666666666666666,
                                        0.25
                                    ],
                                    "yaxis": "y"
                                },
                                {
                                    "alignmentgroup": "True",
                                    "hovertemplate": "variable=Park<br>Neighborhood=%{x}<br>value=%{y}<extra></extra>",
                                    "legendgroup": "Park",
                                    "marker": {
                                        "color": "#EF553B"
                                    },
                                    "name": "Park",
                                    "offsetgroup": "Park",
                                    "orientation": "v",
                                    "showlegend": true,
                                    "textposition": "auto",
                                    "type": "bar",
                                    "x": [
                                        "Leather District, Massachusetts",
                                        "Chinatown, Massachusetts",
                                        "South End, Massachusetts",
                                        "Back Bay, Massachusetts",
                                        "West End, Massachusetts",
                                        "Downtown, Massachusetts",
                                        "Brighton, Massachusetts",
                                        "Hyde Park, Massachusetts",
                                        "Dorchester, Massachusetts"
                                    ],
                                    "xaxis": "x",
                                    "y": [
                                        0.023255813953488372,
                                        0.045454545454545456,
                                        0.10526315789473684,
                                        0.027777777777777776,
                                        0.04,
                                        0.16666666666666666,
                                        0.08333333333333333,
                                        0,
                                        0
                                    ],
                                    "yaxis": "y"
                                },
                                {
                                    "alignmentgroup": "True",
                                    "hovertemplate": "variable=Restaurant<br>Neighborhood=%{x}<br>value=%{y}<extra></extra>",
                                    "legendgroup": "Restaurant",
                                    "marker": {
                                        "color": "#00cc96"
                                    },
                                    "name": "Restaurant",
                                    "offsetgroup": "Restaurant",
                                    "orientation": "v",
                                    "showlegend": true,
                                    "textposition": "auto",
                                    "type": "bar",
                                    "x": [
                                        "Leather District, Massachusetts",
                                        "Chinatown, Massachusetts",
                                        "South End, Massachusetts",
                                        "Back Bay, Massachusetts",
                                        "West End, Massachusetts",
                                        "Downtown, Massachusetts",
                                        "Brighton, Massachusetts",
                                        "Hyde Park, Massachusetts",
                                        "Dorchester, Massachusetts"
                                    ],
                                    "xaxis": "x",
                                    "y": [
                                        0.8372093023255814,
                                        0.8636363636363636,
                                        0.7894736842105263,
                                        0.8611111111111112,
                                        0.76,
                                        0.6666666666666666,
                                        0.8333333333333334,
                                        0.8333333333333334,
                                        0.75
                                    ],
                                    "yaxis": "y"
                                }
                            ],
                            "layout": {
                                "barmode": "group",
                                "legend": {
                                    "title": {
                                        "text": "variable"
                                    },
                                    "tracegroupgap": 0
                                },
                                "template": {
                                    "data": {
                                        "bar": [
                                            {
                                                "error_x": {
                                                    "color": "#2a3f5f"
                                                },
                                                "error_y": {
                                                    "color": "#2a3f5f"
                                                },
                                                "marker": {
                                                    "line": {
                                                        "color": "#E5ECF6",
                                                        "width": 0.5
                                                    }
                                                },
                                                "type": "bar"
                                            }
                                        ],
                                        "barpolar": [
                                            {
                                                "marker": {
                                                    "line": {
                                                        "color": "#E5ECF6",
                                                        "width": 0.5
                                                    }
                                                },
                                                "type": "barpolar"
                                            }
                                        ],
                                        "carpet": [
                                            {
                                                "aaxis": {
                                                    "endlinecolor": "#2a3f5f",
                                                    "gridcolor": "white",
                                                    "linecolor": "white",
                                                    "minorgridcolor": "white",
                                                    "startlinecolor": "#2a3f5f"
                                                },
                                                "baxis": {
                                                    "endlinecolor": "#2a3f5f",
                                                    "gridcolor": "white",
                                                    "linecolor": "white",
                                                    "minorgridcolor": "white",
                                                    "startlinecolor": "#2a3f5f"
                                                },
                                                "type": "carpet"
                                            }
                                        ],
                                        "choropleth": [
                                            {
                                                "colorbar": {
                                                    "outlinewidth": 0,
                                                    "ticks": ""
                                                },
                                                "type": "choropleth"
                                            }
                                        ],
                                        "contour": [
                                            {
                                                "colorbar": {
                                                    "outlinewidth": 0,
                                                    "ticks": ""
                                                },
                                                "colorscale": [
                                                    [
                                                        0,
                                                        "#0d0887"
                                                    ],
                                                    [
                                                        0.1111111111111111,
                                                        "#46039f"
                                                    ],
                                                    [
                                                        0.2222222222222222,
                                                        "#7201a8"
                                                    ],
                                                    [
                                                        0.3333333333333333,
                                                        "#9c179e"
                                                    ],
                                                    [
                                                        0.4444444444444444,
                                                        "#bd3786"
                                                    ],
                                                    [
                                                        0.5555555555555556,
                                                        "#d8576b"
                                                    ],
                                                    [
                                                        0.6666666666666666,
                                                        "#ed7953"
                                                    ],
                                                    [
                                                        0.7777777777777778,
                                                        "#fb9f3a"
                                                    ],
                                                    [
                                                        0.8888888888888888,
                                                        "#fdca26"
                                                    ],
                                                    [
                                                        1,
                                                        "#f0f921"
                                                    ]
                                                ],
                                                "type": "contour"
                                            }
                                        ],
                                        "contourcarpet": [
                                            {
                                                "colorbar": {
                                                    "outlinewidth": 0,
                                                    "ticks": ""
                                                },
                                                "type": "contourcarpet"
                                            }
                                        ],
                                        "heatmap": [
                                            {
                                                "colorbar": {
                                                    "outlinewidth": 0,
                                                    "ticks": ""
                                                },
                                                "colorscale": [
                                                    [
                                                        0,
                                                        "#0d0887"
                                                    ],
                                                    [
                                                        0.1111111111111111,
                                                        "#46039f"
                                                    ],
                                                    [
                                                        0.2222222222222222,
                                                        "#7201a8"
                                                    ],
                                                    [
                                                        0.3333333333333333,
                                                        "#9c179e"
                                                    ],
                                                    [
                                                        0.4444444444444444,
                                                        "#bd3786"
                                                    ],
                                                    [
                                                        0.5555555555555556,
                                                        "#d8576b"
                                                    ],
                                                    [
                                                        0.6666666666666666,
                                                        "#ed7953"
                                                    ],
                                                    [
                                                        0.7777777777777778,
                                                        "#fb9f3a"
                                                    ],
                                                    [
                                                        0.8888888888888888,
                                                        "#fdca26"
                                                    ],
                                                    [
                                                        1,
                                                        "#f0f921"
                                                    ]
                                                ],
                                                "type": "heatmap"
                                            }
                                        ],
                                        "heatmapgl": [
                                            {
                                                "colorbar": {
                                                    "outlinewidth": 0,
                                                    "ticks": ""
                                                },
                                                "colorscale": [
                                                    [
                                                        0,
                                                        "#0d0887"
                                                    ],
                                                    [
                                                        0.1111111111111111,
                                                        "#46039f"
                                                    ],
                                                    [
                                                        0.2222222222222222,
                                                        "#7201a8"
                                                    ],
                                                    [
                                                        0.3333333333333333,
                                                        "#9c179e"
                                                    ],
                                                    [
                                                        0.4444444444444444,
                                                        "#bd3786"
                                                    ],
                                                    [
                                                        0.5555555555555556,
                                                        "#d8576b"
                                                    ],
                                                    [
                                                        0.6666666666666666,
                                                        "#ed7953"
                                                    ],
                                                    [
                                                        0.7777777777777778,
                                                        "#fb9f3a"
                                                    ],
                                                    [
                                                        0.8888888888888888,
                                                        "#fdca26"
                                                    ],
                                                    [
                                                        1,
                                                        "#f0f921"
                                                    ]
                                                ],
                                                "type": "heatmapgl"
                                            }
                                        ],
                                        "histogram": [
                                            {
                                                "marker": {
                                                    "colorbar": {
                                                        "outlinewidth": 0,
                                                        "ticks": ""
                                                    }
                                                },
                                                "type": "histogram"
                                            }
                                        ],
                                        "histogram2d": [
                                            {
                                                "colorbar": {
                                                    "outlinewidth": 0,
                                                    "ticks": ""
                                                },
                                                "colorscale": [
                                                    [
                                                        0,
                                                        "#0d0887"
                                                    ],
                                                    [
                                                        0.1111111111111111,
                                                        "#46039f"
                                                    ],
                                                    [
                                                        0.2222222222222222,
                                                        "#7201a8"
                                                    ],
                                                    [
                                                        0.3333333333333333,
                                                        "#9c179e"
                                                    ],
                                                    [
                                                        0.4444444444444444,
                                                        "#bd3786"
                                                    ],
                                                    [
                                                        0.5555555555555556,
                                                        "#d8576b"
                                                    ],
                                                    [
                                                        0.6666666666666666,
                                                        "#ed7953"
                                                    ],
                                                    [
                                                        0.7777777777777778,
                                                        "#fb9f3a"
                                                    ],
                                                    [
                                                        0.8888888888888888,
                                                        "#fdca26"
                                                    ],
                                                    [
                                                        1,
                                                        "#f0f921"
                                                    ]
                                                ],
                                                "type": "histogram2d"
                                            }
                                        ],
                                        "histogram2dcontour": [
                                            {
                                                "colorbar": {
                                                    "outlinewidth": 0,
                                                    "ticks": ""
                                                },
                                                "colorscale": [
                                                    [
                                                        0,
                                                        "#0d0887"
                                                    ],
                                                    [
                                                        0.1111111111111111,
                                                        "#46039f"
                                                    ],
                                                    [
                                                        0.2222222222222222,
                                                        "#7201a8"
                                                    ],
                                                    [
                                                        0.3333333333333333,
                                                        "#9c179e"
                                                    ],
                                                    [
                                                        0.4444444444444444,
                                                        "#bd3786"
                                                    ],
                                                    [
                                                        0.5555555555555556,
                                                        "#d8576b"
                                                    ],
                                                    [
                                                        0.6666666666666666,
                                                        "#ed7953"
                                                    ],
                                                    [
                                                        0.7777777777777778,
                                                        "#fb9f3a"
                                                    ],
                                                    [
                                                        0.8888888888888888,
                                                        "#fdca26"
                                                    ],
                                                    [
                                                        1,
                                                        "#f0f921"
                                                    ]
                                                ],
                                                "type": "histogram2dcontour"
                                            }
                                        ],
                                        "mesh3d": [
                                            {
                                                "colorbar": {
                                                    "outlinewidth": 0,
                                                    "ticks": ""
                                                },
                                                "type": "mesh3d"
                                            }
                                        ],
                                        "parcoords": [
                                            {
                                                "line": {
                                                    "colorbar": {
                                                        "outlinewidth": 0,
                                                        "ticks": ""
                                                    }
                                                },
                                                "type": "parcoords"
                                            }
                                        ],
                                        "pie": [
                                            {
                                                "automargin": true,
                                                "type": "pie"
                                            }
                                        ],
                                        "scatter": [
                                            {
                                                "marker": {
                                                    "colorbar": {
                                                        "outlinewidth": 0,
                                                        "ticks": ""
                                                    }
                                                },
                                                "type": "scatter"
                                            }
                                        ],
                                        "scatter3d": [
                                            {
                                                "line": {
                                                    "colorbar": {
                                                        "outlinewidth": 0,
                                                        "ticks": ""
                                                    }
                                                },
                                                "marker": {
                                                    "colorbar": {
                                                        "outlinewidth": 0,
                                                        "ticks": ""
                                                    }
                                                },
                                                "type": "scatter3d"
                                            }
                                        ],
                                        "scattercarpet": [
                                            {
                                                "marker": {
                                                    "colorbar": {
                                                        "outlinewidth": 0,
                                                        "ticks": ""
                                                    }
                                                },
                                                "type": "scattercarpet"
                                            }
                                        ],
                                        "scattergeo": [
                                            {
                                                "marker": {
                                                    "colorbar": {
                                                        "outlinewidth": 0,
                                                        "ticks": ""
                                                    }
                                                },
                                                "type": "scattergeo"
                                            }
                                        ],
                                        "scattergl": [
                                            {
                                                "marker": {
                                                    "colorbar": {
                                                        "outlinewidth": 0,
                                                        "ticks": ""
                                                    }
                                                },
                                                "type": "scattergl"
                                            }
                                        ],
                                        "scattermapbox": [
                                            {
                                                "marker": {
                                                    "colorbar": {
                                                        "outlinewidth": 0,
                                                        "ticks": ""
                                                    }
                                                },
                                                "type": "scattermapbox"
                                            }
                                        ],
                                        "scatterpolar": [
                                            {
                                                "marker": {
                                                    "colorbar": {
                                                        "outlinewidth": 0,
                                                        "ticks": ""
                                                    }
                                                },
                                                "type": "scatterpolar"
                                            }
                                        ],
                                        "scatterpolargl": [
                                            {
                                                "marker": {
                                                    "colorbar": {
                                                        "outlinewidth": 0,
                                                        "ticks": ""
                                                    }
                                                },
                                                "type": "scatterpolargl"
                                            }
                                        ],
                                        "scatterternary": [
                                            {
                                                "marker": {
                                                    "colorbar": {
                                                        "outlinewidth": 0,
                                                        "ticks": ""
                                                    }
                                                },
                                                "type": "scatterternary"
                                            }
                                        ],
                                        "surface": [
                                            {
                                                "colorbar": {
                                                    "outlinewidth": 0,
                                                    "ticks": ""
                                                },
                                                "colorscale": [
                                                    [
                                                        0,
                                                        "#0d0887"
                                                    ],
                                                    [
                                                        0.1111111111111111,
                                                        "#46039f"
                                                    ],
                                                    [
                                                        0.2222222222222222,
                                                        "#7201a8"
                                                    ],
                                                    [
                                                        0.3333333333333333,
                                                        "#9c179e"
                                                    ],
                                                    [
                                                        0.4444444444444444,
                                                        "#bd3786"
                                                    ],
                                                    [
                                                        0.5555555555555556,
                                                        "#d8576b"
                                                    ],
                                                    [
                                                        0.6666666666666666,
                                                        "#ed7953"
                                                    ],
                                                    [
                                                        0.7777777777777778,
                                                        "#fb9f3a"
                                                    ],
                                                    [
                                                        0.8888888888888888,
                                                        "#fdca26"
                                                    ],
                                                    [
                                                        1,
                                                        "#f0f921"
                                                    ]
                                                ],
                                                "type": "surface"
                                            }
                                        ],
                                        "table": [
                                            {
                                                "cells": {
                                                    "fill": {
                                                        "color": "#EBF0F8"
                                                    },
                                                    "line": {
                                                        "color": "white"
                                                    }
                                                },
                                                "header": {
                                                    "fill": {
                                                        "color": "#C8D4E3"
                                                    },
                                                    "line": {
                                                        "color": "white"
                                                    }
                                                },
                                                "type": "table"
                                            }
                                        ]
                                    },
                                    "layout": {
                                        "annotationdefaults": {
                                            "arrowcolor": "#2a3f5f",
                                            "arrowhead": 0,
                                            "arrowwidth": 1
                                        },
                                        "coloraxis": {
                                            "colorbar": {
                                                "outlinewidth": 0,
                                                "ticks": ""
                                            }
                                        },
                                        "colorscale": {
                                            "diverging": [
                                                [
                                                    0,
                                                    "#8e0152"
                                                ],
                                                [
                                                    0.1,
                                                    "#c51b7d"
                                                ],
                                                [
                                                    0.2,
                                                    "#de77ae"
                                                ],
                                                [
                                                    0.3,
                                                    "#f1b6da"
                                                ],
                                                [
                                                    0.4,
                                                    "#fde0ef"
                                                ],
                                                [
                                                    0.5,
                                                    "#f7f7f7"
                                                ],
                                                [
                                                    0.6,
                                                    "#e6f5d0"
                                                ],
                                                [
                                                    0.7,
                                                    "#b8e186"
                                                ],
                                                [
                                                    0.8,
                                                    "#7fbc41"
                                                ],
                                                [
                                                    0.9,
                                                    "#4d9221"
                                                ],
                                                [
                                                    1,
                                                    "#276419"
                                                ]
                                            ],
                                            "sequential": [
                                                [
                                                    0,
                                                    "#0d0887"
                                                ],
                                                [
                                                    0.1111111111111111,
                                                    "#46039f"
                                                ],
                                                [
                                                    0.2222222222222222,
                                                    "#7201a8"
                                                ],
                                                [
                                                    0.3333333333333333,
                                                    "#9c179e"
                                                ],
                                                [
                                                    0.4444444444444444,
                                                    "#bd3786"
                                                ],
                                                [
                                                    0.5555555555555556,
                                                    "#d8576b"
                                                ],
                                                [
                                                    0.6666666666666666,
                                                    "#ed7953"
                                                ],
                                                [
                                                    0.7777777777777778,
                                                    "#fb9f3a"
                                                ],
                                                [
                                                    0.8888888888888888,
                                                    "#fdca26"
                                                ],
                                                [
                                                    1,
                                                    "#f0f921"
                                                ]
                                            ],
                                            "sequentialminus": [
                                                [
                                                    0,
                                                    "#0d0887"
                                                ],
                                                [
                                                    0.1111111111111111,
                                                    "#46039f"
                                                ],
                                                [
                                                    0.2222222222222222,
                                                    "#7201a8"
                                                ],
                                                [
                                                    0.3333333333333333,
                                                    "#9c179e"
                                                ],
                                                [
                                                    0.4444444444444444,
                                                    "#bd3786"
                                                ],
                                                [
                                                    0.5555555555555556,
                                                    "#d8576b"
                                                ],
                                                [
                                                    0.6666666666666666,
                                                    "#ed7953"
                                                ],
                                                [
                                                    0.7777777777777778,
                                                    "#fb9f3a"
                                                ],
                                                [
                                                    0.8888888888888888,
                                                    "#fdca26"
                                                ],
                                                [
                                                    1,
                                                    "#f0f921"
                                                ]
                                            ]
                                        },
                                        "colorway": [
                                            "#636efa",
                                            "#EF553B",
                                            "#00cc96",
                                            "#ab63fa",
                                            "#FFA15A",
                                            "#19d3f3",
                                            "#FF6692",
                                            "#B6E880",
                                            "#FF97FF",
                                            "#FECB52"
                                        ],
                                        "font": {
                                            "color": "#2a3f5f"
                                        },
                                        "geo": {
                                            "bgcolor": "white",
                                            "lakecolor": "white",
                                            "landcolor": "#E5ECF6",
                                            "showlakes": true,
                                            "showland": true,
                                            "subunitcolor": "white"
                                        },
                                        "hoverlabel": {
                                            "align": "left"
                                        },
                                        "hovermode": "closest",
                                        "mapbox": {
                                            "style": "light"
                                        },
                                        "paper_bgcolor": "white",
                                        "plot_bgcolor": "#E5ECF6",
                                        "polar": {
                                            "angularaxis": {
                                                "gridcolor": "white",
                                                "linecolor": "white",
                                                "ticks": ""
                                            },
                                            "bgcolor": "#E5ECF6",
                                            "radialaxis": {
                                                "gridcolor": "white",
                                                "linecolor": "white",
                                                "ticks": ""
                                            }
                                        },
                                        "scene": {
                                            "xaxis": {
                                                "backgroundcolor": "#E5ECF6",
                                                "gridcolor": "white",
                                                "gridwidth": 2,
                                                "linecolor": "white",
                                                "showbackground": true,
                                                "ticks": "",
                                                "zerolinecolor": "white"
                                            },
                                            "yaxis": {
                                                "backgroundcolor": "#E5ECF6",
                                                "gridcolor": "white",
                                                "gridwidth": 2,
                                                "linecolor": "white",
                                                "showbackground": true,
                                                "ticks": "",
                                                "zerolinecolor": "white"
                                            },
                                            "zaxis": {
                                                "backgroundcolor": "#E5ECF6",
                                                "gridcolor": "white",
                                                "gridwidth": 2,
                                                "linecolor": "white",
                                                "showbackground": true,
                                                "ticks": "",
                                                "zerolinecolor": "white"
                                            }
                                        },
                                        "shapedefaults": {
                                            "line": {
                                                "color": "#2a3f5f"
                                            }
                                        },
                                        "ternary": {
                                            "aaxis": {
                                                "gridcolor": "white",
                                                "linecolor": "white",
                                                "ticks": ""
                                            },
                                            "baxis": {
                                                "gridcolor": "white",
                                                "linecolor": "white",
                                                "ticks": ""
                                            },
                                            "bgcolor": "#E5ECF6",
                                            "caxis": {
                                                "gridcolor": "white",
                                                "linecolor": "white",
                                                "ticks": ""
                                            }
                                        },
                                        "title": {
                                            "x": 0.05
                                        },
                                        "xaxis": {
                                            "automargin": true,
                                            "gridcolor": "white",
                                            "linecolor": "white",
                                            "ticks": "",
                                            "title": {
                                                "standoff": 15
                                            },
                                            "zerolinecolor": "white",
                                            "zerolinewidth": 2
                                        },
                                        "yaxis": {
                                            "automargin": true,
                                            "gridcolor": "white",
                                            "linecolor": "white",
                                            "ticks": "",
                                            "title": {
                                                "standoff": 15
                                            },
                                            "zerolinecolor": "white",
                                            "zerolinewidth": 2
                                        }
                                    }
                                },
                                "title": {
                                    "text": "Percentage frequency of Each Venue Category in Cluster 2"
                                },
                                "xaxis": {
                                    "anchor": "y",
                                    "domain": [
                                        0,
                                        1
                                    ],
                                    "title": {
                                        "text": "Neighborhood"
                                    }
                                },
                                "yaxis": {
                                    "anchor": "x",
                                    "domain": [
                                        0,
                                        1
                                    ],
                                    "title": {
                                        "text": "value"
                                    }
                                }
                            }
                        },
                        "text/html": "<div>\n        \n        \n            <div id=\"e0278a5f-1705-4e6b-9e56-f1499dfa8f2a\" class=\"plotly-graph-div\" style=\"height:525px; width:100%;\"></div>\n            <script type=\"text/javascript\">\n                require([\"plotly\"], function(Plotly) {\n                    window.PLOTLYENV=window.PLOTLYENV || {};\n                    \n                if (document.getElementById(\"e0278a5f-1705-4e6b-9e56-f1499dfa8f2a\")) {\n                    Plotly.newPlot(\n                        'e0278a5f-1705-4e6b-9e56-f1499dfa8f2a',\n                        [{\"alignmentgroup\": \"True\", \"hovertemplate\": \"variable=Gym<br>Neighborhood=%{x}<br>value=%{y}<extra></extra>\", \"legendgroup\": \"Gym\", \"marker\": {\"color\": \"#636efa\"}, \"name\": \"Gym\", \"offsetgroup\": \"Gym\", \"orientation\": \"v\", \"showlegend\": true, \"textposition\": \"auto\", \"type\": \"bar\", \"x\": [\"Leather District, Massachusetts\", \"Chinatown, Massachusetts\", \"South End, Massachusetts\", \"Back Bay, Massachusetts\", \"West End, Massachusetts\", \"Downtown, Massachusetts\", \"Brighton, Massachusetts\", \"Hyde Park, Massachusetts\", \"Dorchester, Massachusetts\"], \"xaxis\": \"x\", \"y\": [0.13953488372093023, 0.09090909090909091, 0.10526315789473684, 0.1111111111111111, 0.2, 0.16666666666666666, 0.08333333333333333, 0.16666666666666666, 0.25], \"yaxis\": \"y\"}, {\"alignmentgroup\": \"True\", \"hovertemplate\": \"variable=Park<br>Neighborhood=%{x}<br>value=%{y}<extra></extra>\", \"legendgroup\": \"Park\", \"marker\": {\"color\": \"#EF553B\"}, \"name\": \"Park\", \"offsetgroup\": \"Park\", \"orientation\": \"v\", \"showlegend\": true, \"textposition\": \"auto\", \"type\": \"bar\", \"x\": [\"Leather District, Massachusetts\", \"Chinatown, Massachusetts\", \"South End, Massachusetts\", \"Back Bay, Massachusetts\", \"West End, Massachusetts\", \"Downtown, Massachusetts\", \"Brighton, Massachusetts\", \"Hyde Park, Massachusetts\", \"Dorchester, Massachusetts\"], \"xaxis\": \"x\", \"y\": [0.023255813953488372, 0.045454545454545456, 0.10526315789473684, 0.027777777777777776, 0.04, 0.16666666666666666, 0.08333333333333333, 0.0, 0.0], \"yaxis\": \"y\"}, {\"alignmentgroup\": \"True\", \"hovertemplate\": \"variable=Restaurant<br>Neighborhood=%{x}<br>value=%{y}<extra></extra>\", \"legendgroup\": \"Restaurant\", \"marker\": {\"color\": \"#00cc96\"}, \"name\": \"Restaurant\", \"offsetgroup\": \"Restaurant\", \"orientation\": \"v\", \"showlegend\": true, \"textposition\": \"auto\", \"type\": \"bar\", \"x\": [\"Leather District, Massachusetts\", \"Chinatown, Massachusetts\", \"South End, Massachusetts\", \"Back Bay, Massachusetts\", \"West End, Massachusetts\", \"Downtown, Massachusetts\", \"Brighton, Massachusetts\", \"Hyde Park, Massachusetts\", \"Dorchester, Massachusetts\"], \"xaxis\": \"x\", \"y\": [0.8372093023255814, 0.8636363636363636, 0.7894736842105263, 0.8611111111111112, 0.76, 0.6666666666666666, 0.8333333333333334, 0.8333333333333334, 0.75], \"yaxis\": \"y\"}],\n                        {\"barmode\": \"group\", \"legend\": {\"title\": {\"text\": \"variable\"}, \"tracegroupgap\": 0}, \"template\": {\"data\": {\"bar\": [{\"error_x\": {\"color\": \"#2a3f5f\"}, \"error_y\": {\"color\": \"#2a3f5f\"}, \"marker\": {\"line\": {\"color\": \"#E5ECF6\", \"width\": 0.5}}, \"type\": \"bar\"}], \"barpolar\": [{\"marker\": {\"line\": {\"color\": \"#E5ECF6\", \"width\": 0.5}}, \"type\": \"barpolar\"}], \"carpet\": [{\"aaxis\": {\"endlinecolor\": \"#2a3f5f\", \"gridcolor\": \"white\", \"linecolor\": \"white\", \"minorgridcolor\": \"white\", \"startlinecolor\": \"#2a3f5f\"}, \"baxis\": {\"endlinecolor\": \"#2a3f5f\", \"gridcolor\": \"white\", \"linecolor\": \"white\", \"minorgridcolor\": \"white\", \"startlinecolor\": \"#2a3f5f\"}, \"type\": \"carpet\"}], \"choropleth\": [{\"colorbar\": {\"outlinewidth\": 0, \"ticks\": \"\"}, \"type\": \"choropleth\"}], \"contour\": [{\"colorbar\": {\"outlinewidth\": 0, \"ticks\": \"\"}, \"colorscale\": [[0.0, \"#0d0887\"], [0.1111111111111111, \"#46039f\"], [0.2222222222222222, \"#7201a8\"], [0.3333333333333333, \"#9c179e\"], [0.4444444444444444, \"#bd3786\"], [0.5555555555555556, \"#d8576b\"], [0.6666666666666666, \"#ed7953\"], [0.7777777777777778, \"#fb9f3a\"], [0.8888888888888888, \"#fdca26\"], [1.0, \"#f0f921\"]], \"type\": \"contour\"}], \"contourcarpet\": [{\"colorbar\": {\"outlinewidth\": 0, \"ticks\": \"\"}, \"type\": \"contourcarpet\"}], \"heatmap\": [{\"colorbar\": {\"outlinewidth\": 0, \"ticks\": \"\"}, \"colorscale\": [[0.0, \"#0d0887\"], [0.1111111111111111, \"#46039f\"], [0.2222222222222222, \"#7201a8\"], [0.3333333333333333, \"#9c179e\"], [0.4444444444444444, \"#bd3786\"], [0.5555555555555556, \"#d8576b\"], [0.6666666666666666, \"#ed7953\"], [0.7777777777777778, \"#fb9f3a\"], [0.8888888888888888, \"#fdca26\"], [1.0, \"#f0f921\"]], \"type\": \"heatmap\"}], \"heatmapgl\": [{\"colorbar\": {\"outlinewidth\": 0, \"ticks\": \"\"}, \"colorscale\": [[0.0, \"#0d0887\"], [0.1111111111111111, \"#46039f\"], [0.2222222222222222, \"#7201a8\"], [0.3333333333333333, \"#9c179e\"], [0.4444444444444444, \"#bd3786\"], [0.5555555555555556, \"#d8576b\"], [0.6666666666666666, \"#ed7953\"], [0.7777777777777778, \"#fb9f3a\"], [0.8888888888888888, \"#fdca26\"], [1.0, \"#f0f921\"]], \"type\": \"heatmapgl\"}], \"histogram\": [{\"marker\": {\"colorbar\": {\"outlinewidth\": 0, \"ticks\": \"\"}}, \"type\": \"histogram\"}], \"histogram2d\": [{\"colorbar\": {\"outlinewidth\": 0, \"ticks\": \"\"}, \"colorscale\": [[0.0, \"#0d0887\"], [0.1111111111111111, \"#46039f\"], [0.2222222222222222, \"#7201a8\"], [0.3333333333333333, \"#9c179e\"], [0.4444444444444444, \"#bd3786\"], [0.5555555555555556, \"#d8576b\"], [0.6666666666666666, \"#ed7953\"], [0.7777777777777778, \"#fb9f3a\"], [0.8888888888888888, \"#fdca26\"], [1.0, \"#f0f921\"]], \"type\": \"histogram2d\"}], \"histogram2dcontour\": [{\"colorbar\": {\"outlinewidth\": 0, \"ticks\": \"\"}, \"colorscale\": [[0.0, \"#0d0887\"], [0.1111111111111111, \"#46039f\"], [0.2222222222222222, \"#7201a8\"], [0.3333333333333333, \"#9c179e\"], [0.4444444444444444, \"#bd3786\"], [0.5555555555555556, \"#d8576b\"], [0.6666666666666666, \"#ed7953\"], [0.7777777777777778, \"#fb9f3a\"], [0.8888888888888888, \"#fdca26\"], [1.0, \"#f0f921\"]], \"type\": \"histogram2dcontour\"}], \"mesh3d\": [{\"colorbar\": {\"outlinewidth\": 0, \"ticks\": \"\"}, \"type\": \"mesh3d\"}], \"parcoords\": [{\"line\": {\"colorbar\": {\"outlinewidth\": 0, \"ticks\": \"\"}}, \"type\": \"parcoords\"}], \"pie\": [{\"automargin\": true, \"type\": \"pie\"}], \"scatter\": [{\"marker\": {\"colorbar\": {\"outlinewidth\": 0, \"ticks\": \"\"}}, \"type\": \"scatter\"}], \"scatter3d\": [{\"line\": {\"colorbar\": {\"outlinewidth\": 0, \"ticks\": \"\"}}, \"marker\": {\"colorbar\": {\"outlinewidth\": 0, \"ticks\": \"\"}}, \"type\": \"scatter3d\"}], \"scattercarpet\": [{\"marker\": {\"colorbar\": {\"outlinewidth\": 0, \"ticks\": \"\"}}, \"type\": \"scattercarpet\"}], \"scattergeo\": [{\"marker\": {\"colorbar\": {\"outlinewidth\": 0, \"ticks\": \"\"}}, \"type\": \"scattergeo\"}], \"scattergl\": [{\"marker\": {\"colorbar\": {\"outlinewidth\": 0, \"ticks\": \"\"}}, \"type\": \"scattergl\"}], \"scattermapbox\": [{\"marker\": {\"colorbar\": {\"outlinewidth\": 0, \"ticks\": \"\"}}, \"type\": \"scattermapbox\"}], \"scatterpolar\": [{\"marker\": {\"colorbar\": {\"outlinewidth\": 0, \"ticks\": \"\"}}, \"type\": \"scatterpolar\"}], \"scatterpolargl\": [{\"marker\": {\"colorbar\": {\"outlinewidth\": 0, \"ticks\": \"\"}}, \"type\": \"scatterpolargl\"}], \"scatterternary\": [{\"marker\": {\"colorbar\": {\"outlinewidth\": 0, \"ticks\": \"\"}}, \"type\": \"scatterternary\"}], \"surface\": [{\"colorbar\": {\"outlinewidth\": 0, \"ticks\": \"\"}, \"colorscale\": [[0.0, \"#0d0887\"], [0.1111111111111111, \"#46039f\"], [0.2222222222222222, \"#7201a8\"], [0.3333333333333333, \"#9c179e\"], [0.4444444444444444, \"#bd3786\"], [0.5555555555555556, \"#d8576b\"], [0.6666666666666666, \"#ed7953\"], [0.7777777777777778, \"#fb9f3a\"], [0.8888888888888888, \"#fdca26\"], [1.0, \"#f0f921\"]], \"type\": \"surface\"}], \"table\": [{\"cells\": {\"fill\": {\"color\": \"#EBF0F8\"}, \"line\": {\"color\": \"white\"}}, \"header\": {\"fill\": {\"color\": \"#C8D4E3\"}, \"line\": {\"color\": \"white\"}}, \"type\": \"table\"}]}, \"layout\": {\"annotationdefaults\": {\"arrowcolor\": \"#2a3f5f\", \"arrowhead\": 0, \"arrowwidth\": 1}, \"coloraxis\": {\"colorbar\": {\"outlinewidth\": 0, \"ticks\": \"\"}}, \"colorscale\": {\"diverging\": [[0, \"#8e0152\"], [0.1, \"#c51b7d\"], [0.2, \"#de77ae\"], [0.3, \"#f1b6da\"], [0.4, \"#fde0ef\"], [0.5, \"#f7f7f7\"], [0.6, \"#e6f5d0\"], [0.7, \"#b8e186\"], [0.8, \"#7fbc41\"], [0.9, \"#4d9221\"], [1, \"#276419\"]], \"sequential\": [[0.0, \"#0d0887\"], [0.1111111111111111, \"#46039f\"], [0.2222222222222222, \"#7201a8\"], [0.3333333333333333, \"#9c179e\"], [0.4444444444444444, \"#bd3786\"], [0.5555555555555556, \"#d8576b\"], [0.6666666666666666, \"#ed7953\"], [0.7777777777777778, \"#fb9f3a\"], [0.8888888888888888, \"#fdca26\"], [1.0, \"#f0f921\"]], \"sequentialminus\": [[0.0, \"#0d0887\"], [0.1111111111111111, \"#46039f\"], [0.2222222222222222, \"#7201a8\"], [0.3333333333333333, \"#9c179e\"], [0.4444444444444444, \"#bd3786\"], [0.5555555555555556, \"#d8576b\"], [0.6666666666666666, \"#ed7953\"], [0.7777777777777778, \"#fb9f3a\"], [0.8888888888888888, \"#fdca26\"], [1.0, \"#f0f921\"]]}, \"colorway\": [\"#636efa\", \"#EF553B\", \"#00cc96\", \"#ab63fa\", \"#FFA15A\", \"#19d3f3\", \"#FF6692\", \"#B6E880\", \"#FF97FF\", \"#FECB52\"], \"font\": {\"color\": \"#2a3f5f\"}, \"geo\": {\"bgcolor\": \"white\", \"lakecolor\": \"white\", \"landcolor\": \"#E5ECF6\", \"showlakes\": true, \"showland\": true, \"subunitcolor\": \"white\"}, \"hoverlabel\": {\"align\": \"left\"}, \"hovermode\": \"closest\", \"mapbox\": {\"style\": \"light\"}, \"paper_bgcolor\": \"white\", \"plot_bgcolor\": \"#E5ECF6\", \"polar\": {\"angularaxis\": {\"gridcolor\": \"white\", \"linecolor\": \"white\", \"ticks\": \"\"}, \"bgcolor\": \"#E5ECF6\", \"radialaxis\": {\"gridcolor\": \"white\", \"linecolor\": \"white\", \"ticks\": \"\"}}, \"scene\": {\"xaxis\": {\"backgroundcolor\": \"#E5ECF6\", \"gridcolor\": \"white\", \"gridwidth\": 2, \"linecolor\": \"white\", \"showbackground\": true, \"ticks\": \"\", \"zerolinecolor\": \"white\"}, \"yaxis\": {\"backgroundcolor\": \"#E5ECF6\", \"gridcolor\": \"white\", \"gridwidth\": 2, \"linecolor\": \"white\", \"showbackground\": true, \"ticks\": \"\", \"zerolinecolor\": \"white\"}, \"zaxis\": {\"backgroundcolor\": \"#E5ECF6\", \"gridcolor\": \"white\", \"gridwidth\": 2, \"linecolor\": \"white\", \"showbackground\": true, \"ticks\": \"\", \"zerolinecolor\": \"white\"}}, \"shapedefaults\": {\"line\": {\"color\": \"#2a3f5f\"}}, \"ternary\": {\"aaxis\": {\"gridcolor\": \"white\", \"linecolor\": \"white\", \"ticks\": \"\"}, \"baxis\": {\"gridcolor\": \"white\", \"linecolor\": \"white\", \"ticks\": \"\"}, \"bgcolor\": \"#E5ECF6\", \"caxis\": {\"gridcolor\": \"white\", \"linecolor\": \"white\", \"ticks\": \"\"}}, \"title\": {\"x\": 0.05}, \"xaxis\": {\"automargin\": true, \"gridcolor\": \"white\", \"linecolor\": \"white\", \"ticks\": \"\", \"title\": {\"standoff\": 15}, \"zerolinecolor\": \"white\", \"zerolinewidth\": 2}, \"yaxis\": {\"automargin\": true, \"gridcolor\": \"white\", \"linecolor\": \"white\", \"ticks\": \"\", \"title\": {\"standoff\": 15}, \"zerolinecolor\": \"white\", \"zerolinewidth\": 2}}}, \"title\": {\"text\": \"Percentage frequency of Each Venue Category in Cluster 2\"}, \"xaxis\": {\"anchor\": \"y\", \"domain\": [0.0, 1.0], \"title\": {\"text\": \"Neighborhood\"}}, \"yaxis\": {\"anchor\": \"x\", \"domain\": [0.0, 1.0], \"title\": {\"text\": \"value\"}}},\n                        {\"responsive\": true}\n                    ).then(function(){\n                            \nvar gd = document.getElementById('e0278a5f-1705-4e6b-9e56-f1499dfa8f2a');\nvar x = new MutationObserver(function (mutations, observer) {{\n        var display = window.getComputedStyle(gd).display;\n        if (!display || display === 'none') {{\n            console.log([gd, 'removed!']);\n            Plotly.purge(gd);\n            observer.disconnect();\n        }}\n}});\n\n// Listen for the removal of the full notebook cells\nvar notebookContainer = gd.closest('#notebook-container');\nif (notebookContainer) {{\n    x.observe(notebookContainer, {childList: true});\n}}\n\n// Listen for the clearing of the current output cell\nvar outputEl = gd.closest('.output');\nif (outputEl) {{\n    x.observe(outputEl, {childList: true});\n}}\n\n                        })\n                };\n                });\n            </script>\n        </div>"
                    },
                    "metadata": {}
                }
            ]
        },
        {
            "metadata": {},
            "cell_type": "markdown",
            "source": "CLUSTER 3:"
        },
        {
            "metadata": {},
            "cell_type": "code",
            "source": "#Cluster 3\n#create dataframe for graphing\ncluster3_df = pd.DataFrame(columns = ['Neighborhood','Gym', 'Park', 'Restaurant'])\ncluster3_df['Gym'] = Cluster3['Gym']\ncluster3_df['Park'] = Cluster3['Park']\ncluster3_df['Restaurant'] = Cluster3['Restaurant']\ncluster3_df['Neighborhood'] = Cluster3['Address']\n\n\n#make graph\nfig3 = px.bar(cluster3_df, x = \"Neighborhood\", y = ['Gym', 'Park', 'Restaurant'], barmode= 'group', title = 'Percentage frequency of Each Venue Category in Cluster 3')\nfig3.show()",
            "execution_count": 146,
            "outputs": [
                {
                    "output_type": "display_data",
                    "data": {
                        "application/vnd.plotly.v1+json": {
                            "config": {
                                "plotlyServerURL": "https://plot.ly"
                            },
                            "data": [
                                {
                                    "alignmentgroup": "True",
                                    "hovertemplate": "variable=Gym<br>Neighborhood=%{x}<br>value=%{y}<extra></extra>",
                                    "legendgroup": "Gym",
                                    "marker": {
                                        "color": "#636efa"
                                    },
                                    "name": "Gym",
                                    "offsetgroup": "Gym",
                                    "orientation": "v",
                                    "showlegend": true,
                                    "textposition": "auto",
                                    "type": "bar",
                                    "x": [
                                        "Roslindale, Massachusetts",
                                        "Mission Hill, Massachusetts",
                                        "East Boston, Massachusetts",
                                        "Beacon Hill, Massachusetts",
                                        "Fenway, Massachusetts",
                                        "Mattapan, Massachusetts",
                                        "Allston, Massachusetts"
                                    ],
                                    "xaxis": "x",
                                    "y": [
                                        0,
                                        0,
                                        0,
                                        0,
                                        0.06666666666666667,
                                        0,
                                        0.02702702702702703
                                    ],
                                    "yaxis": "y"
                                },
                                {
                                    "alignmentgroup": "True",
                                    "hovertemplate": "variable=Park<br>Neighborhood=%{x}<br>value=%{y}<extra></extra>",
                                    "legendgroup": "Park",
                                    "marker": {
                                        "color": "#EF553B"
                                    },
                                    "name": "Park",
                                    "offsetgroup": "Park",
                                    "orientation": "v",
                                    "showlegend": true,
                                    "textposition": "auto",
                                    "type": "bar",
                                    "x": [
                                        "Roslindale, Massachusetts",
                                        "Mission Hill, Massachusetts",
                                        "East Boston, Massachusetts",
                                        "Beacon Hill, Massachusetts",
                                        "Fenway, Massachusetts",
                                        "Mattapan, Massachusetts",
                                        "Allston, Massachusetts"
                                    ],
                                    "xaxis": "x",
                                    "y": [
                                        0,
                                        0.1,
                                        0.07142857142857142,
                                        0.0625,
                                        0,
                                        0,
                                        0
                                    ],
                                    "yaxis": "y"
                                },
                                {
                                    "alignmentgroup": "True",
                                    "hovertemplate": "variable=Restaurant<br>Neighborhood=%{x}<br>value=%{y}<extra></extra>",
                                    "legendgroup": "Restaurant",
                                    "marker": {
                                        "color": "#00cc96"
                                    },
                                    "name": "Restaurant",
                                    "offsetgroup": "Restaurant",
                                    "orientation": "v",
                                    "showlegend": true,
                                    "textposition": "auto",
                                    "type": "bar",
                                    "x": [
                                        "Roslindale, Massachusetts",
                                        "Mission Hill, Massachusetts",
                                        "East Boston, Massachusetts",
                                        "Beacon Hill, Massachusetts",
                                        "Fenway, Massachusetts",
                                        "Mattapan, Massachusetts",
                                        "Allston, Massachusetts"
                                    ],
                                    "xaxis": "x",
                                    "y": [
                                        1,
                                        0.9,
                                        0.9285714285714286,
                                        0.9375,
                                        0.9333333333333333,
                                        1,
                                        0.972972972972973
                                    ],
                                    "yaxis": "y"
                                }
                            ],
                            "layout": {
                                "barmode": "group",
                                "legend": {
                                    "title": {
                                        "text": "variable"
                                    },
                                    "tracegroupgap": 0
                                },
                                "template": {
                                    "data": {
                                        "bar": [
                                            {
                                                "error_x": {
                                                    "color": "#2a3f5f"
                                                },
                                                "error_y": {
                                                    "color": "#2a3f5f"
                                                },
                                                "marker": {
                                                    "line": {
                                                        "color": "#E5ECF6",
                                                        "width": 0.5
                                                    }
                                                },
                                                "type": "bar"
                                            }
                                        ],
                                        "barpolar": [
                                            {
                                                "marker": {
                                                    "line": {
                                                        "color": "#E5ECF6",
                                                        "width": 0.5
                                                    }
                                                },
                                                "type": "barpolar"
                                            }
                                        ],
                                        "carpet": [
                                            {
                                                "aaxis": {
                                                    "endlinecolor": "#2a3f5f",
                                                    "gridcolor": "white",
                                                    "linecolor": "white",
                                                    "minorgridcolor": "white",
                                                    "startlinecolor": "#2a3f5f"
                                                },
                                                "baxis": {
                                                    "endlinecolor": "#2a3f5f",
                                                    "gridcolor": "white",
                                                    "linecolor": "white",
                                                    "minorgridcolor": "white",
                                                    "startlinecolor": "#2a3f5f"
                                                },
                                                "type": "carpet"
                                            }
                                        ],
                                        "choropleth": [
                                            {
                                                "colorbar": {
                                                    "outlinewidth": 0,
                                                    "ticks": ""
                                                },
                                                "type": "choropleth"
                                            }
                                        ],
                                        "contour": [
                                            {
                                                "colorbar": {
                                                    "outlinewidth": 0,
                                                    "ticks": ""
                                                },
                                                "colorscale": [
                                                    [
                                                        0,
                                                        "#0d0887"
                                                    ],
                                                    [
                                                        0.1111111111111111,
                                                        "#46039f"
                                                    ],
                                                    [
                                                        0.2222222222222222,
                                                        "#7201a8"
                                                    ],
                                                    [
                                                        0.3333333333333333,
                                                        "#9c179e"
                                                    ],
                                                    [
                                                        0.4444444444444444,
                                                        "#bd3786"
                                                    ],
                                                    [
                                                        0.5555555555555556,
                                                        "#d8576b"
                                                    ],
                                                    [
                                                        0.6666666666666666,
                                                        "#ed7953"
                                                    ],
                                                    [
                                                        0.7777777777777778,
                                                        "#fb9f3a"
                                                    ],
                                                    [
                                                        0.8888888888888888,
                                                        "#fdca26"
                                                    ],
                                                    [
                                                        1,
                                                        "#f0f921"
                                                    ]
                                                ],
                                                "type": "contour"
                                            }
                                        ],
                                        "contourcarpet": [
                                            {
                                                "colorbar": {
                                                    "outlinewidth": 0,
                                                    "ticks": ""
                                                },
                                                "type": "contourcarpet"
                                            }
                                        ],
                                        "heatmap": [
                                            {
                                                "colorbar": {
                                                    "outlinewidth": 0,
                                                    "ticks": ""
                                                },
                                                "colorscale": [
                                                    [
                                                        0,
                                                        "#0d0887"
                                                    ],
                                                    [
                                                        0.1111111111111111,
                                                        "#46039f"
                                                    ],
                                                    [
                                                        0.2222222222222222,
                                                        "#7201a8"
                                                    ],
                                                    [
                                                        0.3333333333333333,
                                                        "#9c179e"
                                                    ],
                                                    [
                                                        0.4444444444444444,
                                                        "#bd3786"
                                                    ],
                                                    [
                                                        0.5555555555555556,
                                                        "#d8576b"
                                                    ],
                                                    [
                                                        0.6666666666666666,
                                                        "#ed7953"
                                                    ],
                                                    [
                                                        0.7777777777777778,
                                                        "#fb9f3a"
                                                    ],
                                                    [
                                                        0.8888888888888888,
                                                        "#fdca26"
                                                    ],
                                                    [
                                                        1,
                                                        "#f0f921"
                                                    ]
                                                ],
                                                "type": "heatmap"
                                            }
                                        ],
                                        "heatmapgl": [
                                            {
                                                "colorbar": {
                                                    "outlinewidth": 0,
                                                    "ticks": ""
                                                },
                                                "colorscale": [
                                                    [
                                                        0,
                                                        "#0d0887"
                                                    ],
                                                    [
                                                        0.1111111111111111,
                                                        "#46039f"
                                                    ],
                                                    [
                                                        0.2222222222222222,
                                                        "#7201a8"
                                                    ],
                                                    [
                                                        0.3333333333333333,
                                                        "#9c179e"
                                                    ],
                                                    [
                                                        0.4444444444444444,
                                                        "#bd3786"
                                                    ],
                                                    [
                                                        0.5555555555555556,
                                                        "#d8576b"
                                                    ],
                                                    [
                                                        0.6666666666666666,
                                                        "#ed7953"
                                                    ],
                                                    [
                                                        0.7777777777777778,
                                                        "#fb9f3a"
                                                    ],
                                                    [
                                                        0.8888888888888888,
                                                        "#fdca26"
                                                    ],
                                                    [
                                                        1,
                                                        "#f0f921"
                                                    ]
                                                ],
                                                "type": "heatmapgl"
                                            }
                                        ],
                                        "histogram": [
                                            {
                                                "marker": {
                                                    "colorbar": {
                                                        "outlinewidth": 0,
                                                        "ticks": ""
                                                    }
                                                },
                                                "type": "histogram"
                                            }
                                        ],
                                        "histogram2d": [
                                            {
                                                "colorbar": {
                                                    "outlinewidth": 0,
                                                    "ticks": ""
                                                },
                                                "colorscale": [
                                                    [
                                                        0,
                                                        "#0d0887"
                                                    ],
                                                    [
                                                        0.1111111111111111,
                                                        "#46039f"
                                                    ],
                                                    [
                                                        0.2222222222222222,
                                                        "#7201a8"
                                                    ],
                                                    [
                                                        0.3333333333333333,
                                                        "#9c179e"
                                                    ],
                                                    [
                                                        0.4444444444444444,
                                                        "#bd3786"
                                                    ],
                                                    [
                                                        0.5555555555555556,
                                                        "#d8576b"
                                                    ],
                                                    [
                                                        0.6666666666666666,
                                                        "#ed7953"
                                                    ],
                                                    [
                                                        0.7777777777777778,
                                                        "#fb9f3a"
                                                    ],
                                                    [
                                                        0.8888888888888888,
                                                        "#fdca26"
                                                    ],
                                                    [
                                                        1,
                                                        "#f0f921"
                                                    ]
                                                ],
                                                "type": "histogram2d"
                                            }
                                        ],
                                        "histogram2dcontour": [
                                            {
                                                "colorbar": {
                                                    "outlinewidth": 0,
                                                    "ticks": ""
                                                },
                                                "colorscale": [
                                                    [
                                                        0,
                                                        "#0d0887"
                                                    ],
                                                    [
                                                        0.1111111111111111,
                                                        "#46039f"
                                                    ],
                                                    [
                                                        0.2222222222222222,
                                                        "#7201a8"
                                                    ],
                                                    [
                                                        0.3333333333333333,
                                                        "#9c179e"
                                                    ],
                                                    [
                                                        0.4444444444444444,
                                                        "#bd3786"
                                                    ],
                                                    [
                                                        0.5555555555555556,
                                                        "#d8576b"
                                                    ],
                                                    [
                                                        0.6666666666666666,
                                                        "#ed7953"
                                                    ],
                                                    [
                                                        0.7777777777777778,
                                                        "#fb9f3a"
                                                    ],
                                                    [
                                                        0.8888888888888888,
                                                        "#fdca26"
                                                    ],
                                                    [
                                                        1,
                                                        "#f0f921"
                                                    ]
                                                ],
                                                "type": "histogram2dcontour"
                                            }
                                        ],
                                        "mesh3d": [
                                            {
                                                "colorbar": {
                                                    "outlinewidth": 0,
                                                    "ticks": ""
                                                },
                                                "type": "mesh3d"
                                            }
                                        ],
                                        "parcoords": [
                                            {
                                                "line": {
                                                    "colorbar": {
                                                        "outlinewidth": 0,
                                                        "ticks": ""
                                                    }
                                                },
                                                "type": "parcoords"
                                            }
                                        ],
                                        "pie": [
                                            {
                                                "automargin": true,
                                                "type": "pie"
                                            }
                                        ],
                                        "scatter": [
                                            {
                                                "marker": {
                                                    "colorbar": {
                                                        "outlinewidth": 0,
                                                        "ticks": ""
                                                    }
                                                },
                                                "type": "scatter"
                                            }
                                        ],
                                        "scatter3d": [
                                            {
                                                "line": {
                                                    "colorbar": {
                                                        "outlinewidth": 0,
                                                        "ticks": ""
                                                    }
                                                },
                                                "marker": {
                                                    "colorbar": {
                                                        "outlinewidth": 0,
                                                        "ticks": ""
                                                    }
                                                },
                                                "type": "scatter3d"
                                            }
                                        ],
                                        "scattercarpet": [
                                            {
                                                "marker": {
                                                    "colorbar": {
                                                        "outlinewidth": 0,
                                                        "ticks": ""
                                                    }
                                                },
                                                "type": "scattercarpet"
                                            }
                                        ],
                                        "scattergeo": [
                                            {
                                                "marker": {
                                                    "colorbar": {
                                                        "outlinewidth": 0,
                                                        "ticks": ""
                                                    }
                                                },
                                                "type": "scattergeo"
                                            }
                                        ],
                                        "scattergl": [
                                            {
                                                "marker": {
                                                    "colorbar": {
                                                        "outlinewidth": 0,
                                                        "ticks": ""
                                                    }
                                                },
                                                "type": "scattergl"
                                            }
                                        ],
                                        "scattermapbox": [
                                            {
                                                "marker": {
                                                    "colorbar": {
                                                        "outlinewidth": 0,
                                                        "ticks": ""
                                                    }
                                                },
                                                "type": "scattermapbox"
                                            }
                                        ],
                                        "scatterpolar": [
                                            {
                                                "marker": {
                                                    "colorbar": {
                                                        "outlinewidth": 0,
                                                        "ticks": ""
                                                    }
                                                },
                                                "type": "scatterpolar"
                                            }
                                        ],
                                        "scatterpolargl": [
                                            {
                                                "marker": {
                                                    "colorbar": {
                                                        "outlinewidth": 0,
                                                        "ticks": ""
                                                    }
                                                },
                                                "type": "scatterpolargl"
                                            }
                                        ],
                                        "scatterternary": [
                                            {
                                                "marker": {
                                                    "colorbar": {
                                                        "outlinewidth": 0,
                                                        "ticks": ""
                                                    }
                                                },
                                                "type": "scatterternary"
                                            }
                                        ],
                                        "surface": [
                                            {
                                                "colorbar": {
                                                    "outlinewidth": 0,
                                                    "ticks": ""
                                                },
                                                "colorscale": [
                                                    [
                                                        0,
                                                        "#0d0887"
                                                    ],
                                                    [
                                                        0.1111111111111111,
                                                        "#46039f"
                                                    ],
                                                    [
                                                        0.2222222222222222,
                                                        "#7201a8"
                                                    ],
                                                    [
                                                        0.3333333333333333,
                                                        "#9c179e"
                                                    ],
                                                    [
                                                        0.4444444444444444,
                                                        "#bd3786"
                                                    ],
                                                    [
                                                        0.5555555555555556,
                                                        "#d8576b"
                                                    ],
                                                    [
                                                        0.6666666666666666,
                                                        "#ed7953"
                                                    ],
                                                    [
                                                        0.7777777777777778,
                                                        "#fb9f3a"
                                                    ],
                                                    [
                                                        0.8888888888888888,
                                                        "#fdca26"
                                                    ],
                                                    [
                                                        1,
                                                        "#f0f921"
                                                    ]
                                                ],
                                                "type": "surface"
                                            }
                                        ],
                                        "table": [
                                            {
                                                "cells": {
                                                    "fill": {
                                                        "color": "#EBF0F8"
                                                    },
                                                    "line": {
                                                        "color": "white"
                                                    }
                                                },
                                                "header": {
                                                    "fill": {
                                                        "color": "#C8D4E3"
                                                    },
                                                    "line": {
                                                        "color": "white"
                                                    }
                                                },
                                                "type": "table"
                                            }
                                        ]
                                    },
                                    "layout": {
                                        "annotationdefaults": {
                                            "arrowcolor": "#2a3f5f",
                                            "arrowhead": 0,
                                            "arrowwidth": 1
                                        },
                                        "coloraxis": {
                                            "colorbar": {
                                                "outlinewidth": 0,
                                                "ticks": ""
                                            }
                                        },
                                        "colorscale": {
                                            "diverging": [
                                                [
                                                    0,
                                                    "#8e0152"
                                                ],
                                                [
                                                    0.1,
                                                    "#c51b7d"
                                                ],
                                                [
                                                    0.2,
                                                    "#de77ae"
                                                ],
                                                [
                                                    0.3,
                                                    "#f1b6da"
                                                ],
                                                [
                                                    0.4,
                                                    "#fde0ef"
                                                ],
                                                [
                                                    0.5,
                                                    "#f7f7f7"
                                                ],
                                                [
                                                    0.6,
                                                    "#e6f5d0"
                                                ],
                                                [
                                                    0.7,
                                                    "#b8e186"
                                                ],
                                                [
                                                    0.8,
                                                    "#7fbc41"
                                                ],
                                                [
                                                    0.9,
                                                    "#4d9221"
                                                ],
                                                [
                                                    1,
                                                    "#276419"
                                                ]
                                            ],
                                            "sequential": [
                                                [
                                                    0,
                                                    "#0d0887"
                                                ],
                                                [
                                                    0.1111111111111111,
                                                    "#46039f"
                                                ],
                                                [
                                                    0.2222222222222222,
                                                    "#7201a8"
                                                ],
                                                [
                                                    0.3333333333333333,
                                                    "#9c179e"
                                                ],
                                                [
                                                    0.4444444444444444,
                                                    "#bd3786"
                                                ],
                                                [
                                                    0.5555555555555556,
                                                    "#d8576b"
                                                ],
                                                [
                                                    0.6666666666666666,
                                                    "#ed7953"
                                                ],
                                                [
                                                    0.7777777777777778,
                                                    "#fb9f3a"
                                                ],
                                                [
                                                    0.8888888888888888,
                                                    "#fdca26"
                                                ],
                                                [
                                                    1,
                                                    "#f0f921"
                                                ]
                                            ],
                                            "sequentialminus": [
                                                [
                                                    0,
                                                    "#0d0887"
                                                ],
                                                [
                                                    0.1111111111111111,
                                                    "#46039f"
                                                ],
                                                [
                                                    0.2222222222222222,
                                                    "#7201a8"
                                                ],
                                                [
                                                    0.3333333333333333,
                                                    "#9c179e"
                                                ],
                                                [
                                                    0.4444444444444444,
                                                    "#bd3786"
                                                ],
                                                [
                                                    0.5555555555555556,
                                                    "#d8576b"
                                                ],
                                                [
                                                    0.6666666666666666,
                                                    "#ed7953"
                                                ],
                                                [
                                                    0.7777777777777778,
                                                    "#fb9f3a"
                                                ],
                                                [
                                                    0.8888888888888888,
                                                    "#fdca26"
                                                ],
                                                [
                                                    1,
                                                    "#f0f921"
                                                ]
                                            ]
                                        },
                                        "colorway": [
                                            "#636efa",
                                            "#EF553B",
                                            "#00cc96",
                                            "#ab63fa",
                                            "#FFA15A",
                                            "#19d3f3",
                                            "#FF6692",
                                            "#B6E880",
                                            "#FF97FF",
                                            "#FECB52"
                                        ],
                                        "font": {
                                            "color": "#2a3f5f"
                                        },
                                        "geo": {
                                            "bgcolor": "white",
                                            "lakecolor": "white",
                                            "landcolor": "#E5ECF6",
                                            "showlakes": true,
                                            "showland": true,
                                            "subunitcolor": "white"
                                        },
                                        "hoverlabel": {
                                            "align": "left"
                                        },
                                        "hovermode": "closest",
                                        "mapbox": {
                                            "style": "light"
                                        },
                                        "paper_bgcolor": "white",
                                        "plot_bgcolor": "#E5ECF6",
                                        "polar": {
                                            "angularaxis": {
                                                "gridcolor": "white",
                                                "linecolor": "white",
                                                "ticks": ""
                                            },
                                            "bgcolor": "#E5ECF6",
                                            "radialaxis": {
                                                "gridcolor": "white",
                                                "linecolor": "white",
                                                "ticks": ""
                                            }
                                        },
                                        "scene": {
                                            "xaxis": {
                                                "backgroundcolor": "#E5ECF6",
                                                "gridcolor": "white",
                                                "gridwidth": 2,
                                                "linecolor": "white",
                                                "showbackground": true,
                                                "ticks": "",
                                                "zerolinecolor": "white"
                                            },
                                            "yaxis": {
                                                "backgroundcolor": "#E5ECF6",
                                                "gridcolor": "white",
                                                "gridwidth": 2,
                                                "linecolor": "white",
                                                "showbackground": true,
                                                "ticks": "",
                                                "zerolinecolor": "white"
                                            },
                                            "zaxis": {
                                                "backgroundcolor": "#E5ECF6",
                                                "gridcolor": "white",
                                                "gridwidth": 2,
                                                "linecolor": "white",
                                                "showbackground": true,
                                                "ticks": "",
                                                "zerolinecolor": "white"
                                            }
                                        },
                                        "shapedefaults": {
                                            "line": {
                                                "color": "#2a3f5f"
                                            }
                                        },
                                        "ternary": {
                                            "aaxis": {
                                                "gridcolor": "white",
                                                "linecolor": "white",
                                                "ticks": ""
                                            },
                                            "baxis": {
                                                "gridcolor": "white",
                                                "linecolor": "white",
                                                "ticks": ""
                                            },
                                            "bgcolor": "#E5ECF6",
                                            "caxis": {
                                                "gridcolor": "white",
                                                "linecolor": "white",
                                                "ticks": ""
                                            }
                                        },
                                        "title": {
                                            "x": 0.05
                                        },
                                        "xaxis": {
                                            "automargin": true,
                                            "gridcolor": "white",
                                            "linecolor": "white",
                                            "ticks": "",
                                            "title": {
                                                "standoff": 15
                                            },
                                            "zerolinecolor": "white",
                                            "zerolinewidth": 2
                                        },
                                        "yaxis": {
                                            "automargin": true,
                                            "gridcolor": "white",
                                            "linecolor": "white",
                                            "ticks": "",
                                            "title": {
                                                "standoff": 15
                                            },
                                            "zerolinecolor": "white",
                                            "zerolinewidth": 2
                                        }
                                    }
                                },
                                "title": {
                                    "text": "Percentage frequency of Each Venue Category in Cluster 3"
                                },
                                "xaxis": {
                                    "anchor": "y",
                                    "domain": [
                                        0,
                                        1
                                    ],
                                    "title": {
                                        "text": "Neighborhood"
                                    }
                                },
                                "yaxis": {
                                    "anchor": "x",
                                    "domain": [
                                        0,
                                        1
                                    ],
                                    "title": {
                                        "text": "value"
                                    }
                                }
                            }
                        },
                        "text/html": "<div>\n        \n        \n            <div id=\"4c17b8df-857c-43ca-8854-3b7e8d4219df\" class=\"plotly-graph-div\" style=\"height:525px; width:100%;\"></div>\n            <script type=\"text/javascript\">\n                require([\"plotly\"], function(Plotly) {\n                    window.PLOTLYENV=window.PLOTLYENV || {};\n                    \n                if (document.getElementById(\"4c17b8df-857c-43ca-8854-3b7e8d4219df\")) {\n                    Plotly.newPlot(\n                        '4c17b8df-857c-43ca-8854-3b7e8d4219df',\n                        [{\"alignmentgroup\": \"True\", \"hovertemplate\": \"variable=Gym<br>Neighborhood=%{x}<br>value=%{y}<extra></extra>\", \"legendgroup\": \"Gym\", \"marker\": {\"color\": \"#636efa\"}, \"name\": \"Gym\", \"offsetgroup\": \"Gym\", \"orientation\": \"v\", \"showlegend\": true, \"textposition\": \"auto\", \"type\": \"bar\", \"x\": [\"Roslindale, Massachusetts\", \"Mission Hill, Massachusetts\", \"East Boston, Massachusetts\", \"Beacon Hill, Massachusetts\", \"Fenway, Massachusetts\", \"Mattapan, Massachusetts\", \"Allston, Massachusetts\"], \"xaxis\": \"x\", \"y\": [0.0, 0.0, 0.0, 0.0, 0.06666666666666667, 0.0, 0.02702702702702703], \"yaxis\": \"y\"}, {\"alignmentgroup\": \"True\", \"hovertemplate\": \"variable=Park<br>Neighborhood=%{x}<br>value=%{y}<extra></extra>\", \"legendgroup\": \"Park\", \"marker\": {\"color\": \"#EF553B\"}, \"name\": \"Park\", \"offsetgroup\": \"Park\", \"orientation\": \"v\", \"showlegend\": true, \"textposition\": \"auto\", \"type\": \"bar\", \"x\": [\"Roslindale, Massachusetts\", \"Mission Hill, Massachusetts\", \"East Boston, Massachusetts\", \"Beacon Hill, Massachusetts\", \"Fenway, Massachusetts\", \"Mattapan, Massachusetts\", \"Allston, Massachusetts\"], \"xaxis\": \"x\", \"y\": [0.0, 0.1, 0.07142857142857142, 0.0625, 0.0, 0.0, 0.0], \"yaxis\": \"y\"}, {\"alignmentgroup\": \"True\", \"hovertemplate\": \"variable=Restaurant<br>Neighborhood=%{x}<br>value=%{y}<extra></extra>\", \"legendgroup\": \"Restaurant\", \"marker\": {\"color\": \"#00cc96\"}, \"name\": \"Restaurant\", \"offsetgroup\": \"Restaurant\", \"orientation\": \"v\", \"showlegend\": true, \"textposition\": \"auto\", \"type\": \"bar\", \"x\": [\"Roslindale, Massachusetts\", \"Mission Hill, Massachusetts\", \"East Boston, Massachusetts\", \"Beacon Hill, Massachusetts\", \"Fenway, Massachusetts\", \"Mattapan, Massachusetts\", \"Allston, Massachusetts\"], \"xaxis\": \"x\", \"y\": [1.0, 0.9, 0.9285714285714286, 0.9375, 0.9333333333333333, 1.0, 0.972972972972973], \"yaxis\": \"y\"}],\n                        {\"barmode\": \"group\", \"legend\": {\"title\": {\"text\": \"variable\"}, \"tracegroupgap\": 0}, \"template\": {\"data\": {\"bar\": [{\"error_x\": {\"color\": \"#2a3f5f\"}, \"error_y\": {\"color\": \"#2a3f5f\"}, \"marker\": {\"line\": {\"color\": \"#E5ECF6\", \"width\": 0.5}}, \"type\": \"bar\"}], \"barpolar\": [{\"marker\": {\"line\": {\"color\": \"#E5ECF6\", \"width\": 0.5}}, \"type\": \"barpolar\"}], \"carpet\": [{\"aaxis\": {\"endlinecolor\": \"#2a3f5f\", \"gridcolor\": \"white\", \"linecolor\": \"white\", \"minorgridcolor\": \"white\", \"startlinecolor\": \"#2a3f5f\"}, \"baxis\": {\"endlinecolor\": \"#2a3f5f\", \"gridcolor\": \"white\", \"linecolor\": \"white\", \"minorgridcolor\": \"white\", \"startlinecolor\": \"#2a3f5f\"}, \"type\": \"carpet\"}], \"choropleth\": [{\"colorbar\": {\"outlinewidth\": 0, \"ticks\": \"\"}, \"type\": \"choropleth\"}], \"contour\": [{\"colorbar\": {\"outlinewidth\": 0, \"ticks\": \"\"}, \"colorscale\": [[0.0, \"#0d0887\"], [0.1111111111111111, \"#46039f\"], [0.2222222222222222, \"#7201a8\"], [0.3333333333333333, \"#9c179e\"], [0.4444444444444444, \"#bd3786\"], [0.5555555555555556, \"#d8576b\"], [0.6666666666666666, \"#ed7953\"], [0.7777777777777778, \"#fb9f3a\"], [0.8888888888888888, \"#fdca26\"], [1.0, \"#f0f921\"]], \"type\": \"contour\"}], \"contourcarpet\": [{\"colorbar\": {\"outlinewidth\": 0, \"ticks\": \"\"}, \"type\": \"contourcarpet\"}], \"heatmap\": [{\"colorbar\": {\"outlinewidth\": 0, \"ticks\": \"\"}, \"colorscale\": [[0.0, \"#0d0887\"], [0.1111111111111111, \"#46039f\"], [0.2222222222222222, \"#7201a8\"], [0.3333333333333333, \"#9c179e\"], [0.4444444444444444, \"#bd3786\"], [0.5555555555555556, \"#d8576b\"], [0.6666666666666666, \"#ed7953\"], [0.7777777777777778, \"#fb9f3a\"], [0.8888888888888888, \"#fdca26\"], [1.0, \"#f0f921\"]], \"type\": \"heatmap\"}], \"heatmapgl\": [{\"colorbar\": {\"outlinewidth\": 0, \"ticks\": \"\"}, \"colorscale\": [[0.0, \"#0d0887\"], [0.1111111111111111, \"#46039f\"], [0.2222222222222222, \"#7201a8\"], [0.3333333333333333, \"#9c179e\"], [0.4444444444444444, \"#bd3786\"], [0.5555555555555556, \"#d8576b\"], [0.6666666666666666, \"#ed7953\"], [0.7777777777777778, \"#fb9f3a\"], [0.8888888888888888, \"#fdca26\"], [1.0, \"#f0f921\"]], \"type\": \"heatmapgl\"}], \"histogram\": [{\"marker\": {\"colorbar\": {\"outlinewidth\": 0, \"ticks\": \"\"}}, \"type\": \"histogram\"}], \"histogram2d\": [{\"colorbar\": {\"outlinewidth\": 0, \"ticks\": \"\"}, \"colorscale\": [[0.0, \"#0d0887\"], [0.1111111111111111, \"#46039f\"], [0.2222222222222222, \"#7201a8\"], [0.3333333333333333, \"#9c179e\"], [0.4444444444444444, \"#bd3786\"], [0.5555555555555556, \"#d8576b\"], [0.6666666666666666, \"#ed7953\"], [0.7777777777777778, \"#fb9f3a\"], [0.8888888888888888, \"#fdca26\"], [1.0, \"#f0f921\"]], \"type\": \"histogram2d\"}], \"histogram2dcontour\": [{\"colorbar\": {\"outlinewidth\": 0, \"ticks\": \"\"}, \"colorscale\": [[0.0, \"#0d0887\"], [0.1111111111111111, \"#46039f\"], [0.2222222222222222, \"#7201a8\"], [0.3333333333333333, \"#9c179e\"], [0.4444444444444444, \"#bd3786\"], [0.5555555555555556, \"#d8576b\"], [0.6666666666666666, \"#ed7953\"], [0.7777777777777778, \"#fb9f3a\"], [0.8888888888888888, \"#fdca26\"], [1.0, \"#f0f921\"]], \"type\": \"histogram2dcontour\"}], \"mesh3d\": [{\"colorbar\": {\"outlinewidth\": 0, \"ticks\": \"\"}, \"type\": \"mesh3d\"}], \"parcoords\": [{\"line\": {\"colorbar\": {\"outlinewidth\": 0, \"ticks\": \"\"}}, \"type\": \"parcoords\"}], \"pie\": [{\"automargin\": true, \"type\": \"pie\"}], \"scatter\": [{\"marker\": {\"colorbar\": {\"outlinewidth\": 0, \"ticks\": \"\"}}, \"type\": \"scatter\"}], \"scatter3d\": [{\"line\": {\"colorbar\": {\"outlinewidth\": 0, \"ticks\": \"\"}}, \"marker\": {\"colorbar\": {\"outlinewidth\": 0, \"ticks\": \"\"}}, \"type\": \"scatter3d\"}], \"scattercarpet\": [{\"marker\": {\"colorbar\": {\"outlinewidth\": 0, \"ticks\": \"\"}}, \"type\": \"scattercarpet\"}], \"scattergeo\": [{\"marker\": {\"colorbar\": {\"outlinewidth\": 0, \"ticks\": \"\"}}, \"type\": \"scattergeo\"}], \"scattergl\": [{\"marker\": {\"colorbar\": {\"outlinewidth\": 0, \"ticks\": \"\"}}, \"type\": \"scattergl\"}], \"scattermapbox\": [{\"marker\": {\"colorbar\": {\"outlinewidth\": 0, \"ticks\": \"\"}}, \"type\": \"scattermapbox\"}], \"scatterpolar\": [{\"marker\": {\"colorbar\": {\"outlinewidth\": 0, \"ticks\": \"\"}}, \"type\": \"scatterpolar\"}], \"scatterpolargl\": [{\"marker\": {\"colorbar\": {\"outlinewidth\": 0, \"ticks\": \"\"}}, \"type\": \"scatterpolargl\"}], \"scatterternary\": [{\"marker\": {\"colorbar\": {\"outlinewidth\": 0, \"ticks\": \"\"}}, \"type\": \"scatterternary\"}], \"surface\": [{\"colorbar\": {\"outlinewidth\": 0, \"ticks\": \"\"}, \"colorscale\": [[0.0, \"#0d0887\"], [0.1111111111111111, \"#46039f\"], [0.2222222222222222, \"#7201a8\"], [0.3333333333333333, \"#9c179e\"], [0.4444444444444444, \"#bd3786\"], [0.5555555555555556, \"#d8576b\"], [0.6666666666666666, \"#ed7953\"], [0.7777777777777778, \"#fb9f3a\"], [0.8888888888888888, \"#fdca26\"], [1.0, \"#f0f921\"]], \"type\": \"surface\"}], \"table\": [{\"cells\": {\"fill\": {\"color\": \"#EBF0F8\"}, \"line\": {\"color\": \"white\"}}, \"header\": {\"fill\": {\"color\": \"#C8D4E3\"}, \"line\": {\"color\": \"white\"}}, \"type\": \"table\"}]}, \"layout\": {\"annotationdefaults\": {\"arrowcolor\": \"#2a3f5f\", \"arrowhead\": 0, \"arrowwidth\": 1}, \"coloraxis\": {\"colorbar\": {\"outlinewidth\": 0, \"ticks\": \"\"}}, \"colorscale\": {\"diverging\": [[0, \"#8e0152\"], [0.1, \"#c51b7d\"], [0.2, \"#de77ae\"], [0.3, \"#f1b6da\"], [0.4, \"#fde0ef\"], [0.5, \"#f7f7f7\"], [0.6, \"#e6f5d0\"], [0.7, \"#b8e186\"], [0.8, \"#7fbc41\"], [0.9, \"#4d9221\"], [1, \"#276419\"]], \"sequential\": [[0.0, \"#0d0887\"], [0.1111111111111111, \"#46039f\"], [0.2222222222222222, \"#7201a8\"], [0.3333333333333333, \"#9c179e\"], [0.4444444444444444, \"#bd3786\"], [0.5555555555555556, \"#d8576b\"], [0.6666666666666666, \"#ed7953\"], [0.7777777777777778, \"#fb9f3a\"], [0.8888888888888888, \"#fdca26\"], [1.0, \"#f0f921\"]], \"sequentialminus\": [[0.0, \"#0d0887\"], [0.1111111111111111, \"#46039f\"], [0.2222222222222222, \"#7201a8\"], [0.3333333333333333, \"#9c179e\"], [0.4444444444444444, \"#bd3786\"], [0.5555555555555556, \"#d8576b\"], [0.6666666666666666, \"#ed7953\"], [0.7777777777777778, \"#fb9f3a\"], [0.8888888888888888, \"#fdca26\"], [1.0, \"#f0f921\"]]}, \"colorway\": [\"#636efa\", \"#EF553B\", \"#00cc96\", \"#ab63fa\", \"#FFA15A\", \"#19d3f3\", \"#FF6692\", \"#B6E880\", \"#FF97FF\", \"#FECB52\"], \"font\": {\"color\": \"#2a3f5f\"}, \"geo\": {\"bgcolor\": \"white\", \"lakecolor\": \"white\", \"landcolor\": \"#E5ECF6\", \"showlakes\": true, \"showland\": true, \"subunitcolor\": \"white\"}, \"hoverlabel\": {\"align\": \"left\"}, \"hovermode\": \"closest\", \"mapbox\": {\"style\": \"light\"}, \"paper_bgcolor\": \"white\", \"plot_bgcolor\": \"#E5ECF6\", \"polar\": {\"angularaxis\": {\"gridcolor\": \"white\", \"linecolor\": \"white\", \"ticks\": \"\"}, \"bgcolor\": \"#E5ECF6\", \"radialaxis\": {\"gridcolor\": \"white\", \"linecolor\": \"white\", \"ticks\": \"\"}}, \"scene\": {\"xaxis\": {\"backgroundcolor\": \"#E5ECF6\", \"gridcolor\": \"white\", \"gridwidth\": 2, \"linecolor\": \"white\", \"showbackground\": true, \"ticks\": \"\", \"zerolinecolor\": \"white\"}, \"yaxis\": {\"backgroundcolor\": \"#E5ECF6\", \"gridcolor\": \"white\", \"gridwidth\": 2, \"linecolor\": \"white\", \"showbackground\": true, \"ticks\": \"\", \"zerolinecolor\": \"white\"}, \"zaxis\": {\"backgroundcolor\": \"#E5ECF6\", \"gridcolor\": \"white\", \"gridwidth\": 2, \"linecolor\": \"white\", \"showbackground\": true, \"ticks\": \"\", \"zerolinecolor\": \"white\"}}, \"shapedefaults\": {\"line\": {\"color\": \"#2a3f5f\"}}, \"ternary\": {\"aaxis\": {\"gridcolor\": \"white\", \"linecolor\": \"white\", \"ticks\": \"\"}, \"baxis\": {\"gridcolor\": \"white\", \"linecolor\": \"white\", \"ticks\": \"\"}, \"bgcolor\": \"#E5ECF6\", \"caxis\": {\"gridcolor\": \"white\", \"linecolor\": \"white\", \"ticks\": \"\"}}, \"title\": {\"x\": 0.05}, \"xaxis\": {\"automargin\": true, \"gridcolor\": \"white\", \"linecolor\": \"white\", \"ticks\": \"\", \"title\": {\"standoff\": 15}, \"zerolinecolor\": \"white\", \"zerolinewidth\": 2}, \"yaxis\": {\"automargin\": true, \"gridcolor\": \"white\", \"linecolor\": \"white\", \"ticks\": \"\", \"title\": {\"standoff\": 15}, \"zerolinecolor\": \"white\", \"zerolinewidth\": 2}}}, \"title\": {\"text\": \"Percentage frequency of Each Venue Category in Cluster 3\"}, \"xaxis\": {\"anchor\": \"y\", \"domain\": [0.0, 1.0], \"title\": {\"text\": \"Neighborhood\"}}, \"yaxis\": {\"anchor\": \"x\", \"domain\": [0.0, 1.0], \"title\": {\"text\": \"value\"}}},\n                        {\"responsive\": true}\n                    ).then(function(){\n                            \nvar gd = document.getElementById('4c17b8df-857c-43ca-8854-3b7e8d4219df');\nvar x = new MutationObserver(function (mutations, observer) {{\n        var display = window.getComputedStyle(gd).display;\n        if (!display || display === 'none') {{\n            console.log([gd, 'removed!']);\n            Plotly.purge(gd);\n            observer.disconnect();\n        }}\n}});\n\n// Listen for the removal of the full notebook cells\nvar notebookContainer = gd.closest('#notebook-container');\nif (notebookContainer) {{\n    x.observe(notebookContainer, {childList: true});\n}}\n\n// Listen for the clearing of the current output cell\nvar outputEl = gd.closest('.output');\nif (outputEl) {{\n    x.observe(outputEl, {childList: true});\n}}\n\n                        })\n                };\n                });\n            </script>\n        </div>"
                    },
                    "metadata": {}
                }
            ]
        },
        {
            "metadata": {},
            "cell_type": "markdown",
            "source": "This concludes our analysis. Upon examination of our clusters, it becomes evident that Cluster 0 is the only cluster where restaurant is consistently the most common venue and gyms are the least common venue, without having a mixture of orders among the three variables like in the other clusters (for example in Cluster 3, where Gym and Park take both the values of the 2nd and 3rd most common venues). However, the neighborhoods in Cluster 3 consistently has the highest proportion of restaurants. Thus, neighborhoods that are included in Cluster 3 should be prioritized when considering the location to build a new fitness facility."
        },
        {
            "metadata": {},
            "cell_type": "markdown",
            "source": "## Results and Discussion"
        },
        {
            "metadata": {},
            "cell_type": "markdown",
            "source": "In this analysis, we applied the k-means clustering technique to separate Boston neighborhoods into 4 distinct clusters, based on the similarities in the proportions of gym, parks and restaurants present in each neighborhood. Examination of the clusters revealed that Cluster 0 was composed solely of neighborhoods whose most common venue was 'Restaurant', followed by 'Park' and 'Gym'. More than half of the neighborhoods in this cluster had very few or no gyms in the neighborhood, while the proportions of restaurants were consistently very high, constituting at least 75% of the facilities compared. Neighborhoods in Cluster 2 and Cluster 3 all shared 'Restaurant' category as the most common venue type; however, unlike in Cluster 0, 'Park' and 'Gym' switched between being the 2nd most common venue and the 3rd most common venue. Upon examination of the proportions for each venue category, it becomes apparent that all of the neighborhoods in Cluster 2 contain a recreational facility or a gym, while this is not so for Cluster 3. Unlike in Cluster 0 where all neighborhoods had at least one park despite having no gyms, there are two neighborhoods in Cluster 3 (namely Roslindale and Mattapan) where there are no gyms or parks visible in the data, and restaurants comprise 100% of the venues compared. Cluster 1, which comprises only 1 neighborhood (Roxbury), is unique from all other clusters in that the gym is the most common venue, followed by restaurants and parks.\n\n\n\nThe results of this analysis guide us to prioritize the neighborhoods in Clusters 0 and 3 as potential locations to build a new fitness facility such as a gym. In particular, neighborhoods in Cluster 3 have the highest proportion of restaurants compared to the proportions of gyms or parks, as compared to the neighborhoods in Cluster 0. This is exemplified by how restaurants in all of the Cluster 3 neighborhoods comprise over 92% of the venues compared, while the proportion of restaurants never exceeds 90% in Cluster 0 neighborhoods. Thus, stakeholders should especially consider neighborhoods in Cluster 3. Having made this recommendation, it must be noted that this analysis has not compared all possible factors that would make a neighborhood suitable for building a new gym. To further narrow down our decisions on the best venues, a deeper analysis of the neighborhoods is recommended, including the demographics of the neighborhoods and property prices.\n\n\n"
        },
        {
            "metadata": {},
            "cell_type": "markdown",
            "source": "## Conclusion"
        },
        {
            "metadata": {},
            "cell_type": "markdown",
            "source": "An analysis using k-means clustering was conducted to determine which Boston neighborhood should be prioritized when stakeholders are considering the next location to build a gym.  Upon examination of our clusters, it became evident that Cluster 3 consistently had the highest proportion of restaurants and a very small proportion of gyms and parks combined. Thus, neighborhoods that are included in Cluster 3 should be prioritized when considering the location to build a new fitness facility. These neighborhoods are: Roslindale, Mission Hill, East Boston, Beacon Hill, Fenway, Mattapan, and Allston. South Boston and South Boston Waterfront should be especially considered, as these neighborhoods had the highest proportion of restaurants and the lowest proportion of gyms among all the neighborhoods in this cluster."
        },
        {
            "metadata": {},
            "cell_type": "markdown",
            "source": "## Bibliography:"
        },
        {
            "metadata": {},
            "cell_type": "markdown",
            "source": "Alkson, Alex, and Lin, Polong. 2020. \u201cSegmenting and Clustering Neighborhoods in New York City.\u201d IBM Corporation. November 26, 2020. https://labs.cognitiveclass.ai/tools/jupyterlab/lab/tree/labs/DS0701EN/DS0701EN-3-3-2-Neighborhoods-New-York-py-v1.0.ipynb?lti=true.\n\n\n\u201cAmerican Heart Association Recommendations for Physical Activity in Adults and Kids.\u201d n.d. Accessed April 6, 2021. https://www.heart.org/en/healthy-living/fitness/fitness-basics/aha-recs-for-physical-activity-in-adults.\n\n\nBach, Becky. 2014. \u201cLack of Exercise, Not Diet, Linked to Rise in Obesity, Stanford Research Shows.\u201d Accessed April 7, 2021. https://med.stanford.edu/news/all-news/2014/07/lack-of-exercise--not-diet--linked-to-rise-in-obesity--stanford-.html.\n\n\n\u201cExercise or Physical Activity.\u201d 2021. March 1, 2021. https://www.cdc.gov/nchs/fastats/exercise.htm.\n\n\nU.S. Department of Health and Human Services. 2018. Physical Activity Guidelines for Americans, 2nd Edition. U.S. Department of Health and Human Services.\n"
        },
        {
            "metadata": {},
            "cell_type": "code",
            "source": "",
            "execution_count": null,
            "outputs": []
        }
    ],
    "metadata": {
        "kernelspec": {
            "name": "python3",
            "display_name": "Python 3.7",
            "language": "python"
        },
        "language_info": {
            "name": "python",
            "version": "3.7.10",
            "mimetype": "text/x-python",
            "codemirror_mode": {
                "name": "ipython",
                "version": 3
            },
            "pygments_lexer": "ipython3",
            "nbconvert_exporter": "python",
            "file_extension": ".py"
        }
    },
    "nbformat": 4,
    "nbformat_minor": 1
}